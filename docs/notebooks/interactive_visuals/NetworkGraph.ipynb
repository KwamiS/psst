{
 "cells": [
  {
   "cell_type": "markdown",
   "metadata": {},
   "source": [
    "# Network Graph Demo"
   ]
  },
  {
   "cell_type": "code",
   "execution_count": 1,
   "metadata": {
    "collapsed": true
   },
   "outputs": [],
   "source": [
    "from psst.network.graph import (\n",
    "    NetworkModel, NetworkViewBase, NetworkView\n",
    ")\n",
    "\n",
    "from psst.case import read_matpower\n",
    "case = read_matpower('../cases/case118.m')"
   ]
  },
  {
   "cell_type": "markdown",
   "metadata": {},
   "source": [
    "## Standard Usage"
   ]
  },
  {
   "cell_type": "code",
   "execution_count": 2,
   "metadata": {
    "collapsed": true
   },
   "outputs": [],
   "source": [
    "# Create the model from the case\n",
    "m = NetworkModel(case, sel_bus='Bus1')\n",
    "\n",
    "# Create the view from the model\n",
    "v = NetworkView(model=m)"
   ]
  },
  {
   "cell_type": "code",
   "execution_count": 3,
   "metadata": {},
   "outputs": [
    {
     "data": {
      "application/vnd.jupyter.widget-view+json": {
       "model_id": "f90ff654a6ff47e69dd120810600e848",
       "version_major": 2,
       "version_minor": 0
      },
      "text/plain": [
       "A Jupyter Widget"
      ]
     },
     "metadata": {},
     "output_type": "display_data"
    }
   ],
   "source": [
    "v"
   ]
  },
  {
   "cell_type": "markdown",
   "metadata": {},
   "source": [
    "## Look at Base Class"
   ]
  },
  {
   "cell_type": "markdown",
   "metadata": {},
   "source": [
    "The `NetworkView` object extends `NetworkViewBase`. You can also generate a `NetworkViewBase` object by itself, which does not include the button and dropdown menu widget elements. This could be incorporated into custom widgets."
   ]
  },
  {
   "cell_type": "code",
   "execution_count": 4,
   "metadata": {
    "collapsed": true,
    "scrolled": false
   },
   "outputs": [],
   "source": [
    "m = NetworkModel(case, sel_bus='Bus112')\n",
    "v_base = NetworkViewBase(model=m)"
   ]
  },
  {
   "cell_type": "code",
   "execution_count": 5,
   "metadata": {},
   "outputs": [
    {
     "data": {
      "application/vnd.jupyter.widget-view+json": {
       "model_id": "621bf1d03ab64ba6b6c43e7219cba45e",
       "version_major": 2,
       "version_minor": 0
      },
      "text/plain": [
       "A Jupyter Widget"
      ]
     },
     "metadata": {},
     "output_type": "display_data"
    }
   ],
   "source": [
    "v_base"
   ]
  },
  {
   "cell_type": "markdown",
   "metadata": {},
   "source": [
    "Attributes can be changed programatically"
   ]
  },
  {
   "cell_type": "code",
   "execution_count": 6,
   "metadata": {
    "collapsed": true
   },
   "outputs": [],
   "source": [
    "v_base.show_gen_names = True"
   ]
  },
  {
   "cell_type": "code",
   "execution_count": 7,
   "metadata": {
    "collapsed": true
   },
   "outputs": [],
   "source": [
    "v_base.show_load = False"
   ]
  },
  {
   "cell_type": "code",
   "execution_count": 8,
   "metadata": {
    "collapsed": true
   },
   "outputs": [],
   "source": [
    "v_base.show_background_lines = True"
   ]
  },
  {
   "cell_type": "code",
   "execution_count": null,
   "metadata": {
    "collapsed": true
   },
   "outputs": [],
   "source": []
  }
 ],
 "metadata": {
  "celltoolbar": "Raw Cell Format",
  "kernelspec": {
   "display_name": "Python 3",
   "language": "python",
   "name": "python3"
  },
  "language_info": {
   "codemirror_mode": {
    "name": "ipython",
    "version": 3
   },
   "file_extension": ".py",
   "mimetype": "text/x-python",
   "name": "python",
   "nbconvert_exporter": "python",
   "pygments_lexer": "ipython3",
   "version": "3.6.2"
  },
  "widgets": {
   "application/vnd.jupyter.widget-state+json": {
    "state": {
     "00242dce0ba14d5a98ba01c4577a0355": {
      "model_module": "@jupyter-widgets/controls",
      "model_module_version": "1.0.0",
      "model_name": "LabelModel",
      "state": {
       "layout": "IPY_MODEL_fea8d927f5b74ad4b231799050617ae9",
       "style": "IPY_MODEL_789360929c49475abaf74d2d951ef33b",
       "value": "--------------------"
      }
     },
     "00bb973ea44e4d9783a14ecfafa2641f": {
      "model_module": "@jupyter-widgets/controls",
      "model_module_version": "1.0.0",
      "model_name": "ButtonModel",
      "state": {
       "button_style": "info",
       "description": "Reset",
       "icon": "times-circle",
       "layout": "IPY_MODEL_73d410da02624d96adfe59815c6351d2",
       "style": "IPY_MODEL_c220fa4afcce44f0bc209a95f0f30c6b"
      }
     },
     "011ddd40bede4b069811aac64084e339": {
      "model_module": "bqplot",
      "model_module_version": "^0.2.3",
      "model_name": "ScatterModel",
      "state": {
       "_model_module": "bqplot",
       "_model_module_version": "^0.2.3",
       "_view_count": null,
       "_view_module": "bqplot",
       "_view_module_version": "^0.2.3",
       "apply_clip": true,
       "color": {
        "type": null,
        "values": null
       },
       "colors": [
        "Orange"
       ],
       "default_opacities": [
        0.6
       ],
       "default_size": 140,
       "display_legend": false,
       "display_names": false,
       "enable_hover": true,
       "hovered_style": {},
       "interactions": {
        "hover": "tooltip"
       },
       "labels": [],
       "marker": "triangle-up",
       "names": {
        "type": "<U11",
        "values": [
         "Load_Bus112"
        ]
       },
       "opacity": {
        "type": null,
        "values": null
       },
       "preserve_domain": {},
       "rotation": {
        "type": null,
        "values": null
       },
       "scales": {
        "x": "IPY_MODEL_c154051cb98e451cbd2e9cda8957154b",
        "y": "IPY_MODEL_ed3882f3df2042ac8b26041ddf8939a9"
       },
       "scales_metadata": {
        "color": {
         "dimension": "color"
        },
        "opacity": {
         "dimension": "opacity"
        },
        "size": {
         "dimension": "size"
        },
        "x": {
         "dimension": "x",
         "orientation": "horizontal"
        },
        "y": {
         "dimension": "y",
         "orientation": "vertical"
        }
       },
       "selected": [],
       "selected_style": {
        "fill": "DarkOrange",
        "opacity": 0.8,
        "stroke": "Red"
       },
       "size": {
        "type": null,
        "values": null
       },
       "skew": {
        "type": null,
        "values": null
       },
       "tooltip": "IPY_MODEL_0e25d0838f8f40439d9586d4ce59f002",
       "tooltip_location": "mouse",
       "tooltip_style": {
        "opacity": 0.9
       },
       "unhovered_style": {},
       "unselected_style": {},
       "visible": true,
       "x": {
        "type": "float",
        "values": [
         59.402
        ]
       },
       "y": {
        "type": "float",
        "values": [
         155.95
        ]
       }
      }
     },
     "0142fe10b6724552a409987ac7949bf8": {
      "model_module": "bqplot",
      "model_module_version": "^0.2.3",
      "model_name": "LinearScaleModel",
      "state": {
       "allow_padding": false,
       "max": 1,
       "min": 0,
       "stabilized": false
      }
     },
     "017d6f39737c46499c9080a00797c6ea": {
      "model_module": "@jupyter-widgets/controls",
      "model_module_version": "1.0.0",
      "model_name": "LabelModel",
      "state": {
       "layout": "IPY_MODEL_a728b6ef5c764395b17f3d283256bebb",
       "style": "IPY_MODEL_428294021e5f48969ab188f899254f75",
       "value": "Click on a bus to expand the graph, and click again to collapse."
      }
     },
     "01b0b239610d41a692695acccecdc0b0": {
      "model_module": "bqplot",
      "model_module_version": "^0.2.3",
      "model_name": "LinearScaleModel",
      "state": {
       "max": 1246,
       "min": 940.08,
       "stabilized": false
      }
     },
     "026954cba0ce46f9b92d9602c6faec7d": {
      "model_module": "@jupyter-widgets/controls",
      "model_module_version": "1.0.0",
      "model_name": "DescriptionStyleModel",
      "state": {
       "description_width": ""
      }
     },
     "0307f84bb379484592d9c89e7bac8500": {
      "model_module": "@jupyter-widgets/base",
      "model_module_version": "1.0.0",
      "model_name": "LayoutModel",
      "state": {}
     },
     "03f12eb4fbe44626b4b1569d1615245b": {
      "model_module": "@jupyter-widgets/base",
      "model_module_version": "1.0.0",
      "model_name": "LayoutModel",
      "state": {
       "border": "groove Gray 2px",
       "height": "auto",
       "justify_content": "space-between"
      }
     },
     "0436505a8d694863916e450df1a99175": {
      "model_module": "@jupyter-widgets/base",
      "model_module_version": "1.0.0",
      "model_name": "LayoutModel",
      "state": {
       "max_width": "810px"
      }
     },
     "0487c1513bde4203adcaee9b1a10b6d8": {
      "model_module": "bqplot",
      "model_module_version": "^0.2.3",
      "model_name": "TooltipModel",
      "state": {
       "fields": [
        "name"
       ],
       "layout": "IPY_MODEL_2a61fa3434c44aaaaf93bebe94ff891d"
      }
     },
     "049732228b394a2b9260800f2453ee95": {
      "model_module": "@jupyter-widgets/base",
      "model_module_version": "1.0.0",
      "model_name": "LayoutModel",
      "state": {}
     },
     "054aeb6fd13c4d2ba2a55bbfb000c126": {
      "model_module": "bqplot",
      "model_module_version": "^0.2.3",
      "model_name": "ScatterModel",
      "state": {
       "_model_module": "bqplot",
       "_model_module_version": "^0.2.3",
       "_view_count": null,
       "_view_module": "bqplot",
       "_view_module_version": "^0.2.3",
       "apply_clip": true,
       "color": {
        "type": null,
        "values": null
       },
       "colors": [
        "Orange"
       ],
       "default_opacities": [
        0.6
       ],
       "default_size": 140,
       "display_legend": false,
       "display_names": false,
       "enable_hover": true,
       "hovered_style": {},
       "interactions": {
        "hover": "tooltip"
       },
       "labels": [],
       "marker": "triangle-up",
       "names": {
        "type": "<U9",
        "values": [
         "Load_Bus2",
         "Load_Bus1",
         "Load_Bus3",
         "Load_Bus5"
        ]
       },
       "opacity": {
        "type": null,
        "values": null
       },
       "preserve_domain": {},
       "rotation": {
        "type": null,
        "values": null
       },
       "scales": {
        "x": "IPY_MODEL_01b0b239610d41a692695acccecdc0b0",
        "y": "IPY_MODEL_868c3325509e45cb964ac872dbe37e41"
       },
       "scales_metadata": {
        "color": {
         "dimension": "color"
        },
        "opacity": {
         "dimension": "opacity"
        },
        "size": {
         "dimension": "size"
        },
        "x": {
         "dimension": "x",
         "orientation": "horizontal"
        },
        "y": {
         "dimension": "y",
         "orientation": "vertical"
        }
       },
       "selected": [],
       "selected_style": {
        "fill": "DarkOrange",
        "opacity": 0.8,
        "stroke": "Red"
       },
       "size": {
        "type": null,
        "values": null
       },
       "skew": {
        "type": null,
        "values": null
       },
       "tooltip": "IPY_MODEL_8815610f63e044cebbeff2fc238a74c9",
       "tooltip_location": "mouse",
       "tooltip_style": {
        "opacity": 0.9
       },
       "unhovered_style": {},
       "unselected_style": {},
       "visible": true,
       "x": {
        "type": "float",
        "values": [
         1148.2,
         1187.5,
         1151.1,
         1077.8
        ]
       },
       "y": {
        "type": "float",
        "values": [
         351.44,
         345.37,
         298.64,
         261.5
        ]
       }
      }
     },
     "0710354e18544d68850f089c8ab87001": {
      "model_module": "@jupyter-widgets/controls",
      "model_module_version": "1.0.0",
      "model_name": "CheckboxModel",
      "state": {
       "description": "Show gen names",
       "disabled": false,
       "indent": false,
       "layout": "IPY_MODEL_f3e2a07217cf4b3faa6f06ce8af515a7",
       "style": "IPY_MODEL_7033c986c35e4ca0900133496fcc2df4",
       "value": false
      }
     },
     "0729003bc65c451bbadc58265851e353": {
      "model_module": "bqplot",
      "model_module_version": "^0.2.3",
      "model_name": "ScatterModel",
      "state": {
       "_model_module": "bqplot",
       "_model_module_version": "^0.2.3",
       "_view_count": null,
       "_view_module": "bqplot",
       "_view_module_version": "^0.2.3",
       "apply_clip": true,
       "color": {
        "type": null,
        "values": null
       },
       "colors": [
        "DeepSkyBlue"
       ],
       "default_opacities": [
        0.6
       ],
       "default_size": 180,
       "display_legend": false,
       "enable_hover": true,
       "hovered_style": {},
       "interactions": {
        "hover": "tooltip"
       },
       "labels": [],
       "marker": "rectangle",
       "names": {
        "type": "<U5",
        "values": [
         "Bus12",
         "Bus2",
         "Bus1",
         "Bus3"
        ]
       },
       "opacity": {
        "type": null,
        "values": null
       },
       "preserve_domain": {},
       "rotation": {
        "type": null,
        "values": null
       },
       "scales": {
        "x": "IPY_MODEL_5a793b55b5904afb954055d7739c1e08",
        "y": "IPY_MODEL_92d4beec08c84c5d8dd05e339280ef46"
       },
       "scales_metadata": {
        "color": {
         "dimension": "color"
        },
        "opacity": {
         "dimension": "opacity"
        },
        "size": {
         "dimension": "size"
        },
        "x": {
         "dimension": "x",
         "orientation": "horizontal"
        },
        "y": {
         "dimension": "y",
         "orientation": "vertical"
        }
       },
       "selected": [
        1,
        2
       ],
       "selected_style": {
        "fill": "RoyalBlue",
        "opacity": 0.8,
        "stroke": "Blue"
       },
       "size": {
        "type": null,
        "values": null
       },
       "skew": {
        "type": null,
        "values": null
       },
       "tooltip": "IPY_MODEL_0e7f153017074f159efddd993ff5d20a",
       "tooltip_location": "mouse",
       "tooltip_style": {
        "opacity": 0.9
       },
       "unhovered_style": {},
       "unselected_style": {},
       "visible": true,
       "x": {
        "type": "float",
        "values": [
         1069.8,
         1122.6,
         1158.9,
         1113.9
        ]
       },
       "y": {
        "type": "float",
        "values": [
         302.07,
         327.16,
         324.05,
         302.78
        ]
       }
      }
     },
     "076af95147c9461a92659b9a53dc80d8": {
      "model_module": "@jupyter-widgets/controls",
      "model_module_version": "1.0.0",
      "model_name": "ButtonStyleModel",
      "state": {}
     },
     "08dc092e84814808948c5d3a5457fb71": {
      "model_module": "@jupyter-widgets/controls",
      "model_module_version": "1.0.0",
      "model_name": "LabelModel",
      "state": {
       "layout": "IPY_MODEL_fea8d927f5b74ad4b231799050617ae9",
       "style": "IPY_MODEL_95fa5749478642b883c5cb559b697c9e",
       "value": "Options:"
      }
     },
     "0922f2e8f59646199115ad59532856ed": {
      "model_module": "@jupyter-widgets/controls",
      "model_module_version": "1.0.0",
      "model_name": "ButtonModel",
      "state": {
       "button_style": "info",
       "description": "Reset",
       "icon": "times-circle",
       "layout": "IPY_MODEL_d2aa8ffb59174162a60005d9f8309b81",
       "style": "IPY_MODEL_b572ede35dbb4f2b8e61d40091bba012"
      }
     },
     "097a1dcf3a5649c3ba209371e4e33757": {
      "model_module": "@jupyter-widgets/base",
      "model_module_version": "1.0.0",
      "model_name": "LayoutModel",
      "state": {}
     },
     "09ba313b9b944c399d5171c30336dde7": {
      "model_module": "@jupyter-widgets/base",
      "model_module_version": "1.0.0",
      "model_name": "LayoutModel",
      "state": {
       "min_width": "125px"
      }
     },
     "0a0c4a8a9ec8430ba2379a631a581a45": {
      "model_module": "bqplot",
      "model_module_version": "^0.2.3",
      "model_name": "ScatterModel",
      "state": {
       "_model_module": "bqplot",
       "_model_module_version": "^0.2.3",
       "_view_count": null,
       "_view_module": "bqplot",
       "_view_module_version": "^0.2.3",
       "apply_clip": true,
       "color": {
        "type": null,
        "values": null
       },
       "colors": [
        "LightGreen"
       ],
       "default_opacities": [
        0.6
       ],
       "default_size": 150,
       "display_legend": false,
       "display_names": false,
       "enable_hover": true,
       "hovered_style": {},
       "interactions": {
        "hover": "tooltip"
       },
       "labels": [],
       "names": {
        "type": "<U6",
        "values": [
         "GenCo0"
        ]
       },
       "opacity": {
        "type": null,
        "values": null
       },
       "preserve_domain": {},
       "rotation": {
        "type": null,
        "values": null
       },
       "scales": {
        "x": "IPY_MODEL_5a793b55b5904afb954055d7739c1e08",
        "y": "IPY_MODEL_92d4beec08c84c5d8dd05e339280ef46"
       },
       "scales_metadata": {
        "color": {
         "dimension": "color"
        },
        "opacity": {
         "dimension": "opacity"
        },
        "size": {
         "dimension": "size"
        },
        "x": {
         "dimension": "x",
         "orientation": "horizontal"
        },
        "y": {
         "dimension": "y",
         "orientation": "vertical"
        }
       },
       "selected": [],
       "selected_style": {
        "fill": "DarkGreen",
        "opacity": 0.8,
        "stroke": "Green"
       },
       "size": {
        "type": null,
        "values": null
       },
       "skew": {
        "type": null,
        "values": null
       },
       "tooltip": "IPY_MODEL_0e7f153017074f159efddd993ff5d20a",
       "tooltip_location": "mouse",
       "tooltip_style": {
        "opacity": 0.9
       },
       "unhovered_style": {},
       "unselected_style": {},
       "visible": true,
       "x": {
        "type": "float",
        "values": [
         1196
        ]
       },
       "y": {
        "type": "float",
        "values": [
         320.62
        ]
       }
      }
     },
     "0aa07583f7a04024ab151c03af68f3a9": {
      "model_module": "bqplot",
      "model_module_version": "^0.2.3",
      "model_name": "LinearScaleModel",
      "state": {
       "allow_padding": false,
       "max": 1,
       "min": 0,
       "stabilized": false
      }
     },
     "0b2e050d9f3f4a37a1babf5bdc3643d9": {
      "model_module": "@jupyter-widgets/base",
      "model_module_version": "1.0.0",
      "model_name": "LayoutModel",
      "state": {}
     },
     "0b4b9cdc90f04fa6a0ad1e7350106902": {
      "model_module": "@jupyter-widgets/base",
      "model_module_version": "1.0.0",
      "model_name": "LayoutModel",
      "state": {}
     },
     "0c569683fa2a44bba31d3c8514b2660a": {
      "model_module": "bqplot",
      "model_module_version": "^0.2.3",
      "model_name": "LinesModel",
      "state": {
       "color": {
        "type": null,
        "values": null
       },
       "colors": [
        "Orange"
       ],
       "display_legend": false,
       "fill_colors": [],
       "labels": [
        "C1"
       ],
       "opacities": [
        0.8
       ],
       "scales": {
        "x": "IPY_MODEL_2e34e6bff3c84130a1d4289eb2de8bfd",
        "y": "IPY_MODEL_70ed524deef745ca91eb6b33ac1fbfcd"
       },
       "selected": [],
       "stroke_width": 1.5,
       "x": {
        "type": "float",
        "values": [
         1158.9,
         1187.5
        ]
       },
       "y": {
        "type": "float",
        "values": [
         324.05,
         345.37
        ]
       }
      }
     },
     "0c60855fd08c4d0c940639139249d6b1": {
      "model_module": "bqplot",
      "model_module_version": "^0.2.3",
      "model_name": "LinearScaleModel",
      "state": {
       "max": 1246,
       "min": 1063.9,
       "stabilized": false
      }
     },
     "0cb73d83d7f34b9da363a57fe11079fa": {
      "model_module": "bqplot",
      "model_module_version": "^0.2.3",
      "model_name": "LinesModel",
      "state": {
       "color": {
        "type": null,
        "values": null
       },
       "colors": [
        "LightGreen"
       ],
       "display_legend": false,
       "fill_colors": [],
       "labels": [
        "C1",
        "C2",
        "C3"
       ],
       "opacities": [
        0.8
       ],
       "scales": {
        "x": "IPY_MODEL_5a793b55b5904afb954055d7739c1e08",
        "y": "IPY_MODEL_92d4beec08c84c5d8dd05e339280ef46"
       },
       "selected": [],
       "stroke_width": 1.5,
       "x": {
        "type": "float",
        "values": [
         1158.9,
         1196
        ]
       },
       "y": {
        "type": "float",
        "values": [
         324.05,
         320.62
        ]
       }
      }
     },
     "0ce5c6cfcfe047f7a5221a9833f1b7c7": {
      "model_module": "@jupyter-widgets/base",
      "model_module_version": "1.0.0",
      "model_name": "LayoutModel",
      "state": {
       "min_width": "125px"
      }
     },
     "0d019edf10f54e7aafa880e031c41bf3": {
      "model_module": "bqplot",
      "model_module_version": "^0.2.3",
      "model_name": "ScatterModel",
      "state": {
       "_model_module": "bqplot",
       "_model_module_version": "^0.2.3",
       "_view_count": null,
       "_view_module": "bqplot",
       "_view_module_version": "^0.2.3",
       "apply_clip": true,
       "color": {
        "type": null,
        "values": null
       },
       "colors": [
        "Orange"
       ],
       "default_opacities": [
        0.6
       ],
       "default_size": 140,
       "display_legend": false,
       "display_names": false,
       "enable_hover": true,
       "hovered_style": {},
       "interactions": {
        "hover": "tooltip"
       },
       "labels": [],
       "marker": "triangle-up",
       "names": {
        "type": "<U9",
        "values": [
         "Load_Bus1"
        ]
       },
       "opacity": {
        "type": null,
        "values": null
       },
       "preserve_domain": {},
       "rotation": {
        "type": null,
        "values": null
       },
       "scales": {
        "x": "IPY_MODEL_0c60855fd08c4d0c940639139249d6b1",
        "y": "IPY_MODEL_df658e2c37b243d993fe4c31c14b69fa"
       },
       "scales_metadata": {
        "color": {
         "dimension": "color"
        },
        "opacity": {
         "dimension": "opacity"
        },
        "size": {
         "dimension": "size"
        },
        "x": {
         "dimension": "x",
         "orientation": "horizontal"
        },
        "y": {
         "dimension": "y",
         "orientation": "vertical"
        }
       },
       "selected": [],
       "selected_style": {
        "fill": "DarkOrange",
        "opacity": 0.8,
        "stroke": "Red"
       },
       "size": {
        "type": null,
        "values": null
       },
       "skew": {
        "type": null,
        "values": null
       },
       "tooltip": "IPY_MODEL_495a8687d8254c049ffab836455dc54d",
       "tooltip_location": "mouse",
       "tooltip_style": {
        "opacity": 0.9
       },
       "unhovered_style": {},
       "unselected_style": {},
       "visible": true,
       "x": {
        "type": "float",
        "values": [
         1187.5
        ]
       },
       "y": {
        "type": "float",
        "values": [
         345.37
        ]
       }
      }
     },
     "0d77d0ce7e0140578ef75ec80021899d": {
      "model_module": "bqplot",
      "model_module_version": "^0.2.3",
      "model_name": "FigureModel",
      "state": {
       "_dom_classes": [],
       "fig_margin": {
        "bottom": 0,
        "left": 0,
        "right": 0,
        "top": 0
       },
       "layout": "IPY_MODEL_605b6aab456241559c476e1f399b7905",
       "marks": [
        "IPY_MODEL_34b742d0677948498a32de21b24ebd7d",
        "IPY_MODEL_b43f86c12dfb40ffb61e3a798c0beedb",
        "IPY_MODEL_6e0ab3dcc2a74e95bc24082322f99588",
        "IPY_MODEL_2c2ca5950e7a497ba910f3e69efa7577",
        "IPY_MODEL_68dbe6a919c942ac884a88a32b194de0"
       ],
       "max_aspect_ratio": 6,
       "scale_x": "IPY_MODEL_0aa07583f7a04024ab151c03af68f3a9",
       "scale_y": "IPY_MODEL_5b86214e7b1f43ec802ed0aaa80c7df4"
      }
     },
     "0e25d0838f8f40439d9586d4ce59f002": {
      "model_module": "bqplot",
      "model_module_version": "^0.2.3",
      "model_name": "TooltipModel",
      "state": {
       "fields": [
        "name"
       ],
       "layout": "IPY_MODEL_a45458ae0edf47e9b79bea2793c19aa1"
      }
     },
     "0e7639df55e44b69ae12f13f074b4ef5": {
      "model_module": "@jupyter-widgets/base",
      "model_module_version": "1.0.0",
      "model_name": "LayoutModel",
      "state": {
       "border": "dotted Gray 1px",
       "margin": "5px"
      }
     },
     "0e7f153017074f159efddd993ff5d20a": {
      "model_module": "bqplot",
      "model_module_version": "^0.2.3",
      "model_name": "TooltipModel",
      "state": {
       "fields": [
        "name"
       ],
       "layout": "IPY_MODEL_abcc9b2a3ce14a73acd9aa81f86e200b"
      }
     },
     "0f6a05fba0e540bfab2d6615619a115b": {
      "model_module": "@jupyter-widgets/controls",
      "model_module_version": "1.0.0",
      "model_name": "DescriptionStyleModel",
      "state": {
       "description_width": ""
      }
     },
     "0f86ae6e494c451cbea7c06874416b96": {
      "model_module": "@jupyter-widgets/base",
      "model_module_version": "1.0.0",
      "model_name": "LayoutModel",
      "state": {}
     },
     "0fdfd7aed588406791c8cf40ac6a2435": {
      "model_module": "@jupyter-widgets/controls",
      "model_module_version": "1.0.0",
      "model_name": "LabelModel",
      "state": {
       "layout": "IPY_MODEL_f3e2a07217cf4b3faa6f06ce8af515a7",
       "style": "IPY_MODEL_f3bfd5e33c6448aea14ca12f9a887822",
       "value": "Options:"
      }
     },
     "102d83f1cc9b49448e25c3918c403e94": {
      "model_module": "@jupyter-widgets/base",
      "model_module_version": "1.0.0",
      "model_name": "LayoutModel",
      "state": {
       "align_items": "center",
       "border": "groove Gray 2px"
      }
     },
     "10321483a8644d08b043ffc506979f14": {
      "model_module": "bqplot",
      "model_module_version": "^0.2.3",
      "model_name": "ScatterModel",
      "state": {
       "_model_module": "bqplot",
       "_model_module_version": "^0.2.3",
       "_view_count": null,
       "_view_module": "bqplot",
       "_view_module_version": "^0.2.3",
       "apply_clip": true,
       "color": {
        "type": null,
        "values": null
       },
       "colors": [
        "DeepSkyBlue"
       ],
       "default_opacities": [
        0.6
       ],
       "default_size": 180,
       "display_legend": false,
       "enable_hover": true,
       "hovered_style": {},
       "interactions": {
        "hover": "tooltip"
       },
       "labels": [],
       "marker": "rectangle",
       "names": {
        "type": "<U4",
        "values": [
         "Bus3",
         "Bus1",
         "Bus2"
        ]
       },
       "opacity": {
        "type": null,
        "values": null
       },
       "preserve_domain": {},
       "rotation": {
        "type": null,
        "values": null
       },
       "scales": {
        "x": "IPY_MODEL_2b8fe8e0573042fa8c20078316645d3e",
        "y": "IPY_MODEL_d898f958de5542ae884ed9eaa86cef77"
       },
       "scales_metadata": {
        "color": {
         "dimension": "color"
        },
        "opacity": {
         "dimension": "opacity"
        },
        "size": {
         "dimension": "size"
        },
        "x": {
         "dimension": "x",
         "orientation": "horizontal"
        },
        "y": {
         "dimension": "y",
         "orientation": "vertical"
        }
       },
       "selected": [
        1
       ],
       "selected_style": {
        "fill": "RoyalBlue",
        "opacity": 0.8,
        "stroke": "Blue"
       },
       "size": {
        "type": null,
        "values": null
       },
       "skew": {
        "type": null,
        "values": null
       },
       "tooltip": "IPY_MODEL_8f9ff6bc07df4206be48f4f0a4ac035b",
       "tooltip_location": "mouse",
       "tooltip_style": {
        "opacity": 0.9
       },
       "unhovered_style": {},
       "unselected_style": {},
       "visible": true,
       "x": {
        "type": "float",
        "values": [
         1113.9,
         1158.9,
         1122.6
        ]
       },
       "y": {
        "type": "float",
        "values": [
         302.78,
         324.05,
         327.16
        ]
       }
      }
     },
     "109508dd179b49bfa7dfbcaf5308c767": {
      "model_module": "@jupyter-widgets/controls",
      "model_module_version": "1.0.0",
      "model_name": "ButtonStyleModel",
      "state": {}
     },
     "11b03e945c9e43f8b9dab4eda944627e": {
      "model_module": "@jupyter-widgets/base",
      "model_module_version": "1.0.0",
      "model_name": "LayoutModel",
      "state": {}
     },
     "125e0c1dd3a743058d8f307261e1854c": {
      "model_module": "@jupyter-widgets/base",
      "model_module_version": "1.0.0",
      "model_name": "LayoutModel",
      "state": {}
     },
     "13b321eac64545fab14dc93fae440b8a": {
      "model_module": "bqplot",
      "model_module_version": "^0.2.3",
      "model_name": "LinesModel",
      "state": {
       "color": {
        "type": null,
        "values": null
       },
       "colors": [
        "gray"
       ],
       "display_legend": false,
       "fill_colors": [],
       "labels": [
        "C1",
        "C2",
        "C3",
        "C4",
        "C5",
        "C6",
        "C7",
        "C8",
        "C9",
        "C10",
        "C11",
        "C12",
        "C13",
        "C14",
        "C15",
        "C16",
        "C17",
        "C18",
        "C19",
        "C20",
        "C21",
        "C22",
        "C23",
        "C24",
        "C25",
        "C26",
        "C27",
        "C28",
        "C29",
        "C30",
        "C31",
        "C32",
        "C33",
        "C34",
        "C35",
        "C36",
        "C37",
        "C38",
        "C39",
        "C40",
        "C41",
        "C42",
        "C43",
        "C44",
        "C45",
        "C46",
        "C47",
        "C48",
        "C49",
        "C50",
        "C51",
        "C52",
        "C53",
        "C54",
        "C55",
        "C56",
        "C57",
        "C58",
        "C59",
        "C60",
        "C61",
        "C62",
        "C63",
        "C64",
        "C65",
        "C66",
        "C67",
        "C68",
        "C69",
        "C70",
        "C71",
        "C72",
        "C73",
        "C74",
        "C75",
        "C76",
        "C77",
        "C78",
        "C79",
        "C80",
        "C81",
        "C82",
        "C83",
        "C84",
        "C85",
        "C86",
        "C87",
        "C88",
        "C89",
        "C90",
        "C91",
        "C92",
        "C93",
        "C94",
        "C95",
        "C96",
        "C97",
        "C98",
        "C99",
        "C100",
        "C101",
        "C102",
        "C103",
        "C104",
        "C105",
        "C106",
        "C107",
        "C108",
        "C109",
        "C110",
        "C111",
        "C112",
        "C113",
        "C114",
        "C115",
        "C116",
        "C117",
        "C118",
        "C119",
        "C120",
        "C121",
        "C122",
        "C123",
        "C124",
        "C125",
        "C126",
        "C127",
        "C128",
        "C129",
        "C130",
        "C131",
        "C132",
        "C133",
        "C134",
        "C135",
        "C136",
        "C137",
        "C138",
        "C139",
        "C140",
        "C141",
        "C142",
        "C143",
        "C144",
        "C145",
        "C146",
        "C147",
        "C148",
        "C149",
        "C150",
        "C151",
        "C152",
        "C153",
        "C154",
        "C155",
        "C156",
        "C157",
        "C158",
        "C159",
        "C160",
        "C161",
        "C162",
        "C163",
        "C164",
        "C165",
        "C166",
        "C167",
        "C168",
        "C169",
        "C170",
        "C171",
        "C172",
        "C173",
        "C174",
        "C175",
        "C176",
        "C177",
        "C178",
        "C179",
        "C180",
        "C181",
        "C182",
        "C183",
        "C184",
        "C185",
        "C186",
        "C187",
        "C188",
        "C189",
        "C190",
        "C191",
        "C192",
        "C193",
        "C194",
        "C195",
        "C196",
        "C197",
        "C198",
        "C199",
        "C200",
        "C201",
        "C202",
        "C203",
        "C204",
        "C205",
        "C206",
        "C207",
        "C208",
        "C209",
        "C210",
        "C211",
        "C212",
        "C213",
        "C214",
        "C215",
        "C216",
        "C217",
        "C218",
        "C219",
        "C220",
        "C221",
        "C222",
        "C223",
        "C224",
        "C225",
        "C226",
        "C227",
        "C228",
        "C229",
        "C230",
        "C231",
        "C232",
        "C233",
        "C234",
        "C235",
        "C236",
        "C237",
        "C238",
        "C239",
        "C240",
        "C241",
        "C242",
        "C243",
        "C244",
        "C245",
        "C246",
        "C247",
        "C248",
        "C249",
        "C250",
        "C251",
        "C252",
        "C253",
        "C254",
        "C255",
        "C256",
        "C257",
        "C258",
        "C259",
        "C260",
        "C261",
        "C262",
        "C263",
        "C264",
        "C265",
        "C266",
        "C267",
        "C268",
        "C269",
        "C270",
        "C271",
        "C272",
        "C273",
        "C274",
        "C275",
        "C276",
        "C277",
        "C278",
        "C279",
        "C280",
        "C281",
        "C282",
        "C283",
        "C284",
        "C285",
        "C286",
        "C287",
        "C288",
        "C289",
        "C290",
        "C291",
        "C292",
        "C293",
        "C294",
        "C295",
        "C296",
        "C297",
        "C298",
        "C299",
        "C300",
        "C301",
        "C302",
        "C303",
        "C304",
        "C305",
        "C306",
        "C307",
        "C308",
        "C309",
        "C310",
        "C311",
        "C312",
        "C313",
        "C314",
        "C315",
        "C316",
        "C317",
        "C318",
        "C319",
        "C320",
        "C321",
        "C322",
        "C323",
        "C324",
        "C325",
        "C326",
        "C327",
        "C328",
        "C329",
        "C330",
        "C331",
        "C332",
        "C333",
        "C334",
        "C335",
        "C336",
        "C337",
        "C338",
        "C339",
        "C340",
        "C341",
        "C342",
        "C343",
        "C344",
        "C345",
        "C346",
        "C347",
        "C348",
        "C349",
        "C350",
        "C351"
       ],
       "line_style": "dotted",
       "marker": "circle",
       "marker_size": 30,
       "opacities": [
        0.05
       ],
       "scales": {
        "x": "IPY_MODEL_7d9a584fd69d43ad832bb86c22597bf2",
        "y": "IPY_MODEL_f813645efb524d219ca5e43f2c76b294"
       },
       "selected": [],
       "stroke_width": 1,
       "x": {
        "type": "float",
        "values": [
         [
          1158.9,
          1196
         ],
         [
          1158.9,
          1122.6
         ],
         [
          1158.9,
          1113.9
         ],
         [
          1158.9,
          1187.5
         ],
         [
          1122.6,
          1069.8
         ],
         [
          1122.6,
          1148.2
         ],
         [
          1113.9,
          1064.9
         ],
         [
          1113.9,
          1069.8
         ],
         [
          1113.9,
          1151.1
         ],
         [
          1099.5,
          1130.4
         ],
         [
          1099.5,
          1064.9
         ],
         [
          1099.5,
          1053.1
         ],
         [
          1099.5,
          1140.7
         ],
         [
          1064.9,
          1102.3
         ],
         [
          1064.9,
          990.08
         ],
         [
          1064.9,
          1053.1
         ],
         [
          1064.9,
          1077.8
         ],
         [
          1102.3,
          1133.9
         ],
         [
          1102.3,
          1103.4
         ],
         [
          1102.3,
          1109.8
         ],
         [
          1103.4,
          1069.8
         ],
         [
          1103.4,
          1131.5
         ],
         [
          990.08,
          1003.1
         ],
         [
          990.08,
          1005.2
         ],
         [
          990.08,
          905.69
         ],
         [
          990.08,
          979.43
         ],
         [
          1005.2,
          1009.6
         ],
         [
          1005.2,
          1022.4
         ],
         [
          1009.6,
          1029.1
         ],
         [
          1009.6,
          1005.4
         ],
         [
          1053.1,
          1069.8
         ],
         [
          1053.1,
          996.41
         ],
         [
          1053.1,
          1063.4
         ],
         [
          1069.8,
          1070.5
         ],
         [
          1069.8,
          1008.6
         ],
         [
          1069.8,
          1013.7
         ],
         [
          1069.8,
          1093.6
         ],
         [
          1069.8,
          1091.9
         ],
         [
          996.41,
          941.82
         ],
         [
          996.41,
          998.56
         ],
         [
          1008.6,
          941.82
         ],
         [
          1008.6,
          1030.3
         ],
         [
          941.82,
          962.08
         ],
         [
          941.82,
          943.68
         ],
         [
          941.82,
          870.96
         ],
         [
          941.82,
          893.9
         ],
         [
          941.82,
          941.92
         ],
         [
          1013.7,
          943.68
         ],
         [
          1013.7,
          1028
         ],
         [
          943.68,
          908.37
         ],
         [
          943.68,
          905.69
         ],
         [
          943.68,
          936.25
         ],
         [
          943.68,
          915.07
         ],
         [
          943.68,
          965.19
         ],
         [
          908.37,
          915.51
         ],
         [
          908.37,
          870.96
         ],
         [
          908.37,
          928.62
         ],
         [
          870.96,
          861.09
         ],
         [
          870.96,
          828.99
         ],
         [
          870.96,
          813.07
         ],
         [
          870.96,
          876.69
         ],
         [
          828.99,
          795.01
         ],
         [
          828.99,
          804.73
         ],
         [
          795.01,
          771.01
         ],
         [
          795.01,
          768.76
         ],
         [
          771.01,
          789.92
         ],
         [
          771.01,
          750.95
         ],
         [
          789.92,
          696.21
         ],
         [
          789.92,
          843.32
         ],
         [
          789.92,
          873.39
         ],
         [
          789.92,
          780.29
         ],
         [
          696.21,
          680.46
         ],
         [
          696.21,
          619.29
         ],
         [
          696.21,
          656.2
         ],
         [
          696.21,
          705.62
         ],
         [
          843.32,
          819.69
         ],
         [
          843.32,
          874.85
         ],
         [
          843.32,
          869.15
         ],
         [
          843.32,
          828.56
         ],
         [
          874.85,
          857.37
         ],
         [
          874.85,
          905.69
         ],
         [
          874.85,
          885.79
         ],
         [
          869.15,
          858.39
         ],
         [
          869.15,
          918.48
         ],
         [
          869.15,
          873.39
         ],
         [
          869.15,
          880.81
         ],
         [
          869.15,
          842.78
         ],
         [
          918.48,
          946.43
         ],
         [
          918.48,
          939.18
         ],
         [
          946.43,
          936.25
         ],
         [
          946.43,
          972.86
         ],
         [
          905.69,
          825.02
         ],
         [
          905.69,
          922.23
         ],
         [
          936.25,
          969.91
         ],
         [
          936.25,
          873.39
         ],
         [
          936.25,
          962.19
         ],
         [
          873.39,
          853.47
         ],
         [
          873.39,
          915.07
         ],
         [
          873.39,
          888.85
         ],
         [
          873.39,
          893.51
         ],
         [
          893.9,
          830.9
         ],
         [
          893.9,
          913.35
         ],
         [
          813.07,
          801.3
         ],
         [
          813.07,
          831.35
         ],
         [
          813.07,
          830.9
         ],
         [
          813.07,
          753.16
         ],
         [
          813.07,
          784.26
         ],
         [
          813.74,
          831.35
         ],
         [
          813.74,
          830.9
         ],
         [
          813.74,
          788.5
         ],
         [
          831.35,
          858.03
         ],
         [
          831.35,
          834.68
         ],
         [
          830.9,
          825.02
         ],
         [
          830.9,
          818.02
         ],
         [
          830.9,
          776.96
         ],
         [
          830.9,
          853.66
         ],
         [
          825.02,
          732.91
         ],
         [
          825.02,
          855.64
         ],
         [
          818.02,
          776.96
         ],
         [
          818.02,
          840.88
         ],
         [
          776.96,
          769.23
         ],
         [
          776.96,
          749.05
         ],
         [
          776.96,
          713.11
         ],
         [
          776.96,
          775.96
         ],
         [
          749.05,
          713.11
         ],
         [
          749.05,
          765.5
         ],
         [
          713.11,
          700.04
         ],
         [
          713.11,
          643.56
         ],
         [
          713.11,
          698.13
         ],
         [
          753.16,
          701.8
         ],
         [
          753.16,
          736.35
         ],
         [
          701.8,
          656.2
         ],
         [
          701.8,
          693.2
         ],
         [
          656.2,
          610.13
         ],
         [
          656.2,
          643.56
         ],
         [
          656.2,
          658.65
         ],
         [
          610.13,
          582.81
         ],
         [
          610.13,
          611.12
         ],
         [
          610.13,
          606.72
         ],
         [
          610.13,
          574.04
         ],
         [
          611.12,
          643.56
         ],
         [
          611.12,
          588.6
         ],
         [
          611.12,
          585.36
         ],
         [
          606.72,
          643.56
         ],
         [
          606.72,
          574.27
         ],
         [
          643.56,
          631.12
         ],
         [
          643.56,
          631.17
         ],
         [
          643.56,
          615.83
         ],
         [
          643.56,
          663.35
         ],
         [
          643.56,
          711.86
         ],
         [
          643.56,
          588.6
         ],
         [
          643.56,
          657.29
         ],
         [
          631.17,
          636.43
         ],
         [
          631.17,
          599.63
         ],
         [
          615.83,
          588.15
         ],
         [
          615.83,
          630.53
         ],
         [
          615.83,
          581.46
         ],
         [
          588.15,
          617.36
         ],
         [
          588.15,
          562.85
         ],
         [
          617.36,
          663.35
         ],
         [
          617.36,
          598.42
         ],
         [
          663.35,
          681.4
         ],
         [
          663.35,
          687.35
         ],
         [
          663.35,
          665.33
         ],
         [
          663.35,
          715.87
         ],
         [
          663.35,
          653.13
         ],
         [
          687.35,
          694.06
         ],
         [
          687.35,
          665.33
         ],
         [
          687.35,
          715.87
         ],
         [
          687.35,
          708.55
         ],
         [
          665.33,
          670.89
         ],
         [
          665.33,
          636.43
         ],
         [
          665.33,
          630.53
         ],
         [
          665.33,
          715.87
         ],
         [
          665.33,
          652.55
         ],
         [
          636.43,
          607.58
         ],
         [
          630.53,
          622.61
         ],
         [
          715.87,
          736.95
         ],
         [
          715.87,
          751.27
         ],
         [
          715.87,
          763.94
         ],
         [
          715.87,
          748.18
         ],
         [
          715.87,
          719.38
         ],
         [
          751.27,
          763.94
         ],
         [
          751.27,
          752.65
         ],
         [
          751.27,
          767.7
         ],
         [
          763.94,
          786.41
         ],
         [
          763.94,
          752.65
         ],
         [
          763.94,
          755.85
         ],
         [
          763.94,
          803.65
         ],
         [
          752.65,
          786.34
         ],
         [
          752.65,
          711.86
         ],
         [
          752.65,
          726.76
         ],
         [
          752.65,
          791.19
         ],
         [
          748.18,
          755.85
         ],
         [
          748.18,
          778.97
         ],
         [
          755.85,
          732.91
         ],
         [
          755.85,
          789.9
         ],
         [
          732.91,
          756.53
         ],
         [
          732.91,
          711.86
         ],
         [
          732.91,
          619.16
         ],
         [
          732.91,
          780.57
         ],
         [
          711.86,
          696.15
         ],
         [
          711.86,
          726.76
         ],
         [
          711.86,
          733.34
         ],
         [
          726.76,
          721.9
         ],
         [
          619.16,
          588.6
         ],
         [
          619.16,
          518.12
         ],
         [
          619.16,
          577.27
         ],
         [
          619.16,
          627.87
         ],
         [
          588.6,
          591.34
         ],
         [
          588.6,
          619.29
         ],
         [
          588.6,
          561.07
         ],
         [
          588.6,
          490.44
         ],
         [
          588.6,
          565.17
         ],
         [
          619.29,
          645.28
         ],
         [
          619.29,
          620.14
         ],
         [
          619.29,
          580.95
         ],
         [
          619.29,
          561.07
         ],
         [
          619.29,
          622.4
         ],
         [
          620.14,
          656.2
         ],
         [
          620.14,
          601.41
         ],
         [
          620.14,
          602.18
         ],
         [
          656.2,
          667.56
         ],
         [
          656.2,
          644.31
         ],
         [
          601.41,
          602.28
         ],
         [
          601.41,
          578.63
         ],
         [
          580.95,
          581.27
         ],
         [
          580.95,
          561.07
         ],
         [
          580.95,
          560.17
         ],
         [
          561.07,
          490.44
         ],
         [
          561.07,
          529.78
         ],
         [
          561.07,
          572
         ],
         [
          496.42,
          493.49
         ],
         [
          496.42,
          490.44
         ],
         [
          496.42,
          529.78
         ],
         [
          496.42,
          475.1
         ],
         [
          490.44,
          479.21
         ],
         [
          490.44,
          461.26
         ],
         [
          490.44,
          419.27
         ],
         [
          490.44,
          398.83
         ],
         [
          490.44,
          504.02
         ],
         [
          461.26,
          435.4
         ],
         [
          461.26,
          455.25
         ],
         [
          435.4,
          419.27
         ],
         [
          435.4,
          432.78
         ],
         [
          419.27,
          410.2
         ],
         [
          419.27,
          518.12
         ],
         [
          419.27,
          361.71
         ],
         [
          419.27,
          388.06
         ],
         [
          419.27,
          354.03
         ],
         [
          419.27,
          342.18
         ],
         [
          419.27,
          421.65
         ],
         [
          518.12,
          507.49
         ],
         [
          398.83,
          326.78
         ],
         [
          398.83,
          361.71
         ],
         [
          398.83,
          388.76
         ],
         [
          326.78,
          295.41
         ],
         [
          326.78,
          259
         ],
         [
          326.78,
          333.24
         ],
         [
          295.41,
          259
         ],
         [
          295.41,
          298.04
         ],
         [
          259,
          265.04
         ],
         [
          259,
          218.47
         ],
         [
          259,
          223.57
         ],
         [
          259,
          225.17
         ],
         [
          259,
          240.69
         ],
         [
          218.47,
          181.43
         ],
         [
          218.47,
          211.19
         ],
         [
          181.43,
          150.94
         ],
         [
          181.43,
          169
         ],
         [
          223.57,
          225.17
         ],
         [
          223.57,
          194.81
         ],
         [
          225.17,
          183.59
         ],
         [
          225.17,
          211.22
         ],
         [
          225.17,
          240.95
         ],
         [
          225.17,
          197.5
         ],
         [
          211.22,
          238.73
         ],
         [
          211.22,
          193.86
         ],
         [
          211.22,
          199.72
         ],
         [
          193.86,
          166.1
         ],
         [
          193.86,
          240.95
         ],
         [
          193.86,
          156.15
         ],
         [
          240.95,
          216.92
         ],
         [
          240.95,
          266.31
         ],
         [
          240.95,
          296.13
         ],
         [
          240.95,
          274.05
         ],
         [
          240.95,
          211.39
         ],
         [
          240.95,
          220.63
         ],
         [
          266.31,
          296.13
         ],
         [
          266.31,
          262.98
         ],
         [
          296.13,
          324.79
         ],
         [
          296.13,
          361.71
         ],
         [
          296.13,
          274.05
         ],
         [
          296.13,
          289.61
         ],
         [
          324.79,
          361.71
         ],
         [
          324.79,
          318
         ],
         [
          361.71,
          388.06
         ],
         [
          361.71,
          354.23
         ],
         [
          388.06,
          390.69
         ],
         [
          354.03,
          274.05
         ],
         [
          354.03,
          368.7
         ],
         [
          342.18,
          341.56
         ],
         [
          342.18,
          274.05
         ],
         [
          342.18,
          321.7
         ],
         [
          274.05,
          264.2
         ],
         [
          274.05,
          231.25
         ],
         [
          274.05,
          207.82
         ],
         [
          274.05,
          238.59
         ],
         [
          274.05,
          261.96
         ],
         [
          274.05,
          292.19
         ],
         [
          231.25,
          211.39
         ],
         [
          231.25,
          200.58
         ],
         [
          211.39,
          176.48
         ],
         [
          207.82,
          176.56
         ],
         [
          207.82,
          238.59
         ],
         [
          207.82,
          232.8
         ],
         [
          207.82,
          143.73
         ],
         [
          207.82,
          179.91
         ],
         [
          238.59,
          217.46
         ],
         [
          238.59,
          232.8
         ],
         [
          238.59,
          226.83
         ],
         [
          232.8,
          250.7
         ],
         [
          232.8,
          261.96
         ],
         [
          232.8,
          249.45
         ],
         [
          232.8,
          196.03
         ],
         [
          232.8,
          262.08
         ],
         [
          261.96,
          249.45
         ],
         [
          261.96,
          286.2
         ],
         [
          249.45,
          238.42
         ],
         [
          249.45,
          267.27
         ],
         [
          196.03,
          160.19
         ],
         [
          196.03,
          188.64
         ],
         [
          160.19,
          143.73
         ],
         [
          160.19,
          145.96
         ],
         [
          143.73,
          138.1
         ],
         [
          143.73,
          103.27
         ],
         [
          143.73,
          92.662
         ],
         [
          143.73,
          119.31
         ],
         [
          103.27,
          87.963
         ],
         [
          103.27,
          71.985
         ],
         [
          92.662,
          64.904
         ],
         [
          92.662,
          59.402
         ],
         [
          915.07,
          921.3
         ],
         [
          915.07,
          906.19
         ],
         [
          888.85,
          880.81
         ],
         [
          888.85,
          905.51
         ],
         [
          880.81,
          883.64
         ],
         [
          577.27,
          549.39
         ],
         [
          577.27,
          550.62
         ],
         [
          1093.6,
          1112.5
         ],
         [
          529.78,
          526.1
         ]
        ]
       },
       "y": {
        "type": "float",
        "values": [
         [
          324.05,
          320.62
         ],
         [
          324.05,
          327.16
         ],
         [
          324.05,
          302.78
         ],
         [
          324.05,
          345.37
         ],
         [
          327.16,
          302.07
         ],
         [
          327.16,
          351.44
         ],
         [
          302.78,
          282.93
         ],
         [
          302.78,
          302.07
         ],
         [
          302.78,
          298.64
         ],
         [
          259.38,
          237.6
         ],
         [
          259.38,
          282.93
         ],
         [
          259.38,
          267.16
         ],
         [
          259.38,
          254.51
         ],
         [
          282.93,
          241.2
         ],
         [
          282.93,
          320.32
         ],
         [
          282.93,
          267.16
         ],
         [
          282.93,
          261.5
         ],
         [
          241.2,
          214.69
         ],
         [
          241.2,
          278.84
         ],
         [
          241.2,
          205.65
         ],
         [
          278.84,
          302.07
         ],
         [
          278.84,
          279.02
         ],
         [
          320.32,
          346.3
         ],
         [
          320.32,
          377.99
         ],
         [
          320.32,
          297.29
         ],
         [
          320.32,
          346.61
         ],
         [
          377.99,
          425.18
         ],
         [
          377.99,
          397.85
         ],
         [
          425.18,
          447.94
         ],
         [
          425.18,
          457.44
         ],
         [
          267.16,
          302.07
         ],
         [
          267.16,
          272.94
         ],
         [
          267.16,
          234.24
         ],
         [
          302.07,
          330.12
         ],
         [
          302.07,
          301.1
         ],
         [
          302.07,
          259.46
         ],
         [
          302.07,
          345.22
         ],
         [
          302.07,
          316.13
         ],
         [
          272.94,
          291.76
         ],
         [
          272.94,
          243.09
         ],
         [
          301.1,
          291.76
         ],
         [
          301.1,
          318.76
         ],
         [
          291.76,
          304.4
         ],
         [
          291.76,
          235.45
         ],
         [
          291.76,
          281.68
         ],
         [
          291.76,
          345.19
         ],
         [
          291.76,
          274.56
         ],
         [
          259.46,
          235.45
         ],
         [
          259.46,
          228.86
         ],
         [
          235.45,
          254.61
         ],
         [
          235.45,
          297.29
         ],
         [
          235.45,
          161.11
         ],
         [
          235.45,
          180.61
         ],
         [
          235.45,
          213.89
         ],
         [
          254.61,
          232.37
         ],
         [
          254.61,
          281.68
         ],
         [
          254.61,
          249.04
         ],
         [
          281.68,
          260.28
         ],
         [
          281.68,
          243.13
         ],
         [
          281.68,
          326.25
         ],
         [
          281.68,
          299.46
         ],
         [
          243.13,
          206.5
         ],
         [
          243.13,
          235.8
         ],
         [
          206.5,
          172.32
         ],
         [
          206.5,
          200.77
         ],
         [
          172.32,
          165.26
         ],
         [
          172.32,
          145.37
         ],
         [
          165.26,
          209.06
         ],
         [
          165.26,
          156.41
         ],
         [
          165.26,
          138.58
         ],
         [
          165.26,
          130.94
         ],
         [
          209.06,
          192.31
         ],
         [
          209.06,
          276.63
         ],
         [
          209.06,
          180.75
         ],
         [
          209.06,
          183.73
         ],
         [
          156.41,
          143.77
         ],
         [
          156.41,
          223.32
         ],
         [
          156.41,
          95.966
         ],
         [
          156.41,
          124.06
         ],
         [
          223.32,
          204.99
         ],
         [
          223.32,
          297.29
         ],
         [
          223.32,
          199.32
         ],
         [
          95.966,
          57.49
         ],
         [
          95.966,
          80.639
         ],
         [
          95.966,
          138.58
         ],
         [
          95.966,
          54.713
         ],
         [
          95.966,
          72.711
         ],
         [
          80.639,
          108.55
         ],
         [
          80.639,
          49.948
         ],
         [
          108.55,
          161.11
         ],
         [
          108.55,
          83.684
         ],
         [
          297.29,
          368.03
         ],
         [
          297.29,
          321.44
         ],
         [
          161.11,
          156.12
         ],
         [
          161.11,
          138.58
         ],
         [
          161.11,
          135.11
         ],
         [
          138.58,
          115.47
         ],
         [
          138.58,
          180.61
         ],
         [
          138.58,
          84.403
         ],
         [
          138.58,
          119.26
         ],
         [
          345.19,
          380.46
         ],
         [
          345.19,
          370.45
         ],
         [
          326.25,
          297.94
         ],
         [
          326.25,
          335.04
         ],
         [
          326.25,
          380.46
         ],
         [
          326.25,
          349.2
         ],
         [
          326.25,
          315.77
         ],
         [
          358.24,
          335.04
         ],
         [
          358.24,
          380.46
         ],
         [
          358.24,
          358.39
         ],
         [
          335.04,
          339.43
         ],
         [
          335.04,
          310.08
         ],
         [
          380.46,
          368.03
         ],
         [
          380.46,
          418.54
         ],
         [
          380.46,
          420.3
         ],
         [
          380.46,
          408.32
         ],
         [
          368.03,
          430.36
         ],
         [
          368.03,
          382.69
         ],
         [
          418.54,
          420.3
         ],
         [
          418.54,
          445.05
         ],
         [
          420.3,
          394.39
         ],
         [
          420.3,
          449.15
         ],
         [
          420.3,
          449.59
         ],
         [
          420.3,
          449.77
         ],
         [
          449.15,
          449.59
         ],
         [
          449.15,
          473.09
         ],
         [
          449.59,
          429.53
         ],
         [
          449.59,
          477.25
         ],
         [
          449.59,
          466.62
         ],
         [
          349.2,
          384.51
         ],
         [
          349.2,
          328.13
         ],
         [
          384.51,
          432.28
         ],
         [
          384.51,
          358.64
         ],
         [
          432.28,
          456.93
         ],
         [
          432.28,
          477.25
         ],
         [
          432.28,
          408.83
         ],
         [
          456.93,
          480.6
         ],
         [
          456.93,
          429.76
         ],
         [
          456.93,
          484.56
         ],
         [
          456.93,
          463.06
         ],
         [
          429.76,
          477.25
         ],
         [
          429.76,
          372.73
         ],
         [
          429.76,
          436.61
         ],
         [
          484.56,
          477.25
         ],
         [
          484.56,
          504.43
         ],
         [
          477.25,
          495.64
         ],
         [
          477.25,
          527.27
         ],
         [
          477.25,
          550.41
         ],
         [
          477.25,
          569.97
         ],
         [
          477.25,
          494.97
         ],
         [
          477.25,
          372.73
         ],
         [
          477.25,
          497.16
         ],
         [
          527.27,
          573.09
         ],
         [
          527.27,
          533.91
         ],
         [
          550.41,
          593.85
         ],
         [
          550.41,
          599.14
         ],
         [
          550.41,
          562.31
         ],
         [
          593.85,
          608.25
         ],
         [
          593.85,
          620.43
         ],
         [
          608.25,
          569.97
         ],
         [
          608.25,
          644.14
         ],
         [
          569.97,
          584.14
         ],
         [
          569.97,
          615.38
         ],
         [
          569.97,
          611.12
         ],
         [
          569.97,
          598.71
         ],
         [
          569.97,
          595.19
         ],
         [
          615.38,
          655.97
         ],
         [
          615.38,
          611.12
         ],
         [
          615.38,
          598.71
         ],
         [
          615.38,
          615.87
         ],
         [
          611.12,
          652.05
         ],
         [
          611.12,
          573.09
         ],
         [
          611.12,
          599.14
         ],
         [
          611.12,
          598.71
         ],
         [
          611.12,
          649.04
         ],
         [
          573.09,
          584.69
         ],
         [
          599.14,
          637.22
         ],
         [
          598.71,
          632.25
         ],
         [
          598.71,
          596.63
         ],
         [
          598.71,
          576.04
         ],
         [
          598.71,
          567.08
         ],
         [
          598.71,
          640.01
         ],
         [
          596.63,
          576.04
         ],
         [
          596.63,
          547.07
         ],
         [
          596.63,
          634.35
         ],
         [
          576.04,
          612.35
         ],
         [
          576.04,
          547.07
         ],
         [
          576.04,
          513.57
         ],
         [
          576.04,
          595.05
         ],
         [
          547.07,
          543.97
         ],
         [
          547.07,
          494.97
         ],
         [
          547.07,
          533.36
         ],
         [
          547.07,
          562.46
         ],
         [
          567.08,
          513.57
         ],
         [
          567.08,
          589.42
         ],
         [
          513.57,
          430.36
         ],
         [
          513.57,
          515.22
         ],
         [
          430.36,
          426.15
         ],
         [
          430.36,
          494.97
         ],
         [
          430.36,
          394.46
         ],
         [
          430.36,
          436.82
         ],
         [
          494.97,
          513.18
         ],
         [
          494.97,
          533.36
         ],
         [
          494.97,
          499.87
         ],
         [
          533.36,
          558.54
         ],
         [
          394.46,
          372.73
         ],
         [
          394.46,
          361.09
         ],
         [
          394.46,
          408.22
         ],
         [
          394.46,
          370.26
         ],
         [
          372.73,
          347.48
         ],
         [
          372.73,
          276.63
         ],
         [
          372.73,
          316.56
         ],
         [
          372.73,
          346.27
         ],
         [
          372.73,
          366.53
         ],
         [
          276.63,
          272.45
         ],
         [
          276.63,
          207.22
         ],
         [
          276.63,
          275.7
         ],
         [
          276.63,
          316.56
         ],
         [
          276.63,
          249.74
         ],
         [
          207.22,
          180.75
         ],
         [
          207.22,
          156.6
         ],
         [
          207.22,
          185.93
         ],
         [
          180.75,
          148.34
         ],
         [
          180.75,
          149.29
         ],
         [
          156.6,
          121.96
         ],
         [
          156.6,
          131.76
         ],
         [
          275.7,
          244.82
         ],
         [
          275.7,
          316.56
         ],
         [
          275.7,
          253.2
         ],
         [
          316.56,
          346.27
         ],
         [
          316.56,
          291.73
         ],
         [
          316.56,
          299.05
         ],
         [
          298.22,
          265.6
         ],
         [
          298.22,
          346.27
         ],
         [
          298.22,
          291.73
         ],
         [
          298.22,
          276.84
         ],
         [
          346.27,
          373.78
         ],
         [
          346.27,
          337.49
         ],
         [
          346.27,
          321.42
         ],
         [
          346.27,
          376.94
         ],
         [
          346.27,
          333.99
         ],
         [
          337.49,
          348.88
         ],
         [
          337.49,
          312.88
         ],
         [
          348.88,
          321.42
         ],
         [
          348.88,
          378.65
         ],
         [
          321.42,
          342.73
         ],
         [
          321.42,
          361.09
         ],
         [
          321.42,
          335.31
         ],
         [
          321.42,
          317.62
         ],
         [
          321.42,
          277.9
         ],
         [
          321.42,
          283.86
         ],
         [
          321.42,
          291.32
         ],
         [
          361.09,
          383.6
         ],
         [
          376.94,
          421.26
         ],
         [
          376.94,
          335.31
         ],
         [
          376.94,
          406.34
         ],
         [
          421.26,
          448.85
         ],
         [
          421.26,
          445.87
         ],
         [
          421.26,
          447.73
         ],
         [
          448.85,
          445.87
         ],
         [
          448.85,
          478.91
         ],
         [
          445.87,
          477.43
         ],
         [
          445.87,
          493.08
         ],
         [
          445.87,
          435.99
         ],
         [
          445.87,
          397.23
         ],
         [
          445.87,
          469.95
         ],
         [
          493.08,
          525.55
         ],
         [
          493.08,
          520.34
         ],
         [
          525.55,
          534.68
         ],
         [
          525.55,
          555.77
         ],
         [
          435.99,
          397.23
         ],
         [
          435.99,
          455.51
         ],
         [
          397.23,
          399.08
         ],
         [
          397.23,
          377.92
         ],
         [
          397.23,
          324.07
         ],
         [
          397.23,
          420.16
         ],
         [
          377.92,
          383.45
         ],
         [
          377.92,
          349.7
         ],
         [
          377.92,
          395.27
         ],
         [
          349.7,
          340.6
         ],
         [
          349.7,
          324.07
         ],
         [
          349.7,
          360.11
         ],
         [
          324.07,
          318.01
         ],
         [
          324.07,
          318.07
         ],
         [
          324.07,
          311.57
         ],
         [
          324.07,
          255.8
         ],
         [
          324.07,
          293.09
         ],
         [
          324.07,
          339.87
         ],
         [
          318.07,
          311.57
         ],
         [
          318.07,
          298.75
         ],
         [
          311.57,
          333.52
         ],
         [
          311.57,
          335.31
         ],
         [
          311.57,
          255.8
         ],
         [
          311.57,
          333.48
         ],
         [
          333.52,
          335.31
         ],
         [
          333.52,
          360.4
         ],
         [
          335.31,
          317.62
         ],
         [
          335.31,
          361.32
         ],
         [
          317.62,
          292.23
         ],
         [
          277.9,
          255.8
         ],
         [
          277.9,
          248.71
         ],
         [
          283.86,
          249.77
         ],
         [
          283.86,
          255.8
         ],
         [
          283.86,
          265.37
         ],
         [
          255.8,
          233.57
         ],
         [
          255.8,
          266.31
         ],
         [
          255.8,
          199.45
         ],
         [
          255.8,
          208.95
         ],
         [
          255.8,
          189.86
         ],
         [
          255.8,
          233.77
         ],
         [
          266.31,
          293.09
         ],
         [
          266.31,
          260.4
         ],
         [
          293.09,
          288.95
         ],
         [
          199.45,
          211.94
         ],
         [
          199.45,
          208.95
         ],
         [
          199.45,
          163.09
         ],
         [
          199.45,
          156.45
         ],
         [
          199.45,
          184.95
         ],
         [
          208.95,
          224.77
         ],
         [
          208.95,
          163.09
         ],
         [
          208.95,
          184.49
         ],
         [
          163.09,
          128.09
         ],
         [
          163.09,
          189.86
         ],
         [
          163.09,
          141.82
         ],
         [
          163.09,
          126.19
         ],
         [
          163.09,
          153.75
         ],
         [
          189.86,
          141.82
         ],
         [
          189.86,
          171.02
         ],
         [
          141.82,
          105.67
         ],
         [
          141.82,
          106.36
         ],
         [
          126.19,
          119.14
         ],
         [
          126.19,
          93.428
         ],
         [
          119.14,
          156.45
         ],
         [
          119.14,
          87.605
         ],
         [
          156.45,
          130
         ],
         [
          156.45,
          124.22
         ],
         [
          156.45,
          164.99
         ],
         [
          156.45,
          155.15
         ],
         [
          124.22,
          94.411
         ],
         [
          124.22,
          116.3
         ],
         [
          164.99,
          181.75
         ],
         [
          164.99,
          155.95
         ],
         [
          180.61,
          148.4
         ],
         [
          180.61,
          166.38
         ],
         [
          84.403,
          54.713
         ],
         [
          84.403,
          50.205
         ],
         [
          54.713,
          18
         ],
         [
          408.22,
          404.83
         ],
         [
          408.22,
          427.86
         ],
         [
          345.22,
          374.44
         ],
         [
          291.73,
          262.07
         ]
        ]
       }
      }
     },
     "1571920bd4574bf499421c12c60e556b": {
      "model_module": "@jupyter-widgets/controls",
      "model_module_version": "1.0.0",
      "model_name": "DescriptionStyleModel",
      "state": {
       "description_width": ""
      }
     },
     "172fbdfc1089412f8a680420d2cce2ae": {
      "model_module": "@jupyter-widgets/base",
      "model_module_version": "1.0.0",
      "model_name": "LayoutModel",
      "state": {}
     },
     "173cf3ce10ff49d2b87d44ddd1a0a37b": {
      "model_module": "@jupyter-widgets/base",
      "model_module_version": "1.0.0",
      "model_name": "LayoutModel",
      "state": {}
     },
     "17733edf47fa494e9a3a6c5b11008252": {
      "model_module": "bqplot",
      "model_module_version": "^0.2.3",
      "model_name": "LinesModel",
      "state": {
       "color": {
        "type": null,
        "values": null
       },
       "colors": [
        "LightGreen"
       ],
       "display_legend": false,
       "fill_colors": [],
       "labels": [
        "C1",
        "C2"
       ],
       "opacities": [
        0.8
       ],
       "scales": {
        "x": "IPY_MODEL_01b0b239610d41a692695acccecdc0b0",
        "y": "IPY_MODEL_868c3325509e45cb964ac872dbe37e41"
       },
       "selected": [],
       "stroke_width": 1.5,
       "x": {
        "type": "float",
        "values": [
         1158.9,
         1196
        ]
       },
       "y": {
        "type": "float",
        "values": [
         324.05,
         320.62
        ]
       }
      }
     },
     "178ad61da2df41ddb674e3bbc3c70371": {
      "model_module": "@jupyter-widgets/base",
      "model_module_version": "1.0.0",
      "model_name": "LayoutModel",
      "state": {}
     },
     "18338fb9d6184d4b953cf79b75953f8b": {
      "model_module": "@jupyter-widgets/controls",
      "model_module_version": "1.0.0",
      "model_name": "DescriptionStyleModel",
      "state": {
       "description_width": ""
      }
     },
     "188bcd4e36004a85b9120838d7e0b8ad": {
      "model_module": "@jupyter-widgets/controls",
      "model_module_version": "1.0.0",
      "model_name": "DescriptionStyleModel",
      "state": {
       "description_width": ""
      }
     },
     "1c4fefd6b1f240ed9ef725af912a56f5": {
      "model_module": "@jupyter-widgets/controls",
      "model_module_version": "1.0.0",
      "model_name": "CheckboxModel",
      "state": {
       "description": "Show hidden nodes",
       "disabled": false,
       "indent": false,
       "layout": "IPY_MODEL_fea8d927f5b74ad4b231799050617ae9",
       "style": "IPY_MODEL_b5ff10b6ba284d74b007161f0c50827f",
       "value": false
      }
     },
     "1e59c143ce694d16bd19dec13c810211": {
      "model_module": "bqplot",
      "model_module_version": "^0.2.3",
      "model_name": "ScatterModel",
      "state": {
       "_model_module": "bqplot",
       "_model_module_version": "^0.2.3",
       "_view_count": null,
       "_view_module": "bqplot",
       "_view_module_version": "^0.2.3",
       "apply_clip": true,
       "color": {
        "type": null,
        "values": null
       },
       "colors": [
        "LightGreen"
       ],
       "default_opacities": [
        0.6
       ],
       "default_size": 150,
       "display_legend": false,
       "display_names": false,
       "enable_hover": true,
       "hovered_style": {},
       "interactions": {
        "hover": "tooltip"
       },
       "labels": [],
       "names": {
        "type": "<U6",
        "values": [
         "GenCo0"
        ]
       },
       "opacity": {
        "type": null,
        "values": null
       },
       "preserve_domain": {},
       "rotation": {
        "type": null,
        "values": null
       },
       "scales": {
        "x": "IPY_MODEL_2e34e6bff3c84130a1d4289eb2de8bfd",
        "y": "IPY_MODEL_70ed524deef745ca91eb6b33ac1fbfcd"
       },
       "scales_metadata": {
        "color": {
         "dimension": "color"
        },
        "opacity": {
         "dimension": "opacity"
        },
        "size": {
         "dimension": "size"
        },
        "x": {
         "dimension": "x",
         "orientation": "horizontal"
        },
        "y": {
         "dimension": "y",
         "orientation": "vertical"
        }
       },
       "selected": [],
       "selected_style": {
        "fill": "DarkGreen",
        "opacity": 0.8,
        "stroke": "Green"
       },
       "size": {
        "type": null,
        "values": null
       },
       "skew": {
        "type": null,
        "values": null
       },
       "tooltip": "IPY_MODEL_51ab678bbee04de293139975da8c657e",
       "tooltip_location": "mouse",
       "tooltip_style": {
        "opacity": 0.9
       },
       "unhovered_style": {},
       "unselected_style": {},
       "visible": true,
       "x": {
        "type": "float",
        "values": [
         1196
        ]
       },
       "y": {
        "type": "float",
        "values": [
         320.62
        ]
       }
      }
     },
     "1e907c35a8b44a25a167989991098061": {
      "model_module": "@jupyter-widgets/base",
      "model_module_version": "1.0.0",
      "model_name": "LayoutModel",
      "state": {}
     },
     "1eb368da10544d96829f5e5b13df08ef": {
      "model_module": "@jupyter-widgets/controls",
      "model_module_version": "1.0.0",
      "model_name": "CheckboxModel",
      "state": {
       "description": "Show bus names",
       "disabled": false,
       "indent": false,
       "layout": "IPY_MODEL_fab13eb6e75848cd9a89557fc11a5c0b",
       "style": "IPY_MODEL_0f6a05fba0e540bfab2d6615619a115b",
       "value": true
      }
     },
     "1ed29e222cc64942927f2ce8395daa79": {
      "model_module": "@jupyter-widgets/base",
      "model_module_version": "1.0.0",
      "model_name": "LayoutModel",
      "state": {
       "border": "dotted Gray 1px",
       "margin": "5px"
      }
     },
     "1f83238fb0904ec79cc1bd5e7dec7a9a": {
      "model_module": "bqplot",
      "model_module_version": "^0.2.3",
      "model_name": "LinearScaleModel",
      "state": {
       "max": 281.75,
       "min": 105.94999999999999,
       "stabilized": false
      }
     },
     "21baf99169394a57a9c943f5e8bb2e70": {
      "model_module": "@jupyter-widgets/base",
      "model_module_version": "1.0.0",
      "model_name": "LayoutModel",
      "state": {}
     },
     "22e310f1c9474aa6857897edb40b6a50": {
      "model_module": "bqplot",
      "model_module_version": "^0.2.3",
      "model_name": "ScatterModel",
      "state": {
       "_model_module": "bqplot",
       "_model_module_version": "^0.2.3",
       "_view_count": null,
       "_view_module": "bqplot",
       "_view_module_version": "^0.2.3",
       "apply_clip": true,
       "color": {
        "type": null,
        "values": null
       },
       "colors": [
        "Orange"
       ],
       "default_opacities": [
        0.6
       ],
       "default_size": 140,
       "display_legend": false,
       "display_names": false,
       "enable_hover": true,
       "hovered_style": {},
       "interactions": {
        "hover": "tooltip"
       },
       "labels": [],
       "marker": "triangle-up",
       "names": {
        "type": "<U9",
        "values": [
         "Load_Bus2",
         "Load_Bus1"
        ]
       },
       "opacity": {
        "type": null,
        "values": null
       },
       "preserve_domain": {},
       "rotation": {
        "type": null,
        "values": null
       },
       "scales": {
        "x": "IPY_MODEL_5a793b55b5904afb954055d7739c1e08",
        "y": "IPY_MODEL_92d4beec08c84c5d8dd05e339280ef46"
       },
       "scales_metadata": {
        "color": {
         "dimension": "color"
        },
        "opacity": {
         "dimension": "opacity"
        },
        "size": {
         "dimension": "size"
        },
        "x": {
         "dimension": "x",
         "orientation": "horizontal"
        },
        "y": {
         "dimension": "y",
         "orientation": "vertical"
        }
       },
       "selected": [],
       "selected_style": {
        "fill": "DarkOrange",
        "opacity": 0.8,
        "stroke": "Red"
       },
       "size": {
        "type": null,
        "values": null
       },
       "skew": {
        "type": null,
        "values": null
       },
       "tooltip": "IPY_MODEL_0e7f153017074f159efddd993ff5d20a",
       "tooltip_location": "mouse",
       "tooltip_style": {
        "opacity": 0.9
       },
       "unhovered_style": {},
       "unselected_style": {},
       "visible": true,
       "x": {
        "type": "float",
        "values": [
         1148.2,
         1187.5
        ]
       },
       "y": {
        "type": "float",
        "values": [
         351.44,
         345.37
        ]
       }
      }
     },
     "22f5d0f3f11c4daf9d4e486ea11e7822": {
      "model_module": "@jupyter-widgets/base",
      "model_module_version": "1.0.0",
      "model_name": "LayoutModel",
      "state": {
       "max_width": "810px"
      }
     },
     "2364216108904832a197849683d0774b": {
      "model_module": "@jupyter-widgets/controls",
      "model_module_version": "1.0.0",
      "model_name": "CheckboxModel",
      "state": {
       "description": "Show load names",
       "disabled": false,
       "indent": false,
       "layout": "IPY_MODEL_e0d9c46c256a4095a834cade87aa1056",
       "style": "IPY_MODEL_23bd21d6356a4938a2b202e4e3594aa4",
       "value": false
      }
     },
     "23bd21d6356a4938a2b202e4e3594aa4": {
      "model_module": "@jupyter-widgets/controls",
      "model_module_version": "1.0.0",
      "model_name": "DescriptionStyleModel",
      "state": {
       "description_width": ""
      }
     },
     "2403ec5780a24ba7b218644ae761cdc1": {
      "model_module": "@jupyter-widgets/controls",
      "model_module_version": "1.0.0",
      "model_name": "DescriptionStyleModel",
      "state": {
       "description_width": ""
      }
     },
     "2447a6e11a1f4aa5b5f4786236743577": {
      "model_module": "@jupyter-widgets/controls",
      "model_module_version": "1.0.0",
      "model_name": "DescriptionStyleModel",
      "state": {
       "description_width": ""
      }
     },
     "24588c5e7263418ebe29a5754eff2f3b": {
      "model_module": "@jupyter-widgets/controls",
      "model_module_version": "1.0.0",
      "model_name": "CheckboxModel",
      "state": {
       "description": "Show hidden nodes",
       "disabled": false,
       "indent": false,
       "layout": "IPY_MODEL_f3e2a07217cf4b3faa6f06ce8af515a7",
       "style": "IPY_MODEL_188bcd4e36004a85b9120838d7e0b8ad",
       "value": true
      }
     },
     "2531055ced9c4a22b40acf97567d649f": {
      "model_module": "bqplot",
      "model_module_version": "^0.2.3",
      "model_name": "ScatterModel",
      "state": {
       "_model_module": "bqplot",
       "_model_module_version": "^0.2.3",
       "_view_count": null,
       "_view_module": "bqplot",
       "_view_module_version": "^0.2.3",
       "apply_clip": true,
       "color": {
        "type": null,
        "values": null
       },
       "colors": [
        "Orange"
       ],
       "default_opacities": [
        0.6
       ],
       "default_size": 140,
       "display_legend": false,
       "display_names": false,
       "enable_hover": true,
       "hovered_style": {},
       "interactions": {
        "hover": "tooltip"
       },
       "labels": [],
       "marker": "triangle-up",
       "names": {
        "type": "<U9",
        "values": [
         "Load_Bus1"
        ]
       },
       "opacity": {
        "type": null,
        "values": null
       },
       "preserve_domain": {},
       "rotation": {
        "type": null,
        "values": null
       },
       "scales": {
        "x": "IPY_MODEL_2b8fe8e0573042fa8c20078316645d3e",
        "y": "IPY_MODEL_d898f958de5542ae884ed9eaa86cef77"
       },
       "scales_metadata": {
        "color": {
         "dimension": "color"
        },
        "opacity": {
         "dimension": "opacity"
        },
        "size": {
         "dimension": "size"
        },
        "x": {
         "dimension": "x",
         "orientation": "horizontal"
        },
        "y": {
         "dimension": "y",
         "orientation": "vertical"
        }
       },
       "selected": [],
       "selected_style": {
        "fill": "DarkOrange",
        "opacity": 0.8,
        "stroke": "Red"
       },
       "size": {
        "type": null,
        "values": null
       },
       "skew": {
        "type": null,
        "values": null
       },
       "tooltip": "IPY_MODEL_8f9ff6bc07df4206be48f4f0a4ac035b",
       "tooltip_location": "mouse",
       "tooltip_style": {
        "opacity": 0.9
       },
       "unhovered_style": {},
       "unselected_style": {},
       "visible": true,
       "x": {
        "type": "float",
        "values": [
         1187.5
        ]
       },
       "y": {
        "type": "float",
        "values": [
         345.37
        ]
       }
      }
     },
     "2588e837250c4d6bb5533b5a41f44304": {
      "model_module": "bqplot",
      "model_module_version": "^0.2.3",
      "model_name": "LinesModel",
      "state": {
       "color": {
        "type": null,
        "values": null
       },
       "colors": [
        "Orange"
       ],
       "display_legend": false,
       "fill_colors": [],
       "labels": [
        "C1"
       ],
       "opacities": [
        0.8
       ],
       "scales": {
        "x": "IPY_MODEL_0c60855fd08c4d0c940639139249d6b1",
        "y": "IPY_MODEL_df658e2c37b243d993fe4c31c14b69fa"
       },
       "selected": [],
       "stroke_width": 1.5,
       "x": {
        "type": "float",
        "values": [
         1158.9,
         1187.5
        ]
       },
       "y": {
        "type": "float",
        "values": [
         324.05,
         345.37
        ]
       }
      }
     },
     "25d81807a08d40108d19ca3923712e9e": {
      "model_module": "@jupyter-widgets/controls",
      "model_module_version": "1.0.0",
      "model_name": "DescriptionStyleModel",
      "state": {
       "description_width": ""
      }
     },
     "26b96fc5c02c4b2c852e4008ca7cce78": {
      "model_module": "@jupyter-widgets/base",
      "model_module_version": "1.0.0",
      "model_name": "LayoutModel",
      "state": {}
     },
     "26db1ff9077143fbbcd54b2966de0195": {
      "model_module": "bqplot",
      "model_module_version": "^0.2.3",
      "model_name": "FigureModel",
      "state": {
       "_dom_classes": [],
       "fig_margin": {
        "bottom": 0,
        "left": 0,
        "right": 0,
        "top": 0
       },
       "layout": "IPY_MODEL_0ce5c6cfcfe047f7a5221a9833f1b7c7",
       "marks": [
        "IPY_MODEL_464b32df93f7471da0c6a994c929b191",
        "IPY_MODEL_ecdfaddc4ac44b0c90b25a449d0bf2e9",
        "IPY_MODEL_3055fed526524e2fa8619bb24146b67a",
        "IPY_MODEL_3e6dc2b74e7f463aaf2faacaa422eadb",
        "IPY_MODEL_53338f4d5f034e1ca757f9efc23d5f11",
        "IPY_MODEL_8a1fd21e59a741799e840ec21b796680"
       ],
       "max_aspect_ratio": 6,
       "scale_x": "IPY_MODEL_3663dadc433e422788ebc4e7935bda49",
       "scale_y": "IPY_MODEL_575808f44b33481986ab60ade35ade68"
      }
     },
     "279157ad0e4243ebb7789b37fa9506db": {
      "model_module": "@jupyter-widgets/controls",
      "model_module_version": "1.0.0",
      "model_name": "DescriptionStyleModel",
      "state": {
       "description_width": ""
      }
     },
     "2851832f82b64865b7d895e2f92f264c": {
      "model_module": "@jupyter-widgets/controls",
      "model_module_version": "1.0.0",
      "model_name": "DescriptionStyleModel",
      "state": {
       "description_width": ""
      }
     },
     "2a61fa3434c44aaaaf93bebe94ff891d": {
      "model_module": "@jupyter-widgets/base",
      "model_module_version": "1.0.0",
      "model_name": "LayoutModel",
      "state": {}
     },
     "2a7f491977434981b46e4abb83487b29": {
      "model_module": "bqplot",
      "model_module_version": "^0.2.3",
      "model_name": "LinesModel",
      "state": {
       "color": {
        "type": null,
        "values": null
       },
       "colors": [
        "DeepSkyBlue"
       ],
       "display_legend": false,
       "fill_colors": [],
       "labels": [
        "C1"
       ],
       "opacities": [
        0.8
       ],
       "scales": {
        "x": "IPY_MODEL_7d9a584fd69d43ad832bb86c22597bf2",
        "y": "IPY_MODEL_f813645efb524d219ca5e43f2c76b294"
       },
       "selected": [],
       "x": {
        "type": "float",
        "values": [
         143.73,
         92.662
        ]
       },
       "y": {
        "type": "float",
        "values": [
         156.45,
         164.99
        ]
       }
      }
     },
     "2b31b3d154074b2088c0024e98e9e7e4": {
      "model_module": "bqplot",
      "model_module_version": "^0.2.3",
      "model_name": "LinesModel",
      "state": {
       "color": {
        "type": null,
        "values": null
       },
       "colors": [
        "gray"
       ],
       "display_legend": false,
       "fill_colors": [],
       "labels": [
        "C1",
        "C2",
        "C3",
        "C4",
        "C5",
        "C6",
        "C7",
        "C8",
        "C9",
        "C10",
        "C11",
        "C12",
        "C13",
        "C14",
        "C15",
        "C16",
        "C17",
        "C18",
        "C19",
        "C20",
        "C21",
        "C22",
        "C23",
        "C24",
        "C25",
        "C26",
        "C27",
        "C28",
        "C29",
        "C30",
        "C31",
        "C32",
        "C33",
        "C34",
        "C35",
        "C36",
        "C37",
        "C38",
        "C39",
        "C40",
        "C41",
        "C42",
        "C43",
        "C44",
        "C45",
        "C46",
        "C47",
        "C48",
        "C49",
        "C50",
        "C51",
        "C52",
        "C53",
        "C54",
        "C55",
        "C56",
        "C57",
        "C58",
        "C59",
        "C60",
        "C61",
        "C62",
        "C63",
        "C64",
        "C65",
        "C66",
        "C67",
        "C68",
        "C69",
        "C70",
        "C71",
        "C72",
        "C73",
        "C74",
        "C75",
        "C76",
        "C77",
        "C78",
        "C79",
        "C80",
        "C81",
        "C82",
        "C83",
        "C84",
        "C85",
        "C86",
        "C87",
        "C88",
        "C89",
        "C90",
        "C91",
        "C92",
        "C93",
        "C94",
        "C95",
        "C96",
        "C97",
        "C98",
        "C99",
        "C100",
        "C101",
        "C102",
        "C103",
        "C104",
        "C105",
        "C106",
        "C107",
        "C108",
        "C109",
        "C110",
        "C111",
        "C112",
        "C113",
        "C114",
        "C115",
        "C116",
        "C117",
        "C118",
        "C119",
        "C120",
        "C121",
        "C122",
        "C123",
        "C124",
        "C125",
        "C126",
        "C127",
        "C128",
        "C129",
        "C130",
        "C131",
        "C132",
        "C133",
        "C134",
        "C135",
        "C136",
        "C137",
        "C138",
        "C139",
        "C140",
        "C141",
        "C142",
        "C143",
        "C144",
        "C145",
        "C146",
        "C147",
        "C148",
        "C149",
        "C150",
        "C151",
        "C152",
        "C153",
        "C154",
        "C155",
        "C156",
        "C157",
        "C158",
        "C159",
        "C160",
        "C161",
        "C162",
        "C163",
        "C164",
        "C165",
        "C166",
        "C167",
        "C168",
        "C169",
        "C170",
        "C171",
        "C172",
        "C173",
        "C174",
        "C175",
        "C176",
        "C177",
        "C178",
        "C179",
        "C180",
        "C181",
        "C182",
        "C183",
        "C184",
        "C185",
        "C186",
        "C187",
        "C188",
        "C189",
        "C190",
        "C191",
        "C192",
        "C193",
        "C194",
        "C195",
        "C196",
        "C197",
        "C198",
        "C199",
        "C200",
        "C201",
        "C202",
        "C203",
        "C204",
        "C205",
        "C206",
        "C207",
        "C208",
        "C209",
        "C210",
        "C211",
        "C212",
        "C213",
        "C214",
        "C215",
        "C216",
        "C217",
        "C218",
        "C219",
        "C220",
        "C221",
        "C222",
        "C223",
        "C224",
        "C225",
        "C226",
        "C227",
        "C228",
        "C229",
        "C230",
        "C231",
        "C232",
        "C233",
        "C234",
        "C235",
        "C236",
        "C237",
        "C238",
        "C239",
        "C240",
        "C241",
        "C242",
        "C243",
        "C244",
        "C245",
        "C246",
        "C247",
        "C248",
        "C249",
        "C250",
        "C251",
        "C252",
        "C253",
        "C254",
        "C255",
        "C256",
        "C257",
        "C258",
        "C259",
        "C260",
        "C261",
        "C262",
        "C263",
        "C264",
        "C265",
        "C266",
        "C267",
        "C268",
        "C269",
        "C270",
        "C271",
        "C272",
        "C273",
        "C274",
        "C275",
        "C276",
        "C277",
        "C278",
        "C279",
        "C280",
        "C281",
        "C282",
        "C283",
        "C284",
        "C285",
        "C286",
        "C287",
        "C288",
        "C289",
        "C290",
        "C291",
        "C292",
        "C293",
        "C294",
        "C295",
        "C296",
        "C297",
        "C298",
        "C299",
        "C300",
        "C301",
        "C302",
        "C303",
        "C304",
        "C305",
        "C306",
        "C307",
        "C308",
        "C309",
        "C310",
        "C311",
        "C312",
        "C313",
        "C314",
        "C315",
        "C316",
        "C317",
        "C318",
        "C319",
        "C320",
        "C321",
        "C322",
        "C323",
        "C324",
        "C325",
        "C326",
        "C327",
        "C328",
        "C329",
        "C330",
        "C331",
        "C332",
        "C333",
        "C334",
        "C335",
        "C336",
        "C337",
        "C338",
        "C339",
        "C340",
        "C341",
        "C342",
        "C343",
        "C344",
        "C345",
        "C346",
        "C347",
        "C348",
        "C349",
        "C350",
        "C351"
       ],
       "line_style": "dotted",
       "marker": "circle",
       "marker_size": 30,
       "opacities": [
        0.05
       ],
       "scales": {
        "x": "IPY_MODEL_0c60855fd08c4d0c940639139249d6b1",
        "y": "IPY_MODEL_df658e2c37b243d993fe4c31c14b69fa"
       },
       "selected": [],
       "stroke_width": 1,
       "x": {
        "type": "float",
        "values": [
         [
          1158.9,
          1196
         ],
         [
          1158.9,
          1122.6
         ],
         [
          1158.9,
          1113.9
         ],
         [
          1158.9,
          1187.5
         ],
         [
          1122.6,
          1069.8
         ],
         [
          1122.6,
          1148.2
         ],
         [
          1113.9,
          1064.9
         ],
         [
          1113.9,
          1069.8
         ],
         [
          1113.9,
          1151.1
         ],
         [
          1099.5,
          1130.4
         ],
         [
          1099.5,
          1064.9
         ],
         [
          1099.5,
          1053.1
         ],
         [
          1099.5,
          1140.7
         ],
         [
          1064.9,
          1102.3
         ],
         [
          1064.9,
          990.08
         ],
         [
          1064.9,
          1053.1
         ],
         [
          1064.9,
          1077.8
         ],
         [
          1102.3,
          1133.9
         ],
         [
          1102.3,
          1103.4
         ],
         [
          1102.3,
          1109.8
         ],
         [
          1103.4,
          1069.8
         ],
         [
          1103.4,
          1131.5
         ],
         [
          990.08,
          1003.1
         ],
         [
          990.08,
          1005.2
         ],
         [
          990.08,
          905.69
         ],
         [
          990.08,
          979.43
         ],
         [
          1005.2,
          1009.6
         ],
         [
          1005.2,
          1022.4
         ],
         [
          1009.6,
          1029.1
         ],
         [
          1009.6,
          1005.4
         ],
         [
          1053.1,
          1069.8
         ],
         [
          1053.1,
          996.41
         ],
         [
          1053.1,
          1063.4
         ],
         [
          1069.8,
          1070.5
         ],
         [
          1069.8,
          1008.6
         ],
         [
          1069.8,
          1013.7
         ],
         [
          1069.8,
          1093.6
         ],
         [
          1069.8,
          1091.9
         ],
         [
          996.41,
          941.82
         ],
         [
          996.41,
          998.56
         ],
         [
          1008.6,
          941.82
         ],
         [
          1008.6,
          1030.3
         ],
         [
          941.82,
          962.08
         ],
         [
          941.82,
          943.68
         ],
         [
          941.82,
          870.96
         ],
         [
          941.82,
          893.9
         ],
         [
          941.82,
          941.92
         ],
         [
          1013.7,
          943.68
         ],
         [
          1013.7,
          1028
         ],
         [
          943.68,
          908.37
         ],
         [
          943.68,
          905.69
         ],
         [
          943.68,
          936.25
         ],
         [
          943.68,
          915.07
         ],
         [
          943.68,
          965.19
         ],
         [
          908.37,
          915.51
         ],
         [
          908.37,
          870.96
         ],
         [
          908.37,
          928.62
         ],
         [
          870.96,
          861.09
         ],
         [
          870.96,
          828.99
         ],
         [
          870.96,
          813.07
         ],
         [
          870.96,
          876.69
         ],
         [
          828.99,
          795.01
         ],
         [
          828.99,
          804.73
         ],
         [
          795.01,
          771.01
         ],
         [
          795.01,
          768.76
         ],
         [
          771.01,
          789.92
         ],
         [
          771.01,
          750.95
         ],
         [
          789.92,
          696.21
         ],
         [
          789.92,
          843.32
         ],
         [
          789.92,
          873.39
         ],
         [
          789.92,
          780.29
         ],
         [
          696.21,
          680.46
         ],
         [
          696.21,
          619.29
         ],
         [
          696.21,
          656.2
         ],
         [
          696.21,
          705.62
         ],
         [
          843.32,
          819.69
         ],
         [
          843.32,
          874.85
         ],
         [
          843.32,
          869.15
         ],
         [
          843.32,
          828.56
         ],
         [
          874.85,
          857.37
         ],
         [
          874.85,
          905.69
         ],
         [
          874.85,
          885.79
         ],
         [
          869.15,
          858.39
         ],
         [
          869.15,
          918.48
         ],
         [
          869.15,
          873.39
         ],
         [
          869.15,
          880.81
         ],
         [
          869.15,
          842.78
         ],
         [
          918.48,
          946.43
         ],
         [
          918.48,
          939.18
         ],
         [
          946.43,
          936.25
         ],
         [
          946.43,
          972.86
         ],
         [
          905.69,
          825.02
         ],
         [
          905.69,
          922.23
         ],
         [
          936.25,
          969.91
         ],
         [
          936.25,
          873.39
         ],
         [
          936.25,
          962.19
         ],
         [
          873.39,
          853.47
         ],
         [
          873.39,
          915.07
         ],
         [
          873.39,
          888.85
         ],
         [
          873.39,
          893.51
         ],
         [
          893.9,
          830.9
         ],
         [
          893.9,
          913.35
         ],
         [
          813.07,
          801.3
         ],
         [
          813.07,
          831.35
         ],
         [
          813.07,
          830.9
         ],
         [
          813.07,
          753.16
         ],
         [
          813.07,
          784.26
         ],
         [
          813.74,
          831.35
         ],
         [
          813.74,
          830.9
         ],
         [
          813.74,
          788.5
         ],
         [
          831.35,
          858.03
         ],
         [
          831.35,
          834.68
         ],
         [
          830.9,
          825.02
         ],
         [
          830.9,
          818.02
         ],
         [
          830.9,
          776.96
         ],
         [
          830.9,
          853.66
         ],
         [
          825.02,
          732.91
         ],
         [
          825.02,
          855.64
         ],
         [
          818.02,
          776.96
         ],
         [
          818.02,
          840.88
         ],
         [
          776.96,
          769.23
         ],
         [
          776.96,
          749.05
         ],
         [
          776.96,
          713.11
         ],
         [
          776.96,
          775.96
         ],
         [
          749.05,
          713.11
         ],
         [
          749.05,
          765.5
         ],
         [
          713.11,
          700.04
         ],
         [
          713.11,
          643.56
         ],
         [
          713.11,
          698.13
         ],
         [
          753.16,
          701.8
         ],
         [
          753.16,
          736.35
         ],
         [
          701.8,
          656.2
         ],
         [
          701.8,
          693.2
         ],
         [
          656.2,
          610.13
         ],
         [
          656.2,
          643.56
         ],
         [
          656.2,
          658.65
         ],
         [
          610.13,
          582.81
         ],
         [
          610.13,
          611.12
         ],
         [
          610.13,
          606.72
         ],
         [
          610.13,
          574.04
         ],
         [
          611.12,
          643.56
         ],
         [
          611.12,
          588.6
         ],
         [
          611.12,
          585.36
         ],
         [
          606.72,
          643.56
         ],
         [
          606.72,
          574.27
         ],
         [
          643.56,
          631.12
         ],
         [
          643.56,
          631.17
         ],
         [
          643.56,
          615.83
         ],
         [
          643.56,
          663.35
         ],
         [
          643.56,
          711.86
         ],
         [
          643.56,
          588.6
         ],
         [
          643.56,
          657.29
         ],
         [
          631.17,
          636.43
         ],
         [
          631.17,
          599.63
         ],
         [
          615.83,
          588.15
         ],
         [
          615.83,
          630.53
         ],
         [
          615.83,
          581.46
         ],
         [
          588.15,
          617.36
         ],
         [
          588.15,
          562.85
         ],
         [
          617.36,
          663.35
         ],
         [
          617.36,
          598.42
         ],
         [
          663.35,
          681.4
         ],
         [
          663.35,
          687.35
         ],
         [
          663.35,
          665.33
         ],
         [
          663.35,
          715.87
         ],
         [
          663.35,
          653.13
         ],
         [
          687.35,
          694.06
         ],
         [
          687.35,
          665.33
         ],
         [
          687.35,
          715.87
         ],
         [
          687.35,
          708.55
         ],
         [
          665.33,
          670.89
         ],
         [
          665.33,
          636.43
         ],
         [
          665.33,
          630.53
         ],
         [
          665.33,
          715.87
         ],
         [
          665.33,
          652.55
         ],
         [
          636.43,
          607.58
         ],
         [
          630.53,
          622.61
         ],
         [
          715.87,
          736.95
         ],
         [
          715.87,
          751.27
         ],
         [
          715.87,
          763.94
         ],
         [
          715.87,
          748.18
         ],
         [
          715.87,
          719.38
         ],
         [
          751.27,
          763.94
         ],
         [
          751.27,
          752.65
         ],
         [
          751.27,
          767.7
         ],
         [
          763.94,
          786.41
         ],
         [
          763.94,
          752.65
         ],
         [
          763.94,
          755.85
         ],
         [
          763.94,
          803.65
         ],
         [
          752.65,
          786.34
         ],
         [
          752.65,
          711.86
         ],
         [
          752.65,
          726.76
         ],
         [
          752.65,
          791.19
         ],
         [
          748.18,
          755.85
         ],
         [
          748.18,
          778.97
         ],
         [
          755.85,
          732.91
         ],
         [
          755.85,
          789.9
         ],
         [
          732.91,
          756.53
         ],
         [
          732.91,
          711.86
         ],
         [
          732.91,
          619.16
         ],
         [
          732.91,
          780.57
         ],
         [
          711.86,
          696.15
         ],
         [
          711.86,
          726.76
         ],
         [
          711.86,
          733.34
         ],
         [
          726.76,
          721.9
         ],
         [
          619.16,
          588.6
         ],
         [
          619.16,
          518.12
         ],
         [
          619.16,
          577.27
         ],
         [
          619.16,
          627.87
         ],
         [
          588.6,
          591.34
         ],
         [
          588.6,
          619.29
         ],
         [
          588.6,
          561.07
         ],
         [
          588.6,
          490.44
         ],
         [
          588.6,
          565.17
         ],
         [
          619.29,
          645.28
         ],
         [
          619.29,
          620.14
         ],
         [
          619.29,
          580.95
         ],
         [
          619.29,
          561.07
         ],
         [
          619.29,
          622.4
         ],
         [
          620.14,
          656.2
         ],
         [
          620.14,
          601.41
         ],
         [
          620.14,
          602.18
         ],
         [
          656.2,
          667.56
         ],
         [
          656.2,
          644.31
         ],
         [
          601.41,
          602.28
         ],
         [
          601.41,
          578.63
         ],
         [
          580.95,
          581.27
         ],
         [
          580.95,
          561.07
         ],
         [
          580.95,
          560.17
         ],
         [
          561.07,
          490.44
         ],
         [
          561.07,
          529.78
         ],
         [
          561.07,
          572
         ],
         [
          496.42,
          493.49
         ],
         [
          496.42,
          490.44
         ],
         [
          496.42,
          529.78
         ],
         [
          496.42,
          475.1
         ],
         [
          490.44,
          479.21
         ],
         [
          490.44,
          461.26
         ],
         [
          490.44,
          419.27
         ],
         [
          490.44,
          398.83
         ],
         [
          490.44,
          504.02
         ],
         [
          461.26,
          435.4
         ],
         [
          461.26,
          455.25
         ],
         [
          435.4,
          419.27
         ],
         [
          435.4,
          432.78
         ],
         [
          419.27,
          410.2
         ],
         [
          419.27,
          518.12
         ],
         [
          419.27,
          361.71
         ],
         [
          419.27,
          388.06
         ],
         [
          419.27,
          354.03
         ],
         [
          419.27,
          342.18
         ],
         [
          419.27,
          421.65
         ],
         [
          518.12,
          507.49
         ],
         [
          398.83,
          326.78
         ],
         [
          398.83,
          361.71
         ],
         [
          398.83,
          388.76
         ],
         [
          326.78,
          295.41
         ],
         [
          326.78,
          259
         ],
         [
          326.78,
          333.24
         ],
         [
          295.41,
          259
         ],
         [
          295.41,
          298.04
         ],
         [
          259,
          265.04
         ],
         [
          259,
          218.47
         ],
         [
          259,
          223.57
         ],
         [
          259,
          225.17
         ],
         [
          259,
          240.69
         ],
         [
          218.47,
          181.43
         ],
         [
          218.47,
          211.19
         ],
         [
          181.43,
          150.94
         ],
         [
          181.43,
          169
         ],
         [
          223.57,
          225.17
         ],
         [
          223.57,
          194.81
         ],
         [
          225.17,
          183.59
         ],
         [
          225.17,
          211.22
         ],
         [
          225.17,
          240.95
         ],
         [
          225.17,
          197.5
         ],
         [
          211.22,
          238.73
         ],
         [
          211.22,
          193.86
         ],
         [
          211.22,
          199.72
         ],
         [
          193.86,
          166.1
         ],
         [
          193.86,
          240.95
         ],
         [
          193.86,
          156.15
         ],
         [
          240.95,
          216.92
         ],
         [
          240.95,
          266.31
         ],
         [
          240.95,
          296.13
         ],
         [
          240.95,
          274.05
         ],
         [
          240.95,
          211.39
         ],
         [
          240.95,
          220.63
         ],
         [
          266.31,
          296.13
         ],
         [
          266.31,
          262.98
         ],
         [
          296.13,
          324.79
         ],
         [
          296.13,
          361.71
         ],
         [
          296.13,
          274.05
         ],
         [
          296.13,
          289.61
         ],
         [
          324.79,
          361.71
         ],
         [
          324.79,
          318
         ],
         [
          361.71,
          388.06
         ],
         [
          361.71,
          354.23
         ],
         [
          388.06,
          390.69
         ],
         [
          354.03,
          274.05
         ],
         [
          354.03,
          368.7
         ],
         [
          342.18,
          341.56
         ],
         [
          342.18,
          274.05
         ],
         [
          342.18,
          321.7
         ],
         [
          274.05,
          264.2
         ],
         [
          274.05,
          231.25
         ],
         [
          274.05,
          207.82
         ],
         [
          274.05,
          238.59
         ],
         [
          274.05,
          261.96
         ],
         [
          274.05,
          292.19
         ],
         [
          231.25,
          211.39
         ],
         [
          231.25,
          200.58
         ],
         [
          211.39,
          176.48
         ],
         [
          207.82,
          176.56
         ],
         [
          207.82,
          238.59
         ],
         [
          207.82,
          232.8
         ],
         [
          207.82,
          143.73
         ],
         [
          207.82,
          179.91
         ],
         [
          238.59,
          217.46
         ],
         [
          238.59,
          232.8
         ],
         [
          238.59,
          226.83
         ],
         [
          232.8,
          250.7
         ],
         [
          232.8,
          261.96
         ],
         [
          232.8,
          249.45
         ],
         [
          232.8,
          196.03
         ],
         [
          232.8,
          262.08
         ],
         [
          261.96,
          249.45
         ],
         [
          261.96,
          286.2
         ],
         [
          249.45,
          238.42
         ],
         [
          249.45,
          267.27
         ],
         [
          196.03,
          160.19
         ],
         [
          196.03,
          188.64
         ],
         [
          160.19,
          143.73
         ],
         [
          160.19,
          145.96
         ],
         [
          143.73,
          138.1
         ],
         [
          143.73,
          103.27
         ],
         [
          143.73,
          92.662
         ],
         [
          143.73,
          119.31
         ],
         [
          103.27,
          87.963
         ],
         [
          103.27,
          71.985
         ],
         [
          92.662,
          64.904
         ],
         [
          92.662,
          59.402
         ],
         [
          915.07,
          921.3
         ],
         [
          915.07,
          906.19
         ],
         [
          888.85,
          880.81
         ],
         [
          888.85,
          905.51
         ],
         [
          880.81,
          883.64
         ],
         [
          577.27,
          549.39
         ],
         [
          577.27,
          550.62
         ],
         [
          1093.6,
          1112.5
         ],
         [
          529.78,
          526.1
         ]
        ]
       },
       "y": {
        "type": "float",
        "values": [
         [
          324.05,
          320.62
         ],
         [
          324.05,
          327.16
         ],
         [
          324.05,
          302.78
         ],
         [
          324.05,
          345.37
         ],
         [
          327.16,
          302.07
         ],
         [
          327.16,
          351.44
         ],
         [
          302.78,
          282.93
         ],
         [
          302.78,
          302.07
         ],
         [
          302.78,
          298.64
         ],
         [
          259.38,
          237.6
         ],
         [
          259.38,
          282.93
         ],
         [
          259.38,
          267.16
         ],
         [
          259.38,
          254.51
         ],
         [
          282.93,
          241.2
         ],
         [
          282.93,
          320.32
         ],
         [
          282.93,
          267.16
         ],
         [
          282.93,
          261.5
         ],
         [
          241.2,
          214.69
         ],
         [
          241.2,
          278.84
         ],
         [
          241.2,
          205.65
         ],
         [
          278.84,
          302.07
         ],
         [
          278.84,
          279.02
         ],
         [
          320.32,
          346.3
         ],
         [
          320.32,
          377.99
         ],
         [
          320.32,
          297.29
         ],
         [
          320.32,
          346.61
         ],
         [
          377.99,
          425.18
         ],
         [
          377.99,
          397.85
         ],
         [
          425.18,
          447.94
         ],
         [
          425.18,
          457.44
         ],
         [
          267.16,
          302.07
         ],
         [
          267.16,
          272.94
         ],
         [
          267.16,
          234.24
         ],
         [
          302.07,
          330.12
         ],
         [
          302.07,
          301.1
         ],
         [
          302.07,
          259.46
         ],
         [
          302.07,
          345.22
         ],
         [
          302.07,
          316.13
         ],
         [
          272.94,
          291.76
         ],
         [
          272.94,
          243.09
         ],
         [
          301.1,
          291.76
         ],
         [
          301.1,
          318.76
         ],
         [
          291.76,
          304.4
         ],
         [
          291.76,
          235.45
         ],
         [
          291.76,
          281.68
         ],
         [
          291.76,
          345.19
         ],
         [
          291.76,
          274.56
         ],
         [
          259.46,
          235.45
         ],
         [
          259.46,
          228.86
         ],
         [
          235.45,
          254.61
         ],
         [
          235.45,
          297.29
         ],
         [
          235.45,
          161.11
         ],
         [
          235.45,
          180.61
         ],
         [
          235.45,
          213.89
         ],
         [
          254.61,
          232.37
         ],
         [
          254.61,
          281.68
         ],
         [
          254.61,
          249.04
         ],
         [
          281.68,
          260.28
         ],
         [
          281.68,
          243.13
         ],
         [
          281.68,
          326.25
         ],
         [
          281.68,
          299.46
         ],
         [
          243.13,
          206.5
         ],
         [
          243.13,
          235.8
         ],
         [
          206.5,
          172.32
         ],
         [
          206.5,
          200.77
         ],
         [
          172.32,
          165.26
         ],
         [
          172.32,
          145.37
         ],
         [
          165.26,
          209.06
         ],
         [
          165.26,
          156.41
         ],
         [
          165.26,
          138.58
         ],
         [
          165.26,
          130.94
         ],
         [
          209.06,
          192.31
         ],
         [
          209.06,
          276.63
         ],
         [
          209.06,
          180.75
         ],
         [
          209.06,
          183.73
         ],
         [
          156.41,
          143.77
         ],
         [
          156.41,
          223.32
         ],
         [
          156.41,
          95.966
         ],
         [
          156.41,
          124.06
         ],
         [
          223.32,
          204.99
         ],
         [
          223.32,
          297.29
         ],
         [
          223.32,
          199.32
         ],
         [
          95.966,
          57.49
         ],
         [
          95.966,
          80.639
         ],
         [
          95.966,
          138.58
         ],
         [
          95.966,
          54.713
         ],
         [
          95.966,
          72.711
         ],
         [
          80.639,
          108.55
         ],
         [
          80.639,
          49.948
         ],
         [
          108.55,
          161.11
         ],
         [
          108.55,
          83.684
         ],
         [
          297.29,
          368.03
         ],
         [
          297.29,
          321.44
         ],
         [
          161.11,
          156.12
         ],
         [
          161.11,
          138.58
         ],
         [
          161.11,
          135.11
         ],
         [
          138.58,
          115.47
         ],
         [
          138.58,
          180.61
         ],
         [
          138.58,
          84.403
         ],
         [
          138.58,
          119.26
         ],
         [
          345.19,
          380.46
         ],
         [
          345.19,
          370.45
         ],
         [
          326.25,
          297.94
         ],
         [
          326.25,
          335.04
         ],
         [
          326.25,
          380.46
         ],
         [
          326.25,
          349.2
         ],
         [
          326.25,
          315.77
         ],
         [
          358.24,
          335.04
         ],
         [
          358.24,
          380.46
         ],
         [
          358.24,
          358.39
         ],
         [
          335.04,
          339.43
         ],
         [
          335.04,
          310.08
         ],
         [
          380.46,
          368.03
         ],
         [
          380.46,
          418.54
         ],
         [
          380.46,
          420.3
         ],
         [
          380.46,
          408.32
         ],
         [
          368.03,
          430.36
         ],
         [
          368.03,
          382.69
         ],
         [
          418.54,
          420.3
         ],
         [
          418.54,
          445.05
         ],
         [
          420.3,
          394.39
         ],
         [
          420.3,
          449.15
         ],
         [
          420.3,
          449.59
         ],
         [
          420.3,
          449.77
         ],
         [
          449.15,
          449.59
         ],
         [
          449.15,
          473.09
         ],
         [
          449.59,
          429.53
         ],
         [
          449.59,
          477.25
         ],
         [
          449.59,
          466.62
         ],
         [
          349.2,
          384.51
         ],
         [
          349.2,
          328.13
         ],
         [
          384.51,
          432.28
         ],
         [
          384.51,
          358.64
         ],
         [
          432.28,
          456.93
         ],
         [
          432.28,
          477.25
         ],
         [
          432.28,
          408.83
         ],
         [
          456.93,
          480.6
         ],
         [
          456.93,
          429.76
         ],
         [
          456.93,
          484.56
         ],
         [
          456.93,
          463.06
         ],
         [
          429.76,
          477.25
         ],
         [
          429.76,
          372.73
         ],
         [
          429.76,
          436.61
         ],
         [
          484.56,
          477.25
         ],
         [
          484.56,
          504.43
         ],
         [
          477.25,
          495.64
         ],
         [
          477.25,
          527.27
         ],
         [
          477.25,
          550.41
         ],
         [
          477.25,
          569.97
         ],
         [
          477.25,
          494.97
         ],
         [
          477.25,
          372.73
         ],
         [
          477.25,
          497.16
         ],
         [
          527.27,
          573.09
         ],
         [
          527.27,
          533.91
         ],
         [
          550.41,
          593.85
         ],
         [
          550.41,
          599.14
         ],
         [
          550.41,
          562.31
         ],
         [
          593.85,
          608.25
         ],
         [
          593.85,
          620.43
         ],
         [
          608.25,
          569.97
         ],
         [
          608.25,
          644.14
         ],
         [
          569.97,
          584.14
         ],
         [
          569.97,
          615.38
         ],
         [
          569.97,
          611.12
         ],
         [
          569.97,
          598.71
         ],
         [
          569.97,
          595.19
         ],
         [
          615.38,
          655.97
         ],
         [
          615.38,
          611.12
         ],
         [
          615.38,
          598.71
         ],
         [
          615.38,
          615.87
         ],
         [
          611.12,
          652.05
         ],
         [
          611.12,
          573.09
         ],
         [
          611.12,
          599.14
         ],
         [
          611.12,
          598.71
         ],
         [
          611.12,
          649.04
         ],
         [
          573.09,
          584.69
         ],
         [
          599.14,
          637.22
         ],
         [
          598.71,
          632.25
         ],
         [
          598.71,
          596.63
         ],
         [
          598.71,
          576.04
         ],
         [
          598.71,
          567.08
         ],
         [
          598.71,
          640.01
         ],
         [
          596.63,
          576.04
         ],
         [
          596.63,
          547.07
         ],
         [
          596.63,
          634.35
         ],
         [
          576.04,
          612.35
         ],
         [
          576.04,
          547.07
         ],
         [
          576.04,
          513.57
         ],
         [
          576.04,
          595.05
         ],
         [
          547.07,
          543.97
         ],
         [
          547.07,
          494.97
         ],
         [
          547.07,
          533.36
         ],
         [
          547.07,
          562.46
         ],
         [
          567.08,
          513.57
         ],
         [
          567.08,
          589.42
         ],
         [
          513.57,
          430.36
         ],
         [
          513.57,
          515.22
         ],
         [
          430.36,
          426.15
         ],
         [
          430.36,
          494.97
         ],
         [
          430.36,
          394.46
         ],
         [
          430.36,
          436.82
         ],
         [
          494.97,
          513.18
         ],
         [
          494.97,
          533.36
         ],
         [
          494.97,
          499.87
         ],
         [
          533.36,
          558.54
         ],
         [
          394.46,
          372.73
         ],
         [
          394.46,
          361.09
         ],
         [
          394.46,
          408.22
         ],
         [
          394.46,
          370.26
         ],
         [
          372.73,
          347.48
         ],
         [
          372.73,
          276.63
         ],
         [
          372.73,
          316.56
         ],
         [
          372.73,
          346.27
         ],
         [
          372.73,
          366.53
         ],
         [
          276.63,
          272.45
         ],
         [
          276.63,
          207.22
         ],
         [
          276.63,
          275.7
         ],
         [
          276.63,
          316.56
         ],
         [
          276.63,
          249.74
         ],
         [
          207.22,
          180.75
         ],
         [
          207.22,
          156.6
         ],
         [
          207.22,
          185.93
         ],
         [
          180.75,
          148.34
         ],
         [
          180.75,
          149.29
         ],
         [
          156.6,
          121.96
         ],
         [
          156.6,
          131.76
         ],
         [
          275.7,
          244.82
         ],
         [
          275.7,
          316.56
         ],
         [
          275.7,
          253.2
         ],
         [
          316.56,
          346.27
         ],
         [
          316.56,
          291.73
         ],
         [
          316.56,
          299.05
         ],
         [
          298.22,
          265.6
         ],
         [
          298.22,
          346.27
         ],
         [
          298.22,
          291.73
         ],
         [
          298.22,
          276.84
         ],
         [
          346.27,
          373.78
         ],
         [
          346.27,
          337.49
         ],
         [
          346.27,
          321.42
         ],
         [
          346.27,
          376.94
         ],
         [
          346.27,
          333.99
         ],
         [
          337.49,
          348.88
         ],
         [
          337.49,
          312.88
         ],
         [
          348.88,
          321.42
         ],
         [
          348.88,
          378.65
         ],
         [
          321.42,
          342.73
         ],
         [
          321.42,
          361.09
         ],
         [
          321.42,
          335.31
         ],
         [
          321.42,
          317.62
         ],
         [
          321.42,
          277.9
         ],
         [
          321.42,
          283.86
         ],
         [
          321.42,
          291.32
         ],
         [
          361.09,
          383.6
         ],
         [
          376.94,
          421.26
         ],
         [
          376.94,
          335.31
         ],
         [
          376.94,
          406.34
         ],
         [
          421.26,
          448.85
         ],
         [
          421.26,
          445.87
         ],
         [
          421.26,
          447.73
         ],
         [
          448.85,
          445.87
         ],
         [
          448.85,
          478.91
         ],
         [
          445.87,
          477.43
         ],
         [
          445.87,
          493.08
         ],
         [
          445.87,
          435.99
         ],
         [
          445.87,
          397.23
         ],
         [
          445.87,
          469.95
         ],
         [
          493.08,
          525.55
         ],
         [
          493.08,
          520.34
         ],
         [
          525.55,
          534.68
         ],
         [
          525.55,
          555.77
         ],
         [
          435.99,
          397.23
         ],
         [
          435.99,
          455.51
         ],
         [
          397.23,
          399.08
         ],
         [
          397.23,
          377.92
         ],
         [
          397.23,
          324.07
         ],
         [
          397.23,
          420.16
         ],
         [
          377.92,
          383.45
         ],
         [
          377.92,
          349.7
         ],
         [
          377.92,
          395.27
         ],
         [
          349.7,
          340.6
         ],
         [
          349.7,
          324.07
         ],
         [
          349.7,
          360.11
         ],
         [
          324.07,
          318.01
         ],
         [
          324.07,
          318.07
         ],
         [
          324.07,
          311.57
         ],
         [
          324.07,
          255.8
         ],
         [
          324.07,
          293.09
         ],
         [
          324.07,
          339.87
         ],
         [
          318.07,
          311.57
         ],
         [
          318.07,
          298.75
         ],
         [
          311.57,
          333.52
         ],
         [
          311.57,
          335.31
         ],
         [
          311.57,
          255.8
         ],
         [
          311.57,
          333.48
         ],
         [
          333.52,
          335.31
         ],
         [
          333.52,
          360.4
         ],
         [
          335.31,
          317.62
         ],
         [
          335.31,
          361.32
         ],
         [
          317.62,
          292.23
         ],
         [
          277.9,
          255.8
         ],
         [
          277.9,
          248.71
         ],
         [
          283.86,
          249.77
         ],
         [
          283.86,
          255.8
         ],
         [
          283.86,
          265.37
         ],
         [
          255.8,
          233.57
         ],
         [
          255.8,
          266.31
         ],
         [
          255.8,
          199.45
         ],
         [
          255.8,
          208.95
         ],
         [
          255.8,
          189.86
         ],
         [
          255.8,
          233.77
         ],
         [
          266.31,
          293.09
         ],
         [
          266.31,
          260.4
         ],
         [
          293.09,
          288.95
         ],
         [
          199.45,
          211.94
         ],
         [
          199.45,
          208.95
         ],
         [
          199.45,
          163.09
         ],
         [
          199.45,
          156.45
         ],
         [
          199.45,
          184.95
         ],
         [
          208.95,
          224.77
         ],
         [
          208.95,
          163.09
         ],
         [
          208.95,
          184.49
         ],
         [
          163.09,
          128.09
         ],
         [
          163.09,
          189.86
         ],
         [
          163.09,
          141.82
         ],
         [
          163.09,
          126.19
         ],
         [
          163.09,
          153.75
         ],
         [
          189.86,
          141.82
         ],
         [
          189.86,
          171.02
         ],
         [
          141.82,
          105.67
         ],
         [
          141.82,
          106.36
         ],
         [
          126.19,
          119.14
         ],
         [
          126.19,
          93.428
         ],
         [
          119.14,
          156.45
         ],
         [
          119.14,
          87.605
         ],
         [
          156.45,
          130
         ],
         [
          156.45,
          124.22
         ],
         [
          156.45,
          164.99
         ],
         [
          156.45,
          155.15
         ],
         [
          124.22,
          94.411
         ],
         [
          124.22,
          116.3
         ],
         [
          164.99,
          181.75
         ],
         [
          164.99,
          155.95
         ],
         [
          180.61,
          148.4
         ],
         [
          180.61,
          166.38
         ],
         [
          84.403,
          54.713
         ],
         [
          84.403,
          50.205
         ],
         [
          54.713,
          18
         ],
         [
          408.22,
          404.83
         ],
         [
          408.22,
          427.86
         ],
         [
          345.22,
          374.44
         ],
         [
          291.73,
          262.07
         ]
        ]
       }
      }
     },
     "2b8fe8e0573042fa8c20078316645d3e": {
      "model_module": "bqplot",
      "model_module_version": "^0.2.3",
      "model_name": "LinearScaleModel",
      "state": {
       "max": 1246,
       "min": 1063.9,
       "stabilized": false
      }
     },
     "2c2ca5950e7a497ba910f3e69efa7577": {
      "model_module": "bqplot",
      "model_module_version": "^0.2.3",
      "model_name": "ScatterModel",
      "state": {
       "_model_module": "bqplot",
       "_model_module_version": "^0.2.3",
       "_view_count": null,
       "_view_module": "bqplot",
       "_view_module_version": "^0.2.3",
       "apply_clip": true,
       "color": {
        "type": null,
        "values": null
       },
       "colors": [
        "DeepSkyBlue"
       ],
       "default_opacities": [
        0.6
       ],
       "default_size": 180,
       "display_legend": false,
       "enable_hover": true,
       "hovered_style": {},
       "interactions": {
        "hover": "tooltip"
       },
       "labels": [],
       "marker": "rectangle",
       "names": {
        "type": "<U6",
        "values": [
         "Bus110",
         "Bus112"
        ]
       },
       "opacity": {
        "type": null,
        "values": null
       },
       "preserve_domain": {},
       "rotation": {
        "type": null,
        "values": null
       },
       "scales": {
        "x": "IPY_MODEL_c154051cb98e451cbd2e9cda8957154b",
        "y": "IPY_MODEL_ed3882f3df2042ac8b26041ddf8939a9"
       },
       "scales_metadata": {
        "color": {
         "dimension": "color"
        },
        "opacity": {
         "dimension": "opacity"
        },
        "size": {
         "dimension": "size"
        },
        "x": {
         "dimension": "x",
         "orientation": "horizontal"
        },
        "y": {
         "dimension": "y",
         "orientation": "vertical"
        }
       },
       "selected": [
        1
       ],
       "selected_style": {
        "fill": "RoyalBlue",
        "opacity": 0.8,
        "stroke": "Blue"
       },
       "size": {
        "type": null,
        "values": null
       },
       "skew": {
        "type": null,
        "values": null
       },
       "tooltip": "IPY_MODEL_0e25d0838f8f40439d9586d4ce59f002",
       "tooltip_location": "mouse",
       "tooltip_style": {
        "opacity": 0.9
       },
       "unhovered_style": {},
       "unselected_style": {},
       "visible": true,
       "x": {
        "type": "float",
        "values": [
         143.73,
         92.662
        ]
       },
       "y": {
        "type": "float",
        "values": [
         156.45,
         164.99
        ]
       }
      }
     },
     "2c9888f163c345a28e2f9192ea216f72": {
      "model_module": "@jupyter-widgets/controls",
      "model_module_version": "1.0.0",
      "model_name": "VBoxModel",
      "state": {
       "children": [
        "IPY_MODEL_40d2bbd486894bcd965ddd586ee8e3ed",
        "IPY_MODEL_eb454847e66c4b42b20a08d95b6b552f"
       ],
       "layout": "IPY_MODEL_467fff3869694c638fcd8c5bae3982da"
      }
     },
     "2d7635ab77e34c96ac63654f5f2e1233": {
      "model_module": "@jupyter-widgets/base",
      "model_module_version": "1.0.0",
      "model_name": "LayoutModel",
      "state": {}
     },
     "2df0296042c24e8680c8e83889289768": {
      "model_module": "@jupyter-widgets/controls",
      "model_module_version": "1.0.0",
      "model_name": "DescriptionStyleModel",
      "state": {
       "description_width": ""
      }
     },
     "2df6322d5ccf40d68500c9cee5996195": {
      "model_module": "@jupyter-widgets/base",
      "model_module_version": "1.0.0",
      "model_name": "LayoutModel",
      "state": {}
     },
     "2e10f8c4559e489a8819b15d9adbad3b": {
      "model_module": "@jupyter-widgets/controls",
      "model_module_version": "1.0.0",
      "model_name": "DescriptionStyleModel",
      "state": {
       "description_width": ""
      }
     },
     "2e34e6bff3c84130a1d4289eb2de8bfd": {
      "model_module": "bqplot",
      "model_module_version": "^0.2.3",
      "model_name": "LinearScaleModel",
      "state": {
       "max": 1246,
       "min": 1063.9,
       "stabilized": false
      }
     },
     "2e717283202d4547b040d1f48f1fc4b3": {
      "model_module": "@jupyter-widgets/controls",
      "model_module_version": "1.0.0",
      "model_name": "CheckboxModel",
      "state": {
       "description": "Show loads",
       "disabled": false,
       "indent": false,
       "layout": "IPY_MODEL_f3e2a07217cf4b3faa6f06ce8af515a7",
       "style": "IPY_MODEL_dd825c954c93428aa9ab85daa8d1d813",
       "value": true
      }
     },
     "2e7963880e2b40e4b2a6b3e2bcb82a43": {
      "model_module": "@jupyter-widgets/controls",
      "model_module_version": "1.0.0",
      "model_name": "CheckboxModel",
      "state": {
       "description": "Show bus names",
       "disabled": false,
       "indent": false,
       "layout": "IPY_MODEL_e0d9c46c256a4095a834cade87aa1056",
       "style": "IPY_MODEL_4e0a3e0cf33e4976a00d278fa963392e",
       "value": true
      }
     },
     "3055fed526524e2fa8619bb24146b67a": {
      "model_module": "bqplot",
      "model_module_version": "^0.2.3",
      "model_name": "LinesModel",
      "state": {
       "color": {
        "type": null,
        "values": null
       },
       "colors": [
        "Orange"
       ],
       "display_legend": false,
       "fill_colors": [],
       "labels": [
        "C1"
       ],
       "opacities": [
        0.8
       ],
       "scales": {
        "x": "IPY_MODEL_ea5ac8e5f71a47a0bb757eb8b8730beb",
        "y": "IPY_MODEL_1f83238fb0904ec79cc1bd5e7dec7a9a"
       },
       "selected": [],
       "stroke_width": 1.5,
       "x": {
        "type": "float",
        "values": [
         92.662,
         59.402
        ]
       },
       "y": {
        "type": "float",
        "values": [
         164.99,
         155.95
        ]
       }
      }
     },
     "310cd86247a24414af376096304703e3": {
      "model_module": "@jupyter-widgets/base",
      "model_module_version": "1.0.0",
      "model_name": "LayoutModel",
      "state": {
       "min_width": "125px"
      }
     },
     "34138cdf85884af69dd60edb8097079a": {
      "model_module": "@jupyter-widgets/controls",
      "model_module_version": "1.0.0",
      "model_name": "DescriptionStyleModel",
      "state": {
       "description_width": ""
      }
     },
     "342b95eeab9c477689bc93254eddf240": {
      "model_module": "@jupyter-widgets/controls",
      "model_module_version": "1.0.0",
      "model_name": "DescriptionStyleModel",
      "state": {
       "description_width": ""
      }
     },
     "34b742d0677948498a32de21b24ebd7d": {
      "model_module": "bqplot",
      "model_module_version": "^0.2.3",
      "model_name": "LinesModel",
      "state": {
       "color": {
        "type": null,
        "values": null
       },
       "colors": [
        "gray"
       ],
       "display_legend": false,
       "fill_colors": [],
       "labels": [
        "C1",
        "C2",
        "C3",
        "C4",
        "C5",
        "C6",
        "C7",
        "C8",
        "C9",
        "C10",
        "C11",
        "C12",
        "C13",
        "C14",
        "C15",
        "C16",
        "C17",
        "C18",
        "C19",
        "C20",
        "C21",
        "C22",
        "C23",
        "C24",
        "C25",
        "C26",
        "C27",
        "C28",
        "C29",
        "C30",
        "C31",
        "C32",
        "C33",
        "C34",
        "C35",
        "C36",
        "C37",
        "C38",
        "C39",
        "C40",
        "C41",
        "C42",
        "C43",
        "C44",
        "C45",
        "C46",
        "C47",
        "C48",
        "C49",
        "C50",
        "C51",
        "C52",
        "C53",
        "C54",
        "C55",
        "C56",
        "C57",
        "C58",
        "C59",
        "C60",
        "C61",
        "C62",
        "C63",
        "C64",
        "C65",
        "C66",
        "C67",
        "C68",
        "C69",
        "C70",
        "C71",
        "C72",
        "C73",
        "C74",
        "C75",
        "C76",
        "C77",
        "C78",
        "C79",
        "C80",
        "C81",
        "C82",
        "C83",
        "C84",
        "C85",
        "C86",
        "C87",
        "C88",
        "C89",
        "C90",
        "C91",
        "C92",
        "C93",
        "C94",
        "C95",
        "C96",
        "C97",
        "C98",
        "C99",
        "C100",
        "C101",
        "C102",
        "C103",
        "C104",
        "C105",
        "C106",
        "C107",
        "C108",
        "C109",
        "C110",
        "C111",
        "C112",
        "C113",
        "C114",
        "C115",
        "C116",
        "C117",
        "C118",
        "C119",
        "C120",
        "C121",
        "C122",
        "C123",
        "C124",
        "C125",
        "C126",
        "C127",
        "C128",
        "C129",
        "C130",
        "C131",
        "C132",
        "C133",
        "C134",
        "C135",
        "C136",
        "C137",
        "C138",
        "C139",
        "C140",
        "C141",
        "C142",
        "C143",
        "C144",
        "C145",
        "C146",
        "C147",
        "C148",
        "C149",
        "C150",
        "C151",
        "C152",
        "C153",
        "C154",
        "C155",
        "C156",
        "C157",
        "C158",
        "C159",
        "C160",
        "C161",
        "C162",
        "C163",
        "C164",
        "C165",
        "C166",
        "C167",
        "C168",
        "C169",
        "C170",
        "C171",
        "C172",
        "C173",
        "C174",
        "C175",
        "C176",
        "C177",
        "C178",
        "C179",
        "C180",
        "C181",
        "C182",
        "C183",
        "C184",
        "C185",
        "C186",
        "C187",
        "C188",
        "C189",
        "C190",
        "C191",
        "C192",
        "C193",
        "C194",
        "C195",
        "C196",
        "C197",
        "C198",
        "C199",
        "C200",
        "C201",
        "C202",
        "C203",
        "C204",
        "C205",
        "C206",
        "C207",
        "C208",
        "C209",
        "C210",
        "C211",
        "C212",
        "C213",
        "C214",
        "C215",
        "C216",
        "C217",
        "C218",
        "C219",
        "C220",
        "C221",
        "C222",
        "C223",
        "C224",
        "C225",
        "C226",
        "C227",
        "C228",
        "C229",
        "C230",
        "C231",
        "C232",
        "C233",
        "C234",
        "C235",
        "C236",
        "C237",
        "C238",
        "C239",
        "C240",
        "C241",
        "C242",
        "C243",
        "C244",
        "C245",
        "C246",
        "C247",
        "C248",
        "C249",
        "C250",
        "C251",
        "C252",
        "C253",
        "C254",
        "C255",
        "C256",
        "C257",
        "C258",
        "C259",
        "C260",
        "C261",
        "C262",
        "C263",
        "C264",
        "C265",
        "C266",
        "C267",
        "C268",
        "C269",
        "C270",
        "C271",
        "C272",
        "C273",
        "C274",
        "C275",
        "C276",
        "C277",
        "C278",
        "C279",
        "C280",
        "C281",
        "C282",
        "C283",
        "C284",
        "C285",
        "C286",
        "C287",
        "C288",
        "C289",
        "C290",
        "C291",
        "C292",
        "C293",
        "C294",
        "C295",
        "C296",
        "C297",
        "C298",
        "C299",
        "C300",
        "C301",
        "C302",
        "C303",
        "C304",
        "C305",
        "C306",
        "C307",
        "C308",
        "C309",
        "C310",
        "C311",
        "C312",
        "C313",
        "C314",
        "C315",
        "C316",
        "C317",
        "C318",
        "C319",
        "C320",
        "C321",
        "C322",
        "C323",
        "C324",
        "C325",
        "C326",
        "C327",
        "C328",
        "C329",
        "C330",
        "C331",
        "C332",
        "C333",
        "C334",
        "C335",
        "C336",
        "C337",
        "C338",
        "C339",
        "C340",
        "C341",
        "C342",
        "C343",
        "C344",
        "C345",
        "C346",
        "C347",
        "C348",
        "C349",
        "C350",
        "C351"
       ],
       "line_style": "dotted",
       "marker": "circle",
       "marker_size": 30,
       "opacities": [
        0.05
       ],
       "scales": {
        "x": "IPY_MODEL_c154051cb98e451cbd2e9cda8957154b",
        "y": "IPY_MODEL_ed3882f3df2042ac8b26041ddf8939a9"
       },
       "selected": [],
       "stroke_width": 1,
       "x": {
        "type": "float",
        "values": [
         [
          1158.9,
          1196
         ],
         [
          1158.9,
          1122.6
         ],
         [
          1158.9,
          1113.9
         ],
         [
          1158.9,
          1187.5
         ],
         [
          1122.6,
          1069.8
         ],
         [
          1122.6,
          1148.2
         ],
         [
          1113.9,
          1064.9
         ],
         [
          1113.9,
          1069.8
         ],
         [
          1113.9,
          1151.1
         ],
         [
          1099.5,
          1130.4
         ],
         [
          1099.5,
          1064.9
         ],
         [
          1099.5,
          1053.1
         ],
         [
          1099.5,
          1140.7
         ],
         [
          1064.9,
          1102.3
         ],
         [
          1064.9,
          990.08
         ],
         [
          1064.9,
          1053.1
         ],
         [
          1064.9,
          1077.8
         ],
         [
          1102.3,
          1133.9
         ],
         [
          1102.3,
          1103.4
         ],
         [
          1102.3,
          1109.8
         ],
         [
          1103.4,
          1069.8
         ],
         [
          1103.4,
          1131.5
         ],
         [
          990.08,
          1003.1
         ],
         [
          990.08,
          1005.2
         ],
         [
          990.08,
          905.69
         ],
         [
          990.08,
          979.43
         ],
         [
          1005.2,
          1009.6
         ],
         [
          1005.2,
          1022.4
         ],
         [
          1009.6,
          1029.1
         ],
         [
          1009.6,
          1005.4
         ],
         [
          1053.1,
          1069.8
         ],
         [
          1053.1,
          996.41
         ],
         [
          1053.1,
          1063.4
         ],
         [
          1069.8,
          1070.5
         ],
         [
          1069.8,
          1008.6
         ],
         [
          1069.8,
          1013.7
         ],
         [
          1069.8,
          1093.6
         ],
         [
          1069.8,
          1091.9
         ],
         [
          996.41,
          941.82
         ],
         [
          996.41,
          998.56
         ],
         [
          1008.6,
          941.82
         ],
         [
          1008.6,
          1030.3
         ],
         [
          941.82,
          962.08
         ],
         [
          941.82,
          943.68
         ],
         [
          941.82,
          870.96
         ],
         [
          941.82,
          893.9
         ],
         [
          941.82,
          941.92
         ],
         [
          1013.7,
          943.68
         ],
         [
          1013.7,
          1028
         ],
         [
          943.68,
          908.37
         ],
         [
          943.68,
          905.69
         ],
         [
          943.68,
          936.25
         ],
         [
          943.68,
          915.07
         ],
         [
          943.68,
          965.19
         ],
         [
          908.37,
          915.51
         ],
         [
          908.37,
          870.96
         ],
         [
          908.37,
          928.62
         ],
         [
          870.96,
          861.09
         ],
         [
          870.96,
          828.99
         ],
         [
          870.96,
          813.07
         ],
         [
          870.96,
          876.69
         ],
         [
          828.99,
          795.01
         ],
         [
          828.99,
          804.73
         ],
         [
          795.01,
          771.01
         ],
         [
          795.01,
          768.76
         ],
         [
          771.01,
          789.92
         ],
         [
          771.01,
          750.95
         ],
         [
          789.92,
          696.21
         ],
         [
          789.92,
          843.32
         ],
         [
          789.92,
          873.39
         ],
         [
          789.92,
          780.29
         ],
         [
          696.21,
          680.46
         ],
         [
          696.21,
          619.29
         ],
         [
          696.21,
          656.2
         ],
         [
          696.21,
          705.62
         ],
         [
          843.32,
          819.69
         ],
         [
          843.32,
          874.85
         ],
         [
          843.32,
          869.15
         ],
         [
          843.32,
          828.56
         ],
         [
          874.85,
          857.37
         ],
         [
          874.85,
          905.69
         ],
         [
          874.85,
          885.79
         ],
         [
          869.15,
          858.39
         ],
         [
          869.15,
          918.48
         ],
         [
          869.15,
          873.39
         ],
         [
          869.15,
          880.81
         ],
         [
          869.15,
          842.78
         ],
         [
          918.48,
          946.43
         ],
         [
          918.48,
          939.18
         ],
         [
          946.43,
          936.25
         ],
         [
          946.43,
          972.86
         ],
         [
          905.69,
          825.02
         ],
         [
          905.69,
          922.23
         ],
         [
          936.25,
          969.91
         ],
         [
          936.25,
          873.39
         ],
         [
          936.25,
          962.19
         ],
         [
          873.39,
          853.47
         ],
         [
          873.39,
          915.07
         ],
         [
          873.39,
          888.85
         ],
         [
          873.39,
          893.51
         ],
         [
          893.9,
          830.9
         ],
         [
          893.9,
          913.35
         ],
         [
          813.07,
          801.3
         ],
         [
          813.07,
          831.35
         ],
         [
          813.07,
          830.9
         ],
         [
          813.07,
          753.16
         ],
         [
          813.07,
          784.26
         ],
         [
          813.74,
          831.35
         ],
         [
          813.74,
          830.9
         ],
         [
          813.74,
          788.5
         ],
         [
          831.35,
          858.03
         ],
         [
          831.35,
          834.68
         ],
         [
          830.9,
          825.02
         ],
         [
          830.9,
          818.02
         ],
         [
          830.9,
          776.96
         ],
         [
          830.9,
          853.66
         ],
         [
          825.02,
          732.91
         ],
         [
          825.02,
          855.64
         ],
         [
          818.02,
          776.96
         ],
         [
          818.02,
          840.88
         ],
         [
          776.96,
          769.23
         ],
         [
          776.96,
          749.05
         ],
         [
          776.96,
          713.11
         ],
         [
          776.96,
          775.96
         ],
         [
          749.05,
          713.11
         ],
         [
          749.05,
          765.5
         ],
         [
          713.11,
          700.04
         ],
         [
          713.11,
          643.56
         ],
         [
          713.11,
          698.13
         ],
         [
          753.16,
          701.8
         ],
         [
          753.16,
          736.35
         ],
         [
          701.8,
          656.2
         ],
         [
          701.8,
          693.2
         ],
         [
          656.2,
          610.13
         ],
         [
          656.2,
          643.56
         ],
         [
          656.2,
          658.65
         ],
         [
          610.13,
          582.81
         ],
         [
          610.13,
          611.12
         ],
         [
          610.13,
          606.72
         ],
         [
          610.13,
          574.04
         ],
         [
          611.12,
          643.56
         ],
         [
          611.12,
          588.6
         ],
         [
          611.12,
          585.36
         ],
         [
          606.72,
          643.56
         ],
         [
          606.72,
          574.27
         ],
         [
          643.56,
          631.12
         ],
         [
          643.56,
          631.17
         ],
         [
          643.56,
          615.83
         ],
         [
          643.56,
          663.35
         ],
         [
          643.56,
          711.86
         ],
         [
          643.56,
          588.6
         ],
         [
          643.56,
          657.29
         ],
         [
          631.17,
          636.43
         ],
         [
          631.17,
          599.63
         ],
         [
          615.83,
          588.15
         ],
         [
          615.83,
          630.53
         ],
         [
          615.83,
          581.46
         ],
         [
          588.15,
          617.36
         ],
         [
          588.15,
          562.85
         ],
         [
          617.36,
          663.35
         ],
         [
          617.36,
          598.42
         ],
         [
          663.35,
          681.4
         ],
         [
          663.35,
          687.35
         ],
         [
          663.35,
          665.33
         ],
         [
          663.35,
          715.87
         ],
         [
          663.35,
          653.13
         ],
         [
          687.35,
          694.06
         ],
         [
          687.35,
          665.33
         ],
         [
          687.35,
          715.87
         ],
         [
          687.35,
          708.55
         ],
         [
          665.33,
          670.89
         ],
         [
          665.33,
          636.43
         ],
         [
          665.33,
          630.53
         ],
         [
          665.33,
          715.87
         ],
         [
          665.33,
          652.55
         ],
         [
          636.43,
          607.58
         ],
         [
          630.53,
          622.61
         ],
         [
          715.87,
          736.95
         ],
         [
          715.87,
          751.27
         ],
         [
          715.87,
          763.94
         ],
         [
          715.87,
          748.18
         ],
         [
          715.87,
          719.38
         ],
         [
          751.27,
          763.94
         ],
         [
          751.27,
          752.65
         ],
         [
          751.27,
          767.7
         ],
         [
          763.94,
          786.41
         ],
         [
          763.94,
          752.65
         ],
         [
          763.94,
          755.85
         ],
         [
          763.94,
          803.65
         ],
         [
          752.65,
          786.34
         ],
         [
          752.65,
          711.86
         ],
         [
          752.65,
          726.76
         ],
         [
          752.65,
          791.19
         ],
         [
          748.18,
          755.85
         ],
         [
          748.18,
          778.97
         ],
         [
          755.85,
          732.91
         ],
         [
          755.85,
          789.9
         ],
         [
          732.91,
          756.53
         ],
         [
          732.91,
          711.86
         ],
         [
          732.91,
          619.16
         ],
         [
          732.91,
          780.57
         ],
         [
          711.86,
          696.15
         ],
         [
          711.86,
          726.76
         ],
         [
          711.86,
          733.34
         ],
         [
          726.76,
          721.9
         ],
         [
          619.16,
          588.6
         ],
         [
          619.16,
          518.12
         ],
         [
          619.16,
          577.27
         ],
         [
          619.16,
          627.87
         ],
         [
          588.6,
          591.34
         ],
         [
          588.6,
          619.29
         ],
         [
          588.6,
          561.07
         ],
         [
          588.6,
          490.44
         ],
         [
          588.6,
          565.17
         ],
         [
          619.29,
          645.28
         ],
         [
          619.29,
          620.14
         ],
         [
          619.29,
          580.95
         ],
         [
          619.29,
          561.07
         ],
         [
          619.29,
          622.4
         ],
         [
          620.14,
          656.2
         ],
         [
          620.14,
          601.41
         ],
         [
          620.14,
          602.18
         ],
         [
          656.2,
          667.56
         ],
         [
          656.2,
          644.31
         ],
         [
          601.41,
          602.28
         ],
         [
          601.41,
          578.63
         ],
         [
          580.95,
          581.27
         ],
         [
          580.95,
          561.07
         ],
         [
          580.95,
          560.17
         ],
         [
          561.07,
          490.44
         ],
         [
          561.07,
          529.78
         ],
         [
          561.07,
          572
         ],
         [
          496.42,
          493.49
         ],
         [
          496.42,
          490.44
         ],
         [
          496.42,
          529.78
         ],
         [
          496.42,
          475.1
         ],
         [
          490.44,
          479.21
         ],
         [
          490.44,
          461.26
         ],
         [
          490.44,
          419.27
         ],
         [
          490.44,
          398.83
         ],
         [
          490.44,
          504.02
         ],
         [
          461.26,
          435.4
         ],
         [
          461.26,
          455.25
         ],
         [
          435.4,
          419.27
         ],
         [
          435.4,
          432.78
         ],
         [
          419.27,
          410.2
         ],
         [
          419.27,
          518.12
         ],
         [
          419.27,
          361.71
         ],
         [
          419.27,
          388.06
         ],
         [
          419.27,
          354.03
         ],
         [
          419.27,
          342.18
         ],
         [
          419.27,
          421.65
         ],
         [
          518.12,
          507.49
         ],
         [
          398.83,
          326.78
         ],
         [
          398.83,
          361.71
         ],
         [
          398.83,
          388.76
         ],
         [
          326.78,
          295.41
         ],
         [
          326.78,
          259
         ],
         [
          326.78,
          333.24
         ],
         [
          295.41,
          259
         ],
         [
          295.41,
          298.04
         ],
         [
          259,
          265.04
         ],
         [
          259,
          218.47
         ],
         [
          259,
          223.57
         ],
         [
          259,
          225.17
         ],
         [
          259,
          240.69
         ],
         [
          218.47,
          181.43
         ],
         [
          218.47,
          211.19
         ],
         [
          181.43,
          150.94
         ],
         [
          181.43,
          169
         ],
         [
          223.57,
          225.17
         ],
         [
          223.57,
          194.81
         ],
         [
          225.17,
          183.59
         ],
         [
          225.17,
          211.22
         ],
         [
          225.17,
          240.95
         ],
         [
          225.17,
          197.5
         ],
         [
          211.22,
          238.73
         ],
         [
          211.22,
          193.86
         ],
         [
          211.22,
          199.72
         ],
         [
          193.86,
          166.1
         ],
         [
          193.86,
          240.95
         ],
         [
          193.86,
          156.15
         ],
         [
          240.95,
          216.92
         ],
         [
          240.95,
          266.31
         ],
         [
          240.95,
          296.13
         ],
         [
          240.95,
          274.05
         ],
         [
          240.95,
          211.39
         ],
         [
          240.95,
          220.63
         ],
         [
          266.31,
          296.13
         ],
         [
          266.31,
          262.98
         ],
         [
          296.13,
          324.79
         ],
         [
          296.13,
          361.71
         ],
         [
          296.13,
          274.05
         ],
         [
          296.13,
          289.61
         ],
         [
          324.79,
          361.71
         ],
         [
          324.79,
          318
         ],
         [
          361.71,
          388.06
         ],
         [
          361.71,
          354.23
         ],
         [
          388.06,
          390.69
         ],
         [
          354.03,
          274.05
         ],
         [
          354.03,
          368.7
         ],
         [
          342.18,
          341.56
         ],
         [
          342.18,
          274.05
         ],
         [
          342.18,
          321.7
         ],
         [
          274.05,
          264.2
         ],
         [
          274.05,
          231.25
         ],
         [
          274.05,
          207.82
         ],
         [
          274.05,
          238.59
         ],
         [
          274.05,
          261.96
         ],
         [
          274.05,
          292.19
         ],
         [
          231.25,
          211.39
         ],
         [
          231.25,
          200.58
         ],
         [
          211.39,
          176.48
         ],
         [
          207.82,
          176.56
         ],
         [
          207.82,
          238.59
         ],
         [
          207.82,
          232.8
         ],
         [
          207.82,
          143.73
         ],
         [
          207.82,
          179.91
         ],
         [
          238.59,
          217.46
         ],
         [
          238.59,
          232.8
         ],
         [
          238.59,
          226.83
         ],
         [
          232.8,
          250.7
         ],
         [
          232.8,
          261.96
         ],
         [
          232.8,
          249.45
         ],
         [
          232.8,
          196.03
         ],
         [
          232.8,
          262.08
         ],
         [
          261.96,
          249.45
         ],
         [
          261.96,
          286.2
         ],
         [
          249.45,
          238.42
         ],
         [
          249.45,
          267.27
         ],
         [
          196.03,
          160.19
         ],
         [
          196.03,
          188.64
         ],
         [
          160.19,
          143.73
         ],
         [
          160.19,
          145.96
         ],
         [
          143.73,
          138.1
         ],
         [
          143.73,
          103.27
         ],
         [
          143.73,
          92.662
         ],
         [
          143.73,
          119.31
         ],
         [
          103.27,
          87.963
         ],
         [
          103.27,
          71.985
         ],
         [
          92.662,
          64.904
         ],
         [
          92.662,
          59.402
         ],
         [
          915.07,
          921.3
         ],
         [
          915.07,
          906.19
         ],
         [
          888.85,
          880.81
         ],
         [
          888.85,
          905.51
         ],
         [
          880.81,
          883.64
         ],
         [
          577.27,
          549.39
         ],
         [
          577.27,
          550.62
         ],
         [
          1093.6,
          1112.5
         ],
         [
          529.78,
          526.1
         ]
        ]
       },
       "y": {
        "type": "float",
        "values": [
         [
          324.05,
          320.62
         ],
         [
          324.05,
          327.16
         ],
         [
          324.05,
          302.78
         ],
         [
          324.05,
          345.37
         ],
         [
          327.16,
          302.07
         ],
         [
          327.16,
          351.44
         ],
         [
          302.78,
          282.93
         ],
         [
          302.78,
          302.07
         ],
         [
          302.78,
          298.64
         ],
         [
          259.38,
          237.6
         ],
         [
          259.38,
          282.93
         ],
         [
          259.38,
          267.16
         ],
         [
          259.38,
          254.51
         ],
         [
          282.93,
          241.2
         ],
         [
          282.93,
          320.32
         ],
         [
          282.93,
          267.16
         ],
         [
          282.93,
          261.5
         ],
         [
          241.2,
          214.69
         ],
         [
          241.2,
          278.84
         ],
         [
          241.2,
          205.65
         ],
         [
          278.84,
          302.07
         ],
         [
          278.84,
          279.02
         ],
         [
          320.32,
          346.3
         ],
         [
          320.32,
          377.99
         ],
         [
          320.32,
          297.29
         ],
         [
          320.32,
          346.61
         ],
         [
          377.99,
          425.18
         ],
         [
          377.99,
          397.85
         ],
         [
          425.18,
          447.94
         ],
         [
          425.18,
          457.44
         ],
         [
          267.16,
          302.07
         ],
         [
          267.16,
          272.94
         ],
         [
          267.16,
          234.24
         ],
         [
          302.07,
          330.12
         ],
         [
          302.07,
          301.1
         ],
         [
          302.07,
          259.46
         ],
         [
          302.07,
          345.22
         ],
         [
          302.07,
          316.13
         ],
         [
          272.94,
          291.76
         ],
         [
          272.94,
          243.09
         ],
         [
          301.1,
          291.76
         ],
         [
          301.1,
          318.76
         ],
         [
          291.76,
          304.4
         ],
         [
          291.76,
          235.45
         ],
         [
          291.76,
          281.68
         ],
         [
          291.76,
          345.19
         ],
         [
          291.76,
          274.56
         ],
         [
          259.46,
          235.45
         ],
         [
          259.46,
          228.86
         ],
         [
          235.45,
          254.61
         ],
         [
          235.45,
          297.29
         ],
         [
          235.45,
          161.11
         ],
         [
          235.45,
          180.61
         ],
         [
          235.45,
          213.89
         ],
         [
          254.61,
          232.37
         ],
         [
          254.61,
          281.68
         ],
         [
          254.61,
          249.04
         ],
         [
          281.68,
          260.28
         ],
         [
          281.68,
          243.13
         ],
         [
          281.68,
          326.25
         ],
         [
          281.68,
          299.46
         ],
         [
          243.13,
          206.5
         ],
         [
          243.13,
          235.8
         ],
         [
          206.5,
          172.32
         ],
         [
          206.5,
          200.77
         ],
         [
          172.32,
          165.26
         ],
         [
          172.32,
          145.37
         ],
         [
          165.26,
          209.06
         ],
         [
          165.26,
          156.41
         ],
         [
          165.26,
          138.58
         ],
         [
          165.26,
          130.94
         ],
         [
          209.06,
          192.31
         ],
         [
          209.06,
          276.63
         ],
         [
          209.06,
          180.75
         ],
         [
          209.06,
          183.73
         ],
         [
          156.41,
          143.77
         ],
         [
          156.41,
          223.32
         ],
         [
          156.41,
          95.966
         ],
         [
          156.41,
          124.06
         ],
         [
          223.32,
          204.99
         ],
         [
          223.32,
          297.29
         ],
         [
          223.32,
          199.32
         ],
         [
          95.966,
          57.49
         ],
         [
          95.966,
          80.639
         ],
         [
          95.966,
          138.58
         ],
         [
          95.966,
          54.713
         ],
         [
          95.966,
          72.711
         ],
         [
          80.639,
          108.55
         ],
         [
          80.639,
          49.948
         ],
         [
          108.55,
          161.11
         ],
         [
          108.55,
          83.684
         ],
         [
          297.29,
          368.03
         ],
         [
          297.29,
          321.44
         ],
         [
          161.11,
          156.12
         ],
         [
          161.11,
          138.58
         ],
         [
          161.11,
          135.11
         ],
         [
          138.58,
          115.47
         ],
         [
          138.58,
          180.61
         ],
         [
          138.58,
          84.403
         ],
         [
          138.58,
          119.26
         ],
         [
          345.19,
          380.46
         ],
         [
          345.19,
          370.45
         ],
         [
          326.25,
          297.94
         ],
         [
          326.25,
          335.04
         ],
         [
          326.25,
          380.46
         ],
         [
          326.25,
          349.2
         ],
         [
          326.25,
          315.77
         ],
         [
          358.24,
          335.04
         ],
         [
          358.24,
          380.46
         ],
         [
          358.24,
          358.39
         ],
         [
          335.04,
          339.43
         ],
         [
          335.04,
          310.08
         ],
         [
          380.46,
          368.03
         ],
         [
          380.46,
          418.54
         ],
         [
          380.46,
          420.3
         ],
         [
          380.46,
          408.32
         ],
         [
          368.03,
          430.36
         ],
         [
          368.03,
          382.69
         ],
         [
          418.54,
          420.3
         ],
         [
          418.54,
          445.05
         ],
         [
          420.3,
          394.39
         ],
         [
          420.3,
          449.15
         ],
         [
          420.3,
          449.59
         ],
         [
          420.3,
          449.77
         ],
         [
          449.15,
          449.59
         ],
         [
          449.15,
          473.09
         ],
         [
          449.59,
          429.53
         ],
         [
          449.59,
          477.25
         ],
         [
          449.59,
          466.62
         ],
         [
          349.2,
          384.51
         ],
         [
          349.2,
          328.13
         ],
         [
          384.51,
          432.28
         ],
         [
          384.51,
          358.64
         ],
         [
          432.28,
          456.93
         ],
         [
          432.28,
          477.25
         ],
         [
          432.28,
          408.83
         ],
         [
          456.93,
          480.6
         ],
         [
          456.93,
          429.76
         ],
         [
          456.93,
          484.56
         ],
         [
          456.93,
          463.06
         ],
         [
          429.76,
          477.25
         ],
         [
          429.76,
          372.73
         ],
         [
          429.76,
          436.61
         ],
         [
          484.56,
          477.25
         ],
         [
          484.56,
          504.43
         ],
         [
          477.25,
          495.64
         ],
         [
          477.25,
          527.27
         ],
         [
          477.25,
          550.41
         ],
         [
          477.25,
          569.97
         ],
         [
          477.25,
          494.97
         ],
         [
          477.25,
          372.73
         ],
         [
          477.25,
          497.16
         ],
         [
          527.27,
          573.09
         ],
         [
          527.27,
          533.91
         ],
         [
          550.41,
          593.85
         ],
         [
          550.41,
          599.14
         ],
         [
          550.41,
          562.31
         ],
         [
          593.85,
          608.25
         ],
         [
          593.85,
          620.43
         ],
         [
          608.25,
          569.97
         ],
         [
          608.25,
          644.14
         ],
         [
          569.97,
          584.14
         ],
         [
          569.97,
          615.38
         ],
         [
          569.97,
          611.12
         ],
         [
          569.97,
          598.71
         ],
         [
          569.97,
          595.19
         ],
         [
          615.38,
          655.97
         ],
         [
          615.38,
          611.12
         ],
         [
          615.38,
          598.71
         ],
         [
          615.38,
          615.87
         ],
         [
          611.12,
          652.05
         ],
         [
          611.12,
          573.09
         ],
         [
          611.12,
          599.14
         ],
         [
          611.12,
          598.71
         ],
         [
          611.12,
          649.04
         ],
         [
          573.09,
          584.69
         ],
         [
          599.14,
          637.22
         ],
         [
          598.71,
          632.25
         ],
         [
          598.71,
          596.63
         ],
         [
          598.71,
          576.04
         ],
         [
          598.71,
          567.08
         ],
         [
          598.71,
          640.01
         ],
         [
          596.63,
          576.04
         ],
         [
          596.63,
          547.07
         ],
         [
          596.63,
          634.35
         ],
         [
          576.04,
          612.35
         ],
         [
          576.04,
          547.07
         ],
         [
          576.04,
          513.57
         ],
         [
          576.04,
          595.05
         ],
         [
          547.07,
          543.97
         ],
         [
          547.07,
          494.97
         ],
         [
          547.07,
          533.36
         ],
         [
          547.07,
          562.46
         ],
         [
          567.08,
          513.57
         ],
         [
          567.08,
          589.42
         ],
         [
          513.57,
          430.36
         ],
         [
          513.57,
          515.22
         ],
         [
          430.36,
          426.15
         ],
         [
          430.36,
          494.97
         ],
         [
          430.36,
          394.46
         ],
         [
          430.36,
          436.82
         ],
         [
          494.97,
          513.18
         ],
         [
          494.97,
          533.36
         ],
         [
          494.97,
          499.87
         ],
         [
          533.36,
          558.54
         ],
         [
          394.46,
          372.73
         ],
         [
          394.46,
          361.09
         ],
         [
          394.46,
          408.22
         ],
         [
          394.46,
          370.26
         ],
         [
          372.73,
          347.48
         ],
         [
          372.73,
          276.63
         ],
         [
          372.73,
          316.56
         ],
         [
          372.73,
          346.27
         ],
         [
          372.73,
          366.53
         ],
         [
          276.63,
          272.45
         ],
         [
          276.63,
          207.22
         ],
         [
          276.63,
          275.7
         ],
         [
          276.63,
          316.56
         ],
         [
          276.63,
          249.74
         ],
         [
          207.22,
          180.75
         ],
         [
          207.22,
          156.6
         ],
         [
          207.22,
          185.93
         ],
         [
          180.75,
          148.34
         ],
         [
          180.75,
          149.29
         ],
         [
          156.6,
          121.96
         ],
         [
          156.6,
          131.76
         ],
         [
          275.7,
          244.82
         ],
         [
          275.7,
          316.56
         ],
         [
          275.7,
          253.2
         ],
         [
          316.56,
          346.27
         ],
         [
          316.56,
          291.73
         ],
         [
          316.56,
          299.05
         ],
         [
          298.22,
          265.6
         ],
         [
          298.22,
          346.27
         ],
         [
          298.22,
          291.73
         ],
         [
          298.22,
          276.84
         ],
         [
          346.27,
          373.78
         ],
         [
          346.27,
          337.49
         ],
         [
          346.27,
          321.42
         ],
         [
          346.27,
          376.94
         ],
         [
          346.27,
          333.99
         ],
         [
          337.49,
          348.88
         ],
         [
          337.49,
          312.88
         ],
         [
          348.88,
          321.42
         ],
         [
          348.88,
          378.65
         ],
         [
          321.42,
          342.73
         ],
         [
          321.42,
          361.09
         ],
         [
          321.42,
          335.31
         ],
         [
          321.42,
          317.62
         ],
         [
          321.42,
          277.9
         ],
         [
          321.42,
          283.86
         ],
         [
          321.42,
          291.32
         ],
         [
          361.09,
          383.6
         ],
         [
          376.94,
          421.26
         ],
         [
          376.94,
          335.31
         ],
         [
          376.94,
          406.34
         ],
         [
          421.26,
          448.85
         ],
         [
          421.26,
          445.87
         ],
         [
          421.26,
          447.73
         ],
         [
          448.85,
          445.87
         ],
         [
          448.85,
          478.91
         ],
         [
          445.87,
          477.43
         ],
         [
          445.87,
          493.08
         ],
         [
          445.87,
          435.99
         ],
         [
          445.87,
          397.23
         ],
         [
          445.87,
          469.95
         ],
         [
          493.08,
          525.55
         ],
         [
          493.08,
          520.34
         ],
         [
          525.55,
          534.68
         ],
         [
          525.55,
          555.77
         ],
         [
          435.99,
          397.23
         ],
         [
          435.99,
          455.51
         ],
         [
          397.23,
          399.08
         ],
         [
          397.23,
          377.92
         ],
         [
          397.23,
          324.07
         ],
         [
          397.23,
          420.16
         ],
         [
          377.92,
          383.45
         ],
         [
          377.92,
          349.7
         ],
         [
          377.92,
          395.27
         ],
         [
          349.7,
          340.6
         ],
         [
          349.7,
          324.07
         ],
         [
          349.7,
          360.11
         ],
         [
          324.07,
          318.01
         ],
         [
          324.07,
          318.07
         ],
         [
          324.07,
          311.57
         ],
         [
          324.07,
          255.8
         ],
         [
          324.07,
          293.09
         ],
         [
          324.07,
          339.87
         ],
         [
          318.07,
          311.57
         ],
         [
          318.07,
          298.75
         ],
         [
          311.57,
          333.52
         ],
         [
          311.57,
          335.31
         ],
         [
          311.57,
          255.8
         ],
         [
          311.57,
          333.48
         ],
         [
          333.52,
          335.31
         ],
         [
          333.52,
          360.4
         ],
         [
          335.31,
          317.62
         ],
         [
          335.31,
          361.32
         ],
         [
          317.62,
          292.23
         ],
         [
          277.9,
          255.8
         ],
         [
          277.9,
          248.71
         ],
         [
          283.86,
          249.77
         ],
         [
          283.86,
          255.8
         ],
         [
          283.86,
          265.37
         ],
         [
          255.8,
          233.57
         ],
         [
          255.8,
          266.31
         ],
         [
          255.8,
          199.45
         ],
         [
          255.8,
          208.95
         ],
         [
          255.8,
          189.86
         ],
         [
          255.8,
          233.77
         ],
         [
          266.31,
          293.09
         ],
         [
          266.31,
          260.4
         ],
         [
          293.09,
          288.95
         ],
         [
          199.45,
          211.94
         ],
         [
          199.45,
          208.95
         ],
         [
          199.45,
          163.09
         ],
         [
          199.45,
          156.45
         ],
         [
          199.45,
          184.95
         ],
         [
          208.95,
          224.77
         ],
         [
          208.95,
          163.09
         ],
         [
          208.95,
          184.49
         ],
         [
          163.09,
          128.09
         ],
         [
          163.09,
          189.86
         ],
         [
          163.09,
          141.82
         ],
         [
          163.09,
          126.19
         ],
         [
          163.09,
          153.75
         ],
         [
          189.86,
          141.82
         ],
         [
          189.86,
          171.02
         ],
         [
          141.82,
          105.67
         ],
         [
          141.82,
          106.36
         ],
         [
          126.19,
          119.14
         ],
         [
          126.19,
          93.428
         ],
         [
          119.14,
          156.45
         ],
         [
          119.14,
          87.605
         ],
         [
          156.45,
          130
         ],
         [
          156.45,
          124.22
         ],
         [
          156.45,
          164.99
         ],
         [
          156.45,
          155.15
         ],
         [
          124.22,
          94.411
         ],
         [
          124.22,
          116.3
         ],
         [
          164.99,
          181.75
         ],
         [
          164.99,
          155.95
         ],
         [
          180.61,
          148.4
         ],
         [
          180.61,
          166.38
         ],
         [
          84.403,
          54.713
         ],
         [
          84.403,
          50.205
         ],
         [
          54.713,
          18
         ],
         [
          408.22,
          404.83
         ],
         [
          408.22,
          427.86
         ],
         [
          345.22,
          374.44
         ],
         [
          291.73,
          262.07
         ]
        ]
       }
      }
     },
     "3663dadc433e422788ebc4e7935bda49": {
      "model_module": "bqplot",
      "model_module_version": "^0.2.3",
      "model_name": "LinearScaleModel",
      "state": {
       "allow_padding": false,
       "max": 1,
       "min": 0,
       "stabilized": false
      }
     },
     "3b1909772a4c4e379ad4312b1c91619c": {
      "model_module": "@jupyter-widgets/controls",
      "model_module_version": "1.0.0",
      "model_name": "LabelModel",
      "state": {
       "layout": "IPY_MODEL_9f85d73a8b5d48d8bc725e2abb72d4ed",
       "style": "IPY_MODEL_342b95eeab9c477689bc93254eddf240",
       "value": "Options:"
      }
     },
     "3b59bd9a0153477ca969e59dc1c5f35b": {
      "model_module": "bqplot",
      "model_module_version": "^0.2.3",
      "model_name": "ScatterModel",
      "state": {
       "_model_module": "bqplot",
       "_model_module_version": "^0.2.3",
       "_view_count": null,
       "_view_module": "bqplot",
       "_view_module_version": "^0.2.3",
       "apply_clip": true,
       "color": {
        "type": null,
        "values": null
       },
       "colors": [
        "DeepSkyBlue"
       ],
       "default_opacities": [
        0.6
       ],
       "default_size": 180,
       "display_legend": false,
       "enable_hover": true,
       "hovered_style": {},
       "interactions": {
        "hover": "tooltip"
       },
       "labels": [],
       "marker": "rectangle",
       "names": {
        "type": "<U5",
        "values": [
         "Bus1",
         "Bus3",
         "Bus12",
         "Bus2",
         "Bus6",
         "Bus11",
         "Bus8",
         "Bus5",
         "Bus4"
        ]
       },
       "opacity": {
        "type": null,
        "values": null
       },
       "preserve_domain": {},
       "rotation": {
        "type": null,
        "values": null
       },
       "scales": {
        "x": "IPY_MODEL_01b0b239610d41a692695acccecdc0b0",
        "y": "IPY_MODEL_868c3325509e45cb964ac872dbe37e41"
       },
       "scales_metadata": {
        "color": {
         "dimension": "color"
        },
        "opacity": {
         "dimension": "opacity"
        },
        "size": {
         "dimension": "size"
        },
        "x": {
         "dimension": "x",
         "orientation": "horizontal"
        },
        "y": {
         "dimension": "y",
         "orientation": "vertical"
        }
       },
       "selected": [
        3,
        1,
        0,
        7
       ],
       "selected_style": {
        "fill": "RoyalBlue",
        "opacity": 0.8,
        "stroke": "Blue"
       },
       "size": {
        "type": null,
        "values": null
       },
       "skew": {
        "type": null,
        "values": null
       },
       "tooltip": "IPY_MODEL_8815610f63e044cebbeff2fc238a74c9",
       "tooltip_location": "mouse",
       "tooltip_style": {
        "opacity": 0.9
       },
       "unhovered_style": {},
       "unselected_style": {},
       "visible": true,
       "x": {
        "type": "float",
        "values": [
         1158.9,
         1113.9,
         1069.8,
         1122.6,
         1102.3,
         1053.1,
         990.08,
         1064.9,
         1099.5
        ]
       },
       "y": {
        "type": "float",
        "values": [
         324.05,
         302.78,
         302.07,
         327.16,
         241.2,
         267.16,
         320.32,
         282.93,
         259.38
        ]
       }
      }
     },
     "3e07f41ff10243e295e3c035311d35b7": {
      "model_module": "@jupyter-widgets/base",
      "model_module_version": "1.0.0",
      "model_name": "LayoutModel",
      "state": {
       "min_width": "125px"
      }
     },
     "3e6dc2b74e7f463aaf2faacaa422eadb": {
      "model_module": "bqplot",
      "model_module_version": "^0.2.3",
      "model_name": "ScatterModel",
      "state": {
       "_model_module": "bqplot",
       "_model_module_version": "^0.2.3",
       "_view_count": null,
       "_view_module": "bqplot",
       "_view_module_version": "^0.2.3",
       "apply_clip": true,
       "color": {
        "type": null,
        "values": null
       },
       "colors": [
        "DeepSkyBlue"
       ],
       "default_opacities": [
        0.6
       ],
       "default_size": 180,
       "display_legend": false,
       "enable_hover": true,
       "hovered_style": {},
       "interactions": {
        "hover": "tooltip"
       },
       "labels": [],
       "marker": "rectangle",
       "names": {
        "type": "<U6",
        "values": [
         "Bus110",
         "Bus112"
        ]
       },
       "opacity": {
        "type": null,
        "values": null
       },
       "preserve_domain": {},
       "rotation": {
        "type": null,
        "values": null
       },
       "scales": {
        "x": "IPY_MODEL_ea5ac8e5f71a47a0bb757eb8b8730beb",
        "y": "IPY_MODEL_1f83238fb0904ec79cc1bd5e7dec7a9a"
       },
       "scales_metadata": {
        "color": {
         "dimension": "color"
        },
        "opacity": {
         "dimension": "opacity"
        },
        "size": {
         "dimension": "size"
        },
        "x": {
         "dimension": "x",
         "orientation": "horizontal"
        },
        "y": {
         "dimension": "y",
         "orientation": "vertical"
        }
       },
       "selected": [
        1
       ],
       "selected_style": {
        "fill": "RoyalBlue",
        "opacity": 0.8,
        "stroke": "Blue"
       },
       "size": {
        "type": null,
        "values": null
       },
       "skew": {
        "type": null,
        "values": null
       },
       "tooltip": "IPY_MODEL_b846bbef58e74d51af72e631ddf6feda",
       "tooltip_location": "mouse",
       "tooltip_style": {
        "opacity": 0.9
       },
       "unhovered_style": {},
       "unselected_style": {},
       "visible": true,
       "x": {
        "type": "float",
        "values": [
         143.73,
         92.662
        ]
       },
       "y": {
        "type": "float",
        "values": [
         156.45,
         164.99
        ]
       }
      }
     },
     "3ebcc90870314ebdb0a2441575d52790": {
      "model_module": "bqplot",
      "model_module_version": "^0.2.3",
      "model_name": "LinesModel",
      "state": {
       "color": {
        "type": null,
        "values": null
       },
       "colors": [
        "DeepSkyBlue"
       ],
       "display_legend": false,
       "fill_colors": [],
       "labels": [
        "C1",
        "C2"
       ],
       "opacities": [
        0.8
       ],
       "scales": {
        "x": "IPY_MODEL_2b8fe8e0573042fa8c20078316645d3e",
        "y": "IPY_MODEL_d898f958de5542ae884ed9eaa86cef77"
       },
       "selected": [],
       "x": {
        "type": "float",
        "values": [
         [
          1158.9,
          1122.6
         ],
         [
          1158.9,
          1113.9
         ]
        ]
       },
       "y": {
        "type": "float",
        "values": [
         [
          324.05,
          327.16
         ],
         [
          324.05,
          302.78
         ]
        ]
       }
      }
     },
     "405bd6d72a014b60908856edcf140a4f": {
      "model_module": "@jupyter-widgets/controls",
      "model_module_version": "1.0.0",
      "model_name": "CheckboxModel",
      "state": {
       "description": "Show load names",
       "disabled": false,
       "indent": false,
       "layout": "IPY_MODEL_f3e2a07217cf4b3faa6f06ce8af515a7",
       "style": "IPY_MODEL_279157ad0e4243ebb7789b37fa9506db",
       "value": false
      }
     },
     "409c75cc31294095973c08ef8d329271": {
      "model_module": "@jupyter-widgets/controls",
      "model_module_version": "1.0.0",
      "model_name": "LabelModel",
      "state": {
       "layout": "IPY_MODEL_9f85d73a8b5d48d8bc725e2abb72d4ed",
       "style": "IPY_MODEL_34138cdf85884af69dd60edb8097079a",
       "value": "--------------------"
      }
     },
     "40d2bbd486894bcd965ddd586ee8e3ed": {
      "model_module": "@jupyter-widgets/controls",
      "model_module_version": "1.0.0",
      "model_name": "HBoxModel",
      "state": {
       "children": [
        "IPY_MODEL_465c5e61831d4ab2873d371e052e85c0",
        "IPY_MODEL_00bb973ea44e4d9783a14ecfafa2641f"
       ],
       "layout": "IPY_MODEL_0307f84bb379484592d9c89e7bac8500"
      }
     },
     "41138aef61c44074ae1472a6dd0d17a9": {
      "model_module": "bqplot",
      "model_module_version": "^0.2.3",
      "model_name": "LinesModel",
      "state": {
       "color": {
        "type": null,
        "values": null
       },
       "colors": [
        "gray"
       ],
       "display_legend": false,
       "fill_colors": [],
       "labels": [
        "C1",
        "C2",
        "C3",
        "C4",
        "C5",
        "C6",
        "C7",
        "C8",
        "C9",
        "C10",
        "C11",
        "C12",
        "C13",
        "C14",
        "C15",
        "C16",
        "C17",
        "C18",
        "C19",
        "C20",
        "C21",
        "C22",
        "C23",
        "C24",
        "C25",
        "C26",
        "C27",
        "C28",
        "C29",
        "C30",
        "C31",
        "C32",
        "C33",
        "C34",
        "C35",
        "C36",
        "C37",
        "C38",
        "C39",
        "C40",
        "C41",
        "C42",
        "C43",
        "C44",
        "C45",
        "C46",
        "C47",
        "C48",
        "C49",
        "C50",
        "C51",
        "C52",
        "C53",
        "C54",
        "C55",
        "C56",
        "C57",
        "C58",
        "C59",
        "C60",
        "C61",
        "C62",
        "C63",
        "C64",
        "C65",
        "C66",
        "C67",
        "C68",
        "C69",
        "C70",
        "C71",
        "C72",
        "C73",
        "C74",
        "C75",
        "C76",
        "C77",
        "C78",
        "C79",
        "C80",
        "C81",
        "C82",
        "C83",
        "C84",
        "C85",
        "C86",
        "C87",
        "C88",
        "C89",
        "C90",
        "C91",
        "C92",
        "C93",
        "C94",
        "C95",
        "C96",
        "C97",
        "C98",
        "C99",
        "C100",
        "C101",
        "C102",
        "C103",
        "C104",
        "C105",
        "C106",
        "C107",
        "C108",
        "C109",
        "C110",
        "C111",
        "C112",
        "C113",
        "C114",
        "C115",
        "C116",
        "C117",
        "C118",
        "C119",
        "C120",
        "C121",
        "C122",
        "C123",
        "C124",
        "C125",
        "C126",
        "C127",
        "C128",
        "C129",
        "C130",
        "C131",
        "C132",
        "C133",
        "C134",
        "C135",
        "C136",
        "C137",
        "C138",
        "C139",
        "C140",
        "C141",
        "C142",
        "C143",
        "C144",
        "C145",
        "C146",
        "C147",
        "C148",
        "C149",
        "C150",
        "C151",
        "C152",
        "C153",
        "C154",
        "C155",
        "C156",
        "C157",
        "C158",
        "C159",
        "C160",
        "C161",
        "C162",
        "C163",
        "C164",
        "C165",
        "C166",
        "C167",
        "C168",
        "C169",
        "C170",
        "C171",
        "C172",
        "C173",
        "C174",
        "C175",
        "C176",
        "C177",
        "C178",
        "C179",
        "C180",
        "C181",
        "C182",
        "C183",
        "C184",
        "C185",
        "C186",
        "C187",
        "C188",
        "C189",
        "C190",
        "C191",
        "C192",
        "C193",
        "C194",
        "C195",
        "C196",
        "C197",
        "C198",
        "C199",
        "C200",
        "C201",
        "C202",
        "C203",
        "C204",
        "C205",
        "C206",
        "C207",
        "C208",
        "C209",
        "C210",
        "C211",
        "C212",
        "C213",
        "C214",
        "C215",
        "C216",
        "C217",
        "C218",
        "C219",
        "C220",
        "C221",
        "C222",
        "C223",
        "C224",
        "C225",
        "C226",
        "C227",
        "C228",
        "C229",
        "C230",
        "C231",
        "C232",
        "C233",
        "C234",
        "C235",
        "C236",
        "C237",
        "C238",
        "C239",
        "C240",
        "C241",
        "C242",
        "C243",
        "C244",
        "C245",
        "C246",
        "C247",
        "C248",
        "C249",
        "C250",
        "C251",
        "C252",
        "C253",
        "C254",
        "C255",
        "C256",
        "C257",
        "C258",
        "C259",
        "C260",
        "C261",
        "C262",
        "C263",
        "C264",
        "C265",
        "C266",
        "C267",
        "C268",
        "C269",
        "C270",
        "C271",
        "C272",
        "C273",
        "C274",
        "C275",
        "C276",
        "C277",
        "C278",
        "C279",
        "C280",
        "C281",
        "C282",
        "C283",
        "C284",
        "C285",
        "C286",
        "C287",
        "C288",
        "C289",
        "C290",
        "C291",
        "C292",
        "C293",
        "C294",
        "C295",
        "C296",
        "C297",
        "C298",
        "C299",
        "C300",
        "C301",
        "C302",
        "C303",
        "C304",
        "C305",
        "C306",
        "C307",
        "C308",
        "C309",
        "C310",
        "C311",
        "C312",
        "C313",
        "C314",
        "C315",
        "C316",
        "C317",
        "C318",
        "C319",
        "C320",
        "C321",
        "C322",
        "C323",
        "C324",
        "C325",
        "C326",
        "C327",
        "C328",
        "C329",
        "C330",
        "C331",
        "C332",
        "C333",
        "C334",
        "C335",
        "C336",
        "C337",
        "C338",
        "C339",
        "C340",
        "C341",
        "C342",
        "C343",
        "C344",
        "C345",
        "C346",
        "C347",
        "C348",
        "C349",
        "C350",
        "C351"
       ],
       "line_style": "dotted",
       "marker": "circle",
       "marker_size": 30,
       "opacities": [
        0.05
       ],
       "scales": {
        "x": "IPY_MODEL_5a793b55b5904afb954055d7739c1e08",
        "y": "IPY_MODEL_92d4beec08c84c5d8dd05e339280ef46"
       },
       "selected": [],
       "stroke_width": 1,
       "x": {
        "type": "float",
        "values": [
         [
          1158.9,
          1196
         ],
         [
          1158.9,
          1122.6
         ],
         [
          1158.9,
          1113.9
         ],
         [
          1158.9,
          1187.5
         ],
         [
          1122.6,
          1069.8
         ],
         [
          1122.6,
          1148.2
         ],
         [
          1113.9,
          1064.9
         ],
         [
          1113.9,
          1069.8
         ],
         [
          1113.9,
          1151.1
         ],
         [
          1099.5,
          1130.4
         ],
         [
          1099.5,
          1064.9
         ],
         [
          1099.5,
          1053.1
         ],
         [
          1099.5,
          1140.7
         ],
         [
          1064.9,
          1102.3
         ],
         [
          1064.9,
          990.08
         ],
         [
          1064.9,
          1053.1
         ],
         [
          1064.9,
          1077.8
         ],
         [
          1102.3,
          1133.9
         ],
         [
          1102.3,
          1103.4
         ],
         [
          1102.3,
          1109.8
         ],
         [
          1103.4,
          1069.8
         ],
         [
          1103.4,
          1131.5
         ],
         [
          990.08,
          1003.1
         ],
         [
          990.08,
          1005.2
         ],
         [
          990.08,
          905.69
         ],
         [
          990.08,
          979.43
         ],
         [
          1005.2,
          1009.6
         ],
         [
          1005.2,
          1022.4
         ],
         [
          1009.6,
          1029.1
         ],
         [
          1009.6,
          1005.4
         ],
         [
          1053.1,
          1069.8
         ],
         [
          1053.1,
          996.41
         ],
         [
          1053.1,
          1063.4
         ],
         [
          1069.8,
          1070.5
         ],
         [
          1069.8,
          1008.6
         ],
         [
          1069.8,
          1013.7
         ],
         [
          1069.8,
          1093.6
         ],
         [
          1069.8,
          1091.9
         ],
         [
          996.41,
          941.82
         ],
         [
          996.41,
          998.56
         ],
         [
          1008.6,
          941.82
         ],
         [
          1008.6,
          1030.3
         ],
         [
          941.82,
          962.08
         ],
         [
          941.82,
          943.68
         ],
         [
          941.82,
          870.96
         ],
         [
          941.82,
          893.9
         ],
         [
          941.82,
          941.92
         ],
         [
          1013.7,
          943.68
         ],
         [
          1013.7,
          1028
         ],
         [
          943.68,
          908.37
         ],
         [
          943.68,
          905.69
         ],
         [
          943.68,
          936.25
         ],
         [
          943.68,
          915.07
         ],
         [
          943.68,
          965.19
         ],
         [
          908.37,
          915.51
         ],
         [
          908.37,
          870.96
         ],
         [
          908.37,
          928.62
         ],
         [
          870.96,
          861.09
         ],
         [
          870.96,
          828.99
         ],
         [
          870.96,
          813.07
         ],
         [
          870.96,
          876.69
         ],
         [
          828.99,
          795.01
         ],
         [
          828.99,
          804.73
         ],
         [
          795.01,
          771.01
         ],
         [
          795.01,
          768.76
         ],
         [
          771.01,
          789.92
         ],
         [
          771.01,
          750.95
         ],
         [
          789.92,
          696.21
         ],
         [
          789.92,
          843.32
         ],
         [
          789.92,
          873.39
         ],
         [
          789.92,
          780.29
         ],
         [
          696.21,
          680.46
         ],
         [
          696.21,
          619.29
         ],
         [
          696.21,
          656.2
         ],
         [
          696.21,
          705.62
         ],
         [
          843.32,
          819.69
         ],
         [
          843.32,
          874.85
         ],
         [
          843.32,
          869.15
         ],
         [
          843.32,
          828.56
         ],
         [
          874.85,
          857.37
         ],
         [
          874.85,
          905.69
         ],
         [
          874.85,
          885.79
         ],
         [
          869.15,
          858.39
         ],
         [
          869.15,
          918.48
         ],
         [
          869.15,
          873.39
         ],
         [
          869.15,
          880.81
         ],
         [
          869.15,
          842.78
         ],
         [
          918.48,
          946.43
         ],
         [
          918.48,
          939.18
         ],
         [
          946.43,
          936.25
         ],
         [
          946.43,
          972.86
         ],
         [
          905.69,
          825.02
         ],
         [
          905.69,
          922.23
         ],
         [
          936.25,
          969.91
         ],
         [
          936.25,
          873.39
         ],
         [
          936.25,
          962.19
         ],
         [
          873.39,
          853.47
         ],
         [
          873.39,
          915.07
         ],
         [
          873.39,
          888.85
         ],
         [
          873.39,
          893.51
         ],
         [
          893.9,
          830.9
         ],
         [
          893.9,
          913.35
         ],
         [
          813.07,
          801.3
         ],
         [
          813.07,
          831.35
         ],
         [
          813.07,
          830.9
         ],
         [
          813.07,
          753.16
         ],
         [
          813.07,
          784.26
         ],
         [
          813.74,
          831.35
         ],
         [
          813.74,
          830.9
         ],
         [
          813.74,
          788.5
         ],
         [
          831.35,
          858.03
         ],
         [
          831.35,
          834.68
         ],
         [
          830.9,
          825.02
         ],
         [
          830.9,
          818.02
         ],
         [
          830.9,
          776.96
         ],
         [
          830.9,
          853.66
         ],
         [
          825.02,
          732.91
         ],
         [
          825.02,
          855.64
         ],
         [
          818.02,
          776.96
         ],
         [
          818.02,
          840.88
         ],
         [
          776.96,
          769.23
         ],
         [
          776.96,
          749.05
         ],
         [
          776.96,
          713.11
         ],
         [
          776.96,
          775.96
         ],
         [
          749.05,
          713.11
         ],
         [
          749.05,
          765.5
         ],
         [
          713.11,
          700.04
         ],
         [
          713.11,
          643.56
         ],
         [
          713.11,
          698.13
         ],
         [
          753.16,
          701.8
         ],
         [
          753.16,
          736.35
         ],
         [
          701.8,
          656.2
         ],
         [
          701.8,
          693.2
         ],
         [
          656.2,
          610.13
         ],
         [
          656.2,
          643.56
         ],
         [
          656.2,
          658.65
         ],
         [
          610.13,
          582.81
         ],
         [
          610.13,
          611.12
         ],
         [
          610.13,
          606.72
         ],
         [
          610.13,
          574.04
         ],
         [
          611.12,
          643.56
         ],
         [
          611.12,
          588.6
         ],
         [
          611.12,
          585.36
         ],
         [
          606.72,
          643.56
         ],
         [
          606.72,
          574.27
         ],
         [
          643.56,
          631.12
         ],
         [
          643.56,
          631.17
         ],
         [
          643.56,
          615.83
         ],
         [
          643.56,
          663.35
         ],
         [
          643.56,
          711.86
         ],
         [
          643.56,
          588.6
         ],
         [
          643.56,
          657.29
         ],
         [
          631.17,
          636.43
         ],
         [
          631.17,
          599.63
         ],
         [
          615.83,
          588.15
         ],
         [
          615.83,
          630.53
         ],
         [
          615.83,
          581.46
         ],
         [
          588.15,
          617.36
         ],
         [
          588.15,
          562.85
         ],
         [
          617.36,
          663.35
         ],
         [
          617.36,
          598.42
         ],
         [
          663.35,
          681.4
         ],
         [
          663.35,
          687.35
         ],
         [
          663.35,
          665.33
         ],
         [
          663.35,
          715.87
         ],
         [
          663.35,
          653.13
         ],
         [
          687.35,
          694.06
         ],
         [
          687.35,
          665.33
         ],
         [
          687.35,
          715.87
         ],
         [
          687.35,
          708.55
         ],
         [
          665.33,
          670.89
         ],
         [
          665.33,
          636.43
         ],
         [
          665.33,
          630.53
         ],
         [
          665.33,
          715.87
         ],
         [
          665.33,
          652.55
         ],
         [
          636.43,
          607.58
         ],
         [
          630.53,
          622.61
         ],
         [
          715.87,
          736.95
         ],
         [
          715.87,
          751.27
         ],
         [
          715.87,
          763.94
         ],
         [
          715.87,
          748.18
         ],
         [
          715.87,
          719.38
         ],
         [
          751.27,
          763.94
         ],
         [
          751.27,
          752.65
         ],
         [
          751.27,
          767.7
         ],
         [
          763.94,
          786.41
         ],
         [
          763.94,
          752.65
         ],
         [
          763.94,
          755.85
         ],
         [
          763.94,
          803.65
         ],
         [
          752.65,
          786.34
         ],
         [
          752.65,
          711.86
         ],
         [
          752.65,
          726.76
         ],
         [
          752.65,
          791.19
         ],
         [
          748.18,
          755.85
         ],
         [
          748.18,
          778.97
         ],
         [
          755.85,
          732.91
         ],
         [
          755.85,
          789.9
         ],
         [
          732.91,
          756.53
         ],
         [
          732.91,
          711.86
         ],
         [
          732.91,
          619.16
         ],
         [
          732.91,
          780.57
         ],
         [
          711.86,
          696.15
         ],
         [
          711.86,
          726.76
         ],
         [
          711.86,
          733.34
         ],
         [
          726.76,
          721.9
         ],
         [
          619.16,
          588.6
         ],
         [
          619.16,
          518.12
         ],
         [
          619.16,
          577.27
         ],
         [
          619.16,
          627.87
         ],
         [
          588.6,
          591.34
         ],
         [
          588.6,
          619.29
         ],
         [
          588.6,
          561.07
         ],
         [
          588.6,
          490.44
         ],
         [
          588.6,
          565.17
         ],
         [
          619.29,
          645.28
         ],
         [
          619.29,
          620.14
         ],
         [
          619.29,
          580.95
         ],
         [
          619.29,
          561.07
         ],
         [
          619.29,
          622.4
         ],
         [
          620.14,
          656.2
         ],
         [
          620.14,
          601.41
         ],
         [
          620.14,
          602.18
         ],
         [
          656.2,
          667.56
         ],
         [
          656.2,
          644.31
         ],
         [
          601.41,
          602.28
         ],
         [
          601.41,
          578.63
         ],
         [
          580.95,
          581.27
         ],
         [
          580.95,
          561.07
         ],
         [
          580.95,
          560.17
         ],
         [
          561.07,
          490.44
         ],
         [
          561.07,
          529.78
         ],
         [
          561.07,
          572
         ],
         [
          496.42,
          493.49
         ],
         [
          496.42,
          490.44
         ],
         [
          496.42,
          529.78
         ],
         [
          496.42,
          475.1
         ],
         [
          490.44,
          479.21
         ],
         [
          490.44,
          461.26
         ],
         [
          490.44,
          419.27
         ],
         [
          490.44,
          398.83
         ],
         [
          490.44,
          504.02
         ],
         [
          461.26,
          435.4
         ],
         [
          461.26,
          455.25
         ],
         [
          435.4,
          419.27
         ],
         [
          435.4,
          432.78
         ],
         [
          419.27,
          410.2
         ],
         [
          419.27,
          518.12
         ],
         [
          419.27,
          361.71
         ],
         [
          419.27,
          388.06
         ],
         [
          419.27,
          354.03
         ],
         [
          419.27,
          342.18
         ],
         [
          419.27,
          421.65
         ],
         [
          518.12,
          507.49
         ],
         [
          398.83,
          326.78
         ],
         [
          398.83,
          361.71
         ],
         [
          398.83,
          388.76
         ],
         [
          326.78,
          295.41
         ],
         [
          326.78,
          259
         ],
         [
          326.78,
          333.24
         ],
         [
          295.41,
          259
         ],
         [
          295.41,
          298.04
         ],
         [
          259,
          265.04
         ],
         [
          259,
          218.47
         ],
         [
          259,
          223.57
         ],
         [
          259,
          225.17
         ],
         [
          259,
          240.69
         ],
         [
          218.47,
          181.43
         ],
         [
          218.47,
          211.19
         ],
         [
          181.43,
          150.94
         ],
         [
          181.43,
          169
         ],
         [
          223.57,
          225.17
         ],
         [
          223.57,
          194.81
         ],
         [
          225.17,
          183.59
         ],
         [
          225.17,
          211.22
         ],
         [
          225.17,
          240.95
         ],
         [
          225.17,
          197.5
         ],
         [
          211.22,
          238.73
         ],
         [
          211.22,
          193.86
         ],
         [
          211.22,
          199.72
         ],
         [
          193.86,
          166.1
         ],
         [
          193.86,
          240.95
         ],
         [
          193.86,
          156.15
         ],
         [
          240.95,
          216.92
         ],
         [
          240.95,
          266.31
         ],
         [
          240.95,
          296.13
         ],
         [
          240.95,
          274.05
         ],
         [
          240.95,
          211.39
         ],
         [
          240.95,
          220.63
         ],
         [
          266.31,
          296.13
         ],
         [
          266.31,
          262.98
         ],
         [
          296.13,
          324.79
         ],
         [
          296.13,
          361.71
         ],
         [
          296.13,
          274.05
         ],
         [
          296.13,
          289.61
         ],
         [
          324.79,
          361.71
         ],
         [
          324.79,
          318
         ],
         [
          361.71,
          388.06
         ],
         [
          361.71,
          354.23
         ],
         [
          388.06,
          390.69
         ],
         [
          354.03,
          274.05
         ],
         [
          354.03,
          368.7
         ],
         [
          342.18,
          341.56
         ],
         [
          342.18,
          274.05
         ],
         [
          342.18,
          321.7
         ],
         [
          274.05,
          264.2
         ],
         [
          274.05,
          231.25
         ],
         [
          274.05,
          207.82
         ],
         [
          274.05,
          238.59
         ],
         [
          274.05,
          261.96
         ],
         [
          274.05,
          292.19
         ],
         [
          231.25,
          211.39
         ],
         [
          231.25,
          200.58
         ],
         [
          211.39,
          176.48
         ],
         [
          207.82,
          176.56
         ],
         [
          207.82,
          238.59
         ],
         [
          207.82,
          232.8
         ],
         [
          207.82,
          143.73
         ],
         [
          207.82,
          179.91
         ],
         [
          238.59,
          217.46
         ],
         [
          238.59,
          232.8
         ],
         [
          238.59,
          226.83
         ],
         [
          232.8,
          250.7
         ],
         [
          232.8,
          261.96
         ],
         [
          232.8,
          249.45
         ],
         [
          232.8,
          196.03
         ],
         [
          232.8,
          262.08
         ],
         [
          261.96,
          249.45
         ],
         [
          261.96,
          286.2
         ],
         [
          249.45,
          238.42
         ],
         [
          249.45,
          267.27
         ],
         [
          196.03,
          160.19
         ],
         [
          196.03,
          188.64
         ],
         [
          160.19,
          143.73
         ],
         [
          160.19,
          145.96
         ],
         [
          143.73,
          138.1
         ],
         [
          143.73,
          103.27
         ],
         [
          143.73,
          92.662
         ],
         [
          143.73,
          119.31
         ],
         [
          103.27,
          87.963
         ],
         [
          103.27,
          71.985
         ],
         [
          92.662,
          64.904
         ],
         [
          92.662,
          59.402
         ],
         [
          915.07,
          921.3
         ],
         [
          915.07,
          906.19
         ],
         [
          888.85,
          880.81
         ],
         [
          888.85,
          905.51
         ],
         [
          880.81,
          883.64
         ],
         [
          577.27,
          549.39
         ],
         [
          577.27,
          550.62
         ],
         [
          1093.6,
          1112.5
         ],
         [
          529.78,
          526.1
         ]
        ]
       },
       "y": {
        "type": "float",
        "values": [
         [
          324.05,
          320.62
         ],
         [
          324.05,
          327.16
         ],
         [
          324.05,
          302.78
         ],
         [
          324.05,
          345.37
         ],
         [
          327.16,
          302.07
         ],
         [
          327.16,
          351.44
         ],
         [
          302.78,
          282.93
         ],
         [
          302.78,
          302.07
         ],
         [
          302.78,
          298.64
         ],
         [
          259.38,
          237.6
         ],
         [
          259.38,
          282.93
         ],
         [
          259.38,
          267.16
         ],
         [
          259.38,
          254.51
         ],
         [
          282.93,
          241.2
         ],
         [
          282.93,
          320.32
         ],
         [
          282.93,
          267.16
         ],
         [
          282.93,
          261.5
         ],
         [
          241.2,
          214.69
         ],
         [
          241.2,
          278.84
         ],
         [
          241.2,
          205.65
         ],
         [
          278.84,
          302.07
         ],
         [
          278.84,
          279.02
         ],
         [
          320.32,
          346.3
         ],
         [
          320.32,
          377.99
         ],
         [
          320.32,
          297.29
         ],
         [
          320.32,
          346.61
         ],
         [
          377.99,
          425.18
         ],
         [
          377.99,
          397.85
         ],
         [
          425.18,
          447.94
         ],
         [
          425.18,
          457.44
         ],
         [
          267.16,
          302.07
         ],
         [
          267.16,
          272.94
         ],
         [
          267.16,
          234.24
         ],
         [
          302.07,
          330.12
         ],
         [
          302.07,
          301.1
         ],
         [
          302.07,
          259.46
         ],
         [
          302.07,
          345.22
         ],
         [
          302.07,
          316.13
         ],
         [
          272.94,
          291.76
         ],
         [
          272.94,
          243.09
         ],
         [
          301.1,
          291.76
         ],
         [
          301.1,
          318.76
         ],
         [
          291.76,
          304.4
         ],
         [
          291.76,
          235.45
         ],
         [
          291.76,
          281.68
         ],
         [
          291.76,
          345.19
         ],
         [
          291.76,
          274.56
         ],
         [
          259.46,
          235.45
         ],
         [
          259.46,
          228.86
         ],
         [
          235.45,
          254.61
         ],
         [
          235.45,
          297.29
         ],
         [
          235.45,
          161.11
         ],
         [
          235.45,
          180.61
         ],
         [
          235.45,
          213.89
         ],
         [
          254.61,
          232.37
         ],
         [
          254.61,
          281.68
         ],
         [
          254.61,
          249.04
         ],
         [
          281.68,
          260.28
         ],
         [
          281.68,
          243.13
         ],
         [
          281.68,
          326.25
         ],
         [
          281.68,
          299.46
         ],
         [
          243.13,
          206.5
         ],
         [
          243.13,
          235.8
         ],
         [
          206.5,
          172.32
         ],
         [
          206.5,
          200.77
         ],
         [
          172.32,
          165.26
         ],
         [
          172.32,
          145.37
         ],
         [
          165.26,
          209.06
         ],
         [
          165.26,
          156.41
         ],
         [
          165.26,
          138.58
         ],
         [
          165.26,
          130.94
         ],
         [
          209.06,
          192.31
         ],
         [
          209.06,
          276.63
         ],
         [
          209.06,
          180.75
         ],
         [
          209.06,
          183.73
         ],
         [
          156.41,
          143.77
         ],
         [
          156.41,
          223.32
         ],
         [
          156.41,
          95.966
         ],
         [
          156.41,
          124.06
         ],
         [
          223.32,
          204.99
         ],
         [
          223.32,
          297.29
         ],
         [
          223.32,
          199.32
         ],
         [
          95.966,
          57.49
         ],
         [
          95.966,
          80.639
         ],
         [
          95.966,
          138.58
         ],
         [
          95.966,
          54.713
         ],
         [
          95.966,
          72.711
         ],
         [
          80.639,
          108.55
         ],
         [
          80.639,
          49.948
         ],
         [
          108.55,
          161.11
         ],
         [
          108.55,
          83.684
         ],
         [
          297.29,
          368.03
         ],
         [
          297.29,
          321.44
         ],
         [
          161.11,
          156.12
         ],
         [
          161.11,
          138.58
         ],
         [
          161.11,
          135.11
         ],
         [
          138.58,
          115.47
         ],
         [
          138.58,
          180.61
         ],
         [
          138.58,
          84.403
         ],
         [
          138.58,
          119.26
         ],
         [
          345.19,
          380.46
         ],
         [
          345.19,
          370.45
         ],
         [
          326.25,
          297.94
         ],
         [
          326.25,
          335.04
         ],
         [
          326.25,
          380.46
         ],
         [
          326.25,
          349.2
         ],
         [
          326.25,
          315.77
         ],
         [
          358.24,
          335.04
         ],
         [
          358.24,
          380.46
         ],
         [
          358.24,
          358.39
         ],
         [
          335.04,
          339.43
         ],
         [
          335.04,
          310.08
         ],
         [
          380.46,
          368.03
         ],
         [
          380.46,
          418.54
         ],
         [
          380.46,
          420.3
         ],
         [
          380.46,
          408.32
         ],
         [
          368.03,
          430.36
         ],
         [
          368.03,
          382.69
         ],
         [
          418.54,
          420.3
         ],
         [
          418.54,
          445.05
         ],
         [
          420.3,
          394.39
         ],
         [
          420.3,
          449.15
         ],
         [
          420.3,
          449.59
         ],
         [
          420.3,
          449.77
         ],
         [
          449.15,
          449.59
         ],
         [
          449.15,
          473.09
         ],
         [
          449.59,
          429.53
         ],
         [
          449.59,
          477.25
         ],
         [
          449.59,
          466.62
         ],
         [
          349.2,
          384.51
         ],
         [
          349.2,
          328.13
         ],
         [
          384.51,
          432.28
         ],
         [
          384.51,
          358.64
         ],
         [
          432.28,
          456.93
         ],
         [
          432.28,
          477.25
         ],
         [
          432.28,
          408.83
         ],
         [
          456.93,
          480.6
         ],
         [
          456.93,
          429.76
         ],
         [
          456.93,
          484.56
         ],
         [
          456.93,
          463.06
         ],
         [
          429.76,
          477.25
         ],
         [
          429.76,
          372.73
         ],
         [
          429.76,
          436.61
         ],
         [
          484.56,
          477.25
         ],
         [
          484.56,
          504.43
         ],
         [
          477.25,
          495.64
         ],
         [
          477.25,
          527.27
         ],
         [
          477.25,
          550.41
         ],
         [
          477.25,
          569.97
         ],
         [
          477.25,
          494.97
         ],
         [
          477.25,
          372.73
         ],
         [
          477.25,
          497.16
         ],
         [
          527.27,
          573.09
         ],
         [
          527.27,
          533.91
         ],
         [
          550.41,
          593.85
         ],
         [
          550.41,
          599.14
         ],
         [
          550.41,
          562.31
         ],
         [
          593.85,
          608.25
         ],
         [
          593.85,
          620.43
         ],
         [
          608.25,
          569.97
         ],
         [
          608.25,
          644.14
         ],
         [
          569.97,
          584.14
         ],
         [
          569.97,
          615.38
         ],
         [
          569.97,
          611.12
         ],
         [
          569.97,
          598.71
         ],
         [
          569.97,
          595.19
         ],
         [
          615.38,
          655.97
         ],
         [
          615.38,
          611.12
         ],
         [
          615.38,
          598.71
         ],
         [
          615.38,
          615.87
         ],
         [
          611.12,
          652.05
         ],
         [
          611.12,
          573.09
         ],
         [
          611.12,
          599.14
         ],
         [
          611.12,
          598.71
         ],
         [
          611.12,
          649.04
         ],
         [
          573.09,
          584.69
         ],
         [
          599.14,
          637.22
         ],
         [
          598.71,
          632.25
         ],
         [
          598.71,
          596.63
         ],
         [
          598.71,
          576.04
         ],
         [
          598.71,
          567.08
         ],
         [
          598.71,
          640.01
         ],
         [
          596.63,
          576.04
         ],
         [
          596.63,
          547.07
         ],
         [
          596.63,
          634.35
         ],
         [
          576.04,
          612.35
         ],
         [
          576.04,
          547.07
         ],
         [
          576.04,
          513.57
         ],
         [
          576.04,
          595.05
         ],
         [
          547.07,
          543.97
         ],
         [
          547.07,
          494.97
         ],
         [
          547.07,
          533.36
         ],
         [
          547.07,
          562.46
         ],
         [
          567.08,
          513.57
         ],
         [
          567.08,
          589.42
         ],
         [
          513.57,
          430.36
         ],
         [
          513.57,
          515.22
         ],
         [
          430.36,
          426.15
         ],
         [
          430.36,
          494.97
         ],
         [
          430.36,
          394.46
         ],
         [
          430.36,
          436.82
         ],
         [
          494.97,
          513.18
         ],
         [
          494.97,
          533.36
         ],
         [
          494.97,
          499.87
         ],
         [
          533.36,
          558.54
         ],
         [
          394.46,
          372.73
         ],
         [
          394.46,
          361.09
         ],
         [
          394.46,
          408.22
         ],
         [
          394.46,
          370.26
         ],
         [
          372.73,
          347.48
         ],
         [
          372.73,
          276.63
         ],
         [
          372.73,
          316.56
         ],
         [
          372.73,
          346.27
         ],
         [
          372.73,
          366.53
         ],
         [
          276.63,
          272.45
         ],
         [
          276.63,
          207.22
         ],
         [
          276.63,
          275.7
         ],
         [
          276.63,
          316.56
         ],
         [
          276.63,
          249.74
         ],
         [
          207.22,
          180.75
         ],
         [
          207.22,
          156.6
         ],
         [
          207.22,
          185.93
         ],
         [
          180.75,
          148.34
         ],
         [
          180.75,
          149.29
         ],
         [
          156.6,
          121.96
         ],
         [
          156.6,
          131.76
         ],
         [
          275.7,
          244.82
         ],
         [
          275.7,
          316.56
         ],
         [
          275.7,
          253.2
         ],
         [
          316.56,
          346.27
         ],
         [
          316.56,
          291.73
         ],
         [
          316.56,
          299.05
         ],
         [
          298.22,
          265.6
         ],
         [
          298.22,
          346.27
         ],
         [
          298.22,
          291.73
         ],
         [
          298.22,
          276.84
         ],
         [
          346.27,
          373.78
         ],
         [
          346.27,
          337.49
         ],
         [
          346.27,
          321.42
         ],
         [
          346.27,
          376.94
         ],
         [
          346.27,
          333.99
         ],
         [
          337.49,
          348.88
         ],
         [
          337.49,
          312.88
         ],
         [
          348.88,
          321.42
         ],
         [
          348.88,
          378.65
         ],
         [
          321.42,
          342.73
         ],
         [
          321.42,
          361.09
         ],
         [
          321.42,
          335.31
         ],
         [
          321.42,
          317.62
         ],
         [
          321.42,
          277.9
         ],
         [
          321.42,
          283.86
         ],
         [
          321.42,
          291.32
         ],
         [
          361.09,
          383.6
         ],
         [
          376.94,
          421.26
         ],
         [
          376.94,
          335.31
         ],
         [
          376.94,
          406.34
         ],
         [
          421.26,
          448.85
         ],
         [
          421.26,
          445.87
         ],
         [
          421.26,
          447.73
         ],
         [
          448.85,
          445.87
         ],
         [
          448.85,
          478.91
         ],
         [
          445.87,
          477.43
         ],
         [
          445.87,
          493.08
         ],
         [
          445.87,
          435.99
         ],
         [
          445.87,
          397.23
         ],
         [
          445.87,
          469.95
         ],
         [
          493.08,
          525.55
         ],
         [
          493.08,
          520.34
         ],
         [
          525.55,
          534.68
         ],
         [
          525.55,
          555.77
         ],
         [
          435.99,
          397.23
         ],
         [
          435.99,
          455.51
         ],
         [
          397.23,
          399.08
         ],
         [
          397.23,
          377.92
         ],
         [
          397.23,
          324.07
         ],
         [
          397.23,
          420.16
         ],
         [
          377.92,
          383.45
         ],
         [
          377.92,
          349.7
         ],
         [
          377.92,
          395.27
         ],
         [
          349.7,
          340.6
         ],
         [
          349.7,
          324.07
         ],
         [
          349.7,
          360.11
         ],
         [
          324.07,
          318.01
         ],
         [
          324.07,
          318.07
         ],
         [
          324.07,
          311.57
         ],
         [
          324.07,
          255.8
         ],
         [
          324.07,
          293.09
         ],
         [
          324.07,
          339.87
         ],
         [
          318.07,
          311.57
         ],
         [
          318.07,
          298.75
         ],
         [
          311.57,
          333.52
         ],
         [
          311.57,
          335.31
         ],
         [
          311.57,
          255.8
         ],
         [
          311.57,
          333.48
         ],
         [
          333.52,
          335.31
         ],
         [
          333.52,
          360.4
         ],
         [
          335.31,
          317.62
         ],
         [
          335.31,
          361.32
         ],
         [
          317.62,
          292.23
         ],
         [
          277.9,
          255.8
         ],
         [
          277.9,
          248.71
         ],
         [
          283.86,
          249.77
         ],
         [
          283.86,
          255.8
         ],
         [
          283.86,
          265.37
         ],
         [
          255.8,
          233.57
         ],
         [
          255.8,
          266.31
         ],
         [
          255.8,
          199.45
         ],
         [
          255.8,
          208.95
         ],
         [
          255.8,
          189.86
         ],
         [
          255.8,
          233.77
         ],
         [
          266.31,
          293.09
         ],
         [
          266.31,
          260.4
         ],
         [
          293.09,
          288.95
         ],
         [
          199.45,
          211.94
         ],
         [
          199.45,
          208.95
         ],
         [
          199.45,
          163.09
         ],
         [
          199.45,
          156.45
         ],
         [
          199.45,
          184.95
         ],
         [
          208.95,
          224.77
         ],
         [
          208.95,
          163.09
         ],
         [
          208.95,
          184.49
         ],
         [
          163.09,
          128.09
         ],
         [
          163.09,
          189.86
         ],
         [
          163.09,
          141.82
         ],
         [
          163.09,
          126.19
         ],
         [
          163.09,
          153.75
         ],
         [
          189.86,
          141.82
         ],
         [
          189.86,
          171.02
         ],
         [
          141.82,
          105.67
         ],
         [
          141.82,
          106.36
         ],
         [
          126.19,
          119.14
         ],
         [
          126.19,
          93.428
         ],
         [
          119.14,
          156.45
         ],
         [
          119.14,
          87.605
         ],
         [
          156.45,
          130
         ],
         [
          156.45,
          124.22
         ],
         [
          156.45,
          164.99
         ],
         [
          156.45,
          155.15
         ],
         [
          124.22,
          94.411
         ],
         [
          124.22,
          116.3
         ],
         [
          164.99,
          181.75
         ],
         [
          164.99,
          155.95
         ],
         [
          180.61,
          148.4
         ],
         [
          180.61,
          166.38
         ],
         [
          84.403,
          54.713
         ],
         [
          84.403,
          50.205
         ],
         [
          54.713,
          18
         ],
         [
          408.22,
          404.83
         ],
         [
          408.22,
          427.86
         ],
         [
          345.22,
          374.44
         ],
         [
          291.73,
          262.07
         ]
        ]
       }
      }
     },
     "4194e8c2c9f1433193f60f81d025d1b6": {
      "model_module": "@jupyter-widgets/controls",
      "model_module_version": "1.0.0",
      "model_name": "DescriptionStyleModel",
      "state": {
       "description_width": ""
      }
     },
     "428294021e5f48969ab188f899254f75": {
      "model_module": "@jupyter-widgets/controls",
      "model_module_version": "1.0.0",
      "model_name": "DescriptionStyleModel",
      "state": {
       "description_width": ""
      }
     },
     "4366038ed6b54df7a7846642ee205a42": {
      "model_module": "@jupyter-widgets/controls",
      "model_module_version": "1.0.0",
      "model_name": "VBoxModel",
      "state": {
       "children": [
        "IPY_MODEL_fc4d30054b2241b88a0b0ab39e1a26b6",
        "IPY_MODEL_864680acd6f04eb7b4d7b0d2816a4cc8"
       ],
       "layout": "IPY_MODEL_9d48127a963549eab45ecc87fb9a2647"
      }
     },
     "44612e5b73f347c986896dbfe598addb": {
      "model_module": "bqplot",
      "model_module_version": "^0.2.3",
      "model_name": "ColorScaleModel",
      "state": {
       "_model_name": "ColorScaleModel",
       "_view_name": "ColorScale",
       "colors": [
        "Red",
        "Green"
       ],
       "mid": null,
       "scale_type": "linear",
       "scheme": "RdYlGn"
      }
     },
     "4605cc1be9f54dbfad63d9eeb2548ac2": {
      "model_module": "bqplot",
      "model_module_version": "^0.2.3",
      "model_name": "ScatterModel",
      "state": {
       "_model_module": "bqplot",
       "_model_module_version": "^0.2.3",
       "_view_count": null,
       "_view_module": "bqplot",
       "_view_module_version": "^0.2.3",
       "apply_clip": true,
       "color": {
        "type": null,
        "values": null
       },
       "colors": [
        "Orange"
       ],
       "default_opacities": [
        0.6
       ],
       "default_size": 140,
       "display_legend": false,
       "display_names": false,
       "enable_hover": true,
       "hovered_style": {},
       "interactions": {
        "hover": "tooltip"
       },
       "labels": [],
       "marker": "triangle-up",
       "names": {
        "type": "<U9",
        "values": [
         "Load_Bus1"
        ]
       },
       "opacity": {
        "type": null,
        "values": null
       },
       "preserve_domain": {},
       "rotation": {
        "type": null,
        "values": null
       },
       "scales": {
        "x": "IPY_MODEL_2e34e6bff3c84130a1d4289eb2de8bfd",
        "y": "IPY_MODEL_70ed524deef745ca91eb6b33ac1fbfcd"
       },
       "scales_metadata": {
        "color": {
         "dimension": "color"
        },
        "opacity": {
         "dimension": "opacity"
        },
        "size": {
         "dimension": "size"
        },
        "x": {
         "dimension": "x",
         "orientation": "horizontal"
        },
        "y": {
         "dimension": "y",
         "orientation": "vertical"
        }
       },
       "selected": [],
       "selected_style": {
        "fill": "DarkOrange",
        "opacity": 0.8,
        "stroke": "Red"
       },
       "size": {
        "type": null,
        "values": null
       },
       "skew": {
        "type": null,
        "values": null
       },
       "tooltip": "IPY_MODEL_51ab678bbee04de293139975da8c657e",
       "tooltip_location": "mouse",
       "tooltip_style": {
        "opacity": 0.9
       },
       "unhovered_style": {},
       "unselected_style": {},
       "visible": true,
       "x": {
        "type": "float",
        "values": [
         1187.5
        ]
       },
       "y": {
        "type": "float",
        "values": [
         345.37
        ]
       }
      }
     },
     "4636dffc33604a718f629fdbd6da3b9d": {
      "model_module": "@jupyter-widgets/base",
      "model_module_version": "1.0.0",
      "model_name": "LayoutModel",
      "state": {}
     },
     "464b32df93f7471da0c6a994c929b191": {
      "model_module": "bqplot",
      "model_module_version": "^0.2.3",
      "model_name": "LinesModel",
      "state": {
       "color": {
        "type": null,
        "values": null
       },
       "colors": [
        "DeepSkyBlue"
       ],
       "display_legend": false,
       "fill_colors": [],
       "labels": [
        "C1"
       ],
       "opacities": [
        0.8
       ],
       "scales": {
        "x": "IPY_MODEL_ea5ac8e5f71a47a0bb757eb8b8730beb",
        "y": "IPY_MODEL_1f83238fb0904ec79cc1bd5e7dec7a9a"
       },
       "selected": [],
       "x": {
        "type": "float",
        "values": [
         143.73,
         92.662
        ]
       },
       "y": {
        "type": "float",
        "values": [
         156.45,
         164.99
        ]
       }
      }
     },
     "465c5e61831d4ab2873d371e052e85c0": {
      "model_module": "@jupyter-widgets/controls",
      "model_module_version": "1.0.0",
      "model_name": "DropdownModel",
      "state": {
       "_options_labels": [
        "All",
        "Bus1",
        "Bus2",
        "Bus3",
        "Bus4",
        "Bus5",
        "Bus6",
        "Bus7",
        "Bus8",
        "Bus9",
        "Bus10",
        "Bus11",
        "Bus12",
        "Bus13",
        "Bus14",
        "Bus15",
        "Bus16",
        "Bus17",
        "Bus18",
        "Bus19",
        "Bus20",
        "Bus21",
        "Bus22",
        "Bus23",
        "Bus24",
        "Bus25",
        "Bus26",
        "Bus27",
        "Bus28",
        "Bus29",
        "Bus30",
        "Bus31",
        "Bus32",
        "Bus33",
        "Bus34",
        "Bus35",
        "Bus36",
        "Bus37",
        "Bus38",
        "Bus39",
        "Bus40",
        "Bus41",
        "Bus42",
        "Bus43",
        "Bus44",
        "Bus45",
        "Bus46",
        "Bus47",
        "Bus48",
        "Bus49",
        "Bus50",
        "Bus51",
        "Bus52",
        "Bus53",
        "Bus54",
        "Bus55",
        "Bus56",
        "Bus57",
        "Bus58",
        "Bus59",
        "Bus60",
        "Bus61",
        "Bus62",
        "Bus63",
        "Bus64",
        "Bus65",
        "Bus66",
        "Bus67",
        "Bus68",
        "Bus69",
        "Bus70",
        "Bus71",
        "Bus72",
        "Bus73",
        "Bus74",
        "Bus75",
        "Bus76",
        "Bus77",
        "Bus78",
        "Bus79",
        "Bus80",
        "Bus81",
        "Bus82",
        "Bus83",
        "Bus84",
        "Bus85",
        "Bus86",
        "Bus87",
        "Bus88",
        "Bus89",
        "Bus90",
        "Bus91",
        "Bus92",
        "Bus93",
        "Bus94",
        "Bus95",
        "Bus96",
        "Bus97",
        "Bus98",
        "Bus99",
        "Bus100",
        "Bus101",
        "Bus102",
        "Bus103",
        "Bus104",
        "Bus105",
        "Bus106",
        "Bus107",
        "Bus108",
        "Bus109",
        "Bus110",
        "Bus111",
        "Bus112",
        "Bus113",
        "Bus114",
        "Bus115",
        "Bus116",
        "Bus117",
        "Bus118"
       ],
       "description": "Start at:",
       "index": 1,
       "layout": "IPY_MODEL_173cf3ce10ff49d2b87d44ddd1a0a37b",
       "style": "IPY_MODEL_4194e8c2c9f1433193f60f81d025d1b6"
      }
     },
     "467fff3869694c638fcd8c5bae3982da": {
      "model_module": "@jupyter-widgets/base",
      "model_module_version": "1.0.0",
      "model_name": "LayoutModel",
      "state": {
       "align_items": "center",
       "border": "groove Gray 2px"
      }
     },
     "4694c3ef97e34cb4841d31ba9f5a3501": {
      "model_module": "@jupyter-widgets/base",
      "model_module_version": "1.0.0",
      "model_name": "LayoutModel",
      "state": {
       "align_items": "center",
       "border": "groove Gray 2px"
      }
     },
     "46bc537531824cc3886790401b26f304": {
      "model_module": "bqplot",
      "model_module_version": "^0.2.3",
      "model_name": "LinesModel",
      "state": {
       "color": {
        "type": null,
        "values": null
       },
       "colors": [
        "Orange"
       ],
       "display_legend": false,
       "fill_colors": [],
       "labels": [
        "C1"
       ],
       "opacities": [
        0.8
       ],
       "scales": {
        "x": "IPY_MODEL_c154051cb98e451cbd2e9cda8957154b",
        "y": "IPY_MODEL_ed3882f3df2042ac8b26041ddf8939a9"
       },
       "selected": [],
       "stroke_width": 1.5,
       "x": {
        "type": "float",
        "values": [
         92.662,
         59.402
        ]
       },
       "y": {
        "type": "float",
        "values": [
         164.99,
         155.95
        ]
       }
      }
     },
     "4768baafe9234ccdb8d909a0ce4ef76b": {
      "model_module": "@jupyter-widgets/controls",
      "model_module_version": "1.0.0",
      "model_name": "DescriptionStyleModel",
      "state": {
       "description_width": ""
      }
     },
     "495a8687d8254c049ffab836455dc54d": {
      "model_module": "bqplot",
      "model_module_version": "^0.2.3",
      "model_name": "TooltipModel",
      "state": {
       "fields": [
        "name"
       ],
       "layout": "IPY_MODEL_fe482839fdbc4c4ab859d8ca563a65fa"
      }
     },
     "4a26177e8a2b4420b9c7db27f2b54b06": {
      "model_module": "@jupyter-widgets/controls",
      "model_module_version": "1.0.0",
      "model_name": "DescriptionStyleModel",
      "state": {
       "description_width": ""
      }
     },
     "4a474c8b365b4a5aad00eea89680a9f4": {
      "model_module": "@jupyter-widgets/controls",
      "model_module_version": "1.0.0",
      "model_name": "LabelModel",
      "state": {
       "layout": "IPY_MODEL_e0d9c46c256a4095a834cade87aa1056",
       "style": "IPY_MODEL_ca667810ed0440018838eab1a10be125",
       "value": "--------------------"
      }
     },
     "4a4e3aa42888477386fa3803f698c5ff": {
      "model_module": "@jupyter-widgets/controls",
      "model_module_version": "1.0.0",
      "model_name": "CheckboxModel",
      "state": {
       "description": "Show generators",
       "disabled": false,
       "indent": false,
       "layout": "IPY_MODEL_fea8d927f5b74ad4b231799050617ae9",
       "style": "IPY_MODEL_2df0296042c24e8680c8e83889289768",
       "value": true
      }
     },
     "4b68cf3610e742cdaaa82df014ceda41": {
      "model_module": "@jupyter-widgets/base",
      "model_module_version": "1.0.0",
      "model_name": "LayoutModel",
      "state": {}
     },
     "4c2efea1b7bf4951ac455b154655a74f": {
      "model_module": "@jupyter-widgets/controls",
      "model_module_version": "1.0.0",
      "model_name": "DropdownModel",
      "state": {
       "_options_labels": [
        "All",
        "Bus1",
        "Bus2",
        "Bus3",
        "Bus4",
        "Bus5",
        "Bus6",
        "Bus7",
        "Bus8",
        "Bus9",
        "Bus10",
        "Bus11",
        "Bus12",
        "Bus13",
        "Bus14",
        "Bus15",
        "Bus16",
        "Bus17",
        "Bus18",
        "Bus19",
        "Bus20",
        "Bus21",
        "Bus22",
        "Bus23",
        "Bus24",
        "Bus25",
        "Bus26",
        "Bus27",
        "Bus28",
        "Bus29",
        "Bus30",
        "Bus31",
        "Bus32",
        "Bus33",
        "Bus34",
        "Bus35",
        "Bus36",
        "Bus37",
        "Bus38",
        "Bus39",
        "Bus40",
        "Bus41",
        "Bus42",
        "Bus43",
        "Bus44",
        "Bus45",
        "Bus46",
        "Bus47",
        "Bus48",
        "Bus49",
        "Bus50",
        "Bus51",
        "Bus52",
        "Bus53",
        "Bus54",
        "Bus55",
        "Bus56",
        "Bus57",
        "Bus58",
        "Bus59",
        "Bus60",
        "Bus61",
        "Bus62",
        "Bus63",
        "Bus64",
        "Bus65",
        "Bus66",
        "Bus67",
        "Bus68",
        "Bus69",
        "Bus70",
        "Bus71",
        "Bus72",
        "Bus73",
        "Bus74",
        "Bus75",
        "Bus76",
        "Bus77",
        "Bus78",
        "Bus79",
        "Bus80",
        "Bus81",
        "Bus82",
        "Bus83",
        "Bus84",
        "Bus85",
        "Bus86",
        "Bus87",
        "Bus88",
        "Bus89",
        "Bus90",
        "Bus91",
        "Bus92",
        "Bus93",
        "Bus94",
        "Bus95",
        "Bus96",
        "Bus97",
        "Bus98",
        "Bus99",
        "Bus100",
        "Bus101",
        "Bus102",
        "Bus103",
        "Bus104",
        "Bus105",
        "Bus106",
        "Bus107",
        "Bus108",
        "Bus109",
        "Bus110",
        "Bus111",
        "Bus112",
        "Bus113",
        "Bus114",
        "Bus115",
        "Bus116",
        "Bus117",
        "Bus118"
       ],
       "description": "Start at:",
       "index": 1,
       "layout": "IPY_MODEL_9251ad113d964b70a5f865e9ccbc85eb",
       "style": "IPY_MODEL_e893045c4b7d46b49831488b61f37843"
      }
     },
     "4c7ca8105e864b569fa8c8872bcb24f7": {
      "model_module": "@jupyter-widgets/controls",
      "model_module_version": "1.0.0",
      "model_name": "ButtonStyleModel",
      "state": {}
     },
     "4ccef8bde13d4b0797c8e4543b11b4e9": {
      "model_module": "bqplot",
      "model_module_version": "^0.2.3",
      "model_name": "LinesModel",
      "state": {
       "color": {
        "type": null,
        "values": null
       },
       "colors": [
        "Orange"
       ],
       "display_legend": false,
       "fill_colors": [],
       "labels": [
        "C1"
       ],
       "opacities": [
        0.8
       ],
       "scales": {
        "x": "IPY_MODEL_2b8fe8e0573042fa8c20078316645d3e",
        "y": "IPY_MODEL_d898f958de5542ae884ed9eaa86cef77"
       },
       "selected": [],
       "stroke_width": 1.5,
       "x": {
        "type": "float",
        "values": [
         1158.9,
         1187.5
        ]
       },
       "y": {
        "type": "float",
        "values": [
         324.05,
         345.37
        ]
       }
      }
     },
     "4d18b8fffaf94d28a5c550a8000cb5d9": {
      "model_module": "bqplot",
      "model_module_version": "^0.2.3",
      "model_name": "ScatterModel",
      "state": {
       "_model_module": "bqplot",
       "_model_module_version": "^0.2.3",
       "_view_count": null,
       "_view_module": "bqplot",
       "_view_module_version": "^0.2.3",
       "apply_clip": true,
       "color": {
        "type": null,
        "values": null
       },
       "colors": [
        "LightGreen"
       ],
       "default_opacities": [
        0.6
       ],
       "default_size": 150,
       "display_legend": false,
       "display_names": false,
       "enable_hover": true,
       "hovered_style": {},
       "interactions": {
        "hover": "tooltip"
       },
       "labels": [],
       "names": {
        "type": "<U6",
        "values": [
         "GenCo0"
        ]
       },
       "opacity": {
        "type": null,
        "values": null
       },
       "preserve_domain": {},
       "rotation": {
        "type": null,
        "values": null
       },
       "scales": {
        "x": "IPY_MODEL_01b0b239610d41a692695acccecdc0b0",
        "y": "IPY_MODEL_868c3325509e45cb964ac872dbe37e41"
       },
       "scales_metadata": {
        "color": {
         "dimension": "color"
        },
        "opacity": {
         "dimension": "opacity"
        },
        "size": {
         "dimension": "size"
        },
        "x": {
         "dimension": "x",
         "orientation": "horizontal"
        },
        "y": {
         "dimension": "y",
         "orientation": "vertical"
        }
       },
       "selected": [],
       "selected_style": {
        "fill": "DarkGreen",
        "opacity": 0.8,
        "stroke": "Green"
       },
       "size": {
        "type": null,
        "values": null
       },
       "skew": {
        "type": null,
        "values": null
       },
       "tooltip": "IPY_MODEL_8815610f63e044cebbeff2fc238a74c9",
       "tooltip_location": "mouse",
       "tooltip_style": {
        "opacity": 0.9
       },
       "unhovered_style": {},
       "unselected_style": {},
       "visible": true,
       "x": {
        "type": "float",
        "values": [
         1196
        ]
       },
       "y": {
        "type": "float",
        "values": [
         320.62
        ]
       }
      }
     },
     "4e0a3e0cf33e4976a00d278fa963392e": {
      "model_module": "@jupyter-widgets/controls",
      "model_module_version": "1.0.0",
      "model_name": "DescriptionStyleModel",
      "state": {
       "description_width": ""
      }
     },
     "4e536a1ec0d44ea8832d3571ce5c35d0": {
      "model_module": "@jupyter-widgets/base",
      "model_module_version": "1.0.0",
      "model_name": "LayoutModel",
      "state": {}
     },
     "4edbaefe74f14ef5a4268fcad6c9dbfa": {
      "model_module": "@jupyter-widgets/base",
      "model_module_version": "1.0.0",
      "model_name": "LayoutModel",
      "state": {}
     },
     "508bfefb41514cda9dc08e034a0745c6": {
      "model_module": "@jupyter-widgets/controls",
      "model_module_version": "1.0.0",
      "model_name": "DescriptionStyleModel",
      "state": {
       "description_width": ""
      }
     },
     "509770619d4e436fa962c1e1cf034153": {
      "model_module": "@jupyter-widgets/controls",
      "model_module_version": "1.0.0",
      "model_name": "DescriptionStyleModel",
      "state": {
       "description_width": ""
      }
     },
     "509c861f05084efead676bb4d6aef64c": {
      "model_module": "@jupyter-widgets/base",
      "model_module_version": "1.0.0",
      "model_name": "LayoutModel",
      "state": {}
     },
     "50e10f1471544eb9b52881c9751d7765": {
      "model_module": "@jupyter-widgets/controls",
      "model_module_version": "1.0.0",
      "model_name": "LabelModel",
      "state": {
       "layout": "IPY_MODEL_fab13eb6e75848cd9a89557fc11a5c0b",
       "style": "IPY_MODEL_dfc0cc837e8145569942b1bb8859d6f9",
       "value": "--------------------"
      }
     },
     "5179a8b7c90647af840fc0d941aa0bc9": {
      "model_module": "@jupyter-widgets/controls",
      "model_module_version": "1.0.0",
      "model_name": "DescriptionStyleModel",
      "state": {
       "description_width": ""
      }
     },
     "51ab678bbee04de293139975da8c657e": {
      "model_module": "bqplot",
      "model_module_version": "^0.2.3",
      "model_name": "TooltipModel",
      "state": {
       "fields": [
        "name"
       ],
       "layout": "IPY_MODEL_097a1dcf3a5649c3ba209371e4e33757"
      }
     },
     "526e468afeb44ec99304b4744bf4f16c": {
      "model_module": "@jupyter-widgets/base",
      "model_module_version": "1.0.0",
      "model_name": "LayoutModel",
      "state": {}
     },
     "530c4e5d84fd4296bfabc8c92970ede5": {
      "model_module": "bqplot",
      "model_module_version": "^0.2.3",
      "model_name": "LinesModel",
      "state": {
       "color": {
        "type": null,
        "values": null
       },
       "colors": [
        "gray"
       ],
       "display_legend": false,
       "fill_colors": [],
       "labels": [
        "C1",
        "C2",
        "C3",
        "C4",
        "C5",
        "C6",
        "C7",
        "C8",
        "C9",
        "C10",
        "C11",
        "C12",
        "C13",
        "C14",
        "C15",
        "C16",
        "C17",
        "C18",
        "C19",
        "C20",
        "C21",
        "C22",
        "C23",
        "C24",
        "C25",
        "C26",
        "C27",
        "C28",
        "C29",
        "C30",
        "C31",
        "C32",
        "C33",
        "C34",
        "C35",
        "C36",
        "C37",
        "C38",
        "C39",
        "C40",
        "C41",
        "C42",
        "C43",
        "C44",
        "C45",
        "C46",
        "C47",
        "C48",
        "C49",
        "C50",
        "C51",
        "C52",
        "C53",
        "C54",
        "C55",
        "C56",
        "C57",
        "C58",
        "C59",
        "C60",
        "C61",
        "C62",
        "C63",
        "C64",
        "C65",
        "C66",
        "C67",
        "C68",
        "C69",
        "C70",
        "C71",
        "C72",
        "C73",
        "C74",
        "C75",
        "C76",
        "C77",
        "C78",
        "C79",
        "C80",
        "C81",
        "C82",
        "C83",
        "C84",
        "C85",
        "C86",
        "C87",
        "C88",
        "C89",
        "C90",
        "C91",
        "C92",
        "C93",
        "C94",
        "C95",
        "C96",
        "C97",
        "C98",
        "C99",
        "C100",
        "C101",
        "C102",
        "C103",
        "C104",
        "C105",
        "C106",
        "C107",
        "C108",
        "C109",
        "C110",
        "C111",
        "C112",
        "C113",
        "C114",
        "C115",
        "C116",
        "C117",
        "C118",
        "C119",
        "C120",
        "C121",
        "C122",
        "C123",
        "C124",
        "C125",
        "C126",
        "C127",
        "C128",
        "C129",
        "C130",
        "C131",
        "C132",
        "C133",
        "C134",
        "C135",
        "C136",
        "C137",
        "C138",
        "C139",
        "C140",
        "C141",
        "C142",
        "C143",
        "C144",
        "C145",
        "C146",
        "C147",
        "C148",
        "C149",
        "C150",
        "C151",
        "C152",
        "C153",
        "C154",
        "C155",
        "C156",
        "C157",
        "C158",
        "C159",
        "C160",
        "C161",
        "C162",
        "C163",
        "C164",
        "C165",
        "C166",
        "C167",
        "C168",
        "C169",
        "C170",
        "C171",
        "C172",
        "C173",
        "C174",
        "C175",
        "C176",
        "C177",
        "C178",
        "C179",
        "C180",
        "C181",
        "C182",
        "C183",
        "C184",
        "C185",
        "C186",
        "C187",
        "C188",
        "C189",
        "C190",
        "C191",
        "C192",
        "C193",
        "C194",
        "C195",
        "C196",
        "C197",
        "C198",
        "C199",
        "C200",
        "C201",
        "C202",
        "C203",
        "C204",
        "C205",
        "C206",
        "C207",
        "C208",
        "C209",
        "C210",
        "C211",
        "C212",
        "C213",
        "C214",
        "C215",
        "C216",
        "C217",
        "C218",
        "C219",
        "C220",
        "C221",
        "C222",
        "C223",
        "C224",
        "C225",
        "C226",
        "C227",
        "C228",
        "C229",
        "C230",
        "C231",
        "C232",
        "C233",
        "C234",
        "C235",
        "C236",
        "C237",
        "C238",
        "C239",
        "C240",
        "C241",
        "C242",
        "C243",
        "C244",
        "C245",
        "C246",
        "C247",
        "C248",
        "C249",
        "C250",
        "C251",
        "C252",
        "C253",
        "C254",
        "C255",
        "C256",
        "C257",
        "C258",
        "C259",
        "C260",
        "C261",
        "C262",
        "C263",
        "C264",
        "C265",
        "C266",
        "C267",
        "C268",
        "C269",
        "C270",
        "C271",
        "C272",
        "C273",
        "C274",
        "C275",
        "C276",
        "C277",
        "C278",
        "C279",
        "C280",
        "C281",
        "C282",
        "C283",
        "C284",
        "C285",
        "C286",
        "C287",
        "C288",
        "C289",
        "C290",
        "C291",
        "C292",
        "C293",
        "C294",
        "C295",
        "C296",
        "C297",
        "C298",
        "C299",
        "C300",
        "C301",
        "C302",
        "C303",
        "C304",
        "C305",
        "C306",
        "C307",
        "C308",
        "C309",
        "C310",
        "C311",
        "C312",
        "C313",
        "C314",
        "C315",
        "C316",
        "C317",
        "C318",
        "C319",
        "C320",
        "C321",
        "C322",
        "C323",
        "C324",
        "C325",
        "C326",
        "C327",
        "C328",
        "C329",
        "C330",
        "C331",
        "C332",
        "C333",
        "C334",
        "C335",
        "C336",
        "C337",
        "C338",
        "C339",
        "C340",
        "C341",
        "C342",
        "C343",
        "C344",
        "C345",
        "C346",
        "C347",
        "C348",
        "C349",
        "C350",
        "C351"
       ],
       "line_style": "dotted",
       "marker": "circle",
       "marker_size": 30,
       "opacities": [
        0.05
       ],
       "scales": {
        "x": "IPY_MODEL_2e34e6bff3c84130a1d4289eb2de8bfd",
        "y": "IPY_MODEL_70ed524deef745ca91eb6b33ac1fbfcd"
       },
       "selected": [],
       "stroke_width": 1,
       "x": {
        "type": "float",
        "values": [
         [
          1158.9,
          1196
         ],
         [
          1158.9,
          1122.6
         ],
         [
          1158.9,
          1113.9
         ],
         [
          1158.9,
          1187.5
         ],
         [
          1122.6,
          1069.8
         ],
         [
          1122.6,
          1148.2
         ],
         [
          1113.9,
          1064.9
         ],
         [
          1113.9,
          1069.8
         ],
         [
          1113.9,
          1151.1
         ],
         [
          1099.5,
          1130.4
         ],
         [
          1099.5,
          1064.9
         ],
         [
          1099.5,
          1053.1
         ],
         [
          1099.5,
          1140.7
         ],
         [
          1064.9,
          1102.3
         ],
         [
          1064.9,
          990.08
         ],
         [
          1064.9,
          1053.1
         ],
         [
          1064.9,
          1077.8
         ],
         [
          1102.3,
          1133.9
         ],
         [
          1102.3,
          1103.4
         ],
         [
          1102.3,
          1109.8
         ],
         [
          1103.4,
          1069.8
         ],
         [
          1103.4,
          1131.5
         ],
         [
          990.08,
          1003.1
         ],
         [
          990.08,
          1005.2
         ],
         [
          990.08,
          905.69
         ],
         [
          990.08,
          979.43
         ],
         [
          1005.2,
          1009.6
         ],
         [
          1005.2,
          1022.4
         ],
         [
          1009.6,
          1029.1
         ],
         [
          1009.6,
          1005.4
         ],
         [
          1053.1,
          1069.8
         ],
         [
          1053.1,
          996.41
         ],
         [
          1053.1,
          1063.4
         ],
         [
          1069.8,
          1070.5
         ],
         [
          1069.8,
          1008.6
         ],
         [
          1069.8,
          1013.7
         ],
         [
          1069.8,
          1093.6
         ],
         [
          1069.8,
          1091.9
         ],
         [
          996.41,
          941.82
         ],
         [
          996.41,
          998.56
         ],
         [
          1008.6,
          941.82
         ],
         [
          1008.6,
          1030.3
         ],
         [
          941.82,
          962.08
         ],
         [
          941.82,
          943.68
         ],
         [
          941.82,
          870.96
         ],
         [
          941.82,
          893.9
         ],
         [
          941.82,
          941.92
         ],
         [
          1013.7,
          943.68
         ],
         [
          1013.7,
          1028
         ],
         [
          943.68,
          908.37
         ],
         [
          943.68,
          905.69
         ],
         [
          943.68,
          936.25
         ],
         [
          943.68,
          915.07
         ],
         [
          943.68,
          965.19
         ],
         [
          908.37,
          915.51
         ],
         [
          908.37,
          870.96
         ],
         [
          908.37,
          928.62
         ],
         [
          870.96,
          861.09
         ],
         [
          870.96,
          828.99
         ],
         [
          870.96,
          813.07
         ],
         [
          870.96,
          876.69
         ],
         [
          828.99,
          795.01
         ],
         [
          828.99,
          804.73
         ],
         [
          795.01,
          771.01
         ],
         [
          795.01,
          768.76
         ],
         [
          771.01,
          789.92
         ],
         [
          771.01,
          750.95
         ],
         [
          789.92,
          696.21
         ],
         [
          789.92,
          843.32
         ],
         [
          789.92,
          873.39
         ],
         [
          789.92,
          780.29
         ],
         [
          696.21,
          680.46
         ],
         [
          696.21,
          619.29
         ],
         [
          696.21,
          656.2
         ],
         [
          696.21,
          705.62
         ],
         [
          843.32,
          819.69
         ],
         [
          843.32,
          874.85
         ],
         [
          843.32,
          869.15
         ],
         [
          843.32,
          828.56
         ],
         [
          874.85,
          857.37
         ],
         [
          874.85,
          905.69
         ],
         [
          874.85,
          885.79
         ],
         [
          869.15,
          858.39
         ],
         [
          869.15,
          918.48
         ],
         [
          869.15,
          873.39
         ],
         [
          869.15,
          880.81
         ],
         [
          869.15,
          842.78
         ],
         [
          918.48,
          946.43
         ],
         [
          918.48,
          939.18
         ],
         [
          946.43,
          936.25
         ],
         [
          946.43,
          972.86
         ],
         [
          905.69,
          825.02
         ],
         [
          905.69,
          922.23
         ],
         [
          936.25,
          969.91
         ],
         [
          936.25,
          873.39
         ],
         [
          936.25,
          962.19
         ],
         [
          873.39,
          853.47
         ],
         [
          873.39,
          915.07
         ],
         [
          873.39,
          888.85
         ],
         [
          873.39,
          893.51
         ],
         [
          893.9,
          830.9
         ],
         [
          893.9,
          913.35
         ],
         [
          813.07,
          801.3
         ],
         [
          813.07,
          831.35
         ],
         [
          813.07,
          830.9
         ],
         [
          813.07,
          753.16
         ],
         [
          813.07,
          784.26
         ],
         [
          813.74,
          831.35
         ],
         [
          813.74,
          830.9
         ],
         [
          813.74,
          788.5
         ],
         [
          831.35,
          858.03
         ],
         [
          831.35,
          834.68
         ],
         [
          830.9,
          825.02
         ],
         [
          830.9,
          818.02
         ],
         [
          830.9,
          776.96
         ],
         [
          830.9,
          853.66
         ],
         [
          825.02,
          732.91
         ],
         [
          825.02,
          855.64
         ],
         [
          818.02,
          776.96
         ],
         [
          818.02,
          840.88
         ],
         [
          776.96,
          769.23
         ],
         [
          776.96,
          749.05
         ],
         [
          776.96,
          713.11
         ],
         [
          776.96,
          775.96
         ],
         [
          749.05,
          713.11
         ],
         [
          749.05,
          765.5
         ],
         [
          713.11,
          700.04
         ],
         [
          713.11,
          643.56
         ],
         [
          713.11,
          698.13
         ],
         [
          753.16,
          701.8
         ],
         [
          753.16,
          736.35
         ],
         [
          701.8,
          656.2
         ],
         [
          701.8,
          693.2
         ],
         [
          656.2,
          610.13
         ],
         [
          656.2,
          643.56
         ],
         [
          656.2,
          658.65
         ],
         [
          610.13,
          582.81
         ],
         [
          610.13,
          611.12
         ],
         [
          610.13,
          606.72
         ],
         [
          610.13,
          574.04
         ],
         [
          611.12,
          643.56
         ],
         [
          611.12,
          588.6
         ],
         [
          611.12,
          585.36
         ],
         [
          606.72,
          643.56
         ],
         [
          606.72,
          574.27
         ],
         [
          643.56,
          631.12
         ],
         [
          643.56,
          631.17
         ],
         [
          643.56,
          615.83
         ],
         [
          643.56,
          663.35
         ],
         [
          643.56,
          711.86
         ],
         [
          643.56,
          588.6
         ],
         [
          643.56,
          657.29
         ],
         [
          631.17,
          636.43
         ],
         [
          631.17,
          599.63
         ],
         [
          615.83,
          588.15
         ],
         [
          615.83,
          630.53
         ],
         [
          615.83,
          581.46
         ],
         [
          588.15,
          617.36
         ],
         [
          588.15,
          562.85
         ],
         [
          617.36,
          663.35
         ],
         [
          617.36,
          598.42
         ],
         [
          663.35,
          681.4
         ],
         [
          663.35,
          687.35
         ],
         [
          663.35,
          665.33
         ],
         [
          663.35,
          715.87
         ],
         [
          663.35,
          653.13
         ],
         [
          687.35,
          694.06
         ],
         [
          687.35,
          665.33
         ],
         [
          687.35,
          715.87
         ],
         [
          687.35,
          708.55
         ],
         [
          665.33,
          670.89
         ],
         [
          665.33,
          636.43
         ],
         [
          665.33,
          630.53
         ],
         [
          665.33,
          715.87
         ],
         [
          665.33,
          652.55
         ],
         [
          636.43,
          607.58
         ],
         [
          630.53,
          622.61
         ],
         [
          715.87,
          736.95
         ],
         [
          715.87,
          751.27
         ],
         [
          715.87,
          763.94
         ],
         [
          715.87,
          748.18
         ],
         [
          715.87,
          719.38
         ],
         [
          751.27,
          763.94
         ],
         [
          751.27,
          752.65
         ],
         [
          751.27,
          767.7
         ],
         [
          763.94,
          786.41
         ],
         [
          763.94,
          752.65
         ],
         [
          763.94,
          755.85
         ],
         [
          763.94,
          803.65
         ],
         [
          752.65,
          786.34
         ],
         [
          752.65,
          711.86
         ],
         [
          752.65,
          726.76
         ],
         [
          752.65,
          791.19
         ],
         [
          748.18,
          755.85
         ],
         [
          748.18,
          778.97
         ],
         [
          755.85,
          732.91
         ],
         [
          755.85,
          789.9
         ],
         [
          732.91,
          756.53
         ],
         [
          732.91,
          711.86
         ],
         [
          732.91,
          619.16
         ],
         [
          732.91,
          780.57
         ],
         [
          711.86,
          696.15
         ],
         [
          711.86,
          726.76
         ],
         [
          711.86,
          733.34
         ],
         [
          726.76,
          721.9
         ],
         [
          619.16,
          588.6
         ],
         [
          619.16,
          518.12
         ],
         [
          619.16,
          577.27
         ],
         [
          619.16,
          627.87
         ],
         [
          588.6,
          591.34
         ],
         [
          588.6,
          619.29
         ],
         [
          588.6,
          561.07
         ],
         [
          588.6,
          490.44
         ],
         [
          588.6,
          565.17
         ],
         [
          619.29,
          645.28
         ],
         [
          619.29,
          620.14
         ],
         [
          619.29,
          580.95
         ],
         [
          619.29,
          561.07
         ],
         [
          619.29,
          622.4
         ],
         [
          620.14,
          656.2
         ],
         [
          620.14,
          601.41
         ],
         [
          620.14,
          602.18
         ],
         [
          656.2,
          667.56
         ],
         [
          656.2,
          644.31
         ],
         [
          601.41,
          602.28
         ],
         [
          601.41,
          578.63
         ],
         [
          580.95,
          581.27
         ],
         [
          580.95,
          561.07
         ],
         [
          580.95,
          560.17
         ],
         [
          561.07,
          490.44
         ],
         [
          561.07,
          529.78
         ],
         [
          561.07,
          572
         ],
         [
          496.42,
          493.49
         ],
         [
          496.42,
          490.44
         ],
         [
          496.42,
          529.78
         ],
         [
          496.42,
          475.1
         ],
         [
          490.44,
          479.21
         ],
         [
          490.44,
          461.26
         ],
         [
          490.44,
          419.27
         ],
         [
          490.44,
          398.83
         ],
         [
          490.44,
          504.02
         ],
         [
          461.26,
          435.4
         ],
         [
          461.26,
          455.25
         ],
         [
          435.4,
          419.27
         ],
         [
          435.4,
          432.78
         ],
         [
          419.27,
          410.2
         ],
         [
          419.27,
          518.12
         ],
         [
          419.27,
          361.71
         ],
         [
          419.27,
          388.06
         ],
         [
          419.27,
          354.03
         ],
         [
          419.27,
          342.18
         ],
         [
          419.27,
          421.65
         ],
         [
          518.12,
          507.49
         ],
         [
          398.83,
          326.78
         ],
         [
          398.83,
          361.71
         ],
         [
          398.83,
          388.76
         ],
         [
          326.78,
          295.41
         ],
         [
          326.78,
          259
         ],
         [
          326.78,
          333.24
         ],
         [
          295.41,
          259
         ],
         [
          295.41,
          298.04
         ],
         [
          259,
          265.04
         ],
         [
          259,
          218.47
         ],
         [
          259,
          223.57
         ],
         [
          259,
          225.17
         ],
         [
          259,
          240.69
         ],
         [
          218.47,
          181.43
         ],
         [
          218.47,
          211.19
         ],
         [
          181.43,
          150.94
         ],
         [
          181.43,
          169
         ],
         [
          223.57,
          225.17
         ],
         [
          223.57,
          194.81
         ],
         [
          225.17,
          183.59
         ],
         [
          225.17,
          211.22
         ],
         [
          225.17,
          240.95
         ],
         [
          225.17,
          197.5
         ],
         [
          211.22,
          238.73
         ],
         [
          211.22,
          193.86
         ],
         [
          211.22,
          199.72
         ],
         [
          193.86,
          166.1
         ],
         [
          193.86,
          240.95
         ],
         [
          193.86,
          156.15
         ],
         [
          240.95,
          216.92
         ],
         [
          240.95,
          266.31
         ],
         [
          240.95,
          296.13
         ],
         [
          240.95,
          274.05
         ],
         [
          240.95,
          211.39
         ],
         [
          240.95,
          220.63
         ],
         [
          266.31,
          296.13
         ],
         [
          266.31,
          262.98
         ],
         [
          296.13,
          324.79
         ],
         [
          296.13,
          361.71
         ],
         [
          296.13,
          274.05
         ],
         [
          296.13,
          289.61
         ],
         [
          324.79,
          361.71
         ],
         [
          324.79,
          318
         ],
         [
          361.71,
          388.06
         ],
         [
          361.71,
          354.23
         ],
         [
          388.06,
          390.69
         ],
         [
          354.03,
          274.05
         ],
         [
          354.03,
          368.7
         ],
         [
          342.18,
          341.56
         ],
         [
          342.18,
          274.05
         ],
         [
          342.18,
          321.7
         ],
         [
          274.05,
          264.2
         ],
         [
          274.05,
          231.25
         ],
         [
          274.05,
          207.82
         ],
         [
          274.05,
          238.59
         ],
         [
          274.05,
          261.96
         ],
         [
          274.05,
          292.19
         ],
         [
          231.25,
          211.39
         ],
         [
          231.25,
          200.58
         ],
         [
          211.39,
          176.48
         ],
         [
          207.82,
          176.56
         ],
         [
          207.82,
          238.59
         ],
         [
          207.82,
          232.8
         ],
         [
          207.82,
          143.73
         ],
         [
          207.82,
          179.91
         ],
         [
          238.59,
          217.46
         ],
         [
          238.59,
          232.8
         ],
         [
          238.59,
          226.83
         ],
         [
          232.8,
          250.7
         ],
         [
          232.8,
          261.96
         ],
         [
          232.8,
          249.45
         ],
         [
          232.8,
          196.03
         ],
         [
          232.8,
          262.08
         ],
         [
          261.96,
          249.45
         ],
         [
          261.96,
          286.2
         ],
         [
          249.45,
          238.42
         ],
         [
          249.45,
          267.27
         ],
         [
          196.03,
          160.19
         ],
         [
          196.03,
          188.64
         ],
         [
          160.19,
          143.73
         ],
         [
          160.19,
          145.96
         ],
         [
          143.73,
          138.1
         ],
         [
          143.73,
          103.27
         ],
         [
          143.73,
          92.662
         ],
         [
          143.73,
          119.31
         ],
         [
          103.27,
          87.963
         ],
         [
          103.27,
          71.985
         ],
         [
          92.662,
          64.904
         ],
         [
          92.662,
          59.402
         ],
         [
          915.07,
          921.3
         ],
         [
          915.07,
          906.19
         ],
         [
          888.85,
          880.81
         ],
         [
          888.85,
          905.51
         ],
         [
          880.81,
          883.64
         ],
         [
          577.27,
          549.39
         ],
         [
          577.27,
          550.62
         ],
         [
          1093.6,
          1112.5
         ],
         [
          529.78,
          526.1
         ]
        ]
       },
       "y": {
        "type": "float",
        "values": [
         [
          324.05,
          320.62
         ],
         [
          324.05,
          327.16
         ],
         [
          324.05,
          302.78
         ],
         [
          324.05,
          345.37
         ],
         [
          327.16,
          302.07
         ],
         [
          327.16,
          351.44
         ],
         [
          302.78,
          282.93
         ],
         [
          302.78,
          302.07
         ],
         [
          302.78,
          298.64
         ],
         [
          259.38,
          237.6
         ],
         [
          259.38,
          282.93
         ],
         [
          259.38,
          267.16
         ],
         [
          259.38,
          254.51
         ],
         [
          282.93,
          241.2
         ],
         [
          282.93,
          320.32
         ],
         [
          282.93,
          267.16
         ],
         [
          282.93,
          261.5
         ],
         [
          241.2,
          214.69
         ],
         [
          241.2,
          278.84
         ],
         [
          241.2,
          205.65
         ],
         [
          278.84,
          302.07
         ],
         [
          278.84,
          279.02
         ],
         [
          320.32,
          346.3
         ],
         [
          320.32,
          377.99
         ],
         [
          320.32,
          297.29
         ],
         [
          320.32,
          346.61
         ],
         [
          377.99,
          425.18
         ],
         [
          377.99,
          397.85
         ],
         [
          425.18,
          447.94
         ],
         [
          425.18,
          457.44
         ],
         [
          267.16,
          302.07
         ],
         [
          267.16,
          272.94
         ],
         [
          267.16,
          234.24
         ],
         [
          302.07,
          330.12
         ],
         [
          302.07,
          301.1
         ],
         [
          302.07,
          259.46
         ],
         [
          302.07,
          345.22
         ],
         [
          302.07,
          316.13
         ],
         [
          272.94,
          291.76
         ],
         [
          272.94,
          243.09
         ],
         [
          301.1,
          291.76
         ],
         [
          301.1,
          318.76
         ],
         [
          291.76,
          304.4
         ],
         [
          291.76,
          235.45
         ],
         [
          291.76,
          281.68
         ],
         [
          291.76,
          345.19
         ],
         [
          291.76,
          274.56
         ],
         [
          259.46,
          235.45
         ],
         [
          259.46,
          228.86
         ],
         [
          235.45,
          254.61
         ],
         [
          235.45,
          297.29
         ],
         [
          235.45,
          161.11
         ],
         [
          235.45,
          180.61
         ],
         [
          235.45,
          213.89
         ],
         [
          254.61,
          232.37
         ],
         [
          254.61,
          281.68
         ],
         [
          254.61,
          249.04
         ],
         [
          281.68,
          260.28
         ],
         [
          281.68,
          243.13
         ],
         [
          281.68,
          326.25
         ],
         [
          281.68,
          299.46
         ],
         [
          243.13,
          206.5
         ],
         [
          243.13,
          235.8
         ],
         [
          206.5,
          172.32
         ],
         [
          206.5,
          200.77
         ],
         [
          172.32,
          165.26
         ],
         [
          172.32,
          145.37
         ],
         [
          165.26,
          209.06
         ],
         [
          165.26,
          156.41
         ],
         [
          165.26,
          138.58
         ],
         [
          165.26,
          130.94
         ],
         [
          209.06,
          192.31
         ],
         [
          209.06,
          276.63
         ],
         [
          209.06,
          180.75
         ],
         [
          209.06,
          183.73
         ],
         [
          156.41,
          143.77
         ],
         [
          156.41,
          223.32
         ],
         [
          156.41,
          95.966
         ],
         [
          156.41,
          124.06
         ],
         [
          223.32,
          204.99
         ],
         [
          223.32,
          297.29
         ],
         [
          223.32,
          199.32
         ],
         [
          95.966,
          57.49
         ],
         [
          95.966,
          80.639
         ],
         [
          95.966,
          138.58
         ],
         [
          95.966,
          54.713
         ],
         [
          95.966,
          72.711
         ],
         [
          80.639,
          108.55
         ],
         [
          80.639,
          49.948
         ],
         [
          108.55,
          161.11
         ],
         [
          108.55,
          83.684
         ],
         [
          297.29,
          368.03
         ],
         [
          297.29,
          321.44
         ],
         [
          161.11,
          156.12
         ],
         [
          161.11,
          138.58
         ],
         [
          161.11,
          135.11
         ],
         [
          138.58,
          115.47
         ],
         [
          138.58,
          180.61
         ],
         [
          138.58,
          84.403
         ],
         [
          138.58,
          119.26
         ],
         [
          345.19,
          380.46
         ],
         [
          345.19,
          370.45
         ],
         [
          326.25,
          297.94
         ],
         [
          326.25,
          335.04
         ],
         [
          326.25,
          380.46
         ],
         [
          326.25,
          349.2
         ],
         [
          326.25,
          315.77
         ],
         [
          358.24,
          335.04
         ],
         [
          358.24,
          380.46
         ],
         [
          358.24,
          358.39
         ],
         [
          335.04,
          339.43
         ],
         [
          335.04,
          310.08
         ],
         [
          380.46,
          368.03
         ],
         [
          380.46,
          418.54
         ],
         [
          380.46,
          420.3
         ],
         [
          380.46,
          408.32
         ],
         [
          368.03,
          430.36
         ],
         [
          368.03,
          382.69
         ],
         [
          418.54,
          420.3
         ],
         [
          418.54,
          445.05
         ],
         [
          420.3,
          394.39
         ],
         [
          420.3,
          449.15
         ],
         [
          420.3,
          449.59
         ],
         [
          420.3,
          449.77
         ],
         [
          449.15,
          449.59
         ],
         [
          449.15,
          473.09
         ],
         [
          449.59,
          429.53
         ],
         [
          449.59,
          477.25
         ],
         [
          449.59,
          466.62
         ],
         [
          349.2,
          384.51
         ],
         [
          349.2,
          328.13
         ],
         [
          384.51,
          432.28
         ],
         [
          384.51,
          358.64
         ],
         [
          432.28,
          456.93
         ],
         [
          432.28,
          477.25
         ],
         [
          432.28,
          408.83
         ],
         [
          456.93,
          480.6
         ],
         [
          456.93,
          429.76
         ],
         [
          456.93,
          484.56
         ],
         [
          456.93,
          463.06
         ],
         [
          429.76,
          477.25
         ],
         [
          429.76,
          372.73
         ],
         [
          429.76,
          436.61
         ],
         [
          484.56,
          477.25
         ],
         [
          484.56,
          504.43
         ],
         [
          477.25,
          495.64
         ],
         [
          477.25,
          527.27
         ],
         [
          477.25,
          550.41
         ],
         [
          477.25,
          569.97
         ],
         [
          477.25,
          494.97
         ],
         [
          477.25,
          372.73
         ],
         [
          477.25,
          497.16
         ],
         [
          527.27,
          573.09
         ],
         [
          527.27,
          533.91
         ],
         [
          550.41,
          593.85
         ],
         [
          550.41,
          599.14
         ],
         [
          550.41,
          562.31
         ],
         [
          593.85,
          608.25
         ],
         [
          593.85,
          620.43
         ],
         [
          608.25,
          569.97
         ],
         [
          608.25,
          644.14
         ],
         [
          569.97,
          584.14
         ],
         [
          569.97,
          615.38
         ],
         [
          569.97,
          611.12
         ],
         [
          569.97,
          598.71
         ],
         [
          569.97,
          595.19
         ],
         [
          615.38,
          655.97
         ],
         [
          615.38,
          611.12
         ],
         [
          615.38,
          598.71
         ],
         [
          615.38,
          615.87
         ],
         [
          611.12,
          652.05
         ],
         [
          611.12,
          573.09
         ],
         [
          611.12,
          599.14
         ],
         [
          611.12,
          598.71
         ],
         [
          611.12,
          649.04
         ],
         [
          573.09,
          584.69
         ],
         [
          599.14,
          637.22
         ],
         [
          598.71,
          632.25
         ],
         [
          598.71,
          596.63
         ],
         [
          598.71,
          576.04
         ],
         [
          598.71,
          567.08
         ],
         [
          598.71,
          640.01
         ],
         [
          596.63,
          576.04
         ],
         [
          596.63,
          547.07
         ],
         [
          596.63,
          634.35
         ],
         [
          576.04,
          612.35
         ],
         [
          576.04,
          547.07
         ],
         [
          576.04,
          513.57
         ],
         [
          576.04,
          595.05
         ],
         [
          547.07,
          543.97
         ],
         [
          547.07,
          494.97
         ],
         [
          547.07,
          533.36
         ],
         [
          547.07,
          562.46
         ],
         [
          567.08,
          513.57
         ],
         [
          567.08,
          589.42
         ],
         [
          513.57,
          430.36
         ],
         [
          513.57,
          515.22
         ],
         [
          430.36,
          426.15
         ],
         [
          430.36,
          494.97
         ],
         [
          430.36,
          394.46
         ],
         [
          430.36,
          436.82
         ],
         [
          494.97,
          513.18
         ],
         [
          494.97,
          533.36
         ],
         [
          494.97,
          499.87
         ],
         [
          533.36,
          558.54
         ],
         [
          394.46,
          372.73
         ],
         [
          394.46,
          361.09
         ],
         [
          394.46,
          408.22
         ],
         [
          394.46,
          370.26
         ],
         [
          372.73,
          347.48
         ],
         [
          372.73,
          276.63
         ],
         [
          372.73,
          316.56
         ],
         [
          372.73,
          346.27
         ],
         [
          372.73,
          366.53
         ],
         [
          276.63,
          272.45
         ],
         [
          276.63,
          207.22
         ],
         [
          276.63,
          275.7
         ],
         [
          276.63,
          316.56
         ],
         [
          276.63,
          249.74
         ],
         [
          207.22,
          180.75
         ],
         [
          207.22,
          156.6
         ],
         [
          207.22,
          185.93
         ],
         [
          180.75,
          148.34
         ],
         [
          180.75,
          149.29
         ],
         [
          156.6,
          121.96
         ],
         [
          156.6,
          131.76
         ],
         [
          275.7,
          244.82
         ],
         [
          275.7,
          316.56
         ],
         [
          275.7,
          253.2
         ],
         [
          316.56,
          346.27
         ],
         [
          316.56,
          291.73
         ],
         [
          316.56,
          299.05
         ],
         [
          298.22,
          265.6
         ],
         [
          298.22,
          346.27
         ],
         [
          298.22,
          291.73
         ],
         [
          298.22,
          276.84
         ],
         [
          346.27,
          373.78
         ],
         [
          346.27,
          337.49
         ],
         [
          346.27,
          321.42
         ],
         [
          346.27,
          376.94
         ],
         [
          346.27,
          333.99
         ],
         [
          337.49,
          348.88
         ],
         [
          337.49,
          312.88
         ],
         [
          348.88,
          321.42
         ],
         [
          348.88,
          378.65
         ],
         [
          321.42,
          342.73
         ],
         [
          321.42,
          361.09
         ],
         [
          321.42,
          335.31
         ],
         [
          321.42,
          317.62
         ],
         [
          321.42,
          277.9
         ],
         [
          321.42,
          283.86
         ],
         [
          321.42,
          291.32
         ],
         [
          361.09,
          383.6
         ],
         [
          376.94,
          421.26
         ],
         [
          376.94,
          335.31
         ],
         [
          376.94,
          406.34
         ],
         [
          421.26,
          448.85
         ],
         [
          421.26,
          445.87
         ],
         [
          421.26,
          447.73
         ],
         [
          448.85,
          445.87
         ],
         [
          448.85,
          478.91
         ],
         [
          445.87,
          477.43
         ],
         [
          445.87,
          493.08
         ],
         [
          445.87,
          435.99
         ],
         [
          445.87,
          397.23
         ],
         [
          445.87,
          469.95
         ],
         [
          493.08,
          525.55
         ],
         [
          493.08,
          520.34
         ],
         [
          525.55,
          534.68
         ],
         [
          525.55,
          555.77
         ],
         [
          435.99,
          397.23
         ],
         [
          435.99,
          455.51
         ],
         [
          397.23,
          399.08
         ],
         [
          397.23,
          377.92
         ],
         [
          397.23,
          324.07
         ],
         [
          397.23,
          420.16
         ],
         [
          377.92,
          383.45
         ],
         [
          377.92,
          349.7
         ],
         [
          377.92,
          395.27
         ],
         [
          349.7,
          340.6
         ],
         [
          349.7,
          324.07
         ],
         [
          349.7,
          360.11
         ],
         [
          324.07,
          318.01
         ],
         [
          324.07,
          318.07
         ],
         [
          324.07,
          311.57
         ],
         [
          324.07,
          255.8
         ],
         [
          324.07,
          293.09
         ],
         [
          324.07,
          339.87
         ],
         [
          318.07,
          311.57
         ],
         [
          318.07,
          298.75
         ],
         [
          311.57,
          333.52
         ],
         [
          311.57,
          335.31
         ],
         [
          311.57,
          255.8
         ],
         [
          311.57,
          333.48
         ],
         [
          333.52,
          335.31
         ],
         [
          333.52,
          360.4
         ],
         [
          335.31,
          317.62
         ],
         [
          335.31,
          361.32
         ],
         [
          317.62,
          292.23
         ],
         [
          277.9,
          255.8
         ],
         [
          277.9,
          248.71
         ],
         [
          283.86,
          249.77
         ],
         [
          283.86,
          255.8
         ],
         [
          283.86,
          265.37
         ],
         [
          255.8,
          233.57
         ],
         [
          255.8,
          266.31
         ],
         [
          255.8,
          199.45
         ],
         [
          255.8,
          208.95
         ],
         [
          255.8,
          189.86
         ],
         [
          255.8,
          233.77
         ],
         [
          266.31,
          293.09
         ],
         [
          266.31,
          260.4
         ],
         [
          293.09,
          288.95
         ],
         [
          199.45,
          211.94
         ],
         [
          199.45,
          208.95
         ],
         [
          199.45,
          163.09
         ],
         [
          199.45,
          156.45
         ],
         [
          199.45,
          184.95
         ],
         [
          208.95,
          224.77
         ],
         [
          208.95,
          163.09
         ],
         [
          208.95,
          184.49
         ],
         [
          163.09,
          128.09
         ],
         [
          163.09,
          189.86
         ],
         [
          163.09,
          141.82
         ],
         [
          163.09,
          126.19
         ],
         [
          163.09,
          153.75
         ],
         [
          189.86,
          141.82
         ],
         [
          189.86,
          171.02
         ],
         [
          141.82,
          105.67
         ],
         [
          141.82,
          106.36
         ],
         [
          126.19,
          119.14
         ],
         [
          126.19,
          93.428
         ],
         [
          119.14,
          156.45
         ],
         [
          119.14,
          87.605
         ],
         [
          156.45,
          130
         ],
         [
          156.45,
          124.22
         ],
         [
          156.45,
          164.99
         ],
         [
          156.45,
          155.15
         ],
         [
          124.22,
          94.411
         ],
         [
          124.22,
          116.3
         ],
         [
          164.99,
          181.75
         ],
         [
          164.99,
          155.95
         ],
         [
          180.61,
          148.4
         ],
         [
          180.61,
          166.38
         ],
         [
          84.403,
          54.713
         ],
         [
          84.403,
          50.205
         ],
         [
          54.713,
          18
         ],
         [
          408.22,
          404.83
         ],
         [
          408.22,
          427.86
         ],
         [
          345.22,
          374.44
         ],
         [
          291.73,
          262.07
         ]
        ]
       }
      }
     },
     "53338f4d5f034e1ca757f9efc23d5f11": {
      "model_module": "bqplot",
      "model_module_version": "^0.2.3",
      "model_name": "ScatterModel",
      "state": {
       "_model_module": "bqplot",
       "_model_module_version": "^0.2.3",
       "_view_count": null,
       "_view_module": "bqplot",
       "_view_module_version": "^0.2.3",
       "apply_clip": true,
       "color": {
        "type": null,
        "values": null
       },
       "colors": [
        "LightGreen"
       ],
       "default_opacities": [
        0.6
       ],
       "default_size": 150,
       "display_legend": false,
       "display_names": false,
       "enable_hover": true,
       "hovered_style": {},
       "interactions": {
        "hover": "tooltip"
       },
       "labels": [],
       "names": {
        "type": "<U7",
        "values": [
         "GenCo51"
        ]
       },
       "opacity": {
        "type": null,
        "values": null
       },
       "preserve_domain": {},
       "rotation": {
        "type": null,
        "values": null
       },
       "scales": {
        "x": "IPY_MODEL_ea5ac8e5f71a47a0bb757eb8b8730beb",
        "y": "IPY_MODEL_1f83238fb0904ec79cc1bd5e7dec7a9a"
       },
       "scales_metadata": {
        "color": {
         "dimension": "color"
        },
        "opacity": {
         "dimension": "opacity"
        },
        "size": {
         "dimension": "size"
        },
        "x": {
         "dimension": "x",
         "orientation": "horizontal"
        },
        "y": {
         "dimension": "y",
         "orientation": "vertical"
        }
       },
       "selected": [],
       "selected_style": {
        "fill": "DarkGreen",
        "opacity": 0.8,
        "stroke": "Green"
       },
       "size": {
        "type": null,
        "values": null
       },
       "skew": {
        "type": null,
        "values": null
       },
       "tooltip": "IPY_MODEL_b846bbef58e74d51af72e631ddf6feda",
       "tooltip_location": "mouse",
       "tooltip_style": {
        "opacity": 0.9
       },
       "unhovered_style": {},
       "unselected_style": {},
       "visible": true,
       "x": {
        "type": "float",
        "values": [
         64.904
        ]
       },
       "y": {
        "type": "float",
        "values": [
         181.75
        ]
       }
      }
     },
     "549f889d5400437ba1e66c8edf3a4592": {
      "model_module": "@jupyter-widgets/controls",
      "model_module_version": "1.0.0",
      "model_name": "LabelModel",
      "state": {
       "layout": "IPY_MODEL_e0d9c46c256a4095a834cade87aa1056",
       "style": "IPY_MODEL_be2a691de1cf4723a7dabcb8f402feec",
       "value": "Options:"
      }
     },
     "54fe1a3dadee47b7955137e6d9b9fa5b": {
      "model_module": "@jupyter-widgets/base",
      "model_module_version": "1.0.0",
      "model_name": "LayoutModel",
      "state": {}
     },
     "55fe171910954c02afd6f759937f0ff1": {
      "model_module": "@jupyter-widgets/controls",
      "model_module_version": "1.0.0",
      "model_name": "DescriptionStyleModel",
      "state": {
       "description_width": ""
      }
     },
     "563e6117201b419286c862f127dcd150": {
      "model_module": "@jupyter-widgets/base",
      "model_module_version": "1.0.0",
      "model_name": "LayoutModel",
      "state": {
       "align_items": "center",
       "border": "groove Gray 2px"
      }
     },
     "56b48b808a0c4e629fb04ad8edc33163": {
      "model_module": "@jupyter-widgets/base",
      "model_module_version": "1.0.0",
      "model_name": "LayoutModel",
      "state": {}
     },
     "575808f44b33481986ab60ade35ade68": {
      "model_module": "bqplot",
      "model_module_version": "^0.2.3",
      "model_name": "LinearScaleModel",
      "state": {
       "allow_padding": false,
       "max": 1,
       "min": 0,
       "stabilized": false
      }
     },
     "58c29055c3d246938ed3eb48021a121a": {
      "model_module": "@jupyter-widgets/controls",
      "model_module_version": "1.0.0",
      "model_name": "DescriptionStyleModel",
      "state": {
       "description_width": ""
      }
     },
     "5a39fd27f3804c85a3a3aa57f9343553": {
      "model_module": "@jupyter-widgets/base",
      "model_module_version": "1.0.0",
      "model_name": "LayoutModel",
      "state": {}
     },
     "5a793b55b5904afb954055d7739c1e08": {
      "model_module": "bqplot",
      "model_module_version": "^0.2.3",
      "model_name": "LinearScaleModel",
      "state": {
       "max": 1246,
       "min": 1019.8,
       "stabilized": false
      }
     },
     "5a9b6011fec24fafa731bbfa219b5161": {
      "model_module": "bqplot",
      "model_module_version": "^0.2.3",
      "model_name": "LinearScaleModel",
      "state": {
       "allow_padding": false,
       "max": 1,
       "min": 0,
       "stabilized": false
      }
     },
     "5b86214e7b1f43ec802ed0aaa80c7df4": {
      "model_module": "bqplot",
      "model_module_version": "^0.2.3",
      "model_name": "LinearScaleModel",
      "state": {
       "allow_padding": false,
       "max": 1,
       "min": 0,
       "stabilized": false
      }
     },
     "5c07b558f71f44a199e49ac071819c40": {
      "model_module": "@jupyter-widgets/base",
      "model_module_version": "1.0.0",
      "model_name": "LayoutModel",
      "state": {}
     },
     "5d19f42501ea4eecb2dcfe7331c275e6": {
      "model_module": "@jupyter-widgets/controls",
      "model_module_version": "1.0.0",
      "model_name": "LabelModel",
      "state": {
       "layout": "IPY_MODEL_0f86ae6e494c451cbea7c06874416b96",
       "style": "IPY_MODEL_1571920bd4574bf499421c12c60e556b",
       "value": "Click on a bus to expand the graph, and click again to collapse."
      }
     },
     "5ddf74e420e443e4b692304a629415f0": {
      "model_module": "@jupyter-widgets/base",
      "model_module_version": "1.0.0",
      "model_name": "LayoutModel",
      "state": {}
     },
     "5f01602533ba4eb3a52624d3b5e357c0": {
      "model_module": "@jupyter-widgets/controls",
      "model_module_version": "1.0.0",
      "model_name": "DescriptionStyleModel",
      "state": {
       "description_width": ""
      }
     },
     "5f9104205d4e4456a7a6dafbeaddfeff": {
      "model_module": "@jupyter-widgets/controls",
      "model_module_version": "1.0.0",
      "model_name": "CheckboxModel",
      "state": {
       "description": "Show loads",
       "disabled": false,
       "indent": false,
       "layout": "IPY_MODEL_fab13eb6e75848cd9a89557fc11a5c0b",
       "style": "IPY_MODEL_ed94413f9c5c4cb1b09bebe841221188",
       "value": true
      }
     },
     "605b6aab456241559c476e1f399b7905": {
      "model_module": "@jupyter-widgets/base",
      "model_module_version": "1.0.0",
      "model_name": "LayoutModel",
      "state": {
       "min_width": "125px"
      }
     },
     "60b150de9aaa409bb3c7fd37bacaac17": {
      "model_module": "@jupyter-widgets/base",
      "model_module_version": "1.0.0",
      "model_name": "LayoutModel",
      "state": {}
     },
     "60ca094666ea43008f052b473ba0b210": {
      "model_module": "@jupyter-widgets/controls",
      "model_module_version": "1.0.0",
      "model_name": "CheckboxModel",
      "state": {
       "description": "Show generators",
       "disabled": false,
       "indent": false,
       "layout": "IPY_MODEL_f3e2a07217cf4b3faa6f06ce8af515a7",
       "style": "IPY_MODEL_b11cb0245ec148b0821db01a5d17ca55",
       "value": true
      }
     },
     "60e6067dd2224c7387cdc84ce489e6f2": {
      "model_module": "bqplot",
      "model_module_version": "^0.2.3",
      "model_name": "FigureModel",
      "state": {
       "_dom_classes": [],
       "fig_margin": {
        "bottom": 0,
        "left": 0,
        "right": 0,
        "top": 0
       },
       "layout": "IPY_MODEL_89ba6d1669e2483ca385c5eca43f91a2",
       "marks": [
        "IPY_MODEL_83b9bd6a38c845f29fcc8d62423de08d",
        "IPY_MODEL_0cb73d83d7f34b9da363a57fe11079fa",
        "IPY_MODEL_8fde87e27b0a45e9b49f6a50f3a18b4d",
        "IPY_MODEL_0729003bc65c451bbadc58265851e353",
        "IPY_MODEL_0a0c4a8a9ec8430ba2379a631a581a45",
        "IPY_MODEL_22e310f1c9474aa6857897edb40b6a50"
       ],
       "max_aspect_ratio": 6,
       "scale_x": "IPY_MODEL_bcc9acf423a548d5a81969bb79dcdc31",
       "scale_y": "IPY_MODEL_5a9b6011fec24fafa731bbfa219b5161"
      }
     },
     "6144546515454219b94f868b6d8fccc3": {
      "model_module": "@jupyter-widgets/base",
      "model_module_version": "1.0.0",
      "model_name": "LayoutModel",
      "state": {
       "border": "dotted Gray 1px",
       "margin": "5px"
      }
     },
     "621bf1d03ab64ba6b6c43e7219cba45e": {
      "model_module": "@jupyter-widgets/controls",
      "model_module_version": "1.0.0",
      "model_name": "VBoxModel",
      "state": {
       "children": [
        "IPY_MODEL_0d77d0ce7e0140578ef75ec80021899d"
       ],
       "layout": "IPY_MODEL_96c6eb355b1e44deb3bc36bc249c395c"
      }
     },
     "62ee279e9f784e2e90d0fd03038e3b7c": {
      "model_module": "bqplot",
      "model_module_version": "^0.2.3",
      "model_name": "FigureModel",
      "state": {
       "_dom_classes": [],
       "fig_margin": {
        "bottom": 0,
        "left": 0,
        "right": 0,
        "top": 0
       },
       "layout": "IPY_MODEL_1ed29e222cc64942927f2ce8395daa79",
       "marks": [
        "IPY_MODEL_3ebcc90870314ebdb0a2441575d52790",
        "IPY_MODEL_942b2cb08e6c446497fd96f342b8eb38",
        "IPY_MODEL_4ccef8bde13d4b0797c8e4543b11b4e9",
        "IPY_MODEL_10321483a8644d08b043ffc506979f14",
        "IPY_MODEL_89d1fec0579746c6bdc1942da05faa6a",
        "IPY_MODEL_2531055ced9c4a22b40acf97567d649f"
       ],
       "max_aspect_ratio": 6,
       "scale_x": "IPY_MODEL_0142fe10b6724552a409987ac7949bf8",
       "scale_y": "IPY_MODEL_d6f80c7196494bec9e1a500ae2f1cdc8"
      }
     },
     "638ec845582a4b8d84d01f76642aa954": {
      "model_module": "@jupyter-widgets/base",
      "model_module_version": "1.0.0",
      "model_name": "LayoutModel",
      "state": {}
     },
     "641806ffa4db401fbe1c19a2dbe00cc0": {
      "model_module": "bqplot",
      "model_module_version": "^0.2.3",
      "model_name": "LinearScaleModel",
      "state": {
       "allow_padding": false,
       "max": 1,
       "min": 0,
       "stabilized": false
      }
     },
     "654127522f4d4e97a8bbea6ff97718d1": {
      "model_module": "@jupyter-widgets/controls",
      "model_module_version": "1.0.0",
      "model_name": "DescriptionStyleModel",
      "state": {
       "description_width": ""
      }
     },
     "65b1834a56494500be7cecd9e20f383e": {
      "model_module": "@jupyter-widgets/base",
      "model_module_version": "1.0.0",
      "model_name": "LayoutModel",
      "state": {
       "border": "groove Gray 2px",
       "height": "auto",
       "justify_content": "space-between"
      }
     },
     "68dbe6a919c942ac884a88a32b194de0": {
      "model_module": "bqplot",
      "model_module_version": "^0.2.3",
      "model_name": "ScatterModel",
      "state": {
       "_model_module": "bqplot",
       "_model_module_version": "^0.2.3",
       "_view_count": null,
       "_view_module": "bqplot",
       "_view_module_version": "^0.2.3",
       "apply_clip": true,
       "color": {
        "type": null,
        "values": null
       },
       "colors": [
        "LightGreen"
       ],
       "default_opacities": [
        0.6
       ],
       "default_size": 150,
       "display_legend": false,
       "enable_hover": true,
       "hovered_style": {},
       "interactions": {
        "hover": "tooltip"
       },
       "labels": [],
       "names": {
        "type": "<U7",
        "values": [
         "GenCo51"
        ]
       },
       "opacity": {
        "type": null,
        "values": null
       },
       "preserve_domain": {},
       "rotation": {
        "type": null,
        "values": null
       },
       "scales": {
        "x": "IPY_MODEL_c154051cb98e451cbd2e9cda8957154b",
        "y": "IPY_MODEL_ed3882f3df2042ac8b26041ddf8939a9"
       },
       "scales_metadata": {
        "color": {
         "dimension": "color"
        },
        "opacity": {
         "dimension": "opacity"
        },
        "size": {
         "dimension": "size"
        },
        "x": {
         "dimension": "x",
         "orientation": "horizontal"
        },
        "y": {
         "dimension": "y",
         "orientation": "vertical"
        }
       },
       "selected": [],
       "selected_style": {
        "fill": "DarkGreen",
        "opacity": 0.8,
        "stroke": "Green"
       },
       "size": {
        "type": null,
        "values": null
       },
       "skew": {
        "type": null,
        "values": null
       },
       "tooltip": "IPY_MODEL_0e25d0838f8f40439d9586d4ce59f002",
       "tooltip_location": "mouse",
       "tooltip_style": {
        "opacity": 0.9
       },
       "unhovered_style": {},
       "unselected_style": {},
       "visible": true,
       "x": {
        "type": "float",
        "values": [
         64.904
        ]
       },
       "y": {
        "type": "float",
        "values": [
         181.75
        ]
       }
      }
     },
     "693826caf5b64f0daba310e31e7f004e": {
      "model_module": "@jupyter-widgets/controls",
      "model_module_version": "1.0.0",
      "model_name": "HBoxModel",
      "state": {
       "children": [
        "IPY_MODEL_7fd1e432d79c442888d617932ec9ff62",
        "IPY_MODEL_cc8641365c9c4679824e94e083693353"
       ],
       "layout": "IPY_MODEL_7e8ca19bd2104007b7a0ff7a4a9b22d9"
      }
     },
     "6b2d26779e21436ca2f00370d58c68aa": {
      "model_module": "bqplot",
      "model_module_version": "^0.2.3",
      "model_name": "LinearScaleModel",
      "state": {
       "allow_padding": false,
       "max": 1,
       "min": 0,
       "stabilized": false
      }
     },
     "6b390563d16749bcadea98a79a0da9ef": {
      "model_module": "@jupyter-widgets/controls",
      "model_module_version": "1.0.0",
      "model_name": "LabelModel",
      "state": {
       "layout": "IPY_MODEL_60b150de9aaa409bb3c7fd37bacaac17",
       "style": "IPY_MODEL_c67f4a0e84164fdea79f1589cbb381d2",
       "value": "Click on a bus to expand the graph, and click again to collapse."
      }
     },
     "6b76dba76f1c480e841f608de13625d8": {
      "model_module": "bqplot",
      "model_module_version": "^0.2.3",
      "model_name": "ColorScaleModel",
      "state": {
       "_model_name": "ColorScaleModel",
       "_view_name": "ColorScale",
       "colors": [
        "Red",
        "Green"
       ],
       "mid": null,
       "scale_type": "linear",
       "scheme": "RdYlGn"
      }
     },
     "6b889a897323480fba0a77d1e5617de4": {
      "model_module": "@jupyter-widgets/base",
      "model_module_version": "1.0.0",
      "model_name": "LayoutModel",
      "state": {
       "border": "dotted Gray 1px",
       "margin": "5px",
       "min_width": "150px"
      }
     },
     "6c9e34741ab5460f85c63be71d29030c": {
      "model_module": "@jupyter-widgets/controls",
      "model_module_version": "1.0.0",
      "model_name": "CheckboxModel",
      "state": {
       "description": "Show load names",
       "disabled": false,
       "indent": false,
       "layout": "IPY_MODEL_fea8d927f5b74ad4b231799050617ae9",
       "style": "IPY_MODEL_6df833bf47b64488942642e082b2b681",
       "value": false
      }
     },
     "6d350612ee264421bd59ddd1b251facb": {
      "model_module": "bqplot",
      "model_module_version": "^0.2.3",
      "model_name": "ScatterModel",
      "state": {
       "_model_module": "bqplot",
       "_model_module_version": "^0.2.3",
       "_view_count": null,
       "_view_module": "bqplot",
       "_view_module_version": "^0.2.3",
       "apply_clip": true,
       "color": {
        "type": null,
        "values": null
       },
       "colors": [
        "DeepSkyBlue"
       ],
       "default_opacities": [
        0.6
       ],
       "default_size": 180,
       "display_legend": false,
       "enable_hover": true,
       "hovered_style": {},
       "interactions": {
        "hover": "tooltip"
       },
       "labels": [],
       "marker": "rectangle",
       "names": {
        "type": "<U6",
        "values": [
         "Bus112",
         "Bus110"
        ]
       },
       "opacity": {
        "type": null,
        "values": null
       },
       "preserve_domain": {},
       "rotation": {
        "type": null,
        "values": null
       },
       "scales": {
        "x": "IPY_MODEL_7d9a584fd69d43ad832bb86c22597bf2",
        "y": "IPY_MODEL_f813645efb524d219ca5e43f2c76b294"
       },
       "scales_metadata": {
        "color": {
         "dimension": "color"
        },
        "opacity": {
         "dimension": "opacity"
        },
        "size": {
         "dimension": "size"
        },
        "x": {
         "dimension": "x",
         "orientation": "horizontal"
        },
        "y": {
         "dimension": "y",
         "orientation": "vertical"
        }
       },
       "selected": [
        0
       ],
       "selected_style": {
        "fill": "RoyalBlue",
        "opacity": 0.8,
        "stroke": "Blue"
       },
       "size": {
        "type": null,
        "values": null
       },
       "skew": {
        "type": null,
        "values": null
       },
       "tooltip": "IPY_MODEL_0487c1513bde4203adcaee9b1a10b6d8",
       "tooltip_location": "mouse",
       "tooltip_style": {
        "opacity": 0.9
       },
       "unhovered_style": {},
       "unselected_style": {},
       "visible": true,
       "x": {
        "type": "float",
        "values": [
         92.662,
         143.73
        ]
       },
       "y": {
        "type": "float",
        "values": [
         164.99,
         156.45
        ]
       }
      }
     },
     "6df833bf47b64488942642e082b2b681": {
      "model_module": "@jupyter-widgets/controls",
      "model_module_version": "1.0.0",
      "model_name": "DescriptionStyleModel",
      "state": {
       "description_width": ""
      }
     },
     "6e0ab3dcc2a74e95bc24082322f99588": {
      "model_module": "bqplot",
      "model_module_version": "^0.2.3",
      "model_name": "LinesModel",
      "state": {
       "color": {
        "type": null,
        "values": null
       },
       "colors": [
        "LightGreen"
       ],
       "display_legend": false,
       "fill_colors": [],
       "labels": [
        "C1"
       ],
       "opacities": [
        0.8
       ],
       "scales": {
        "x": "IPY_MODEL_c154051cb98e451cbd2e9cda8957154b",
        "y": "IPY_MODEL_ed3882f3df2042ac8b26041ddf8939a9"
       },
       "selected": [],
       "stroke_width": 1.5,
       "x": {
        "type": "float",
        "values": [
         92.662,
         64.904
        ]
       },
       "y": {
        "type": "float",
        "values": [
         164.99,
         181.75
        ]
       }
      }
     },
     "6e3b1c958f08498ea144a264c3e20ba2": {
      "model_module": "@jupyter-widgets/base",
      "model_module_version": "1.0.0",
      "model_name": "LayoutModel",
      "state": {}
     },
     "6e510a20b8864dce9fe9cdb335067174": {
      "model_module": "@jupyter-widgets/controls",
      "model_module_version": "1.0.0",
      "model_name": "DescriptionStyleModel",
      "state": {
       "description_width": ""
      }
     },
     "6e59e06f054f4cefad93409b6a786f2d": {
      "model_module": "@jupyter-widgets/base",
      "model_module_version": "1.0.0",
      "model_name": "LayoutModel",
      "state": {}
     },
     "6efdb5eb5c1d4f968ea6510cb278a755": {
      "model_module": "@jupyter-widgets/controls",
      "model_module_version": "1.0.0",
      "model_name": "DescriptionStyleModel",
      "state": {
       "description_width": ""
      }
     },
     "6f310f6087214fc19ba141662eade56f": {
      "model_module": "@jupyter-widgets/base",
      "model_module_version": "1.0.0",
      "model_name": "LayoutModel",
      "state": {}
     },
     "6f40c635c61e49bdb781dfcd59cccad2": {
      "model_module": "@jupyter-widgets/controls",
      "model_module_version": "1.0.0",
      "model_name": "LabelModel",
      "state": {
       "layout": "IPY_MODEL_ff08cb5ef0f244fda35640eae5a2c2ea",
       "style": "IPY_MODEL_79633ec4e52b4a29be0b1be205dc2985",
       "value": "Click on a bus to expand the graph, and click again to collapse."
      }
     },
     "6f91e813c6294748abbd71863a5e4dc8": {
      "model_module": "@jupyter-widgets/controls",
      "model_module_version": "1.0.0",
      "model_name": "DescriptionStyleModel",
      "state": {
       "description_width": ""
      }
     },
     "7033c986c35e4ca0900133496fcc2df4": {
      "model_module": "@jupyter-widgets/controls",
      "model_module_version": "1.0.0",
      "model_name": "DescriptionStyleModel",
      "state": {
       "description_width": ""
      }
     },
     "7094160d01dc45bc874310f3a30f292b": {
      "model_module": "@jupyter-widgets/controls",
      "model_module_version": "1.0.0",
      "model_name": "DescriptionStyleModel",
      "state": {
       "description_width": ""
      }
     },
     "70ed524deef745ca91eb6b33ac1fbfcd": {
      "model_module": "bqplot",
      "model_module_version": "^0.2.3",
      "model_name": "LinearScaleModel",
      "state": {
       "max": 445.37,
       "min": 252.77999999999997,
       "stabilized": false
      }
     },
     "710432ee8f16486dbad431a3a18029d6": {
      "model_module": "@jupyter-widgets/controls",
      "model_module_version": "1.0.0",
      "model_name": "LabelModel",
      "state": {
       "layout": "IPY_MODEL_9f85d73a8b5d48d8bc725e2abb72d4ed",
       "style": "IPY_MODEL_6f91e813c6294748abbd71863a5e4dc8",
       "value": "--------------------"
      }
     },
     "72ba3d9be8f04f07bbf1080ac1e8216d": {
      "model_module": "@jupyter-widgets/controls",
      "model_module_version": "1.0.0",
      "model_name": "HBoxModel",
      "state": {
       "children": [
        "IPY_MODEL_a3926ba98a66476c809e518973e683dc",
        "IPY_MODEL_0922f2e8f59646199115ad59532856ed"
       ],
       "layout": "IPY_MODEL_54fe1a3dadee47b7955137e6d9b9fa5b"
      }
     },
     "73375566dc9c437c82d28c67532f3e20": {
      "model_module": "@jupyter-widgets/base",
      "model_module_version": "1.0.0",
      "model_name": "LayoutModel",
      "state": {}
     },
     "73d410da02624d96adfe59815c6351d2": {
      "model_module": "@jupyter-widgets/base",
      "model_module_version": "1.0.0",
      "model_name": "LayoutModel",
      "state": {}
     },
     "7422cf2ba824494db6670f8e5f740f14": {
      "model_module": "bqplot",
      "model_module_version": "^0.2.3",
      "model_name": "ColorScaleModel",
      "state": {
       "_model_name": "ColorScaleModel",
       "_view_name": "ColorScale",
       "colors": [
        "Red",
        "Green"
       ],
       "mid": null,
       "scale_type": "linear",
       "scheme": "RdYlGn"
      }
     },
     "750c7f9fef2f41e2bd228bce7af90896": {
      "model_module": "@jupyter-widgets/base",
      "model_module_version": "1.0.0",
      "model_name": "LayoutModel",
      "state": {}
     },
     "7580052497a64e4f86adfdd2253fd76d": {
      "model_module": "@jupyter-widgets/base",
      "model_module_version": "1.0.0",
      "model_name": "LayoutModel",
      "state": {
       "border": "groove Gray 2px",
       "height": "auto",
       "justify_content": "space-between"
      }
     },
     "7682ab75b5724a90809f21f63dc83c7d": {
      "model_module": "@jupyter-widgets/controls",
      "model_module_version": "1.0.0",
      "model_name": "VBoxModel",
      "state": {
       "children": [
        "IPY_MODEL_08dc092e84814808948c5d3a5457fb71",
        "IPY_MODEL_a02be157e4964c2eaa8fefca862c1ae6",
        "IPY_MODEL_4a4e3aa42888477386fa3803f698c5ff",
        "IPY_MODEL_a2999ba02180494096a1f4700fa5e6e6",
        "IPY_MODEL_00242dce0ba14d5a98ba01c4577a0355",
        "IPY_MODEL_be1fddf31b71445eb92305204ce488a4",
        "IPY_MODEL_872b9277c30b4e78a09fa4a6cb53008b",
        "IPY_MODEL_6c9e34741ab5460f85c63be71d29030c",
        "IPY_MODEL_d2d4f66c3ed14cada978dd585ff563c3",
        "IPY_MODEL_1c4fefd6b1f240ed9ef725af912a56f5"
       ],
       "layout": "IPY_MODEL_923d318a7c78435fa238942a0b2427f2"
      }
     },
     "7728437403cf4a6db47f163ccc7c2c4e": {
      "model_module": "@jupyter-widgets/base",
      "model_module_version": "1.0.0",
      "model_name": "LayoutModel",
      "state": {
       "align_items": "center",
       "border": "groove Gray 2px"
      }
     },
     "781a378daddf4e29b17e9071284396af": {
      "model_module": "bqplot",
      "model_module_version": "^0.2.3",
      "model_name": "ColorScaleModel",
      "state": {
       "_model_name": "ColorScaleModel",
       "_view_name": "ColorScale",
       "colors": [
        "Red",
        "Green"
       ],
       "mid": null,
       "scale_type": "linear",
       "scheme": "RdYlGn"
      }
     },
     "7878206642b04af5b4a7d3ac0d25df43": {
      "model_module": "bqplot",
      "model_module_version": "^0.2.3",
      "model_name": "LinesModel",
      "state": {
       "color": {
        "type": null,
        "values": null
       },
       "colors": [
        "DeepSkyBlue"
       ],
       "display_legend": false,
       "fill_colors": [],
       "labels": [
        "C1",
        "C2"
       ],
       "opacities": [
        0.8
       ],
       "scales": {
        "x": "IPY_MODEL_0c60855fd08c4d0c940639139249d6b1",
        "y": "IPY_MODEL_df658e2c37b243d993fe4c31c14b69fa"
       },
       "selected": [],
       "x": {
        "type": "float",
        "values": [
         [
          1158.9,
          1122.6
         ],
         [
          1158.9,
          1113.9
         ]
        ]
       },
       "y": {
        "type": "float",
        "values": [
         [
          324.05,
          327.16
         ],
         [
          324.05,
          302.78
         ]
        ]
       }
      }
     },
     "789360929c49475abaf74d2d951ef33b": {
      "model_module": "@jupyter-widgets/controls",
      "model_module_version": "1.0.0",
      "model_name": "DescriptionStyleModel",
      "state": {
       "description_width": ""
      }
     },
     "789b39e0e72a4643a2e7bdf4a4ae017e": {
      "model_module": "bqplot",
      "model_module_version": "^0.2.3",
      "model_name": "LinesModel",
      "state": {
       "color": {
        "type": null,
        "values": null
       },
       "colors": [
        "gray"
       ],
       "display_legend": false,
       "fill_colors": [],
       "labels": [
        "C1",
        "C2",
        "C3",
        "C4",
        "C5",
        "C6",
        "C7",
        "C8",
        "C9",
        "C10",
        "C11",
        "C12",
        "C13",
        "C14",
        "C15",
        "C16",
        "C17",
        "C18",
        "C19",
        "C20",
        "C21",
        "C22",
        "C23",
        "C24",
        "C25",
        "C26",
        "C27",
        "C28",
        "C29",
        "C30",
        "C31",
        "C32",
        "C33",
        "C34",
        "C35",
        "C36",
        "C37",
        "C38",
        "C39",
        "C40",
        "C41",
        "C42",
        "C43",
        "C44",
        "C45",
        "C46",
        "C47",
        "C48",
        "C49",
        "C50",
        "C51",
        "C52",
        "C53",
        "C54",
        "C55",
        "C56",
        "C57",
        "C58",
        "C59",
        "C60",
        "C61",
        "C62",
        "C63",
        "C64",
        "C65",
        "C66",
        "C67",
        "C68",
        "C69",
        "C70",
        "C71",
        "C72",
        "C73",
        "C74",
        "C75",
        "C76",
        "C77",
        "C78",
        "C79",
        "C80",
        "C81",
        "C82",
        "C83",
        "C84",
        "C85",
        "C86",
        "C87",
        "C88",
        "C89",
        "C90",
        "C91",
        "C92",
        "C93",
        "C94",
        "C95",
        "C96",
        "C97",
        "C98",
        "C99",
        "C100",
        "C101",
        "C102",
        "C103",
        "C104",
        "C105",
        "C106",
        "C107",
        "C108",
        "C109",
        "C110",
        "C111",
        "C112",
        "C113",
        "C114",
        "C115",
        "C116",
        "C117",
        "C118",
        "C119",
        "C120",
        "C121",
        "C122",
        "C123",
        "C124",
        "C125",
        "C126",
        "C127",
        "C128",
        "C129",
        "C130",
        "C131",
        "C132",
        "C133",
        "C134",
        "C135",
        "C136",
        "C137",
        "C138",
        "C139",
        "C140",
        "C141",
        "C142",
        "C143",
        "C144",
        "C145",
        "C146",
        "C147",
        "C148",
        "C149",
        "C150",
        "C151",
        "C152",
        "C153",
        "C154",
        "C155",
        "C156",
        "C157",
        "C158",
        "C159",
        "C160",
        "C161",
        "C162",
        "C163",
        "C164",
        "C165",
        "C166",
        "C167",
        "C168",
        "C169",
        "C170",
        "C171",
        "C172",
        "C173",
        "C174",
        "C175",
        "C176",
        "C177",
        "C178",
        "C179",
        "C180",
        "C181",
        "C182",
        "C183",
        "C184",
        "C185",
        "C186",
        "C187",
        "C188",
        "C189",
        "C190",
        "C191",
        "C192",
        "C193",
        "C194",
        "C195",
        "C196",
        "C197",
        "C198",
        "C199",
        "C200",
        "C201",
        "C202",
        "C203",
        "C204",
        "C205",
        "C206",
        "C207",
        "C208",
        "C209",
        "C210",
        "C211",
        "C212",
        "C213",
        "C214",
        "C215",
        "C216",
        "C217",
        "C218",
        "C219",
        "C220",
        "C221",
        "C222",
        "C223",
        "C224",
        "C225",
        "C226",
        "C227",
        "C228",
        "C229",
        "C230",
        "C231",
        "C232",
        "C233",
        "C234",
        "C235",
        "C236",
        "C237",
        "C238",
        "C239",
        "C240",
        "C241",
        "C242",
        "C243",
        "C244",
        "C245",
        "C246",
        "C247",
        "C248",
        "C249",
        "C250",
        "C251",
        "C252",
        "C253",
        "C254",
        "C255",
        "C256",
        "C257",
        "C258",
        "C259",
        "C260",
        "C261",
        "C262",
        "C263",
        "C264",
        "C265",
        "C266",
        "C267",
        "C268",
        "C269",
        "C270",
        "C271",
        "C272",
        "C273",
        "C274",
        "C275",
        "C276",
        "C277",
        "C278",
        "C279",
        "C280",
        "C281",
        "C282",
        "C283",
        "C284",
        "C285",
        "C286",
        "C287",
        "C288",
        "C289",
        "C290",
        "C291",
        "C292",
        "C293",
        "C294",
        "C295",
        "C296",
        "C297",
        "C298",
        "C299",
        "C300",
        "C301",
        "C302",
        "C303",
        "C304",
        "C305",
        "C306",
        "C307",
        "C308",
        "C309",
        "C310",
        "C311",
        "C312",
        "C313",
        "C314",
        "C315",
        "C316",
        "C317",
        "C318",
        "C319",
        "C320",
        "C321",
        "C322",
        "C323",
        "C324",
        "C325",
        "C326",
        "C327",
        "C328",
        "C329",
        "C330",
        "C331",
        "C332",
        "C333",
        "C334",
        "C335",
        "C336",
        "C337",
        "C338",
        "C339",
        "C340",
        "C341",
        "C342",
        "C343",
        "C344",
        "C345",
        "C346",
        "C347",
        "C348",
        "C349",
        "C350",
        "C351"
       ],
       "line_style": "dotted",
       "marker": "circle",
       "marker_size": 30,
       "opacities": [
        0.05
       ],
       "scales": {
        "x": "IPY_MODEL_01b0b239610d41a692695acccecdc0b0",
        "y": "IPY_MODEL_868c3325509e45cb964ac872dbe37e41"
       },
       "selected": [],
       "stroke_width": 1,
       "x": {
        "type": "float",
        "values": [
         [
          1158.9,
          1196
         ],
         [
          1158.9,
          1122.6
         ],
         [
          1158.9,
          1113.9
         ],
         [
          1158.9,
          1187.5
         ],
         [
          1122.6,
          1069.8
         ],
         [
          1122.6,
          1148.2
         ],
         [
          1113.9,
          1064.9
         ],
         [
          1113.9,
          1069.8
         ],
         [
          1113.9,
          1151.1
         ],
         [
          1099.5,
          1130.4
         ],
         [
          1099.5,
          1064.9
         ],
         [
          1099.5,
          1053.1
         ],
         [
          1099.5,
          1140.7
         ],
         [
          1064.9,
          1102.3
         ],
         [
          1064.9,
          990.08
         ],
         [
          1064.9,
          1053.1
         ],
         [
          1064.9,
          1077.8
         ],
         [
          1102.3,
          1133.9
         ],
         [
          1102.3,
          1103.4
         ],
         [
          1102.3,
          1109.8
         ],
         [
          1103.4,
          1069.8
         ],
         [
          1103.4,
          1131.5
         ],
         [
          990.08,
          1003.1
         ],
         [
          990.08,
          1005.2
         ],
         [
          990.08,
          905.69
         ],
         [
          990.08,
          979.43
         ],
         [
          1005.2,
          1009.6
         ],
         [
          1005.2,
          1022.4
         ],
         [
          1009.6,
          1029.1
         ],
         [
          1009.6,
          1005.4
         ],
         [
          1053.1,
          1069.8
         ],
         [
          1053.1,
          996.41
         ],
         [
          1053.1,
          1063.4
         ],
         [
          1069.8,
          1070.5
         ],
         [
          1069.8,
          1008.6
         ],
         [
          1069.8,
          1013.7
         ],
         [
          1069.8,
          1093.6
         ],
         [
          1069.8,
          1091.9
         ],
         [
          996.41,
          941.82
         ],
         [
          996.41,
          998.56
         ],
         [
          1008.6,
          941.82
         ],
         [
          1008.6,
          1030.3
         ],
         [
          941.82,
          962.08
         ],
         [
          941.82,
          943.68
         ],
         [
          941.82,
          870.96
         ],
         [
          941.82,
          893.9
         ],
         [
          941.82,
          941.92
         ],
         [
          1013.7,
          943.68
         ],
         [
          1013.7,
          1028
         ],
         [
          943.68,
          908.37
         ],
         [
          943.68,
          905.69
         ],
         [
          943.68,
          936.25
         ],
         [
          943.68,
          915.07
         ],
         [
          943.68,
          965.19
         ],
         [
          908.37,
          915.51
         ],
         [
          908.37,
          870.96
         ],
         [
          908.37,
          928.62
         ],
         [
          870.96,
          861.09
         ],
         [
          870.96,
          828.99
         ],
         [
          870.96,
          813.07
         ],
         [
          870.96,
          876.69
         ],
         [
          828.99,
          795.01
         ],
         [
          828.99,
          804.73
         ],
         [
          795.01,
          771.01
         ],
         [
          795.01,
          768.76
         ],
         [
          771.01,
          789.92
         ],
         [
          771.01,
          750.95
         ],
         [
          789.92,
          696.21
         ],
         [
          789.92,
          843.32
         ],
         [
          789.92,
          873.39
         ],
         [
          789.92,
          780.29
         ],
         [
          696.21,
          680.46
         ],
         [
          696.21,
          619.29
         ],
         [
          696.21,
          656.2
         ],
         [
          696.21,
          705.62
         ],
         [
          843.32,
          819.69
         ],
         [
          843.32,
          874.85
         ],
         [
          843.32,
          869.15
         ],
         [
          843.32,
          828.56
         ],
         [
          874.85,
          857.37
         ],
         [
          874.85,
          905.69
         ],
         [
          874.85,
          885.79
         ],
         [
          869.15,
          858.39
         ],
         [
          869.15,
          918.48
         ],
         [
          869.15,
          873.39
         ],
         [
          869.15,
          880.81
         ],
         [
          869.15,
          842.78
         ],
         [
          918.48,
          946.43
         ],
         [
          918.48,
          939.18
         ],
         [
          946.43,
          936.25
         ],
         [
          946.43,
          972.86
         ],
         [
          905.69,
          825.02
         ],
         [
          905.69,
          922.23
         ],
         [
          936.25,
          969.91
         ],
         [
          936.25,
          873.39
         ],
         [
          936.25,
          962.19
         ],
         [
          873.39,
          853.47
         ],
         [
          873.39,
          915.07
         ],
         [
          873.39,
          888.85
         ],
         [
          873.39,
          893.51
         ],
         [
          893.9,
          830.9
         ],
         [
          893.9,
          913.35
         ],
         [
          813.07,
          801.3
         ],
         [
          813.07,
          831.35
         ],
         [
          813.07,
          830.9
         ],
         [
          813.07,
          753.16
         ],
         [
          813.07,
          784.26
         ],
         [
          813.74,
          831.35
         ],
         [
          813.74,
          830.9
         ],
         [
          813.74,
          788.5
         ],
         [
          831.35,
          858.03
         ],
         [
          831.35,
          834.68
         ],
         [
          830.9,
          825.02
         ],
         [
          830.9,
          818.02
         ],
         [
          830.9,
          776.96
         ],
         [
          830.9,
          853.66
         ],
         [
          825.02,
          732.91
         ],
         [
          825.02,
          855.64
         ],
         [
          818.02,
          776.96
         ],
         [
          818.02,
          840.88
         ],
         [
          776.96,
          769.23
         ],
         [
          776.96,
          749.05
         ],
         [
          776.96,
          713.11
         ],
         [
          776.96,
          775.96
         ],
         [
          749.05,
          713.11
         ],
         [
          749.05,
          765.5
         ],
         [
          713.11,
          700.04
         ],
         [
          713.11,
          643.56
         ],
         [
          713.11,
          698.13
         ],
         [
          753.16,
          701.8
         ],
         [
          753.16,
          736.35
         ],
         [
          701.8,
          656.2
         ],
         [
          701.8,
          693.2
         ],
         [
          656.2,
          610.13
         ],
         [
          656.2,
          643.56
         ],
         [
          656.2,
          658.65
         ],
         [
          610.13,
          582.81
         ],
         [
          610.13,
          611.12
         ],
         [
          610.13,
          606.72
         ],
         [
          610.13,
          574.04
         ],
         [
          611.12,
          643.56
         ],
         [
          611.12,
          588.6
         ],
         [
          611.12,
          585.36
         ],
         [
          606.72,
          643.56
         ],
         [
          606.72,
          574.27
         ],
         [
          643.56,
          631.12
         ],
         [
          643.56,
          631.17
         ],
         [
          643.56,
          615.83
         ],
         [
          643.56,
          663.35
         ],
         [
          643.56,
          711.86
         ],
         [
          643.56,
          588.6
         ],
         [
          643.56,
          657.29
         ],
         [
          631.17,
          636.43
         ],
         [
          631.17,
          599.63
         ],
         [
          615.83,
          588.15
         ],
         [
          615.83,
          630.53
         ],
         [
          615.83,
          581.46
         ],
         [
          588.15,
          617.36
         ],
         [
          588.15,
          562.85
         ],
         [
          617.36,
          663.35
         ],
         [
          617.36,
          598.42
         ],
         [
          663.35,
          681.4
         ],
         [
          663.35,
          687.35
         ],
         [
          663.35,
          665.33
         ],
         [
          663.35,
          715.87
         ],
         [
          663.35,
          653.13
         ],
         [
          687.35,
          694.06
         ],
         [
          687.35,
          665.33
         ],
         [
          687.35,
          715.87
         ],
         [
          687.35,
          708.55
         ],
         [
          665.33,
          670.89
         ],
         [
          665.33,
          636.43
         ],
         [
          665.33,
          630.53
         ],
         [
          665.33,
          715.87
         ],
         [
          665.33,
          652.55
         ],
         [
          636.43,
          607.58
         ],
         [
          630.53,
          622.61
         ],
         [
          715.87,
          736.95
         ],
         [
          715.87,
          751.27
         ],
         [
          715.87,
          763.94
         ],
         [
          715.87,
          748.18
         ],
         [
          715.87,
          719.38
         ],
         [
          751.27,
          763.94
         ],
         [
          751.27,
          752.65
         ],
         [
          751.27,
          767.7
         ],
         [
          763.94,
          786.41
         ],
         [
          763.94,
          752.65
         ],
         [
          763.94,
          755.85
         ],
         [
          763.94,
          803.65
         ],
         [
          752.65,
          786.34
         ],
         [
          752.65,
          711.86
         ],
         [
          752.65,
          726.76
         ],
         [
          752.65,
          791.19
         ],
         [
          748.18,
          755.85
         ],
         [
          748.18,
          778.97
         ],
         [
          755.85,
          732.91
         ],
         [
          755.85,
          789.9
         ],
         [
          732.91,
          756.53
         ],
         [
          732.91,
          711.86
         ],
         [
          732.91,
          619.16
         ],
         [
          732.91,
          780.57
         ],
         [
          711.86,
          696.15
         ],
         [
          711.86,
          726.76
         ],
         [
          711.86,
          733.34
         ],
         [
          726.76,
          721.9
         ],
         [
          619.16,
          588.6
         ],
         [
          619.16,
          518.12
         ],
         [
          619.16,
          577.27
         ],
         [
          619.16,
          627.87
         ],
         [
          588.6,
          591.34
         ],
         [
          588.6,
          619.29
         ],
         [
          588.6,
          561.07
         ],
         [
          588.6,
          490.44
         ],
         [
          588.6,
          565.17
         ],
         [
          619.29,
          645.28
         ],
         [
          619.29,
          620.14
         ],
         [
          619.29,
          580.95
         ],
         [
          619.29,
          561.07
         ],
         [
          619.29,
          622.4
         ],
         [
          620.14,
          656.2
         ],
         [
          620.14,
          601.41
         ],
         [
          620.14,
          602.18
         ],
         [
          656.2,
          667.56
         ],
         [
          656.2,
          644.31
         ],
         [
          601.41,
          602.28
         ],
         [
          601.41,
          578.63
         ],
         [
          580.95,
          581.27
         ],
         [
          580.95,
          561.07
         ],
         [
          580.95,
          560.17
         ],
         [
          561.07,
          490.44
         ],
         [
          561.07,
          529.78
         ],
         [
          561.07,
          572
         ],
         [
          496.42,
          493.49
         ],
         [
          496.42,
          490.44
         ],
         [
          496.42,
          529.78
         ],
         [
          496.42,
          475.1
         ],
         [
          490.44,
          479.21
         ],
         [
          490.44,
          461.26
         ],
         [
          490.44,
          419.27
         ],
         [
          490.44,
          398.83
         ],
         [
          490.44,
          504.02
         ],
         [
          461.26,
          435.4
         ],
         [
          461.26,
          455.25
         ],
         [
          435.4,
          419.27
         ],
         [
          435.4,
          432.78
         ],
         [
          419.27,
          410.2
         ],
         [
          419.27,
          518.12
         ],
         [
          419.27,
          361.71
         ],
         [
          419.27,
          388.06
         ],
         [
          419.27,
          354.03
         ],
         [
          419.27,
          342.18
         ],
         [
          419.27,
          421.65
         ],
         [
          518.12,
          507.49
         ],
         [
          398.83,
          326.78
         ],
         [
          398.83,
          361.71
         ],
         [
          398.83,
          388.76
         ],
         [
          326.78,
          295.41
         ],
         [
          326.78,
          259
         ],
         [
          326.78,
          333.24
         ],
         [
          295.41,
          259
         ],
         [
          295.41,
          298.04
         ],
         [
          259,
          265.04
         ],
         [
          259,
          218.47
         ],
         [
          259,
          223.57
         ],
         [
          259,
          225.17
         ],
         [
          259,
          240.69
         ],
         [
          218.47,
          181.43
         ],
         [
          218.47,
          211.19
         ],
         [
          181.43,
          150.94
         ],
         [
          181.43,
          169
         ],
         [
          223.57,
          225.17
         ],
         [
          223.57,
          194.81
         ],
         [
          225.17,
          183.59
         ],
         [
          225.17,
          211.22
         ],
         [
          225.17,
          240.95
         ],
         [
          225.17,
          197.5
         ],
         [
          211.22,
          238.73
         ],
         [
          211.22,
          193.86
         ],
         [
          211.22,
          199.72
         ],
         [
          193.86,
          166.1
         ],
         [
          193.86,
          240.95
         ],
         [
          193.86,
          156.15
         ],
         [
          240.95,
          216.92
         ],
         [
          240.95,
          266.31
         ],
         [
          240.95,
          296.13
         ],
         [
          240.95,
          274.05
         ],
         [
          240.95,
          211.39
         ],
         [
          240.95,
          220.63
         ],
         [
          266.31,
          296.13
         ],
         [
          266.31,
          262.98
         ],
         [
          296.13,
          324.79
         ],
         [
          296.13,
          361.71
         ],
         [
          296.13,
          274.05
         ],
         [
          296.13,
          289.61
         ],
         [
          324.79,
          361.71
         ],
         [
          324.79,
          318
         ],
         [
          361.71,
          388.06
         ],
         [
          361.71,
          354.23
         ],
         [
          388.06,
          390.69
         ],
         [
          354.03,
          274.05
         ],
         [
          354.03,
          368.7
         ],
         [
          342.18,
          341.56
         ],
         [
          342.18,
          274.05
         ],
         [
          342.18,
          321.7
         ],
         [
          274.05,
          264.2
         ],
         [
          274.05,
          231.25
         ],
         [
          274.05,
          207.82
         ],
         [
          274.05,
          238.59
         ],
         [
          274.05,
          261.96
         ],
         [
          274.05,
          292.19
         ],
         [
          231.25,
          211.39
         ],
         [
          231.25,
          200.58
         ],
         [
          211.39,
          176.48
         ],
         [
          207.82,
          176.56
         ],
         [
          207.82,
          238.59
         ],
         [
          207.82,
          232.8
         ],
         [
          207.82,
          143.73
         ],
         [
          207.82,
          179.91
         ],
         [
          238.59,
          217.46
         ],
         [
          238.59,
          232.8
         ],
         [
          238.59,
          226.83
         ],
         [
          232.8,
          250.7
         ],
         [
          232.8,
          261.96
         ],
         [
          232.8,
          249.45
         ],
         [
          232.8,
          196.03
         ],
         [
          232.8,
          262.08
         ],
         [
          261.96,
          249.45
         ],
         [
          261.96,
          286.2
         ],
         [
          249.45,
          238.42
         ],
         [
          249.45,
          267.27
         ],
         [
          196.03,
          160.19
         ],
         [
          196.03,
          188.64
         ],
         [
          160.19,
          143.73
         ],
         [
          160.19,
          145.96
         ],
         [
          143.73,
          138.1
         ],
         [
          143.73,
          103.27
         ],
         [
          143.73,
          92.662
         ],
         [
          143.73,
          119.31
         ],
         [
          103.27,
          87.963
         ],
         [
          103.27,
          71.985
         ],
         [
          92.662,
          64.904
         ],
         [
          92.662,
          59.402
         ],
         [
          915.07,
          921.3
         ],
         [
          915.07,
          906.19
         ],
         [
          888.85,
          880.81
         ],
         [
          888.85,
          905.51
         ],
         [
          880.81,
          883.64
         ],
         [
          577.27,
          549.39
         ],
         [
          577.27,
          550.62
         ],
         [
          1093.6,
          1112.5
         ],
         [
          529.78,
          526.1
         ]
        ]
       },
       "y": {
        "type": "float",
        "values": [
         [
          324.05,
          320.62
         ],
         [
          324.05,
          327.16
         ],
         [
          324.05,
          302.78
         ],
         [
          324.05,
          345.37
         ],
         [
          327.16,
          302.07
         ],
         [
          327.16,
          351.44
         ],
         [
          302.78,
          282.93
         ],
         [
          302.78,
          302.07
         ],
         [
          302.78,
          298.64
         ],
         [
          259.38,
          237.6
         ],
         [
          259.38,
          282.93
         ],
         [
          259.38,
          267.16
         ],
         [
          259.38,
          254.51
         ],
         [
          282.93,
          241.2
         ],
         [
          282.93,
          320.32
         ],
         [
          282.93,
          267.16
         ],
         [
          282.93,
          261.5
         ],
         [
          241.2,
          214.69
         ],
         [
          241.2,
          278.84
         ],
         [
          241.2,
          205.65
         ],
         [
          278.84,
          302.07
         ],
         [
          278.84,
          279.02
         ],
         [
          320.32,
          346.3
         ],
         [
          320.32,
          377.99
         ],
         [
          320.32,
          297.29
         ],
         [
          320.32,
          346.61
         ],
         [
          377.99,
          425.18
         ],
         [
          377.99,
          397.85
         ],
         [
          425.18,
          447.94
         ],
         [
          425.18,
          457.44
         ],
         [
          267.16,
          302.07
         ],
         [
          267.16,
          272.94
         ],
         [
          267.16,
          234.24
         ],
         [
          302.07,
          330.12
         ],
         [
          302.07,
          301.1
         ],
         [
          302.07,
          259.46
         ],
         [
          302.07,
          345.22
         ],
         [
          302.07,
          316.13
         ],
         [
          272.94,
          291.76
         ],
         [
          272.94,
          243.09
         ],
         [
          301.1,
          291.76
         ],
         [
          301.1,
          318.76
         ],
         [
          291.76,
          304.4
         ],
         [
          291.76,
          235.45
         ],
         [
          291.76,
          281.68
         ],
         [
          291.76,
          345.19
         ],
         [
          291.76,
          274.56
         ],
         [
          259.46,
          235.45
         ],
         [
          259.46,
          228.86
         ],
         [
          235.45,
          254.61
         ],
         [
          235.45,
          297.29
         ],
         [
          235.45,
          161.11
         ],
         [
          235.45,
          180.61
         ],
         [
          235.45,
          213.89
         ],
         [
          254.61,
          232.37
         ],
         [
          254.61,
          281.68
         ],
         [
          254.61,
          249.04
         ],
         [
          281.68,
          260.28
         ],
         [
          281.68,
          243.13
         ],
         [
          281.68,
          326.25
         ],
         [
          281.68,
          299.46
         ],
         [
          243.13,
          206.5
         ],
         [
          243.13,
          235.8
         ],
         [
          206.5,
          172.32
         ],
         [
          206.5,
          200.77
         ],
         [
          172.32,
          165.26
         ],
         [
          172.32,
          145.37
         ],
         [
          165.26,
          209.06
         ],
         [
          165.26,
          156.41
         ],
         [
          165.26,
          138.58
         ],
         [
          165.26,
          130.94
         ],
         [
          209.06,
          192.31
         ],
         [
          209.06,
          276.63
         ],
         [
          209.06,
          180.75
         ],
         [
          209.06,
          183.73
         ],
         [
          156.41,
          143.77
         ],
         [
          156.41,
          223.32
         ],
         [
          156.41,
          95.966
         ],
         [
          156.41,
          124.06
         ],
         [
          223.32,
          204.99
         ],
         [
          223.32,
          297.29
         ],
         [
          223.32,
          199.32
         ],
         [
          95.966,
          57.49
         ],
         [
          95.966,
          80.639
         ],
         [
          95.966,
          138.58
         ],
         [
          95.966,
          54.713
         ],
         [
          95.966,
          72.711
         ],
         [
          80.639,
          108.55
         ],
         [
          80.639,
          49.948
         ],
         [
          108.55,
          161.11
         ],
         [
          108.55,
          83.684
         ],
         [
          297.29,
          368.03
         ],
         [
          297.29,
          321.44
         ],
         [
          161.11,
          156.12
         ],
         [
          161.11,
          138.58
         ],
         [
          161.11,
          135.11
         ],
         [
          138.58,
          115.47
         ],
         [
          138.58,
          180.61
         ],
         [
          138.58,
          84.403
         ],
         [
          138.58,
          119.26
         ],
         [
          345.19,
          380.46
         ],
         [
          345.19,
          370.45
         ],
         [
          326.25,
          297.94
         ],
         [
          326.25,
          335.04
         ],
         [
          326.25,
          380.46
         ],
         [
          326.25,
          349.2
         ],
         [
          326.25,
          315.77
         ],
         [
          358.24,
          335.04
         ],
         [
          358.24,
          380.46
         ],
         [
          358.24,
          358.39
         ],
         [
          335.04,
          339.43
         ],
         [
          335.04,
          310.08
         ],
         [
          380.46,
          368.03
         ],
         [
          380.46,
          418.54
         ],
         [
          380.46,
          420.3
         ],
         [
          380.46,
          408.32
         ],
         [
          368.03,
          430.36
         ],
         [
          368.03,
          382.69
         ],
         [
          418.54,
          420.3
         ],
         [
          418.54,
          445.05
         ],
         [
          420.3,
          394.39
         ],
         [
          420.3,
          449.15
         ],
         [
          420.3,
          449.59
         ],
         [
          420.3,
          449.77
         ],
         [
          449.15,
          449.59
         ],
         [
          449.15,
          473.09
         ],
         [
          449.59,
          429.53
         ],
         [
          449.59,
          477.25
         ],
         [
          449.59,
          466.62
         ],
         [
          349.2,
          384.51
         ],
         [
          349.2,
          328.13
         ],
         [
          384.51,
          432.28
         ],
         [
          384.51,
          358.64
         ],
         [
          432.28,
          456.93
         ],
         [
          432.28,
          477.25
         ],
         [
          432.28,
          408.83
         ],
         [
          456.93,
          480.6
         ],
         [
          456.93,
          429.76
         ],
         [
          456.93,
          484.56
         ],
         [
          456.93,
          463.06
         ],
         [
          429.76,
          477.25
         ],
         [
          429.76,
          372.73
         ],
         [
          429.76,
          436.61
         ],
         [
          484.56,
          477.25
         ],
         [
          484.56,
          504.43
         ],
         [
          477.25,
          495.64
         ],
         [
          477.25,
          527.27
         ],
         [
          477.25,
          550.41
         ],
         [
          477.25,
          569.97
         ],
         [
          477.25,
          494.97
         ],
         [
          477.25,
          372.73
         ],
         [
          477.25,
          497.16
         ],
         [
          527.27,
          573.09
         ],
         [
          527.27,
          533.91
         ],
         [
          550.41,
          593.85
         ],
         [
          550.41,
          599.14
         ],
         [
          550.41,
          562.31
         ],
         [
          593.85,
          608.25
         ],
         [
          593.85,
          620.43
         ],
         [
          608.25,
          569.97
         ],
         [
          608.25,
          644.14
         ],
         [
          569.97,
          584.14
         ],
         [
          569.97,
          615.38
         ],
         [
          569.97,
          611.12
         ],
         [
          569.97,
          598.71
         ],
         [
          569.97,
          595.19
         ],
         [
          615.38,
          655.97
         ],
         [
          615.38,
          611.12
         ],
         [
          615.38,
          598.71
         ],
         [
          615.38,
          615.87
         ],
         [
          611.12,
          652.05
         ],
         [
          611.12,
          573.09
         ],
         [
          611.12,
          599.14
         ],
         [
          611.12,
          598.71
         ],
         [
          611.12,
          649.04
         ],
         [
          573.09,
          584.69
         ],
         [
          599.14,
          637.22
         ],
         [
          598.71,
          632.25
         ],
         [
          598.71,
          596.63
         ],
         [
          598.71,
          576.04
         ],
         [
          598.71,
          567.08
         ],
         [
          598.71,
          640.01
         ],
         [
          596.63,
          576.04
         ],
         [
          596.63,
          547.07
         ],
         [
          596.63,
          634.35
         ],
         [
          576.04,
          612.35
         ],
         [
          576.04,
          547.07
         ],
         [
          576.04,
          513.57
         ],
         [
          576.04,
          595.05
         ],
         [
          547.07,
          543.97
         ],
         [
          547.07,
          494.97
         ],
         [
          547.07,
          533.36
         ],
         [
          547.07,
          562.46
         ],
         [
          567.08,
          513.57
         ],
         [
          567.08,
          589.42
         ],
         [
          513.57,
          430.36
         ],
         [
          513.57,
          515.22
         ],
         [
          430.36,
          426.15
         ],
         [
          430.36,
          494.97
         ],
         [
          430.36,
          394.46
         ],
         [
          430.36,
          436.82
         ],
         [
          494.97,
          513.18
         ],
         [
          494.97,
          533.36
         ],
         [
          494.97,
          499.87
         ],
         [
          533.36,
          558.54
         ],
         [
          394.46,
          372.73
         ],
         [
          394.46,
          361.09
         ],
         [
          394.46,
          408.22
         ],
         [
          394.46,
          370.26
         ],
         [
          372.73,
          347.48
         ],
         [
          372.73,
          276.63
         ],
         [
          372.73,
          316.56
         ],
         [
          372.73,
          346.27
         ],
         [
          372.73,
          366.53
         ],
         [
          276.63,
          272.45
         ],
         [
          276.63,
          207.22
         ],
         [
          276.63,
          275.7
         ],
         [
          276.63,
          316.56
         ],
         [
          276.63,
          249.74
         ],
         [
          207.22,
          180.75
         ],
         [
          207.22,
          156.6
         ],
         [
          207.22,
          185.93
         ],
         [
          180.75,
          148.34
         ],
         [
          180.75,
          149.29
         ],
         [
          156.6,
          121.96
         ],
         [
          156.6,
          131.76
         ],
         [
          275.7,
          244.82
         ],
         [
          275.7,
          316.56
         ],
         [
          275.7,
          253.2
         ],
         [
          316.56,
          346.27
         ],
         [
          316.56,
          291.73
         ],
         [
          316.56,
          299.05
         ],
         [
          298.22,
          265.6
         ],
         [
          298.22,
          346.27
         ],
         [
          298.22,
          291.73
         ],
         [
          298.22,
          276.84
         ],
         [
          346.27,
          373.78
         ],
         [
          346.27,
          337.49
         ],
         [
          346.27,
          321.42
         ],
         [
          346.27,
          376.94
         ],
         [
          346.27,
          333.99
         ],
         [
          337.49,
          348.88
         ],
         [
          337.49,
          312.88
         ],
         [
          348.88,
          321.42
         ],
         [
          348.88,
          378.65
         ],
         [
          321.42,
          342.73
         ],
         [
          321.42,
          361.09
         ],
         [
          321.42,
          335.31
         ],
         [
          321.42,
          317.62
         ],
         [
          321.42,
          277.9
         ],
         [
          321.42,
          283.86
         ],
         [
          321.42,
          291.32
         ],
         [
          361.09,
          383.6
         ],
         [
          376.94,
          421.26
         ],
         [
          376.94,
          335.31
         ],
         [
          376.94,
          406.34
         ],
         [
          421.26,
          448.85
         ],
         [
          421.26,
          445.87
         ],
         [
          421.26,
          447.73
         ],
         [
          448.85,
          445.87
         ],
         [
          448.85,
          478.91
         ],
         [
          445.87,
          477.43
         ],
         [
          445.87,
          493.08
         ],
         [
          445.87,
          435.99
         ],
         [
          445.87,
          397.23
         ],
         [
          445.87,
          469.95
         ],
         [
          493.08,
          525.55
         ],
         [
          493.08,
          520.34
         ],
         [
          525.55,
          534.68
         ],
         [
          525.55,
          555.77
         ],
         [
          435.99,
          397.23
         ],
         [
          435.99,
          455.51
         ],
         [
          397.23,
          399.08
         ],
         [
          397.23,
          377.92
         ],
         [
          397.23,
          324.07
         ],
         [
          397.23,
          420.16
         ],
         [
          377.92,
          383.45
         ],
         [
          377.92,
          349.7
         ],
         [
          377.92,
          395.27
         ],
         [
          349.7,
          340.6
         ],
         [
          349.7,
          324.07
         ],
         [
          349.7,
          360.11
         ],
         [
          324.07,
          318.01
         ],
         [
          324.07,
          318.07
         ],
         [
          324.07,
          311.57
         ],
         [
          324.07,
          255.8
         ],
         [
          324.07,
          293.09
         ],
         [
          324.07,
          339.87
         ],
         [
          318.07,
          311.57
         ],
         [
          318.07,
          298.75
         ],
         [
          311.57,
          333.52
         ],
         [
          311.57,
          335.31
         ],
         [
          311.57,
          255.8
         ],
         [
          311.57,
          333.48
         ],
         [
          333.52,
          335.31
         ],
         [
          333.52,
          360.4
         ],
         [
          335.31,
          317.62
         ],
         [
          335.31,
          361.32
         ],
         [
          317.62,
          292.23
         ],
         [
          277.9,
          255.8
         ],
         [
          277.9,
          248.71
         ],
         [
          283.86,
          249.77
         ],
         [
          283.86,
          255.8
         ],
         [
          283.86,
          265.37
         ],
         [
          255.8,
          233.57
         ],
         [
          255.8,
          266.31
         ],
         [
          255.8,
          199.45
         ],
         [
          255.8,
          208.95
         ],
         [
          255.8,
          189.86
         ],
         [
          255.8,
          233.77
         ],
         [
          266.31,
          293.09
         ],
         [
          266.31,
          260.4
         ],
         [
          293.09,
          288.95
         ],
         [
          199.45,
          211.94
         ],
         [
          199.45,
          208.95
         ],
         [
          199.45,
          163.09
         ],
         [
          199.45,
          156.45
         ],
         [
          199.45,
          184.95
         ],
         [
          208.95,
          224.77
         ],
         [
          208.95,
          163.09
         ],
         [
          208.95,
          184.49
         ],
         [
          163.09,
          128.09
         ],
         [
          163.09,
          189.86
         ],
         [
          163.09,
          141.82
         ],
         [
          163.09,
          126.19
         ],
         [
          163.09,
          153.75
         ],
         [
          189.86,
          141.82
         ],
         [
          189.86,
          171.02
         ],
         [
          141.82,
          105.67
         ],
         [
          141.82,
          106.36
         ],
         [
          126.19,
          119.14
         ],
         [
          126.19,
          93.428
         ],
         [
          119.14,
          156.45
         ],
         [
          119.14,
          87.605
         ],
         [
          156.45,
          130
         ],
         [
          156.45,
          124.22
         ],
         [
          156.45,
          164.99
         ],
         [
          156.45,
          155.15
         ],
         [
          124.22,
          94.411
         ],
         [
          124.22,
          116.3
         ],
         [
          164.99,
          181.75
         ],
         [
          164.99,
          155.95
         ],
         [
          180.61,
          148.4
         ],
         [
          180.61,
          166.38
         ],
         [
          84.403,
          54.713
         ],
         [
          84.403,
          50.205
         ],
         [
          54.713,
          18
         ],
         [
          408.22,
          404.83
         ],
         [
          408.22,
          427.86
         ],
         [
          345.22,
          374.44
         ],
         [
          291.73,
          262.07
         ]
        ]
       }
      }
     },
     "79633ec4e52b4a29be0b1be205dc2985": {
      "model_module": "@jupyter-widgets/controls",
      "model_module_version": "1.0.0",
      "model_name": "DescriptionStyleModel",
      "state": {
       "description_width": ""
      }
     },
     "7a1d4a2568684e488c67634abddd1c1b": {
      "model_module": "@jupyter-widgets/controls",
      "model_module_version": "1.0.0",
      "model_name": "CheckboxModel",
      "state": {
       "description": "Show gen names",
       "disabled": false,
       "indent": false,
       "layout": "IPY_MODEL_9f85d73a8b5d48d8bc725e2abb72d4ed",
       "style": "IPY_MODEL_d00d30adeda44c2f939e97e37670e5ee",
       "value": false
      }
     },
     "7d9a584fd69d43ad832bb86c22597bf2": {
      "model_module": "bqplot",
      "model_module_version": "^0.2.3",
      "model_name": "LinearScaleModel",
      "state": {
       "max": 193.73,
       "min": 9.402000000000001,
       "stabilized": false
      }
     },
     "7e8036068db14ee38dd558300b1e5e28": {
      "model_module": "@jupyter-widgets/base",
      "model_module_version": "1.0.0",
      "model_name": "LayoutModel",
      "state": {}
     },
     "7e8ca19bd2104007b7a0ff7a4a9b22d9": {
      "model_module": "@jupyter-widgets/base",
      "model_module_version": "1.0.0",
      "model_name": "LayoutModel",
      "state": {}
     },
     "7fd1e432d79c442888d617932ec9ff62": {
      "model_module": "@jupyter-widgets/controls",
      "model_module_version": "1.0.0",
      "model_name": "DropdownModel",
      "state": {
       "_options_labels": [
        "All",
        "Bus1",
        "Bus2",
        "Bus3",
        "Bus4",
        "Bus5",
        "Bus6",
        "Bus7",
        "Bus8",
        "Bus9",
        "Bus10",
        "Bus11",
        "Bus12",
        "Bus13",
        "Bus14",
        "Bus15",
        "Bus16",
        "Bus17",
        "Bus18",
        "Bus19",
        "Bus20",
        "Bus21",
        "Bus22",
        "Bus23",
        "Bus24",
        "Bus25",
        "Bus26",
        "Bus27",
        "Bus28",
        "Bus29",
        "Bus30",
        "Bus31",
        "Bus32",
        "Bus33",
        "Bus34",
        "Bus35",
        "Bus36",
        "Bus37",
        "Bus38",
        "Bus39",
        "Bus40",
        "Bus41",
        "Bus42",
        "Bus43",
        "Bus44",
        "Bus45",
        "Bus46",
        "Bus47",
        "Bus48",
        "Bus49",
        "Bus50",
        "Bus51",
        "Bus52",
        "Bus53",
        "Bus54",
        "Bus55",
        "Bus56",
        "Bus57",
        "Bus58",
        "Bus59",
        "Bus60",
        "Bus61",
        "Bus62",
        "Bus63",
        "Bus64",
        "Bus65",
        "Bus66",
        "Bus67",
        "Bus68",
        "Bus69",
        "Bus70",
        "Bus71",
        "Bus72",
        "Bus73",
        "Bus74",
        "Bus75",
        "Bus76",
        "Bus77",
        "Bus78",
        "Bus79",
        "Bus80",
        "Bus81",
        "Bus82",
        "Bus83",
        "Bus84",
        "Bus85",
        "Bus86",
        "Bus87",
        "Bus88",
        "Bus89",
        "Bus90",
        "Bus91",
        "Bus92",
        "Bus93",
        "Bus94",
        "Bus95",
        "Bus96",
        "Bus97",
        "Bus98",
        "Bus99",
        "Bus100",
        "Bus101",
        "Bus102",
        "Bus103",
        "Bus104",
        "Bus105",
        "Bus106",
        "Bus107",
        "Bus108",
        "Bus109",
        "Bus110",
        "Bus111",
        "Bus112",
        "Bus113",
        "Bus114",
        "Bus115",
        "Bus116",
        "Bus117",
        "Bus118"
       ],
       "description": "Start at:",
       "index": 1,
       "layout": "IPY_MODEL_2df6322d5ccf40d68500c9cee5996195",
       "style": "IPY_MODEL_2403ec5780a24ba7b218644ae761cdc1"
      }
     },
     "7fe28537d0404001a6883b94b9ad7a6a": {
      "model_module": "bqplot",
      "model_module_version": "^0.2.3",
      "model_name": "ScatterModel",
      "state": {
       "_model_module": "bqplot",
       "_model_module_version": "^0.2.3",
       "_view_count": null,
       "_view_module": "bqplot",
       "_view_module_version": "^0.2.3",
       "apply_clip": true,
       "color": {
        "type": null,
        "values": null
       },
       "colors": [
        "Orange"
       ],
       "default_opacities": [
        0.6
       ],
       "default_size": 140,
       "display_legend": false,
       "display_names": false,
       "enable_hover": true,
       "hovered_style": {},
       "interactions": {
        "hover": "tooltip"
       },
       "labels": [],
       "marker": "triangle-up",
       "names": {
        "type": "<U11",
        "values": [
         "Load_Bus112"
        ]
       },
       "opacity": {
        "type": null,
        "values": null
       },
       "preserve_domain": {},
       "rotation": {
        "type": null,
        "values": null
       },
       "scales": {
        "x": "IPY_MODEL_7d9a584fd69d43ad832bb86c22597bf2",
        "y": "IPY_MODEL_f813645efb524d219ca5e43f2c76b294"
       },
       "scales_metadata": {
        "color": {
         "dimension": "color"
        },
        "opacity": {
         "dimension": "opacity"
        },
        "size": {
         "dimension": "size"
        },
        "x": {
         "dimension": "x",
         "orientation": "horizontal"
        },
        "y": {
         "dimension": "y",
         "orientation": "vertical"
        }
       },
       "selected": [],
       "selected_style": {
        "fill": "DarkOrange",
        "opacity": 0.8,
        "stroke": "Red"
       },
       "size": {
        "type": null,
        "values": null
       },
       "skew": {
        "type": null,
        "values": null
       },
       "tooltip": "IPY_MODEL_0487c1513bde4203adcaee9b1a10b6d8",
       "tooltip_location": "mouse",
       "tooltip_style": {
        "opacity": 0.9
       },
       "unhovered_style": {},
       "unselected_style": {},
       "visible": true,
       "x": {
        "type": "float",
        "values": [
         59.402
        ]
       },
       "y": {
        "type": "float",
        "values": [
         155.95
        ]
       }
      }
     },
     "81bfaf43f58946ebacdad6fada86f939": {
      "model_module": "bqplot",
      "model_module_version": "^0.2.3",
      "model_name": "ColorScaleModel",
      "state": {
       "_model_name": "ColorScaleModel",
       "_view_name": "ColorScale",
       "colors": [
        "Red",
        "Green"
       ],
       "mid": null,
       "scale_type": "linear",
       "scheme": "RdYlGn"
      }
     },
     "831981a457ac449fb7837d4792b059bb": {
      "model_module": "@jupyter-widgets/controls",
      "model_module_version": "1.0.0",
      "model_name": "VBoxModel",
      "state": {
       "children": [
        "IPY_MODEL_f77f6786cb534f729ec17ea12d5f252c",
        "IPY_MODEL_df81f2ae4b6d4292bd81df5b6d7ed943"
       ],
       "layout": "IPY_MODEL_f41dc629eaa047a9a63df53128f9d812"
      }
     },
     "83b9bd6a38c845f29fcc8d62423de08d": {
      "model_module": "bqplot",
      "model_module_version": "^0.2.3",
      "model_name": "LinesModel",
      "state": {
       "color": {
        "type": null,
        "values": null
       },
       "colors": [
        "DeepSkyBlue"
       ],
       "display_legend": false,
       "fill_colors": [],
       "labels": [
        "C1",
        "C2",
        "C3",
        "C4",
        "C5",
        "C6",
        "C7",
        "C8",
        "C9",
        "C10",
        "C11",
        "C12",
        "C13",
        "C14",
        "C15",
        "C16",
        "C17"
       ],
       "opacities": [
        0.8
       ],
       "scales": {
        "x": "IPY_MODEL_5a793b55b5904afb954055d7739c1e08",
        "y": "IPY_MODEL_92d4beec08c84c5d8dd05e339280ef46"
       },
       "selected": [],
       "x": {
        "type": "float",
        "values": [
         [
          1122.6,
          1069.8
         ],
         [
          1158.9,
          1113.9
         ],
         [
          1158.9,
          1122.6
         ]
        ]
       },
       "y": {
        "type": "float",
        "values": [
         [
          327.16,
          302.07
         ],
         [
          324.05,
          302.78
         ],
         [
          324.05,
          327.16
         ]
        ]
       }
      }
     },
     "842a53fac8dc477fb6c657facb13a6d5": {
      "model_module": "@jupyter-widgets/base",
      "model_module_version": "1.0.0",
      "model_name": "LayoutModel",
      "state": {}
     },
     "84500485afd74888aae292d2eadacf26": {
      "model_module": "@jupyter-widgets/controls",
      "model_module_version": "1.0.0",
      "model_name": "LabelModel",
      "state": {
       "layout": "IPY_MODEL_e0d9c46c256a4095a834cade87aa1056",
       "style": "IPY_MODEL_8cbffd04055340a98c20d1c8410877e7",
       "value": "--------------------"
      }
     },
     "84a142e3aafd4780a2ef453d54210e36": {
      "model_module": "@jupyter-widgets/base",
      "model_module_version": "1.0.0",
      "model_name": "LayoutModel",
      "state": {}
     },
     "84e50db326714c9284d7f51294216a88": {
      "model_module": "@jupyter-widgets/base",
      "model_module_version": "1.0.0",
      "model_name": "LayoutModel",
      "state": {}
     },
     "85b1b770e1fe45a4ad01a78e9244043a": {
      "model_module": "@jupyter-widgets/controls",
      "model_module_version": "1.0.0",
      "model_name": "VBoxModel",
      "state": {
       "children": [
        "IPY_MODEL_693826caf5b64f0daba310e31e7f004e",
        "IPY_MODEL_017d6f39737c46499c9080a00797c6ea"
       ],
       "layout": "IPY_MODEL_4694c3ef97e34cb4841d31ba9f5a3501"
      }
     },
     "864680acd6f04eb7b4d7b0d2816a4cc8": {
      "model_module": "@jupyter-widgets/controls",
      "model_module_version": "1.0.0",
      "model_name": "HBoxModel",
      "state": {
       "children": [
        "IPY_MODEL_d1ed012a17984933b9d83a946ef12c71",
        "IPY_MODEL_95938a3c9dca498483d83a743ee4b9c4"
       ],
       "layout": "IPY_MODEL_a4d74e517fde4d9295ca1d11752eefe1"
      }
     },
     "868c3325509e45cb964ac872dbe37e41": {
      "model_module": "bqplot",
      "model_module_version": "^0.2.3",
      "model_name": "LinearScaleModel",
      "state": {
       "max": 451.44,
       "min": 191.2,
       "stabilized": false
      }
     },
     "872b9277c30b4e78a09fa4a6cb53008b": {
      "model_module": "@jupyter-widgets/controls",
      "model_module_version": "1.0.0",
      "model_name": "CheckboxModel",
      "state": {
       "description": "Show gen names",
       "disabled": false,
       "indent": false,
       "layout": "IPY_MODEL_fea8d927f5b74ad4b231799050617ae9",
       "style": "IPY_MODEL_b6a09c1f621946649bead7eddd79eb10",
       "value": false
      }
     },
     "873a4e3b7cd64692b4d90f4dc5353c43": {
      "model_module": "@jupyter-widgets/controls",
      "model_module_version": "1.0.0",
      "model_name": "DescriptionStyleModel",
      "state": {
       "description_width": ""
      }
     },
     "87adb5050bc0496a9d4dc5510bb3a99b": {
      "model_module": "@jupyter-widgets/base",
      "model_module_version": "1.0.0",
      "model_name": "LayoutModel",
      "state": {}
     },
     "8815610f63e044cebbeff2fc238a74c9": {
      "model_module": "bqplot",
      "model_module_version": "^0.2.3",
      "model_name": "TooltipModel",
      "state": {
       "fields": [
        "name"
       ],
       "layout": "IPY_MODEL_8a968878e2744f1d89c14a05fb6bd228"
      }
     },
     "885e0b25bdbe404ab71a45746a914189": {
      "model_module": "@jupyter-widgets/controls",
      "model_module_version": "1.0.0",
      "model_name": "DescriptionStyleModel",
      "state": {
       "description_width": ""
      }
     },
     "89ba6d1669e2483ca385c5eca43f91a2": {
      "model_module": "@jupyter-widgets/base",
      "model_module_version": "1.0.0",
      "model_name": "LayoutModel",
      "state": {
       "border": "dotted Gray 1px",
       "margin": "5px"
      }
     },
     "89d1fec0579746c6bdc1942da05faa6a": {
      "model_module": "bqplot",
      "model_module_version": "^0.2.3",
      "model_name": "ScatterModel",
      "state": {
       "_model_module": "bqplot",
       "_model_module_version": "^0.2.3",
       "_view_count": null,
       "_view_module": "bqplot",
       "_view_module_version": "^0.2.3",
       "apply_clip": true,
       "color": {
        "type": null,
        "values": null
       },
       "colors": [
        "LightGreen"
       ],
       "default_opacities": [
        0.6
       ],
       "default_size": 150,
       "display_legend": false,
       "display_names": false,
       "enable_hover": true,
       "hovered_style": {},
       "interactions": {
        "hover": "tooltip"
       },
       "labels": [],
       "names": {
        "type": "<U6",
        "values": [
         "GenCo0"
        ]
       },
       "opacity": {
        "type": null,
        "values": null
       },
       "preserve_domain": {},
       "rotation": {
        "type": null,
        "values": null
       },
       "scales": {
        "x": "IPY_MODEL_2b8fe8e0573042fa8c20078316645d3e",
        "y": "IPY_MODEL_d898f958de5542ae884ed9eaa86cef77"
       },
       "scales_metadata": {
        "color": {
         "dimension": "color"
        },
        "opacity": {
         "dimension": "opacity"
        },
        "size": {
         "dimension": "size"
        },
        "x": {
         "dimension": "x",
         "orientation": "horizontal"
        },
        "y": {
         "dimension": "y",
         "orientation": "vertical"
        }
       },
       "selected": [],
       "selected_style": {
        "fill": "DarkGreen",
        "opacity": 0.8,
        "stroke": "Green"
       },
       "size": {
        "type": null,
        "values": null
       },
       "skew": {
        "type": null,
        "values": null
       },
       "tooltip": "IPY_MODEL_8f9ff6bc07df4206be48f4f0a4ac035b",
       "tooltip_location": "mouse",
       "tooltip_style": {
        "opacity": 0.9
       },
       "unhovered_style": {},
       "unselected_style": {},
       "visible": true,
       "x": {
        "type": "float",
        "values": [
         1196
        ]
       },
       "y": {
        "type": "float",
        "values": [
         320.62
        ]
       }
      }
     },
     "8a1fd21e59a741799e840ec21b796680": {
      "model_module": "bqplot",
      "model_module_version": "^0.2.3",
      "model_name": "ScatterModel",
      "state": {
       "_model_module": "bqplot",
       "_model_module_version": "^0.2.3",
       "_view_count": null,
       "_view_module": "bqplot",
       "_view_module_version": "^0.2.3",
       "apply_clip": true,
       "color": {
        "type": null,
        "values": null
       },
       "colors": [
        "Orange"
       ],
       "default_opacities": [
        0.6
       ],
       "default_size": 140,
       "display_legend": false,
       "display_names": false,
       "enable_hover": true,
       "hovered_style": {},
       "interactions": {
        "hover": "tooltip"
       },
       "labels": [],
       "marker": "triangle-up",
       "names": {
        "type": "<U11",
        "values": [
         "Load_Bus112"
        ]
       },
       "opacity": {
        "type": null,
        "values": null
       },
       "preserve_domain": {},
       "rotation": {
        "type": null,
        "values": null
       },
       "scales": {
        "x": "IPY_MODEL_ea5ac8e5f71a47a0bb757eb8b8730beb",
        "y": "IPY_MODEL_1f83238fb0904ec79cc1bd5e7dec7a9a"
       },
       "scales_metadata": {
        "color": {
         "dimension": "color"
        },
        "opacity": {
         "dimension": "opacity"
        },
        "size": {
         "dimension": "size"
        },
        "x": {
         "dimension": "x",
         "orientation": "horizontal"
        },
        "y": {
         "dimension": "y",
         "orientation": "vertical"
        }
       },
       "selected": [],
       "selected_style": {
        "fill": "DarkOrange",
        "opacity": 0.8,
        "stroke": "Red"
       },
       "size": {
        "type": null,
        "values": null
       },
       "skew": {
        "type": null,
        "values": null
       },
       "tooltip": "IPY_MODEL_b846bbef58e74d51af72e631ddf6feda",
       "tooltip_location": "mouse",
       "tooltip_style": {
        "opacity": 0.9
       },
       "unhovered_style": {},
       "unselected_style": {},
       "visible": true,
       "x": {
        "type": "float",
        "values": [
         59.402
        ]
       },
       "y": {
        "type": "float",
        "values": [
         155.95
        ]
       }
      }
     },
     "8a968878e2744f1d89c14a05fb6bd228": {
      "model_module": "@jupyter-widgets/base",
      "model_module_version": "1.0.0",
      "model_name": "LayoutModel",
      "state": {}
     },
     "8acdf33c67364edf9573f863bed0c419": {
      "model_module": "@jupyter-widgets/controls",
      "model_module_version": "1.0.0",
      "model_name": "LabelModel",
      "state": {
       "layout": "IPY_MODEL_9f85d73a8b5d48d8bc725e2abb72d4ed",
       "style": "IPY_MODEL_509770619d4e436fa962c1e1cf034153",
       "value": "--------------------"
      }
     },
     "8b1d45ea3f9d44e8ab9a62c2b7bceff3": {
      "model_module": "@jupyter-widgets/controls",
      "model_module_version": "1.0.0",
      "model_name": "CheckboxModel",
      "state": {
       "description": "Show generators",
       "disabled": false,
       "indent": false,
       "layout": "IPY_MODEL_e0d9c46c256a4095a834cade87aa1056",
       "style": "IPY_MODEL_c013811c3115403084681248d25649ae",
       "value": true
      }
     },
     "8c4ec22c16d142bcbc158a3379618bab": {
      "model_module": "@jupyter-widgets/base",
      "model_module_version": "1.0.0",
      "model_name": "LayoutModel",
      "state": {}
     },
     "8cbffd04055340a98c20d1c8410877e7": {
      "model_module": "@jupyter-widgets/controls",
      "model_module_version": "1.0.0",
      "model_name": "DescriptionStyleModel",
      "state": {
       "description_width": ""
      }
     },
     "8d304562638142d4a9589b5c5d7d69cc": {
      "model_module": "@jupyter-widgets/controls",
      "model_module_version": "1.0.0",
      "model_name": "DescriptionStyleModel",
      "state": {
       "description_width": ""
      }
     },
     "8f9ff6bc07df4206be48f4f0a4ac035b": {
      "model_module": "bqplot",
      "model_module_version": "^0.2.3",
      "model_name": "TooltipModel",
      "state": {
       "fields": [
        "name"
       ],
       "layout": "IPY_MODEL_4636dffc33604a718f629fdbd6da3b9d"
      }
     },
     "8fde87e27b0a45e9b49f6a50f3a18b4d": {
      "model_module": "bqplot",
      "model_module_version": "^0.2.3",
      "model_name": "LinesModel",
      "state": {
       "color": {
        "type": null,
        "values": null
       },
       "colors": [
        "Orange"
       ],
       "display_legend": false,
       "fill_colors": [],
       "labels": [
        "C1",
        "C2",
        "C3",
        "C4",
        "C5",
        "C6"
       ],
       "opacities": [
        0.8
       ],
       "scales": {
        "x": "IPY_MODEL_5a793b55b5904afb954055d7739c1e08",
        "y": "IPY_MODEL_92d4beec08c84c5d8dd05e339280ef46"
       },
       "selected": [],
       "stroke_width": 1.5,
       "x": {
        "type": "float",
        "values": [
         [
          1122.6,
          1148.2
         ],
         [
          1158.9,
          1187.5
         ]
        ]
       },
       "y": {
        "type": "float",
        "values": [
         [
          327.16,
          351.44
         ],
         [
          324.05,
          345.37
         ]
        ]
       }
      }
     },
     "90c44981da2f4ad2be3b5feb62301f69": {
      "model_module": "@jupyter-widgets/base",
      "model_module_version": "1.0.0",
      "model_name": "LayoutModel",
      "state": {}
     },
     "923d318a7c78435fa238942a0b2427f2": {
      "model_module": "@jupyter-widgets/base",
      "model_module_version": "1.0.0",
      "model_name": "LayoutModel",
      "state": {
       "border": "dotted Gray 1px",
       "margin": "5px",
       "min_width": "150px"
      }
     },
     "923ea1d8eb794cf5a2db62e3c765aa82": {
      "model_module": "@jupyter-widgets/controls",
      "model_module_version": "1.0.0",
      "model_name": "CheckboxModel",
      "state": {
       "description": "Show load names",
       "disabled": false,
       "indent": false,
       "layout": "IPY_MODEL_9f85d73a8b5d48d8bc725e2abb72d4ed",
       "style": "IPY_MODEL_fb2d4580de48475783f4f6aa49b89ce1",
       "value": false
      }
     },
     "9251ad113d964b70a5f865e9ccbc85eb": {
      "model_module": "@jupyter-widgets/base",
      "model_module_version": "1.0.0",
      "model_name": "LayoutModel",
      "state": {}
     },
     "92d4beec08c84c5d8dd05e339280ef46": {
      "model_module": "bqplot",
      "model_module_version": "^0.2.3",
      "model_name": "LinearScaleModel",
      "state": {
       "max": 451.44,
       "min": 252.07,
       "stabilized": false
      }
     },
     "93db498df325456193e2d39325ed4c39": {
      "model_module": "@jupyter-widgets/controls",
      "model_module_version": "1.0.0",
      "model_name": "LabelModel",
      "state": {
       "layout": "IPY_MODEL_fab13eb6e75848cd9a89557fc11a5c0b",
       "style": "IPY_MODEL_508bfefb41514cda9dc08e034a0745c6",
       "value": "--------------------"
      }
     },
     "93e44bb807334c5f9d8896d77b0d305a": {
      "model_module": "@jupyter-widgets/base",
      "model_module_version": "1.0.0",
      "model_name": "LayoutModel",
      "state": {}
     },
     "942b2cb08e6c446497fd96f342b8eb38": {
      "model_module": "bqplot",
      "model_module_version": "^0.2.3",
      "model_name": "LinesModel",
      "state": {
       "color": {
        "type": null,
        "values": null
       },
       "colors": [
        "LightGreen"
       ],
       "display_legend": false,
       "fill_colors": [],
       "labels": [
        "C1"
       ],
       "opacities": [
        0.8
       ],
       "scales": {
        "x": "IPY_MODEL_2b8fe8e0573042fa8c20078316645d3e",
        "y": "IPY_MODEL_d898f958de5542ae884ed9eaa86cef77"
       },
       "selected": [],
       "stroke_width": 1.5,
       "x": {
        "type": "float",
        "values": [
         1158.9,
         1196
        ]
       },
       "y": {
        "type": "float",
        "values": [
         324.05,
         320.62
        ]
       }
      }
     },
     "95356f1984784d8b8e84327de4c790d7": {
      "model_module": "@jupyter-widgets/controls",
      "model_module_version": "1.0.0",
      "model_name": "VBoxModel",
      "state": {
       "children": [
        "IPY_MODEL_d3011cceee1d4d79a3f89acddb4b6790"
       ],
       "layout": "IPY_MODEL_26b96fc5c02c4b2c852e4008ca7cce78"
      }
     },
     "95938a3c9dca498483d83a743ee4b9c4": {
      "model_module": "bqplot",
      "model_module_version": "^0.2.3",
      "model_name": "FigureModel",
      "state": {
       "_dom_classes": [],
       "fig_margin": {
        "bottom": 0,
        "left": 0,
        "right": 0,
        "top": 0
       },
       "layout": "IPY_MODEL_6144546515454219b94f868b6d8fccc3",
       "marks": [
        "IPY_MODEL_7878206642b04af5b4a7d3ac0d25df43",
        "IPY_MODEL_b22884309d9a4dd8b6e551a6da65813d",
        "IPY_MODEL_2588e837250c4d6bb5533b5a41f44304",
        "IPY_MODEL_ba529e0da19846a89e821095fc0b1eba",
        "IPY_MODEL_cd2e1c907a9a49e283d63cc35679ed51",
        "IPY_MODEL_0d019edf10f54e7aafa880e031c41bf3"
       ],
       "max_aspect_ratio": 6,
       "scale_x": "IPY_MODEL_f9dd4e5e0722440890b1b479572ab66b",
       "scale_y": "IPY_MODEL_e412e58d4a9441089f027ed08ca56957"
      }
     },
     "95fa5749478642b883c5cb559b697c9e": {
      "model_module": "@jupyter-widgets/controls",
      "model_module_version": "1.0.0",
      "model_name": "DescriptionStyleModel",
      "state": {
       "description_width": ""
      }
     },
     "96c6eb355b1e44deb3bc36bc249c395c": {
      "model_module": "@jupyter-widgets/base",
      "model_module_version": "1.0.0",
      "model_name": "LayoutModel",
      "state": {}
     },
     "98544b021271416c994bd2833437fbf3": {
      "model_module": "bqplot",
      "model_module_version": "^0.2.3",
      "model_name": "ColorScaleModel",
      "state": {
       "_model_name": "ColorScaleModel",
       "_view_name": "ColorScale",
       "colors": [
        "Red",
        "Green"
       ],
       "mid": null,
       "scale_type": "linear",
       "scheme": "RdYlGn"
      }
     },
     "9abdd9f09dff4a7f9b0c198353726f86": {
      "model_module": "@jupyter-widgets/controls",
      "model_module_version": "1.0.0",
      "model_name": "CheckboxModel",
      "state": {
       "description": "Show gen names",
       "disabled": false,
       "indent": false,
       "layout": "IPY_MODEL_fab13eb6e75848cd9a89557fc11a5c0b",
       "style": "IPY_MODEL_4a26177e8a2b4420b9c7db27f2b54b06",
       "value": false
      }
     },
     "9b9d4f3a215a4994a63ace8fdce8c743": {
      "model_module": "@jupyter-widgets/controls",
      "model_module_version": "1.0.0",
      "model_name": "LabelModel",
      "state": {
       "layout": "IPY_MODEL_fab13eb6e75848cd9a89557fc11a5c0b",
       "style": "IPY_MODEL_e832090f56fe4836860840773312abd7",
       "value": "Options:"
      }
     },
     "9bd3c43396c1475b9575e1e59bb59f18": {
      "model_module": "@jupyter-widgets/controls",
      "model_module_version": "1.0.0",
      "model_name": "LabelModel",
      "state": {
       "layout": "IPY_MODEL_e0d9c46c256a4095a834cade87aa1056",
       "style": "IPY_MODEL_25d81807a08d40108d19ca3923712e9e",
       "value": "--------------------"
      }
     },
     "9d2e0a9cdac04760901855fbce33bb2a": {
      "model_module": "@jupyter-widgets/controls",
      "model_module_version": "1.0.0",
      "model_name": "ButtonModel",
      "state": {
       "button_style": "info",
       "description": "Reset",
       "icon": "times-circle",
       "layout": "IPY_MODEL_b5c746b1f0864f7f872caeccdf2cdd7a",
       "style": "IPY_MODEL_4c7ca8105e864b569fa8c8872bcb24f7"
      }
     },
     "9d48127a963549eab45ecc87fb9a2647": {
      "model_module": "@jupyter-widgets/base",
      "model_module_version": "1.0.0",
      "model_name": "LayoutModel",
      "state": {
       "max_width": "810px"
      }
     },
     "9f72627f2ea3412087121939bf081c7a": {
      "model_module": "bqplot",
      "model_module_version": "^0.2.3",
      "model_name": "LinesModel",
      "state": {
       "color": {
        "type": null,
        "values": null
       },
       "colors": [
        "DeepSkyBlue"
       ],
       "display_legend": false,
       "fill_colors": [],
       "labels": [
        "C1",
        "C2",
        "C3",
        "C4",
        "C5",
        "C6",
        "C7",
        "C8",
        "C9",
        "C10",
        "C11",
        "C12"
       ],
       "opacities": [
        0.8
       ],
       "scales": {
        "x": "IPY_MODEL_01b0b239610d41a692695acccecdc0b0",
        "y": "IPY_MODEL_868c3325509e45cb964ac872dbe37e41"
       },
       "selected": [],
       "x": {
        "type": "float",
        "values": [
         [
          1122.6,
          1069.8
         ],
         [
          1113.9,
          1064.9
         ],
         [
          1113.9,
          1069.8
         ],
         [
          1064.9,
          1102.3
         ],
         [
          1064.9,
          990.08
         ],
         [
          1064.9,
          1053.1
         ],
         [
          1158.9,
          1122.6
         ],
         [
          1158.9,
          1113.9
         ],
         [
          1099.5,
          1064.9
         ]
        ]
       },
       "y": {
        "type": "float",
        "values": [
         [
          327.16,
          302.07
         ],
         [
          302.78,
          282.93
         ],
         [
          302.78,
          302.07
         ],
         [
          282.93,
          241.2
         ],
         [
          282.93,
          320.32
         ],
         [
          282.93,
          267.16
         ],
         [
          324.05,
          327.16
         ],
         [
          324.05,
          302.78
         ],
         [
          259.38,
          282.93
         ]
        ]
       }
      }
     },
     "9f85d73a8b5d48d8bc725e2abb72d4ed": {
      "model_module": "@jupyter-widgets/base",
      "model_module_version": "1.0.0",
      "model_name": "LayoutModel",
      "state": {
       "width": "auto"
      }
     },
     "a02be157e4964c2eaa8fefca862c1ae6": {
      "model_module": "@jupyter-widgets/controls",
      "model_module_version": "1.0.0",
      "model_name": "LabelModel",
      "state": {
       "layout": "IPY_MODEL_fea8d927f5b74ad4b231799050617ae9",
       "style": "IPY_MODEL_2e10f8c4559e489a8819b15d9adbad3b",
       "value": "--------------------"
      }
     },
     "a177f0f1908145938b4140f46c071649": {
      "model_module": "@jupyter-widgets/controls",
      "model_module_version": "1.0.0",
      "model_name": "CheckboxModel",
      "state": {
       "description": "Show load names",
       "disabled": false,
       "indent": false,
       "layout": "IPY_MODEL_fab13eb6e75848cd9a89557fc11a5c0b",
       "style": "IPY_MODEL_d0832756f01446b2930313bedd943daf",
       "value": false
      }
     },
     "a2999ba02180494096a1f4700fa5e6e6": {
      "model_module": "@jupyter-widgets/controls",
      "model_module_version": "1.0.0",
      "model_name": "CheckboxModel",
      "state": {
       "description": "Show loads",
       "disabled": false,
       "indent": false,
       "layout": "IPY_MODEL_fea8d927f5b74ad4b231799050617ae9",
       "style": "IPY_MODEL_55fe171910954c02afd6f759937f0ff1",
       "value": true
      }
     },
     "a2a8f74a905f4e4ba06ed4534d9cd525": {
      "model_module": "@jupyter-widgets/controls",
      "model_module_version": "1.0.0",
      "model_name": "HBoxModel",
      "state": {
       "children": [
        "IPY_MODEL_4c2efea1b7bf4951ac455b154655a74f",
        "IPY_MODEL_bc5ab8cd792c4a5c93a1505968289108"
       ],
       "layout": "IPY_MODEL_11b03e945c9e43f8b9dab4eda944627e"
      }
     },
     "a3926ba98a66476c809e518973e683dc": {
      "model_module": "@jupyter-widgets/controls",
      "model_module_version": "1.0.0",
      "model_name": "DropdownModel",
      "state": {
       "_options_labels": [
        "All",
        "Bus1",
        "Bus2",
        "Bus3",
        "Bus4",
        "Bus5",
        "Bus6",
        "Bus7",
        "Bus8",
        "Bus9",
        "Bus10",
        "Bus11",
        "Bus12",
        "Bus13",
        "Bus14",
        "Bus15",
        "Bus16",
        "Bus17",
        "Bus18",
        "Bus19",
        "Bus20",
        "Bus21",
        "Bus22",
        "Bus23",
        "Bus24",
        "Bus25",
        "Bus26",
        "Bus27",
        "Bus28",
        "Bus29",
        "Bus30",
        "Bus31",
        "Bus32",
        "Bus33",
        "Bus34",
        "Bus35",
        "Bus36",
        "Bus37",
        "Bus38",
        "Bus39",
        "Bus40",
        "Bus41",
        "Bus42",
        "Bus43",
        "Bus44",
        "Bus45",
        "Bus46",
        "Bus47",
        "Bus48",
        "Bus49",
        "Bus50",
        "Bus51",
        "Bus52",
        "Bus53",
        "Bus54",
        "Bus55",
        "Bus56",
        "Bus57",
        "Bus58",
        "Bus59",
        "Bus60",
        "Bus61",
        "Bus62",
        "Bus63",
        "Bus64",
        "Bus65",
        "Bus66",
        "Bus67",
        "Bus68",
        "Bus69",
        "Bus70",
        "Bus71",
        "Bus72",
        "Bus73",
        "Bus74",
        "Bus75",
        "Bus76",
        "Bus77",
        "Bus78",
        "Bus79",
        "Bus80",
        "Bus81",
        "Bus82",
        "Bus83",
        "Bus84",
        "Bus85",
        "Bus86",
        "Bus87",
        "Bus88",
        "Bus89",
        "Bus90",
        "Bus91",
        "Bus92",
        "Bus93",
        "Bus94",
        "Bus95",
        "Bus96",
        "Bus97",
        "Bus98",
        "Bus99",
        "Bus100",
        "Bus101",
        "Bus102",
        "Bus103",
        "Bus104",
        "Bus105",
        "Bus106",
        "Bus107",
        "Bus108",
        "Bus109",
        "Bus110",
        "Bus111",
        "Bus112",
        "Bus113",
        "Bus114",
        "Bus115",
        "Bus116",
        "Bus117",
        "Bus118"
       ],
       "description": "Start at:",
       "index": 1,
       "layout": "IPY_MODEL_125e0c1dd3a743058d8f307261e1854c",
       "style": "IPY_MODEL_b26cd99004e54163b89373bda2b36f1c"
      }
     },
     "a3b3fb78233b4edcb3c8cad60abd0e92": {
      "model_module": "@jupyter-widgets/base",
      "model_module_version": "1.0.0",
      "model_name": "LayoutModel",
      "state": {}
     },
     "a45458ae0edf47e9b79bea2793c19aa1": {
      "model_module": "@jupyter-widgets/base",
      "model_module_version": "1.0.0",
      "model_name": "LayoutModel",
      "state": {}
     },
     "a4d74e517fde4d9295ca1d11752eefe1": {
      "model_module": "@jupyter-widgets/base",
      "model_module_version": "1.0.0",
      "model_name": "LayoutModel",
      "state": {
       "border": "groove Gray 2px",
       "height": "auto",
       "justify_content": "space-between"
      }
     },
     "a50610c43667423f9bdb48f3c9d21fd5": {
      "model_module": "@jupyter-widgets/base",
      "model_module_version": "1.0.0",
      "model_name": "LayoutModel",
      "state": {}
     },
     "a5bacb3577234f5090c97ef067a2bf53": {
      "model_module": "bqplot",
      "model_module_version": "^0.2.3",
      "model_name": "FigureModel",
      "state": {
       "_dom_classes": [],
       "fig_margin": {
        "bottom": 0,
        "left": 0,
        "right": 0,
        "top": 0
       },
       "layout": "IPY_MODEL_0e7639df55e44b69ae12f13f074b4ef5",
       "marks": [
        "IPY_MODEL_789b39e0e72a4643a2e7bdf4a4ae017e",
        "IPY_MODEL_9f72627f2ea3412087121939bf081c7a",
        "IPY_MODEL_17733edf47fa494e9a3a6c5b11008252",
        "IPY_MODEL_b81acee18118469c8c806f091a61d539",
        "IPY_MODEL_3b59bd9a0153477ca969e59dc1c5f35b",
        "IPY_MODEL_4d18b8fffaf94d28a5c550a8000cb5d9",
        "IPY_MODEL_054aeb6fd13c4d2ba2a55bbfb000c126"
       ],
       "max_aspect_ratio": 6,
       "scale_x": "IPY_MODEL_e1d751c78f374e6eb79c553f22274c23",
       "scale_y": "IPY_MODEL_d842cbc3892846adb9eddf6c6758c79f"
      }
     },
     "a70db94f72444da6b3a4c6c3689886ca": {
      "model_module": "@jupyter-widgets/controls",
      "model_module_version": "1.0.0",
      "model_name": "DescriptionStyleModel",
      "state": {
       "description_width": ""
      }
     },
     "a728b6ef5c764395b17f3d283256bebb": {
      "model_module": "@jupyter-widgets/base",
      "model_module_version": "1.0.0",
      "model_name": "LayoutModel",
      "state": {}
     },
     "a76ebb008609466f8037ff3a4b810ceb": {
      "model_module": "@jupyter-widgets/base",
      "model_module_version": "1.0.0",
      "model_name": "LayoutModel",
      "state": {}
     },
     "a77a50a11c414cac962fb7dd5c9dad47": {
      "model_module": "@jupyter-widgets/controls",
      "model_module_version": "1.0.0",
      "model_name": "CheckboxModel",
      "state": {
       "description": "Show generators",
       "disabled": false,
       "indent": false,
       "layout": "IPY_MODEL_fab13eb6e75848cd9a89557fc11a5c0b",
       "style": "IPY_MODEL_2447a6e11a1f4aa5b5f4786236743577",
       "value": true
      }
     },
     "a858c6f6949d46b69fbc40853a4a6eb5": {
      "model_module": "@jupyter-widgets/base",
      "model_module_version": "1.0.0",
      "model_name": "LayoutModel",
      "state": {}
     },
     "a97e5a379c7349b3a47f2bb1347958b0": {
      "model_module": "@jupyter-widgets/base",
      "model_module_version": "1.0.0",
      "model_name": "LayoutModel",
      "state": {}
     },
     "abb3239583d241dc9ccbd440b6e9ad07": {
      "model_module": "@jupyter-widgets/controls",
      "model_module_version": "1.0.0",
      "model_name": "CheckboxModel",
      "state": {
       "description": "Show bus names",
       "disabled": false,
       "indent": false,
       "layout": "IPY_MODEL_f3e2a07217cf4b3faa6f06ce8af515a7",
       "style": "IPY_MODEL_8d304562638142d4a9589b5c5d7d69cc",
       "value": true
      }
     },
     "abcc9b2a3ce14a73acd9aa81f86e200b": {
      "model_module": "@jupyter-widgets/base",
      "model_module_version": "1.0.0",
      "model_name": "LayoutModel",
      "state": {}
     },
     "acc28725587840f6be748a38f0930322": {
      "model_module": "@jupyter-widgets/controls",
      "model_module_version": "1.0.0",
      "model_name": "HBoxModel",
      "state": {
       "children": [
        "IPY_MODEL_b9086900781a49c1accdd258db45d6f4",
        "IPY_MODEL_a5bacb3577234f5090c97ef067a2bf53"
       ],
       "layout": "IPY_MODEL_65b1834a56494500be7cecd9e20f383e"
      }
     },
     "af519a13976943afb30f2cc1a157d74d": {
      "model_module": "@jupyter-widgets/controls",
      "model_module_version": "1.0.0",
      "model_name": "VBoxModel",
      "state": {
       "children": [
        "IPY_MODEL_549f889d5400437ba1e66c8edf3a4592",
        "IPY_MODEL_9bd3c43396c1475b9575e1e59bb59f18",
        "IPY_MODEL_8b1d45ea3f9d44e8ab9a62c2b7bceff3",
        "IPY_MODEL_e49f579435e048998eb180f5a1b2eef3",
        "IPY_MODEL_4a474c8b365b4a5aad00eea89680a9f4",
        "IPY_MODEL_2e7963880e2b40e4b2a6b3e2bcb82a43",
        "IPY_MODEL_affdbd483f9f4001a8e7ffbb1e21a3e7",
        "IPY_MODEL_2364216108904832a197849683d0774b",
        "IPY_MODEL_84500485afd74888aae292d2eadacf26",
        "IPY_MODEL_d2ea48cfead5449b8673ca740fbdda6c"
       ],
       "layout": "IPY_MODEL_6b889a897323480fba0a77d1e5617de4"
      }
     },
     "aff85589031144dda806ed433ddcac4d": {
      "model_module": "@jupyter-widgets/base",
      "model_module_version": "1.0.0",
      "model_name": "LayoutModel",
      "state": {}
     },
     "affdbd483f9f4001a8e7ffbb1e21a3e7": {
      "model_module": "@jupyter-widgets/controls",
      "model_module_version": "1.0.0",
      "model_name": "CheckboxModel",
      "state": {
       "description": "Show gen names",
       "disabled": false,
       "indent": false,
       "layout": "IPY_MODEL_e0d9c46c256a4095a834cade87aa1056",
       "style": "IPY_MODEL_7094160d01dc45bc874310f3a30f292b",
       "value": false
      }
     },
     "b11cb0245ec148b0821db01a5d17ca55": {
      "model_module": "@jupyter-widgets/controls",
      "model_module_version": "1.0.0",
      "model_name": "DescriptionStyleModel",
      "state": {
       "description_width": ""
      }
     },
     "b1d961e00cd44b5b9d626f9f25a662ae": {
      "model_module": "bqplot",
      "model_module_version": "^0.2.3",
      "model_name": "LinesModel",
      "state": {
       "color": {
        "type": null,
        "values": null
       },
       "colors": [
        "gray"
       ],
       "display_legend": false,
       "fill_colors": [],
       "labels": [
        "C1",
        "C2",
        "C3",
        "C4",
        "C5",
        "C6",
        "C7",
        "C8",
        "C9",
        "C10",
        "C11",
        "C12",
        "C13",
        "C14",
        "C15",
        "C16",
        "C17",
        "C18",
        "C19",
        "C20",
        "C21",
        "C22",
        "C23",
        "C24",
        "C25",
        "C26",
        "C27",
        "C28",
        "C29",
        "C30",
        "C31",
        "C32",
        "C33",
        "C34",
        "C35",
        "C36",
        "C37",
        "C38",
        "C39",
        "C40",
        "C41",
        "C42",
        "C43",
        "C44",
        "C45",
        "C46",
        "C47",
        "C48",
        "C49",
        "C50",
        "C51",
        "C52",
        "C53",
        "C54",
        "C55",
        "C56",
        "C57",
        "C58",
        "C59",
        "C60",
        "C61",
        "C62",
        "C63",
        "C64",
        "C65",
        "C66",
        "C67",
        "C68",
        "C69",
        "C70",
        "C71",
        "C72",
        "C73",
        "C74",
        "C75",
        "C76",
        "C77",
        "C78",
        "C79",
        "C80",
        "C81",
        "C82",
        "C83",
        "C84",
        "C85",
        "C86",
        "C87",
        "C88",
        "C89",
        "C90",
        "C91",
        "C92",
        "C93",
        "C94",
        "C95",
        "C96",
        "C97",
        "C98",
        "C99",
        "C100",
        "C101",
        "C102",
        "C103",
        "C104",
        "C105",
        "C106",
        "C107",
        "C108",
        "C109",
        "C110",
        "C111",
        "C112",
        "C113",
        "C114",
        "C115",
        "C116",
        "C117",
        "C118",
        "C119",
        "C120",
        "C121",
        "C122",
        "C123",
        "C124",
        "C125",
        "C126",
        "C127",
        "C128",
        "C129",
        "C130",
        "C131",
        "C132",
        "C133",
        "C134",
        "C135",
        "C136",
        "C137",
        "C138",
        "C139",
        "C140",
        "C141",
        "C142",
        "C143",
        "C144",
        "C145",
        "C146",
        "C147",
        "C148",
        "C149",
        "C150",
        "C151",
        "C152",
        "C153",
        "C154",
        "C155",
        "C156",
        "C157",
        "C158",
        "C159",
        "C160",
        "C161",
        "C162",
        "C163",
        "C164",
        "C165",
        "C166",
        "C167",
        "C168",
        "C169",
        "C170",
        "C171",
        "C172",
        "C173",
        "C174",
        "C175",
        "C176",
        "C177",
        "C178",
        "C179",
        "C180",
        "C181",
        "C182",
        "C183",
        "C184",
        "C185",
        "C186",
        "C187",
        "C188",
        "C189",
        "C190",
        "C191",
        "C192",
        "C193",
        "C194",
        "C195",
        "C196",
        "C197",
        "C198",
        "C199",
        "C200",
        "C201",
        "C202",
        "C203",
        "C204",
        "C205",
        "C206",
        "C207",
        "C208",
        "C209",
        "C210",
        "C211",
        "C212",
        "C213",
        "C214",
        "C215",
        "C216",
        "C217",
        "C218",
        "C219",
        "C220",
        "C221",
        "C222",
        "C223",
        "C224",
        "C225",
        "C226",
        "C227",
        "C228",
        "C229",
        "C230",
        "C231",
        "C232",
        "C233",
        "C234",
        "C235",
        "C236",
        "C237",
        "C238",
        "C239",
        "C240",
        "C241",
        "C242",
        "C243",
        "C244",
        "C245",
        "C246",
        "C247",
        "C248",
        "C249",
        "C250",
        "C251",
        "C252",
        "C253",
        "C254",
        "C255",
        "C256",
        "C257",
        "C258",
        "C259",
        "C260",
        "C261",
        "C262",
        "C263",
        "C264",
        "C265",
        "C266",
        "C267",
        "C268",
        "C269",
        "C270",
        "C271",
        "C272",
        "C273",
        "C274",
        "C275",
        "C276",
        "C277",
        "C278",
        "C279",
        "C280",
        "C281",
        "C282",
        "C283",
        "C284",
        "C285",
        "C286",
        "C287",
        "C288",
        "C289",
        "C290",
        "C291",
        "C292",
        "C293",
        "C294",
        "C295",
        "C296",
        "C297",
        "C298",
        "C299",
        "C300",
        "C301",
        "C302",
        "C303",
        "C304",
        "C305",
        "C306",
        "C307",
        "C308",
        "C309",
        "C310",
        "C311",
        "C312",
        "C313",
        "C314",
        "C315",
        "C316",
        "C317",
        "C318",
        "C319",
        "C320",
        "C321",
        "C322",
        "C323",
        "C324",
        "C325",
        "C326",
        "C327",
        "C328",
        "C329",
        "C330",
        "C331",
        "C332",
        "C333",
        "C334",
        "C335",
        "C336",
        "C337",
        "C338",
        "C339",
        "C340",
        "C341",
        "C342",
        "C343",
        "C344",
        "C345",
        "C346",
        "C347",
        "C348",
        "C349",
        "C350",
        "C351"
       ],
       "line_style": "dotted",
       "marker": "circle",
       "marker_size": 30,
       "opacities": [
        0.05
       ],
       "scales": {
        "x": "IPY_MODEL_2b8fe8e0573042fa8c20078316645d3e",
        "y": "IPY_MODEL_d898f958de5542ae884ed9eaa86cef77"
       },
       "selected": [],
       "stroke_width": 1,
       "x": {
        "type": "float",
        "values": [
         [
          1158.9,
          1196
         ],
         [
          1158.9,
          1122.6
         ],
         [
          1158.9,
          1113.9
         ],
         [
          1158.9,
          1187.5
         ],
         [
          1122.6,
          1069.8
         ],
         [
          1122.6,
          1148.2
         ],
         [
          1113.9,
          1064.9
         ],
         [
          1113.9,
          1069.8
         ],
         [
          1113.9,
          1151.1
         ],
         [
          1099.5,
          1130.4
         ],
         [
          1099.5,
          1064.9
         ],
         [
          1099.5,
          1053.1
         ],
         [
          1099.5,
          1140.7
         ],
         [
          1064.9,
          1102.3
         ],
         [
          1064.9,
          990.08
         ],
         [
          1064.9,
          1053.1
         ],
         [
          1064.9,
          1077.8
         ],
         [
          1102.3,
          1133.9
         ],
         [
          1102.3,
          1103.4
         ],
         [
          1102.3,
          1109.8
         ],
         [
          1103.4,
          1069.8
         ],
         [
          1103.4,
          1131.5
         ],
         [
          990.08,
          1003.1
         ],
         [
          990.08,
          1005.2
         ],
         [
          990.08,
          905.69
         ],
         [
          990.08,
          979.43
         ],
         [
          1005.2,
          1009.6
         ],
         [
          1005.2,
          1022.4
         ],
         [
          1009.6,
          1029.1
         ],
         [
          1009.6,
          1005.4
         ],
         [
          1053.1,
          1069.8
         ],
         [
          1053.1,
          996.41
         ],
         [
          1053.1,
          1063.4
         ],
         [
          1069.8,
          1070.5
         ],
         [
          1069.8,
          1008.6
         ],
         [
          1069.8,
          1013.7
         ],
         [
          1069.8,
          1093.6
         ],
         [
          1069.8,
          1091.9
         ],
         [
          996.41,
          941.82
         ],
         [
          996.41,
          998.56
         ],
         [
          1008.6,
          941.82
         ],
         [
          1008.6,
          1030.3
         ],
         [
          941.82,
          962.08
         ],
         [
          941.82,
          943.68
         ],
         [
          941.82,
          870.96
         ],
         [
          941.82,
          893.9
         ],
         [
          941.82,
          941.92
         ],
         [
          1013.7,
          943.68
         ],
         [
          1013.7,
          1028
         ],
         [
          943.68,
          908.37
         ],
         [
          943.68,
          905.69
         ],
         [
          943.68,
          936.25
         ],
         [
          943.68,
          915.07
         ],
         [
          943.68,
          965.19
         ],
         [
          908.37,
          915.51
         ],
         [
          908.37,
          870.96
         ],
         [
          908.37,
          928.62
         ],
         [
          870.96,
          861.09
         ],
         [
          870.96,
          828.99
         ],
         [
          870.96,
          813.07
         ],
         [
          870.96,
          876.69
         ],
         [
          828.99,
          795.01
         ],
         [
          828.99,
          804.73
         ],
         [
          795.01,
          771.01
         ],
         [
          795.01,
          768.76
         ],
         [
          771.01,
          789.92
         ],
         [
          771.01,
          750.95
         ],
         [
          789.92,
          696.21
         ],
         [
          789.92,
          843.32
         ],
         [
          789.92,
          873.39
         ],
         [
          789.92,
          780.29
         ],
         [
          696.21,
          680.46
         ],
         [
          696.21,
          619.29
         ],
         [
          696.21,
          656.2
         ],
         [
          696.21,
          705.62
         ],
         [
          843.32,
          819.69
         ],
         [
          843.32,
          874.85
         ],
         [
          843.32,
          869.15
         ],
         [
          843.32,
          828.56
         ],
         [
          874.85,
          857.37
         ],
         [
          874.85,
          905.69
         ],
         [
          874.85,
          885.79
         ],
         [
          869.15,
          858.39
         ],
         [
          869.15,
          918.48
         ],
         [
          869.15,
          873.39
         ],
         [
          869.15,
          880.81
         ],
         [
          869.15,
          842.78
         ],
         [
          918.48,
          946.43
         ],
         [
          918.48,
          939.18
         ],
         [
          946.43,
          936.25
         ],
         [
          946.43,
          972.86
         ],
         [
          905.69,
          825.02
         ],
         [
          905.69,
          922.23
         ],
         [
          936.25,
          969.91
         ],
         [
          936.25,
          873.39
         ],
         [
          936.25,
          962.19
         ],
         [
          873.39,
          853.47
         ],
         [
          873.39,
          915.07
         ],
         [
          873.39,
          888.85
         ],
         [
          873.39,
          893.51
         ],
         [
          893.9,
          830.9
         ],
         [
          893.9,
          913.35
         ],
         [
          813.07,
          801.3
         ],
         [
          813.07,
          831.35
         ],
         [
          813.07,
          830.9
         ],
         [
          813.07,
          753.16
         ],
         [
          813.07,
          784.26
         ],
         [
          813.74,
          831.35
         ],
         [
          813.74,
          830.9
         ],
         [
          813.74,
          788.5
         ],
         [
          831.35,
          858.03
         ],
         [
          831.35,
          834.68
         ],
         [
          830.9,
          825.02
         ],
         [
          830.9,
          818.02
         ],
         [
          830.9,
          776.96
         ],
         [
          830.9,
          853.66
         ],
         [
          825.02,
          732.91
         ],
         [
          825.02,
          855.64
         ],
         [
          818.02,
          776.96
         ],
         [
          818.02,
          840.88
         ],
         [
          776.96,
          769.23
         ],
         [
          776.96,
          749.05
         ],
         [
          776.96,
          713.11
         ],
         [
          776.96,
          775.96
         ],
         [
          749.05,
          713.11
         ],
         [
          749.05,
          765.5
         ],
         [
          713.11,
          700.04
         ],
         [
          713.11,
          643.56
         ],
         [
          713.11,
          698.13
         ],
         [
          753.16,
          701.8
         ],
         [
          753.16,
          736.35
         ],
         [
          701.8,
          656.2
         ],
         [
          701.8,
          693.2
         ],
         [
          656.2,
          610.13
         ],
         [
          656.2,
          643.56
         ],
         [
          656.2,
          658.65
         ],
         [
          610.13,
          582.81
         ],
         [
          610.13,
          611.12
         ],
         [
          610.13,
          606.72
         ],
         [
          610.13,
          574.04
         ],
         [
          611.12,
          643.56
         ],
         [
          611.12,
          588.6
         ],
         [
          611.12,
          585.36
         ],
         [
          606.72,
          643.56
         ],
         [
          606.72,
          574.27
         ],
         [
          643.56,
          631.12
         ],
         [
          643.56,
          631.17
         ],
         [
          643.56,
          615.83
         ],
         [
          643.56,
          663.35
         ],
         [
          643.56,
          711.86
         ],
         [
          643.56,
          588.6
         ],
         [
          643.56,
          657.29
         ],
         [
          631.17,
          636.43
         ],
         [
          631.17,
          599.63
         ],
         [
          615.83,
          588.15
         ],
         [
          615.83,
          630.53
         ],
         [
          615.83,
          581.46
         ],
         [
          588.15,
          617.36
         ],
         [
          588.15,
          562.85
         ],
         [
          617.36,
          663.35
         ],
         [
          617.36,
          598.42
         ],
         [
          663.35,
          681.4
         ],
         [
          663.35,
          687.35
         ],
         [
          663.35,
          665.33
         ],
         [
          663.35,
          715.87
         ],
         [
          663.35,
          653.13
         ],
         [
          687.35,
          694.06
         ],
         [
          687.35,
          665.33
         ],
         [
          687.35,
          715.87
         ],
         [
          687.35,
          708.55
         ],
         [
          665.33,
          670.89
         ],
         [
          665.33,
          636.43
         ],
         [
          665.33,
          630.53
         ],
         [
          665.33,
          715.87
         ],
         [
          665.33,
          652.55
         ],
         [
          636.43,
          607.58
         ],
         [
          630.53,
          622.61
         ],
         [
          715.87,
          736.95
         ],
         [
          715.87,
          751.27
         ],
         [
          715.87,
          763.94
         ],
         [
          715.87,
          748.18
         ],
         [
          715.87,
          719.38
         ],
         [
          751.27,
          763.94
         ],
         [
          751.27,
          752.65
         ],
         [
          751.27,
          767.7
         ],
         [
          763.94,
          786.41
         ],
         [
          763.94,
          752.65
         ],
         [
          763.94,
          755.85
         ],
         [
          763.94,
          803.65
         ],
         [
          752.65,
          786.34
         ],
         [
          752.65,
          711.86
         ],
         [
          752.65,
          726.76
         ],
         [
          752.65,
          791.19
         ],
         [
          748.18,
          755.85
         ],
         [
          748.18,
          778.97
         ],
         [
          755.85,
          732.91
         ],
         [
          755.85,
          789.9
         ],
         [
          732.91,
          756.53
         ],
         [
          732.91,
          711.86
         ],
         [
          732.91,
          619.16
         ],
         [
          732.91,
          780.57
         ],
         [
          711.86,
          696.15
         ],
         [
          711.86,
          726.76
         ],
         [
          711.86,
          733.34
         ],
         [
          726.76,
          721.9
         ],
         [
          619.16,
          588.6
         ],
         [
          619.16,
          518.12
         ],
         [
          619.16,
          577.27
         ],
         [
          619.16,
          627.87
         ],
         [
          588.6,
          591.34
         ],
         [
          588.6,
          619.29
         ],
         [
          588.6,
          561.07
         ],
         [
          588.6,
          490.44
         ],
         [
          588.6,
          565.17
         ],
         [
          619.29,
          645.28
         ],
         [
          619.29,
          620.14
         ],
         [
          619.29,
          580.95
         ],
         [
          619.29,
          561.07
         ],
         [
          619.29,
          622.4
         ],
         [
          620.14,
          656.2
         ],
         [
          620.14,
          601.41
         ],
         [
          620.14,
          602.18
         ],
         [
          656.2,
          667.56
         ],
         [
          656.2,
          644.31
         ],
         [
          601.41,
          602.28
         ],
         [
          601.41,
          578.63
         ],
         [
          580.95,
          581.27
         ],
         [
          580.95,
          561.07
         ],
         [
          580.95,
          560.17
         ],
         [
          561.07,
          490.44
         ],
         [
          561.07,
          529.78
         ],
         [
          561.07,
          572
         ],
         [
          496.42,
          493.49
         ],
         [
          496.42,
          490.44
         ],
         [
          496.42,
          529.78
         ],
         [
          496.42,
          475.1
         ],
         [
          490.44,
          479.21
         ],
         [
          490.44,
          461.26
         ],
         [
          490.44,
          419.27
         ],
         [
          490.44,
          398.83
         ],
         [
          490.44,
          504.02
         ],
         [
          461.26,
          435.4
         ],
         [
          461.26,
          455.25
         ],
         [
          435.4,
          419.27
         ],
         [
          435.4,
          432.78
         ],
         [
          419.27,
          410.2
         ],
         [
          419.27,
          518.12
         ],
         [
          419.27,
          361.71
         ],
         [
          419.27,
          388.06
         ],
         [
          419.27,
          354.03
         ],
         [
          419.27,
          342.18
         ],
         [
          419.27,
          421.65
         ],
         [
          518.12,
          507.49
         ],
         [
          398.83,
          326.78
         ],
         [
          398.83,
          361.71
         ],
         [
          398.83,
          388.76
         ],
         [
          326.78,
          295.41
         ],
         [
          326.78,
          259
         ],
         [
          326.78,
          333.24
         ],
         [
          295.41,
          259
         ],
         [
          295.41,
          298.04
         ],
         [
          259,
          265.04
         ],
         [
          259,
          218.47
         ],
         [
          259,
          223.57
         ],
         [
          259,
          225.17
         ],
         [
          259,
          240.69
         ],
         [
          218.47,
          181.43
         ],
         [
          218.47,
          211.19
         ],
         [
          181.43,
          150.94
         ],
         [
          181.43,
          169
         ],
         [
          223.57,
          225.17
         ],
         [
          223.57,
          194.81
         ],
         [
          225.17,
          183.59
         ],
         [
          225.17,
          211.22
         ],
         [
          225.17,
          240.95
         ],
         [
          225.17,
          197.5
         ],
         [
          211.22,
          238.73
         ],
         [
          211.22,
          193.86
         ],
         [
          211.22,
          199.72
         ],
         [
          193.86,
          166.1
         ],
         [
          193.86,
          240.95
         ],
         [
          193.86,
          156.15
         ],
         [
          240.95,
          216.92
         ],
         [
          240.95,
          266.31
         ],
         [
          240.95,
          296.13
         ],
         [
          240.95,
          274.05
         ],
         [
          240.95,
          211.39
         ],
         [
          240.95,
          220.63
         ],
         [
          266.31,
          296.13
         ],
         [
          266.31,
          262.98
         ],
         [
          296.13,
          324.79
         ],
         [
          296.13,
          361.71
         ],
         [
          296.13,
          274.05
         ],
         [
          296.13,
          289.61
         ],
         [
          324.79,
          361.71
         ],
         [
          324.79,
          318
         ],
         [
          361.71,
          388.06
         ],
         [
          361.71,
          354.23
         ],
         [
          388.06,
          390.69
         ],
         [
          354.03,
          274.05
         ],
         [
          354.03,
          368.7
         ],
         [
          342.18,
          341.56
         ],
         [
          342.18,
          274.05
         ],
         [
          342.18,
          321.7
         ],
         [
          274.05,
          264.2
         ],
         [
          274.05,
          231.25
         ],
         [
          274.05,
          207.82
         ],
         [
          274.05,
          238.59
         ],
         [
          274.05,
          261.96
         ],
         [
          274.05,
          292.19
         ],
         [
          231.25,
          211.39
         ],
         [
          231.25,
          200.58
         ],
         [
          211.39,
          176.48
         ],
         [
          207.82,
          176.56
         ],
         [
          207.82,
          238.59
         ],
         [
          207.82,
          232.8
         ],
         [
          207.82,
          143.73
         ],
         [
          207.82,
          179.91
         ],
         [
          238.59,
          217.46
         ],
         [
          238.59,
          232.8
         ],
         [
          238.59,
          226.83
         ],
         [
          232.8,
          250.7
         ],
         [
          232.8,
          261.96
         ],
         [
          232.8,
          249.45
         ],
         [
          232.8,
          196.03
         ],
         [
          232.8,
          262.08
         ],
         [
          261.96,
          249.45
         ],
         [
          261.96,
          286.2
         ],
         [
          249.45,
          238.42
         ],
         [
          249.45,
          267.27
         ],
         [
          196.03,
          160.19
         ],
         [
          196.03,
          188.64
         ],
         [
          160.19,
          143.73
         ],
         [
          160.19,
          145.96
         ],
         [
          143.73,
          138.1
         ],
         [
          143.73,
          103.27
         ],
         [
          143.73,
          92.662
         ],
         [
          143.73,
          119.31
         ],
         [
          103.27,
          87.963
         ],
         [
          103.27,
          71.985
         ],
         [
          92.662,
          64.904
         ],
         [
          92.662,
          59.402
         ],
         [
          915.07,
          921.3
         ],
         [
          915.07,
          906.19
         ],
         [
          888.85,
          880.81
         ],
         [
          888.85,
          905.51
         ],
         [
          880.81,
          883.64
         ],
         [
          577.27,
          549.39
         ],
         [
          577.27,
          550.62
         ],
         [
          1093.6,
          1112.5
         ],
         [
          529.78,
          526.1
         ]
        ]
       },
       "y": {
        "type": "float",
        "values": [
         [
          324.05,
          320.62
         ],
         [
          324.05,
          327.16
         ],
         [
          324.05,
          302.78
         ],
         [
          324.05,
          345.37
         ],
         [
          327.16,
          302.07
         ],
         [
          327.16,
          351.44
         ],
         [
          302.78,
          282.93
         ],
         [
          302.78,
          302.07
         ],
         [
          302.78,
          298.64
         ],
         [
          259.38,
          237.6
         ],
         [
          259.38,
          282.93
         ],
         [
          259.38,
          267.16
         ],
         [
          259.38,
          254.51
         ],
         [
          282.93,
          241.2
         ],
         [
          282.93,
          320.32
         ],
         [
          282.93,
          267.16
         ],
         [
          282.93,
          261.5
         ],
         [
          241.2,
          214.69
         ],
         [
          241.2,
          278.84
         ],
         [
          241.2,
          205.65
         ],
         [
          278.84,
          302.07
         ],
         [
          278.84,
          279.02
         ],
         [
          320.32,
          346.3
         ],
         [
          320.32,
          377.99
         ],
         [
          320.32,
          297.29
         ],
         [
          320.32,
          346.61
         ],
         [
          377.99,
          425.18
         ],
         [
          377.99,
          397.85
         ],
         [
          425.18,
          447.94
         ],
         [
          425.18,
          457.44
         ],
         [
          267.16,
          302.07
         ],
         [
          267.16,
          272.94
         ],
         [
          267.16,
          234.24
         ],
         [
          302.07,
          330.12
         ],
         [
          302.07,
          301.1
         ],
         [
          302.07,
          259.46
         ],
         [
          302.07,
          345.22
         ],
         [
          302.07,
          316.13
         ],
         [
          272.94,
          291.76
         ],
         [
          272.94,
          243.09
         ],
         [
          301.1,
          291.76
         ],
         [
          301.1,
          318.76
         ],
         [
          291.76,
          304.4
         ],
         [
          291.76,
          235.45
         ],
         [
          291.76,
          281.68
         ],
         [
          291.76,
          345.19
         ],
         [
          291.76,
          274.56
         ],
         [
          259.46,
          235.45
         ],
         [
          259.46,
          228.86
         ],
         [
          235.45,
          254.61
         ],
         [
          235.45,
          297.29
         ],
         [
          235.45,
          161.11
         ],
         [
          235.45,
          180.61
         ],
         [
          235.45,
          213.89
         ],
         [
          254.61,
          232.37
         ],
         [
          254.61,
          281.68
         ],
         [
          254.61,
          249.04
         ],
         [
          281.68,
          260.28
         ],
         [
          281.68,
          243.13
         ],
         [
          281.68,
          326.25
         ],
         [
          281.68,
          299.46
         ],
         [
          243.13,
          206.5
         ],
         [
          243.13,
          235.8
         ],
         [
          206.5,
          172.32
         ],
         [
          206.5,
          200.77
         ],
         [
          172.32,
          165.26
         ],
         [
          172.32,
          145.37
         ],
         [
          165.26,
          209.06
         ],
         [
          165.26,
          156.41
         ],
         [
          165.26,
          138.58
         ],
         [
          165.26,
          130.94
         ],
         [
          209.06,
          192.31
         ],
         [
          209.06,
          276.63
         ],
         [
          209.06,
          180.75
         ],
         [
          209.06,
          183.73
         ],
         [
          156.41,
          143.77
         ],
         [
          156.41,
          223.32
         ],
         [
          156.41,
          95.966
         ],
         [
          156.41,
          124.06
         ],
         [
          223.32,
          204.99
         ],
         [
          223.32,
          297.29
         ],
         [
          223.32,
          199.32
         ],
         [
          95.966,
          57.49
         ],
         [
          95.966,
          80.639
         ],
         [
          95.966,
          138.58
         ],
         [
          95.966,
          54.713
         ],
         [
          95.966,
          72.711
         ],
         [
          80.639,
          108.55
         ],
         [
          80.639,
          49.948
         ],
         [
          108.55,
          161.11
         ],
         [
          108.55,
          83.684
         ],
         [
          297.29,
          368.03
         ],
         [
          297.29,
          321.44
         ],
         [
          161.11,
          156.12
         ],
         [
          161.11,
          138.58
         ],
         [
          161.11,
          135.11
         ],
         [
          138.58,
          115.47
         ],
         [
          138.58,
          180.61
         ],
         [
          138.58,
          84.403
         ],
         [
          138.58,
          119.26
         ],
         [
          345.19,
          380.46
         ],
         [
          345.19,
          370.45
         ],
         [
          326.25,
          297.94
         ],
         [
          326.25,
          335.04
         ],
         [
          326.25,
          380.46
         ],
         [
          326.25,
          349.2
         ],
         [
          326.25,
          315.77
         ],
         [
          358.24,
          335.04
         ],
         [
          358.24,
          380.46
         ],
         [
          358.24,
          358.39
         ],
         [
          335.04,
          339.43
         ],
         [
          335.04,
          310.08
         ],
         [
          380.46,
          368.03
         ],
         [
          380.46,
          418.54
         ],
         [
          380.46,
          420.3
         ],
         [
          380.46,
          408.32
         ],
         [
          368.03,
          430.36
         ],
         [
          368.03,
          382.69
         ],
         [
          418.54,
          420.3
         ],
         [
          418.54,
          445.05
         ],
         [
          420.3,
          394.39
         ],
         [
          420.3,
          449.15
         ],
         [
          420.3,
          449.59
         ],
         [
          420.3,
          449.77
         ],
         [
          449.15,
          449.59
         ],
         [
          449.15,
          473.09
         ],
         [
          449.59,
          429.53
         ],
         [
          449.59,
          477.25
         ],
         [
          449.59,
          466.62
         ],
         [
          349.2,
          384.51
         ],
         [
          349.2,
          328.13
         ],
         [
          384.51,
          432.28
         ],
         [
          384.51,
          358.64
         ],
         [
          432.28,
          456.93
         ],
         [
          432.28,
          477.25
         ],
         [
          432.28,
          408.83
         ],
         [
          456.93,
          480.6
         ],
         [
          456.93,
          429.76
         ],
         [
          456.93,
          484.56
         ],
         [
          456.93,
          463.06
         ],
         [
          429.76,
          477.25
         ],
         [
          429.76,
          372.73
         ],
         [
          429.76,
          436.61
         ],
         [
          484.56,
          477.25
         ],
         [
          484.56,
          504.43
         ],
         [
          477.25,
          495.64
         ],
         [
          477.25,
          527.27
         ],
         [
          477.25,
          550.41
         ],
         [
          477.25,
          569.97
         ],
         [
          477.25,
          494.97
         ],
         [
          477.25,
          372.73
         ],
         [
          477.25,
          497.16
         ],
         [
          527.27,
          573.09
         ],
         [
          527.27,
          533.91
         ],
         [
          550.41,
          593.85
         ],
         [
          550.41,
          599.14
         ],
         [
          550.41,
          562.31
         ],
         [
          593.85,
          608.25
         ],
         [
          593.85,
          620.43
         ],
         [
          608.25,
          569.97
         ],
         [
          608.25,
          644.14
         ],
         [
          569.97,
          584.14
         ],
         [
          569.97,
          615.38
         ],
         [
          569.97,
          611.12
         ],
         [
          569.97,
          598.71
         ],
         [
          569.97,
          595.19
         ],
         [
          615.38,
          655.97
         ],
         [
          615.38,
          611.12
         ],
         [
          615.38,
          598.71
         ],
         [
          615.38,
          615.87
         ],
         [
          611.12,
          652.05
         ],
         [
          611.12,
          573.09
         ],
         [
          611.12,
          599.14
         ],
         [
          611.12,
          598.71
         ],
         [
          611.12,
          649.04
         ],
         [
          573.09,
          584.69
         ],
         [
          599.14,
          637.22
         ],
         [
          598.71,
          632.25
         ],
         [
          598.71,
          596.63
         ],
         [
          598.71,
          576.04
         ],
         [
          598.71,
          567.08
         ],
         [
          598.71,
          640.01
         ],
         [
          596.63,
          576.04
         ],
         [
          596.63,
          547.07
         ],
         [
          596.63,
          634.35
         ],
         [
          576.04,
          612.35
         ],
         [
          576.04,
          547.07
         ],
         [
          576.04,
          513.57
         ],
         [
          576.04,
          595.05
         ],
         [
          547.07,
          543.97
         ],
         [
          547.07,
          494.97
         ],
         [
          547.07,
          533.36
         ],
         [
          547.07,
          562.46
         ],
         [
          567.08,
          513.57
         ],
         [
          567.08,
          589.42
         ],
         [
          513.57,
          430.36
         ],
         [
          513.57,
          515.22
         ],
         [
          430.36,
          426.15
         ],
         [
          430.36,
          494.97
         ],
         [
          430.36,
          394.46
         ],
         [
          430.36,
          436.82
         ],
         [
          494.97,
          513.18
         ],
         [
          494.97,
          533.36
         ],
         [
          494.97,
          499.87
         ],
         [
          533.36,
          558.54
         ],
         [
          394.46,
          372.73
         ],
         [
          394.46,
          361.09
         ],
         [
          394.46,
          408.22
         ],
         [
          394.46,
          370.26
         ],
         [
          372.73,
          347.48
         ],
         [
          372.73,
          276.63
         ],
         [
          372.73,
          316.56
         ],
         [
          372.73,
          346.27
         ],
         [
          372.73,
          366.53
         ],
         [
          276.63,
          272.45
         ],
         [
          276.63,
          207.22
         ],
         [
          276.63,
          275.7
         ],
         [
          276.63,
          316.56
         ],
         [
          276.63,
          249.74
         ],
         [
          207.22,
          180.75
         ],
         [
          207.22,
          156.6
         ],
         [
          207.22,
          185.93
         ],
         [
          180.75,
          148.34
         ],
         [
          180.75,
          149.29
         ],
         [
          156.6,
          121.96
         ],
         [
          156.6,
          131.76
         ],
         [
          275.7,
          244.82
         ],
         [
          275.7,
          316.56
         ],
         [
          275.7,
          253.2
         ],
         [
          316.56,
          346.27
         ],
         [
          316.56,
          291.73
         ],
         [
          316.56,
          299.05
         ],
         [
          298.22,
          265.6
         ],
         [
          298.22,
          346.27
         ],
         [
          298.22,
          291.73
         ],
         [
          298.22,
          276.84
         ],
         [
          346.27,
          373.78
         ],
         [
          346.27,
          337.49
         ],
         [
          346.27,
          321.42
         ],
         [
          346.27,
          376.94
         ],
         [
          346.27,
          333.99
         ],
         [
          337.49,
          348.88
         ],
         [
          337.49,
          312.88
         ],
         [
          348.88,
          321.42
         ],
         [
          348.88,
          378.65
         ],
         [
          321.42,
          342.73
         ],
         [
          321.42,
          361.09
         ],
         [
          321.42,
          335.31
         ],
         [
          321.42,
          317.62
         ],
         [
          321.42,
          277.9
         ],
         [
          321.42,
          283.86
         ],
         [
          321.42,
          291.32
         ],
         [
          361.09,
          383.6
         ],
         [
          376.94,
          421.26
         ],
         [
          376.94,
          335.31
         ],
         [
          376.94,
          406.34
         ],
         [
          421.26,
          448.85
         ],
         [
          421.26,
          445.87
         ],
         [
          421.26,
          447.73
         ],
         [
          448.85,
          445.87
         ],
         [
          448.85,
          478.91
         ],
         [
          445.87,
          477.43
         ],
         [
          445.87,
          493.08
         ],
         [
          445.87,
          435.99
         ],
         [
          445.87,
          397.23
         ],
         [
          445.87,
          469.95
         ],
         [
          493.08,
          525.55
         ],
         [
          493.08,
          520.34
         ],
         [
          525.55,
          534.68
         ],
         [
          525.55,
          555.77
         ],
         [
          435.99,
          397.23
         ],
         [
          435.99,
          455.51
         ],
         [
          397.23,
          399.08
         ],
         [
          397.23,
          377.92
         ],
         [
          397.23,
          324.07
         ],
         [
          397.23,
          420.16
         ],
         [
          377.92,
          383.45
         ],
         [
          377.92,
          349.7
         ],
         [
          377.92,
          395.27
         ],
         [
          349.7,
          340.6
         ],
         [
          349.7,
          324.07
         ],
         [
          349.7,
          360.11
         ],
         [
          324.07,
          318.01
         ],
         [
          324.07,
          318.07
         ],
         [
          324.07,
          311.57
         ],
         [
          324.07,
          255.8
         ],
         [
          324.07,
          293.09
         ],
         [
          324.07,
          339.87
         ],
         [
          318.07,
          311.57
         ],
         [
          318.07,
          298.75
         ],
         [
          311.57,
          333.52
         ],
         [
          311.57,
          335.31
         ],
         [
          311.57,
          255.8
         ],
         [
          311.57,
          333.48
         ],
         [
          333.52,
          335.31
         ],
         [
          333.52,
          360.4
         ],
         [
          335.31,
          317.62
         ],
         [
          335.31,
          361.32
         ],
         [
          317.62,
          292.23
         ],
         [
          277.9,
          255.8
         ],
         [
          277.9,
          248.71
         ],
         [
          283.86,
          249.77
         ],
         [
          283.86,
          255.8
         ],
         [
          283.86,
          265.37
         ],
         [
          255.8,
          233.57
         ],
         [
          255.8,
          266.31
         ],
         [
          255.8,
          199.45
         ],
         [
          255.8,
          208.95
         ],
         [
          255.8,
          189.86
         ],
         [
          255.8,
          233.77
         ],
         [
          266.31,
          293.09
         ],
         [
          266.31,
          260.4
         ],
         [
          293.09,
          288.95
         ],
         [
          199.45,
          211.94
         ],
         [
          199.45,
          208.95
         ],
         [
          199.45,
          163.09
         ],
         [
          199.45,
          156.45
         ],
         [
          199.45,
          184.95
         ],
         [
          208.95,
          224.77
         ],
         [
          208.95,
          163.09
         ],
         [
          208.95,
          184.49
         ],
         [
          163.09,
          128.09
         ],
         [
          163.09,
          189.86
         ],
         [
          163.09,
          141.82
         ],
         [
          163.09,
          126.19
         ],
         [
          163.09,
          153.75
         ],
         [
          189.86,
          141.82
         ],
         [
          189.86,
          171.02
         ],
         [
          141.82,
          105.67
         ],
         [
          141.82,
          106.36
         ],
         [
          126.19,
          119.14
         ],
         [
          126.19,
          93.428
         ],
         [
          119.14,
          156.45
         ],
         [
          119.14,
          87.605
         ],
         [
          156.45,
          130
         ],
         [
          156.45,
          124.22
         ],
         [
          156.45,
          164.99
         ],
         [
          156.45,
          155.15
         ],
         [
          124.22,
          94.411
         ],
         [
          124.22,
          116.3
         ],
         [
          164.99,
          181.75
         ],
         [
          164.99,
          155.95
         ],
         [
          180.61,
          148.4
         ],
         [
          180.61,
          166.38
         ],
         [
          84.403,
          54.713
         ],
         [
          84.403,
          50.205
         ],
         [
          54.713,
          18
         ],
         [
          408.22,
          404.83
         ],
         [
          408.22,
          427.86
         ],
         [
          345.22,
          374.44
         ],
         [
          291.73,
          262.07
         ]
        ]
       }
      }
     },
     "b22884309d9a4dd8b6e551a6da65813d": {
      "model_module": "bqplot",
      "model_module_version": "^0.2.3",
      "model_name": "LinesModel",
      "state": {
       "color": {
        "type": null,
        "values": null
       },
       "colors": [
        "LightGreen"
       ],
       "display_legend": false,
       "fill_colors": [],
       "labels": [
        "C1"
       ],
       "opacities": [
        0.8
       ],
       "scales": {
        "x": "IPY_MODEL_0c60855fd08c4d0c940639139249d6b1",
        "y": "IPY_MODEL_df658e2c37b243d993fe4c31c14b69fa"
       },
       "selected": [],
       "stroke_width": 1.5,
       "x": {
        "type": "float",
        "values": [
         1158.9,
         1196
        ]
       },
       "y": {
        "type": "float",
        "values": [
         324.05,
         320.62
        ]
       }
      }
     },
     "b26cd99004e54163b89373bda2b36f1c": {
      "model_module": "@jupyter-widgets/controls",
      "model_module_version": "1.0.0",
      "model_name": "DescriptionStyleModel",
      "state": {
       "description_width": ""
      }
     },
     "b331895aaae74edc893e19d9c39d7f4f": {
      "model_module": "@jupyter-widgets/controls",
      "model_module_version": "1.0.0",
      "model_name": "CheckboxModel",
      "state": {
       "description": "Show bus names",
       "disabled": false,
       "indent": false,
       "layout": "IPY_MODEL_9f85d73a8b5d48d8bc725e2abb72d4ed",
       "style": "IPY_MODEL_026954cba0ce46f9b92d9602c6faec7d",
       "value": true
      }
     },
     "b40bf4df68d64017aaafc491c5a05cf6": {
      "model_module": "@jupyter-widgets/controls",
      "model_module_version": "1.0.0",
      "model_name": "CheckboxModel",
      "state": {
       "description": "Show hidden nodes",
       "disabled": false,
       "indent": false,
       "layout": "IPY_MODEL_fab13eb6e75848cd9a89557fc11a5c0b",
       "style": "IPY_MODEL_58c29055c3d246938ed3eb48021a121a",
       "value": false
      }
     },
     "b42703b4e7714ff1be9ec03b56be258e": {
      "model_module": "bqplot",
      "model_module_version": "^0.2.3",
      "model_name": "ColorScaleModel",
      "state": {
       "_model_name": "ColorScaleModel",
       "_view_name": "ColorScale",
       "colors": [
        "Red",
        "Green"
       ],
       "mid": null,
       "scale_type": "linear",
       "scheme": "RdYlGn"
      }
     },
     "b43b500c591c4fedb013df6a1e38db48": {
      "model_module": "@jupyter-widgets/base",
      "model_module_version": "1.0.0",
      "model_name": "LayoutModel",
      "state": {}
     },
     "b43f86c12dfb40ffb61e3a798c0beedb": {
      "model_module": "bqplot",
      "model_module_version": "^0.2.3",
      "model_name": "LinesModel",
      "state": {
       "color": {
        "type": null,
        "values": null
       },
       "colors": [
        "DeepSkyBlue"
       ],
       "display_legend": false,
       "fill_colors": [],
       "labels": [
        "C1"
       ],
       "opacities": [
        0.8
       ],
       "scales": {
        "x": "IPY_MODEL_c154051cb98e451cbd2e9cda8957154b",
        "y": "IPY_MODEL_ed3882f3df2042ac8b26041ddf8939a9"
       },
       "selected": [],
       "x": {
        "type": "float",
        "values": [
         143.73,
         92.662
        ]
       },
       "y": {
        "type": "float",
        "values": [
         156.45,
         164.99
        ]
       }
      }
     },
     "b52787a78d004181ab065ecb24ce33d1": {
      "model_module": "@jupyter-widgets/base",
      "model_module_version": "1.0.0",
      "model_name": "LayoutModel",
      "state": {}
     },
     "b53e2fae2b084914ae4c7c8af6b65e69": {
      "model_module": "@jupyter-widgets/base",
      "model_module_version": "1.0.0",
      "model_name": "LayoutModel",
      "state": {}
     },
     "b572ede35dbb4f2b8e61d40091bba012": {
      "model_module": "@jupyter-widgets/controls",
      "model_module_version": "1.0.0",
      "model_name": "ButtonStyleModel",
      "state": {}
     },
     "b5c746b1f0864f7f872caeccdf2cdd7a": {
      "model_module": "@jupyter-widgets/base",
      "model_module_version": "1.0.0",
      "model_name": "LayoutModel",
      "state": {}
     },
     "b5ff10b6ba284d74b007161f0c50827f": {
      "model_module": "@jupyter-widgets/controls",
      "model_module_version": "1.0.0",
      "model_name": "DescriptionStyleModel",
      "state": {
       "description_width": ""
      }
     },
     "b6a09c1f621946649bead7eddd79eb10": {
      "model_module": "@jupyter-widgets/controls",
      "model_module_version": "1.0.0",
      "model_name": "DescriptionStyleModel",
      "state": {
       "description_width": ""
      }
     },
     "b7ec1a4092364273a8cf2a981274a07c": {
      "model_module": "@jupyter-widgets/base",
      "model_module_version": "1.0.0",
      "model_name": "LayoutModel",
      "state": {}
     },
     "b81acee18118469c8c806f091a61d539": {
      "model_module": "bqplot",
      "model_module_version": "^0.2.3",
      "model_name": "LinesModel",
      "state": {
       "color": {
        "type": null,
        "values": null
       },
       "colors": [
        "Orange"
       ],
       "display_legend": false,
       "fill_colors": [],
       "labels": [
        "C1",
        "C2",
        "C3",
        "C4"
       ],
       "opacities": [
        0.8
       ],
       "scales": {
        "x": "IPY_MODEL_01b0b239610d41a692695acccecdc0b0",
        "y": "IPY_MODEL_868c3325509e45cb964ac872dbe37e41"
       },
       "selected": [],
       "stroke_width": 1.5,
       "x": {
        "type": "float",
        "values": [
         [
          1122.6,
          1148.2
         ],
         [
          1113.9,
          1151.1
         ],
         [
          1158.9,
          1187.5
         ],
         [
          1064.9,
          1077.8
         ]
        ]
       },
       "y": {
        "type": "float",
        "values": [
         [
          327.16,
          351.44
         ],
         [
          302.78,
          298.64
         ],
         [
          324.05,
          345.37
         ],
         [
          282.93,
          261.5
         ]
        ]
       }
      }
     },
     "b846bbef58e74d51af72e631ddf6feda": {
      "model_module": "bqplot",
      "model_module_version": "^0.2.3",
      "model_name": "TooltipModel",
      "state": {
       "fields": [
        "name"
       ],
       "layout": "IPY_MODEL_caf289a1a0a44d98906bf2ba25e7e02a"
      }
     },
     "b8528672f8434acebb8ec77fa9a05d32": {
      "model_module": "@jupyter-widgets/controls",
      "model_module_version": "1.0.0",
      "model_name": "VBoxModel",
      "state": {
       "children": [
        "IPY_MODEL_9b9d4f3a215a4994a63ace8fdce8c743",
        "IPY_MODEL_50e10f1471544eb9b52881c9751d7765",
        "IPY_MODEL_a77a50a11c414cac962fb7dd5c9dad47",
        "IPY_MODEL_5f9104205d4e4456a7a6dafbeaddfeff",
        "IPY_MODEL_bc8b74cedc4b4181ae8f1a2dc0a897e3",
        "IPY_MODEL_1eb368da10544d96829f5e5b13df08ef",
        "IPY_MODEL_9abdd9f09dff4a7f9b0c198353726f86",
        "IPY_MODEL_a177f0f1908145938b4140f46c071649",
        "IPY_MODEL_93db498df325456193e2d39325ed4c39",
        "IPY_MODEL_b40bf4df68d64017aaafc491c5a05cf6"
       ],
       "layout": "IPY_MODEL_fed9ab93e7534e04883e0bf788b15e4c"
      }
     },
     "b9086900781a49c1accdd258db45d6f4": {
      "model_module": "@jupyter-widgets/controls",
      "model_module_version": "1.0.0",
      "model_name": "VBoxModel",
      "state": {
       "children": [
        "IPY_MODEL_0fdfd7aed588406791c8cf40ac6a2435",
        "IPY_MODEL_d27fcdb19ade44d085674cdf3dba116f",
        "IPY_MODEL_60ca094666ea43008f052b473ba0b210",
        "IPY_MODEL_2e717283202d4547b040d1f48f1fc4b3",
        "IPY_MODEL_eed473894fdb4058a620e17429f4c023",
        "IPY_MODEL_abb3239583d241dc9ccbd440b6e9ad07",
        "IPY_MODEL_0710354e18544d68850f089c8ab87001",
        "IPY_MODEL_405bd6d72a014b60908856edcf140a4f",
        "IPY_MODEL_db076d99dd2840e69abc49cceab07ed3",
        "IPY_MODEL_24588c5e7263418ebe29a5754eff2f3b"
       ],
       "layout": "IPY_MODEL_d52ef19807c643e3b01a9ec5e3213831"
      }
     },
     "b974d08ee2444099b82c2f983baa96e1": {
      "model_module": "bqplot",
      "model_module_version": "^0.2.3",
      "model_name": "ColorScaleModel",
      "state": {
       "_model_name": "ColorScaleModel",
       "_view_name": "ColorScale",
       "colors": [
        "Red",
        "Green"
       ],
       "mid": null,
       "scale_type": "linear",
       "scheme": "RdYlGn"
      }
     },
     "ba529e0da19846a89e821095fc0b1eba": {
      "model_module": "bqplot",
      "model_module_version": "^0.2.3",
      "model_name": "ScatterModel",
      "state": {
       "_model_module": "bqplot",
       "_model_module_version": "^0.2.3",
       "_view_count": null,
       "_view_module": "bqplot",
       "_view_module_version": "^0.2.3",
       "apply_clip": true,
       "color": {
        "type": null,
        "values": null
       },
       "colors": [
        "DeepSkyBlue"
       ],
       "default_opacities": [
        0.6
       ],
       "default_size": 180,
       "display_legend": false,
       "enable_hover": true,
       "hovered_style": {},
       "interactions": {
        "hover": "tooltip"
       },
       "labels": [],
       "marker": "rectangle",
       "names": {
        "type": "<U4",
        "values": [
         "Bus1",
         "Bus2",
         "Bus3"
        ]
       },
       "opacity": {
        "type": null,
        "values": null
       },
       "preserve_domain": {},
       "rotation": {
        "type": null,
        "values": null
       },
       "scales": {
        "x": "IPY_MODEL_0c60855fd08c4d0c940639139249d6b1",
        "y": "IPY_MODEL_df658e2c37b243d993fe4c31c14b69fa"
       },
       "scales_metadata": {
        "color": {
         "dimension": "color"
        },
        "opacity": {
         "dimension": "opacity"
        },
        "size": {
         "dimension": "size"
        },
        "x": {
         "dimension": "x",
         "orientation": "horizontal"
        },
        "y": {
         "dimension": "y",
         "orientation": "vertical"
        }
       },
       "selected": [
        0
       ],
       "selected_style": {
        "fill": "RoyalBlue",
        "opacity": 0.8,
        "stroke": "Blue"
       },
       "size": {
        "type": null,
        "values": null
       },
       "skew": {
        "type": null,
        "values": null
       },
       "tooltip": "IPY_MODEL_495a8687d8254c049ffab836455dc54d",
       "tooltip_location": "mouse",
       "tooltip_style": {
        "opacity": 0.9
       },
       "unhovered_style": {},
       "unselected_style": {},
       "visible": true,
       "x": {
        "type": "float",
        "values": [
         1158.9,
         1122.6,
         1113.9
        ]
       },
       "y": {
        "type": "float",
        "values": [
         324.05,
         327.16,
         302.78
        ]
       }
      }
     },
     "ba9133de698b483fa30a4dc37304d41c": {
      "model_module": "@jupyter-widgets/controls",
      "model_module_version": "1.0.0",
      "model_name": "DropdownModel",
      "state": {
       "_options_labels": [
        "All",
        "Bus1",
        "Bus2",
        "Bus3",
        "Bus4",
        "Bus5",
        "Bus6",
        "Bus7",
        "Bus8",
        "Bus9",
        "Bus10",
        "Bus11",
        "Bus12",
        "Bus13",
        "Bus14",
        "Bus15",
        "Bus16",
        "Bus17",
        "Bus18",
        "Bus19",
        "Bus20",
        "Bus21",
        "Bus22",
        "Bus23",
        "Bus24",
        "Bus25",
        "Bus26",
        "Bus27",
        "Bus28",
        "Bus29",
        "Bus30",
        "Bus31",
        "Bus32",
        "Bus33",
        "Bus34",
        "Bus35",
        "Bus36",
        "Bus37",
        "Bus38",
        "Bus39",
        "Bus40",
        "Bus41",
        "Bus42",
        "Bus43",
        "Bus44",
        "Bus45",
        "Bus46",
        "Bus47",
        "Bus48",
        "Bus49",
        "Bus50",
        "Bus51",
        "Bus52",
        "Bus53",
        "Bus54",
        "Bus55",
        "Bus56",
        "Bus57",
        "Bus58",
        "Bus59",
        "Bus60",
        "Bus61",
        "Bus62",
        "Bus63",
        "Bus64",
        "Bus65",
        "Bus66",
        "Bus67",
        "Bus68",
        "Bus69",
        "Bus70",
        "Bus71",
        "Bus72",
        "Bus73",
        "Bus74",
        "Bus75",
        "Bus76",
        "Bus77",
        "Bus78",
        "Bus79",
        "Bus80",
        "Bus81",
        "Bus82",
        "Bus83",
        "Bus84",
        "Bus85",
        "Bus86",
        "Bus87",
        "Bus88",
        "Bus89",
        "Bus90",
        "Bus91",
        "Bus92",
        "Bus93",
        "Bus94",
        "Bus95",
        "Bus96",
        "Bus97",
        "Bus98",
        "Bus99",
        "Bus100",
        "Bus101",
        "Bus102",
        "Bus103",
        "Bus104",
        "Bus105",
        "Bus106",
        "Bus107",
        "Bus108",
        "Bus109",
        "Bus110",
        "Bus111",
        "Bus112",
        "Bus113",
        "Bus114",
        "Bus115",
        "Bus116",
        "Bus117",
        "Bus118"
       ],
       "description": "Start at:",
       "index": 1,
       "layout": "IPY_MODEL_7e8036068db14ee38dd558300b1e5e28",
       "style": "IPY_MODEL_ec000727d5cb483cbe065440dd7c83db"
      }
     },
     "bc5ab8cd792c4a5c93a1505968289108": {
      "model_module": "@jupyter-widgets/controls",
      "model_module_version": "1.0.0",
      "model_name": "ButtonModel",
      "state": {
       "button_style": "info",
       "description": "Reset",
       "icon": "times-circle",
       "layout": "IPY_MODEL_6f310f6087214fc19ba141662eade56f",
       "style": "IPY_MODEL_076af95147c9461a92659b9a53dc80d8"
      }
     },
     "bc8b74cedc4b4181ae8f1a2dc0a897e3": {
      "model_module": "@jupyter-widgets/controls",
      "model_module_version": "1.0.0",
      "model_name": "LabelModel",
      "state": {
       "layout": "IPY_MODEL_fab13eb6e75848cd9a89557fc11a5c0b",
       "style": "IPY_MODEL_5f01602533ba4eb3a52624d3b5e357c0",
       "value": "--------------------"
      }
     },
     "bcc9acf423a548d5a81969bb79dcdc31": {
      "model_module": "bqplot",
      "model_module_version": "^0.2.3",
      "model_name": "LinearScaleModel",
      "state": {
       "allow_padding": false,
       "max": 1,
       "min": 0,
       "stabilized": false
      }
     },
     "bd9b6cdb168240a2a39bec03358af827": {
      "model_module": "@jupyter-widgets/base",
      "model_module_version": "1.0.0",
      "model_name": "LayoutModel",
      "state": {
       "border": "groove Gray 2px",
       "height": "auto",
       "justify_content": "space-between"
      }
     },
     "bde35b2f4c994772982d6c275bf941b5": {
      "model_module": "@jupyter-widgets/controls",
      "model_module_version": "1.0.0",
      "model_name": "HBoxModel",
      "state": {
       "children": [
        "IPY_MODEL_7682ab75b5724a90809f21f63dc83c7d",
        "IPY_MODEL_60e6067dd2224c7387cdc84ce489e6f2"
       ],
       "layout": "IPY_MODEL_bd9b6cdb168240a2a39bec03358af827"
      }
     },
     "be1fddf31b71445eb92305204ce488a4": {
      "model_module": "@jupyter-widgets/controls",
      "model_module_version": "1.0.0",
      "model_name": "CheckboxModel",
      "state": {
       "description": "Show bus names",
       "disabled": false,
       "indent": false,
       "layout": "IPY_MODEL_fea8d927f5b74ad4b231799050617ae9",
       "style": "IPY_MODEL_4768baafe9234ccdb8d909a0ce4ef76b",
       "value": true
      }
     },
     "be2a691de1cf4723a7dabcb8f402feec": {
      "model_module": "@jupyter-widgets/controls",
      "model_module_version": "1.0.0",
      "model_name": "DescriptionStyleModel",
      "state": {
       "description_width": ""
      }
     },
     "c013811c3115403084681248d25649ae": {
      "model_module": "@jupyter-widgets/controls",
      "model_module_version": "1.0.0",
      "model_name": "DescriptionStyleModel",
      "state": {
       "description_width": ""
      }
     },
     "c145156240de4d77a070fae7c1c4ca7b": {
      "model_module": "@jupyter-widgets/base",
      "model_module_version": "1.0.0",
      "model_name": "LayoutModel",
      "state": {}
     },
     "c154051cb98e451cbd2e9cda8957154b": {
      "model_module": "bqplot",
      "model_module_version": "^0.2.3",
      "model_name": "LinearScaleModel",
      "state": {
       "max": 193.73,
       "min": 9.402000000000001,
       "stabilized": false
      }
     },
     "c220fa4afcce44f0bc209a95f0f30c6b": {
      "model_module": "@jupyter-widgets/controls",
      "model_module_version": "1.0.0",
      "model_name": "ButtonStyleModel",
      "state": {}
     },
     "c31e9944a33e4637a30c5d1b2687f8e6": {
      "model_module": "@jupyter-widgets/base",
      "model_module_version": "1.0.0",
      "model_name": "LayoutModel",
      "state": {}
     },
     "c5bfc75d61014c52a7f7a92b68ce5f56": {
      "model_module": "bqplot",
      "model_module_version": "^0.2.3",
      "model_name": "LinesModel",
      "state": {
       "color": {
        "type": null,
        "values": null
       },
       "colors": [
        "Orange"
       ],
       "display_legend": false,
       "fill_colors": [],
       "labels": [
        "C1"
       ],
       "opacities": [
        0.8
       ],
       "scales": {
        "x": "IPY_MODEL_7d9a584fd69d43ad832bb86c22597bf2",
        "y": "IPY_MODEL_f813645efb524d219ca5e43f2c76b294"
       },
       "selected": [],
       "stroke_width": 1.5,
       "x": {
        "type": "float",
        "values": [
         92.662,
         59.402
        ]
       },
       "y": {
        "type": "float",
        "values": [
         164.99,
         155.95
        ]
       }
      }
     },
     "c67f4a0e84164fdea79f1589cbb381d2": {
      "model_module": "@jupyter-widgets/controls",
      "model_module_version": "1.0.0",
      "model_name": "DescriptionStyleModel",
      "state": {
       "description_width": ""
      }
     },
     "c97932ba8ff243968362352fdc53c789": {
      "model_module": "@jupyter-widgets/controls",
      "model_module_version": "1.0.0",
      "model_name": "VBoxModel",
      "state": {
       "children": [
        "IPY_MODEL_2c9888f163c345a28e2f9192ea216f72",
        "IPY_MODEL_e82125a55d284988b716ca0b8662def1"
       ],
       "layout": "IPY_MODEL_d6ab71d085d54cde87e1869eee24dc4f"
      }
     },
     "c9f6c16c862a49bfb095349ac0902629": {
      "model_module": "@jupyter-widgets/base",
      "model_module_version": "1.0.0",
      "model_name": "LayoutModel",
      "state": {
       "min_width": "125px"
      }
     },
     "ca33704df0ac425eb981f91312a36e75": {
      "model_module": "@jupyter-widgets/base",
      "model_module_version": "1.0.0",
      "model_name": "LayoutModel",
      "state": {}
     },
     "ca667810ed0440018838eab1a10be125": {
      "model_module": "@jupyter-widgets/controls",
      "model_module_version": "1.0.0",
      "model_name": "DescriptionStyleModel",
      "state": {
       "description_width": ""
      }
     },
     "caf289a1a0a44d98906bf2ba25e7e02a": {
      "model_module": "@jupyter-widgets/base",
      "model_module_version": "1.0.0",
      "model_name": "LayoutModel",
      "state": {}
     },
     "cc8641365c9c4679824e94e083693353": {
      "model_module": "@jupyter-widgets/controls",
      "model_module_version": "1.0.0",
      "model_name": "ButtonModel",
      "state": {
       "button_style": "info",
       "description": "Reset",
       "icon": "times-circle",
       "layout": "IPY_MODEL_ee3dfd2a775640cc9001924478b1c531",
       "style": "IPY_MODEL_109508dd179b49bfa7dfbcaf5308c767"
      }
     },
     "ccd904a75df74395aa9ffadcfda2341a": {
      "model_module": "@jupyter-widgets/base",
      "model_module_version": "1.0.0",
      "model_name": "LayoutModel",
      "state": {
       "min_width": "125px"
      }
     },
     "cd2e1c907a9a49e283d63cc35679ed51": {
      "model_module": "bqplot",
      "model_module_version": "^0.2.3",
      "model_name": "ScatterModel",
      "state": {
       "_model_module": "bqplot",
       "_model_module_version": "^0.2.3",
       "_view_count": null,
       "_view_module": "bqplot",
       "_view_module_version": "^0.2.3",
       "apply_clip": true,
       "color": {
        "type": null,
        "values": null
       },
       "colors": [
        "LightGreen"
       ],
       "default_opacities": [
        0.6
       ],
       "default_size": 150,
       "display_legend": false,
       "display_names": false,
       "enable_hover": true,
       "hovered_style": {},
       "interactions": {
        "hover": "tooltip"
       },
       "labels": [],
       "names": {
        "type": "<U6",
        "values": [
         "GenCo0"
        ]
       },
       "opacity": {
        "type": null,
        "values": null
       },
       "preserve_domain": {},
       "rotation": {
        "type": null,
        "values": null
       },
       "scales": {
        "x": "IPY_MODEL_0c60855fd08c4d0c940639139249d6b1",
        "y": "IPY_MODEL_df658e2c37b243d993fe4c31c14b69fa"
       },
       "scales_metadata": {
        "color": {
         "dimension": "color"
        },
        "opacity": {
         "dimension": "opacity"
        },
        "size": {
         "dimension": "size"
        },
        "x": {
         "dimension": "x",
         "orientation": "horizontal"
        },
        "y": {
         "dimension": "y",
         "orientation": "vertical"
        }
       },
       "selected": [],
       "selected_style": {
        "fill": "DarkGreen",
        "opacity": 0.8,
        "stroke": "Green"
       },
       "size": {
        "type": null,
        "values": null
       },
       "skew": {
        "type": null,
        "values": null
       },
       "tooltip": "IPY_MODEL_495a8687d8254c049ffab836455dc54d",
       "tooltip_location": "mouse",
       "tooltip_style": {
        "opacity": 0.9
       },
       "unhovered_style": {},
       "unselected_style": {},
       "visible": true,
       "x": {
        "type": "float",
        "values": [
         1196
        ]
       },
       "y": {
        "type": "float",
        "values": [
         320.62
        ]
       }
      }
     },
     "ce7a9610c8e0481d866893d41a919497": {
      "model_module": "@jupyter-widgets/controls",
      "model_module_version": "1.0.0",
      "model_name": "VBoxModel",
      "state": {
       "children": [
        "IPY_MODEL_85b1b770e1fe45a4ad01a78e9244043a",
        "IPY_MODEL_bde35b2f4c994772982d6c275bf941b5"
       ],
       "layout": "IPY_MODEL_0436505a8d694863916e450df1a99175"
      }
     },
     "cf0d8d1b4af6422c951d203d095cafbc": {
      "model_module": "bqplot",
      "model_module_version": "^0.2.3",
      "model_name": "LinearScaleModel",
      "state": {
       "allow_padding": false,
       "max": 1,
       "min": 0,
       "stabilized": false
      }
     },
     "cff1751cd0ae4760ad89cd9af5d3f508": {
      "model_module": "@jupyter-widgets/base",
      "model_module_version": "1.0.0",
      "model_name": "LayoutModel",
      "state": {}
     },
     "d00d30adeda44c2f939e97e37670e5ee": {
      "model_module": "@jupyter-widgets/controls",
      "model_module_version": "1.0.0",
      "model_name": "DescriptionStyleModel",
      "state": {
       "description_width": ""
      }
     },
     "d00e6a868783446ab566d392b22db079": {
      "model_module": "bqplot",
      "model_module_version": "^0.2.3",
      "model_name": "ScatterModel",
      "state": {
       "_model_module": "bqplot",
       "_model_module_version": "^0.2.3",
       "_view_count": null,
       "_view_module": "bqplot",
       "_view_module_version": "^0.2.3",
       "apply_clip": true,
       "color": {
        "type": null,
        "values": null
       },
       "colors": [
        "DeepSkyBlue"
       ],
       "default_opacities": [
        0.6
       ],
       "default_size": 180,
       "display_legend": false,
       "enable_hover": true,
       "hovered_style": {},
       "interactions": {
        "hover": "tooltip"
       },
       "labels": [],
       "marker": "rectangle",
       "names": {
        "type": "<U4",
        "values": [
         "Bus2",
         "Bus1",
         "Bus3"
        ]
       },
       "opacity": {
        "type": null,
        "values": null
       },
       "preserve_domain": {},
       "rotation": {
        "type": null,
        "values": null
       },
       "scales": {
        "x": "IPY_MODEL_2e34e6bff3c84130a1d4289eb2de8bfd",
        "y": "IPY_MODEL_70ed524deef745ca91eb6b33ac1fbfcd"
       },
       "scales_metadata": {
        "color": {
         "dimension": "color"
        },
        "opacity": {
         "dimension": "opacity"
        },
        "size": {
         "dimension": "size"
        },
        "x": {
         "dimension": "x",
         "orientation": "horizontal"
        },
        "y": {
         "dimension": "y",
         "orientation": "vertical"
        }
       },
       "selected": [
        1
       ],
       "selected_style": {
        "fill": "RoyalBlue",
        "opacity": 0.8,
        "stroke": "Blue"
       },
       "size": {
        "type": null,
        "values": null
       },
       "skew": {
        "type": null,
        "values": null
       },
       "tooltip": "IPY_MODEL_51ab678bbee04de293139975da8c657e",
       "tooltip_location": "mouse",
       "tooltip_style": {
        "opacity": 0.9
       },
       "unhovered_style": {},
       "unselected_style": {},
       "visible": true,
       "x": {
        "type": "float",
        "values": [
         1122.6,
         1158.9,
         1113.9
        ]
       },
       "y": {
        "type": "float",
        "values": [
         327.16,
         324.05,
         302.78
        ]
       }
      }
     },
     "d0832756f01446b2930313bedd943daf": {
      "model_module": "@jupyter-widgets/controls",
      "model_module_version": "1.0.0",
      "model_name": "DescriptionStyleModel",
      "state": {
       "description_width": ""
      }
     },
     "d17b6b22e956421caba3d1f9cabcb9df": {
      "model_module": "@jupyter-widgets/controls",
      "model_module_version": "1.0.0",
      "model_name": "CheckboxModel",
      "state": {
       "description": "Show generators",
       "disabled": false,
       "indent": false,
       "layout": "IPY_MODEL_9f85d73a8b5d48d8bc725e2abb72d4ed",
       "style": "IPY_MODEL_654127522f4d4e97a8bbea6ff97718d1",
       "value": true
      }
     },
     "d1ed012a17984933b9d83a946ef12c71": {
      "model_module": "@jupyter-widgets/controls",
      "model_module_version": "1.0.0",
      "model_name": "VBoxModel",
      "state": {
       "children": [
        "IPY_MODEL_3b1909772a4c4e379ad4312b1c91619c",
        "IPY_MODEL_710432ee8f16486dbad431a3a18029d6",
        "IPY_MODEL_d17b6b22e956421caba3d1f9cabcb9df",
        "IPY_MODEL_ebf0d0cf5c7640f4a5fa9fc64147bf9f",
        "IPY_MODEL_409c75cc31294095973c08ef8d329271",
        "IPY_MODEL_b331895aaae74edc893e19d9c39d7f4f",
        "IPY_MODEL_7a1d4a2568684e488c67634abddd1c1b",
        "IPY_MODEL_923ea1d8eb794cf5a2db62e3c765aa82",
        "IPY_MODEL_8acdf33c67364edf9573f863bed0c419",
        "IPY_MODEL_e2a37fd22a9e481fa270027cb7a0b22c"
       ],
       "layout": "IPY_MODEL_d8a07ac95b2249b8980fe1fdeb648a35"
      }
     },
     "d27fcdb19ade44d085674cdf3dba116f": {
      "model_module": "@jupyter-widgets/controls",
      "model_module_version": "1.0.0",
      "model_name": "LabelModel",
      "state": {
       "layout": "IPY_MODEL_f3e2a07217cf4b3faa6f06ce8af515a7",
       "style": "IPY_MODEL_873a4e3b7cd64692b4d90f4dc5353c43",
       "value": "--------------------"
      }
     },
     "d2aa8ffb59174162a60005d9f8309b81": {
      "model_module": "@jupyter-widgets/base",
      "model_module_version": "1.0.0",
      "model_name": "LayoutModel",
      "state": {}
     },
     "d2d4f66c3ed14cada978dd585ff563c3": {
      "model_module": "@jupyter-widgets/controls",
      "model_module_version": "1.0.0",
      "model_name": "LabelModel",
      "state": {
       "layout": "IPY_MODEL_fea8d927f5b74ad4b231799050617ae9",
       "style": "IPY_MODEL_885e0b25bdbe404ab71a45746a914189",
       "value": "--------------------"
      }
     },
     "d2ea48cfead5449b8673ca740fbdda6c": {
      "model_module": "@jupyter-widgets/controls",
      "model_module_version": "1.0.0",
      "model_name": "CheckboxModel",
      "state": {
       "description": "Show hidden nodes",
       "disabled": false,
       "indent": false,
       "layout": "IPY_MODEL_e0d9c46c256a4095a834cade87aa1056",
       "style": "IPY_MODEL_dca6466166b54f2c8e5c53b435651992",
       "value": false
      }
     },
     "d3011cceee1d4d79a3f89acddb4b6790": {
      "model_module": "bqplot",
      "model_module_version": "^0.2.3",
      "model_name": "FigureModel",
      "state": {
       "_dom_classes": [],
       "fig_margin": {
        "bottom": 0,
        "left": 0,
        "right": 0,
        "top": 0
       },
       "layout": "IPY_MODEL_c9f6c16c862a49bfb095349ac0902629",
       "marks": [
        "IPY_MODEL_13b321eac64545fab14dc93fae440b8a",
        "IPY_MODEL_2a7f491977434981b46e4abb83487b29",
        "IPY_MODEL_ef45d09ae65e48dd99fbcfaf802a7465",
        "IPY_MODEL_6d350612ee264421bd59ddd1b251facb",
        "IPY_MODEL_f18f9632faaf40f8a5832649373b9a9b"
       ],
       "max_aspect_ratio": 6,
       "scale_x": "IPY_MODEL_641806ffa4db401fbe1c19a2dbe00cc0",
       "scale_y": "IPY_MODEL_6b2d26779e21436ca2f00370d58c68aa"
      }
     },
     "d3df45acb3bc4829a5e2d11d1603de04": {
      "model_module": "bqplot",
      "model_module_version": "^0.2.3",
      "model_name": "LinesModel",
      "state": {
       "color": {
        "type": null,
        "values": null
       },
       "colors": [
        "gray"
       ],
       "display_legend": false,
       "fill_colors": [],
       "labels": [
        "C1",
        "C2",
        "C3",
        "C4",
        "C5",
        "C6",
        "C7",
        "C8",
        "C9",
        "C10",
        "C11",
        "C12",
        "C13",
        "C14",
        "C15",
        "C16",
        "C17",
        "C18",
        "C19",
        "C20",
        "C21",
        "C22",
        "C23",
        "C24",
        "C25",
        "C26",
        "C27",
        "C28",
        "C29",
        "C30",
        "C31",
        "C32",
        "C33",
        "C34",
        "C35",
        "C36",
        "C37",
        "C38",
        "C39",
        "C40",
        "C41",
        "C42",
        "C43",
        "C44",
        "C45",
        "C46",
        "C47",
        "C48",
        "C49",
        "C50",
        "C51",
        "C52",
        "C53",
        "C54",
        "C55",
        "C56",
        "C57",
        "C58",
        "C59",
        "C60",
        "C61",
        "C62",
        "C63",
        "C64",
        "C65",
        "C66",
        "C67",
        "C68",
        "C69",
        "C70",
        "C71",
        "C72",
        "C73",
        "C74",
        "C75",
        "C76",
        "C77",
        "C78",
        "C79",
        "C80",
        "C81",
        "C82",
        "C83",
        "C84",
        "C85",
        "C86",
        "C87",
        "C88",
        "C89",
        "C90",
        "C91",
        "C92",
        "C93",
        "C94",
        "C95",
        "C96",
        "C97",
        "C98",
        "C99",
        "C100",
        "C101",
        "C102",
        "C103",
        "C104",
        "C105",
        "C106",
        "C107",
        "C108",
        "C109",
        "C110",
        "C111",
        "C112",
        "C113",
        "C114",
        "C115",
        "C116",
        "C117",
        "C118",
        "C119",
        "C120",
        "C121",
        "C122",
        "C123",
        "C124",
        "C125",
        "C126",
        "C127",
        "C128",
        "C129",
        "C130",
        "C131",
        "C132",
        "C133",
        "C134",
        "C135",
        "C136",
        "C137",
        "C138",
        "C139",
        "C140",
        "C141",
        "C142",
        "C143",
        "C144",
        "C145",
        "C146",
        "C147",
        "C148",
        "C149",
        "C150",
        "C151",
        "C152",
        "C153",
        "C154",
        "C155",
        "C156",
        "C157",
        "C158",
        "C159",
        "C160",
        "C161",
        "C162",
        "C163",
        "C164",
        "C165",
        "C166",
        "C167",
        "C168",
        "C169",
        "C170",
        "C171",
        "C172",
        "C173",
        "C174",
        "C175",
        "C176",
        "C177",
        "C178",
        "C179",
        "C180",
        "C181",
        "C182",
        "C183",
        "C184",
        "C185",
        "C186",
        "C187",
        "C188",
        "C189",
        "C190",
        "C191",
        "C192",
        "C193",
        "C194",
        "C195",
        "C196",
        "C197",
        "C198",
        "C199",
        "C200",
        "C201",
        "C202",
        "C203",
        "C204",
        "C205",
        "C206",
        "C207",
        "C208",
        "C209",
        "C210",
        "C211",
        "C212",
        "C213",
        "C214",
        "C215",
        "C216",
        "C217",
        "C218",
        "C219",
        "C220",
        "C221",
        "C222",
        "C223",
        "C224",
        "C225",
        "C226",
        "C227",
        "C228",
        "C229",
        "C230",
        "C231",
        "C232",
        "C233",
        "C234",
        "C235",
        "C236",
        "C237",
        "C238",
        "C239",
        "C240",
        "C241",
        "C242",
        "C243",
        "C244",
        "C245",
        "C246",
        "C247",
        "C248",
        "C249",
        "C250",
        "C251",
        "C252",
        "C253",
        "C254",
        "C255",
        "C256",
        "C257",
        "C258",
        "C259",
        "C260",
        "C261",
        "C262",
        "C263",
        "C264",
        "C265",
        "C266",
        "C267",
        "C268",
        "C269",
        "C270",
        "C271",
        "C272",
        "C273",
        "C274",
        "C275",
        "C276",
        "C277",
        "C278",
        "C279",
        "C280",
        "C281",
        "C282",
        "C283",
        "C284",
        "C285",
        "C286",
        "C287",
        "C288",
        "C289",
        "C290",
        "C291",
        "C292",
        "C293",
        "C294",
        "C295",
        "C296",
        "C297",
        "C298",
        "C299",
        "C300",
        "C301",
        "C302",
        "C303",
        "C304",
        "C305",
        "C306",
        "C307",
        "C308",
        "C309",
        "C310",
        "C311",
        "C312",
        "C313",
        "C314",
        "C315",
        "C316",
        "C317",
        "C318",
        "C319",
        "C320",
        "C321",
        "C322",
        "C323",
        "C324",
        "C325",
        "C326",
        "C327",
        "C328",
        "C329",
        "C330",
        "C331",
        "C332",
        "C333",
        "C334",
        "C335",
        "C336",
        "C337",
        "C338",
        "C339",
        "C340",
        "C341",
        "C342",
        "C343",
        "C344",
        "C345",
        "C346",
        "C347",
        "C348",
        "C349",
        "C350",
        "C351"
       ],
       "line_style": "dotted",
       "marker": "circle",
       "marker_size": 30,
       "opacities": [
        0.05
       ],
       "scales": {
        "x": "IPY_MODEL_ea5ac8e5f71a47a0bb757eb8b8730beb",
        "y": "IPY_MODEL_1f83238fb0904ec79cc1bd5e7dec7a9a"
       },
       "selected": [],
       "stroke_width": 1,
       "x": {
        "type": "float",
        "values": [
         [
          1158.9,
          1196
         ],
         [
          1158.9,
          1122.6
         ],
         [
          1158.9,
          1113.9
         ],
         [
          1158.9,
          1187.5
         ],
         [
          1122.6,
          1069.8
         ],
         [
          1122.6,
          1148.2
         ],
         [
          1113.9,
          1064.9
         ],
         [
          1113.9,
          1069.8
         ],
         [
          1113.9,
          1151.1
         ],
         [
          1099.5,
          1130.4
         ],
         [
          1099.5,
          1064.9
         ],
         [
          1099.5,
          1053.1
         ],
         [
          1099.5,
          1140.7
         ],
         [
          1064.9,
          1102.3
         ],
         [
          1064.9,
          990.08
         ],
         [
          1064.9,
          1053.1
         ],
         [
          1064.9,
          1077.8
         ],
         [
          1102.3,
          1133.9
         ],
         [
          1102.3,
          1103.4
         ],
         [
          1102.3,
          1109.8
         ],
         [
          1103.4,
          1069.8
         ],
         [
          1103.4,
          1131.5
         ],
         [
          990.08,
          1003.1
         ],
         [
          990.08,
          1005.2
         ],
         [
          990.08,
          905.69
         ],
         [
          990.08,
          979.43
         ],
         [
          1005.2,
          1009.6
         ],
         [
          1005.2,
          1022.4
         ],
         [
          1009.6,
          1029.1
         ],
         [
          1009.6,
          1005.4
         ],
         [
          1053.1,
          1069.8
         ],
         [
          1053.1,
          996.41
         ],
         [
          1053.1,
          1063.4
         ],
         [
          1069.8,
          1070.5
         ],
         [
          1069.8,
          1008.6
         ],
         [
          1069.8,
          1013.7
         ],
         [
          1069.8,
          1093.6
         ],
         [
          1069.8,
          1091.9
         ],
         [
          996.41,
          941.82
         ],
         [
          996.41,
          998.56
         ],
         [
          1008.6,
          941.82
         ],
         [
          1008.6,
          1030.3
         ],
         [
          941.82,
          962.08
         ],
         [
          941.82,
          943.68
         ],
         [
          941.82,
          870.96
         ],
         [
          941.82,
          893.9
         ],
         [
          941.82,
          941.92
         ],
         [
          1013.7,
          943.68
         ],
         [
          1013.7,
          1028
         ],
         [
          943.68,
          908.37
         ],
         [
          943.68,
          905.69
         ],
         [
          943.68,
          936.25
         ],
         [
          943.68,
          915.07
         ],
         [
          943.68,
          965.19
         ],
         [
          908.37,
          915.51
         ],
         [
          908.37,
          870.96
         ],
         [
          908.37,
          928.62
         ],
         [
          870.96,
          861.09
         ],
         [
          870.96,
          828.99
         ],
         [
          870.96,
          813.07
         ],
         [
          870.96,
          876.69
         ],
         [
          828.99,
          795.01
         ],
         [
          828.99,
          804.73
         ],
         [
          795.01,
          771.01
         ],
         [
          795.01,
          768.76
         ],
         [
          771.01,
          789.92
         ],
         [
          771.01,
          750.95
         ],
         [
          789.92,
          696.21
         ],
         [
          789.92,
          843.32
         ],
         [
          789.92,
          873.39
         ],
         [
          789.92,
          780.29
         ],
         [
          696.21,
          680.46
         ],
         [
          696.21,
          619.29
         ],
         [
          696.21,
          656.2
         ],
         [
          696.21,
          705.62
         ],
         [
          843.32,
          819.69
         ],
         [
          843.32,
          874.85
         ],
         [
          843.32,
          869.15
         ],
         [
          843.32,
          828.56
         ],
         [
          874.85,
          857.37
         ],
         [
          874.85,
          905.69
         ],
         [
          874.85,
          885.79
         ],
         [
          869.15,
          858.39
         ],
         [
          869.15,
          918.48
         ],
         [
          869.15,
          873.39
         ],
         [
          869.15,
          880.81
         ],
         [
          869.15,
          842.78
         ],
         [
          918.48,
          946.43
         ],
         [
          918.48,
          939.18
         ],
         [
          946.43,
          936.25
         ],
         [
          946.43,
          972.86
         ],
         [
          905.69,
          825.02
         ],
         [
          905.69,
          922.23
         ],
         [
          936.25,
          969.91
         ],
         [
          936.25,
          873.39
         ],
         [
          936.25,
          962.19
         ],
         [
          873.39,
          853.47
         ],
         [
          873.39,
          915.07
         ],
         [
          873.39,
          888.85
         ],
         [
          873.39,
          893.51
         ],
         [
          893.9,
          830.9
         ],
         [
          893.9,
          913.35
         ],
         [
          813.07,
          801.3
         ],
         [
          813.07,
          831.35
         ],
         [
          813.07,
          830.9
         ],
         [
          813.07,
          753.16
         ],
         [
          813.07,
          784.26
         ],
         [
          813.74,
          831.35
         ],
         [
          813.74,
          830.9
         ],
         [
          813.74,
          788.5
         ],
         [
          831.35,
          858.03
         ],
         [
          831.35,
          834.68
         ],
         [
          830.9,
          825.02
         ],
         [
          830.9,
          818.02
         ],
         [
          830.9,
          776.96
         ],
         [
          830.9,
          853.66
         ],
         [
          825.02,
          732.91
         ],
         [
          825.02,
          855.64
         ],
         [
          818.02,
          776.96
         ],
         [
          818.02,
          840.88
         ],
         [
          776.96,
          769.23
         ],
         [
          776.96,
          749.05
         ],
         [
          776.96,
          713.11
         ],
         [
          776.96,
          775.96
         ],
         [
          749.05,
          713.11
         ],
         [
          749.05,
          765.5
         ],
         [
          713.11,
          700.04
         ],
         [
          713.11,
          643.56
         ],
         [
          713.11,
          698.13
         ],
         [
          753.16,
          701.8
         ],
         [
          753.16,
          736.35
         ],
         [
          701.8,
          656.2
         ],
         [
          701.8,
          693.2
         ],
         [
          656.2,
          610.13
         ],
         [
          656.2,
          643.56
         ],
         [
          656.2,
          658.65
         ],
         [
          610.13,
          582.81
         ],
         [
          610.13,
          611.12
         ],
         [
          610.13,
          606.72
         ],
         [
          610.13,
          574.04
         ],
         [
          611.12,
          643.56
         ],
         [
          611.12,
          588.6
         ],
         [
          611.12,
          585.36
         ],
         [
          606.72,
          643.56
         ],
         [
          606.72,
          574.27
         ],
         [
          643.56,
          631.12
         ],
         [
          643.56,
          631.17
         ],
         [
          643.56,
          615.83
         ],
         [
          643.56,
          663.35
         ],
         [
          643.56,
          711.86
         ],
         [
          643.56,
          588.6
         ],
         [
          643.56,
          657.29
         ],
         [
          631.17,
          636.43
         ],
         [
          631.17,
          599.63
         ],
         [
          615.83,
          588.15
         ],
         [
          615.83,
          630.53
         ],
         [
          615.83,
          581.46
         ],
         [
          588.15,
          617.36
         ],
         [
          588.15,
          562.85
         ],
         [
          617.36,
          663.35
         ],
         [
          617.36,
          598.42
         ],
         [
          663.35,
          681.4
         ],
         [
          663.35,
          687.35
         ],
         [
          663.35,
          665.33
         ],
         [
          663.35,
          715.87
         ],
         [
          663.35,
          653.13
         ],
         [
          687.35,
          694.06
         ],
         [
          687.35,
          665.33
         ],
         [
          687.35,
          715.87
         ],
         [
          687.35,
          708.55
         ],
         [
          665.33,
          670.89
         ],
         [
          665.33,
          636.43
         ],
         [
          665.33,
          630.53
         ],
         [
          665.33,
          715.87
         ],
         [
          665.33,
          652.55
         ],
         [
          636.43,
          607.58
         ],
         [
          630.53,
          622.61
         ],
         [
          715.87,
          736.95
         ],
         [
          715.87,
          751.27
         ],
         [
          715.87,
          763.94
         ],
         [
          715.87,
          748.18
         ],
         [
          715.87,
          719.38
         ],
         [
          751.27,
          763.94
         ],
         [
          751.27,
          752.65
         ],
         [
          751.27,
          767.7
         ],
         [
          763.94,
          786.41
         ],
         [
          763.94,
          752.65
         ],
         [
          763.94,
          755.85
         ],
         [
          763.94,
          803.65
         ],
         [
          752.65,
          786.34
         ],
         [
          752.65,
          711.86
         ],
         [
          752.65,
          726.76
         ],
         [
          752.65,
          791.19
         ],
         [
          748.18,
          755.85
         ],
         [
          748.18,
          778.97
         ],
         [
          755.85,
          732.91
         ],
         [
          755.85,
          789.9
         ],
         [
          732.91,
          756.53
         ],
         [
          732.91,
          711.86
         ],
         [
          732.91,
          619.16
         ],
         [
          732.91,
          780.57
         ],
         [
          711.86,
          696.15
         ],
         [
          711.86,
          726.76
         ],
         [
          711.86,
          733.34
         ],
         [
          726.76,
          721.9
         ],
         [
          619.16,
          588.6
         ],
         [
          619.16,
          518.12
         ],
         [
          619.16,
          577.27
         ],
         [
          619.16,
          627.87
         ],
         [
          588.6,
          591.34
         ],
         [
          588.6,
          619.29
         ],
         [
          588.6,
          561.07
         ],
         [
          588.6,
          490.44
         ],
         [
          588.6,
          565.17
         ],
         [
          619.29,
          645.28
         ],
         [
          619.29,
          620.14
         ],
         [
          619.29,
          580.95
         ],
         [
          619.29,
          561.07
         ],
         [
          619.29,
          622.4
         ],
         [
          620.14,
          656.2
         ],
         [
          620.14,
          601.41
         ],
         [
          620.14,
          602.18
         ],
         [
          656.2,
          667.56
         ],
         [
          656.2,
          644.31
         ],
         [
          601.41,
          602.28
         ],
         [
          601.41,
          578.63
         ],
         [
          580.95,
          581.27
         ],
         [
          580.95,
          561.07
         ],
         [
          580.95,
          560.17
         ],
         [
          561.07,
          490.44
         ],
         [
          561.07,
          529.78
         ],
         [
          561.07,
          572
         ],
         [
          496.42,
          493.49
         ],
         [
          496.42,
          490.44
         ],
         [
          496.42,
          529.78
         ],
         [
          496.42,
          475.1
         ],
         [
          490.44,
          479.21
         ],
         [
          490.44,
          461.26
         ],
         [
          490.44,
          419.27
         ],
         [
          490.44,
          398.83
         ],
         [
          490.44,
          504.02
         ],
         [
          461.26,
          435.4
         ],
         [
          461.26,
          455.25
         ],
         [
          435.4,
          419.27
         ],
         [
          435.4,
          432.78
         ],
         [
          419.27,
          410.2
         ],
         [
          419.27,
          518.12
         ],
         [
          419.27,
          361.71
         ],
         [
          419.27,
          388.06
         ],
         [
          419.27,
          354.03
         ],
         [
          419.27,
          342.18
         ],
         [
          419.27,
          421.65
         ],
         [
          518.12,
          507.49
         ],
         [
          398.83,
          326.78
         ],
         [
          398.83,
          361.71
         ],
         [
          398.83,
          388.76
         ],
         [
          326.78,
          295.41
         ],
         [
          326.78,
          259
         ],
         [
          326.78,
          333.24
         ],
         [
          295.41,
          259
         ],
         [
          295.41,
          298.04
         ],
         [
          259,
          265.04
         ],
         [
          259,
          218.47
         ],
         [
          259,
          223.57
         ],
         [
          259,
          225.17
         ],
         [
          259,
          240.69
         ],
         [
          218.47,
          181.43
         ],
         [
          218.47,
          211.19
         ],
         [
          181.43,
          150.94
         ],
         [
          181.43,
          169
         ],
         [
          223.57,
          225.17
         ],
         [
          223.57,
          194.81
         ],
         [
          225.17,
          183.59
         ],
         [
          225.17,
          211.22
         ],
         [
          225.17,
          240.95
         ],
         [
          225.17,
          197.5
         ],
         [
          211.22,
          238.73
         ],
         [
          211.22,
          193.86
         ],
         [
          211.22,
          199.72
         ],
         [
          193.86,
          166.1
         ],
         [
          193.86,
          240.95
         ],
         [
          193.86,
          156.15
         ],
         [
          240.95,
          216.92
         ],
         [
          240.95,
          266.31
         ],
         [
          240.95,
          296.13
         ],
         [
          240.95,
          274.05
         ],
         [
          240.95,
          211.39
         ],
         [
          240.95,
          220.63
         ],
         [
          266.31,
          296.13
         ],
         [
          266.31,
          262.98
         ],
         [
          296.13,
          324.79
         ],
         [
          296.13,
          361.71
         ],
         [
          296.13,
          274.05
         ],
         [
          296.13,
          289.61
         ],
         [
          324.79,
          361.71
         ],
         [
          324.79,
          318
         ],
         [
          361.71,
          388.06
         ],
         [
          361.71,
          354.23
         ],
         [
          388.06,
          390.69
         ],
         [
          354.03,
          274.05
         ],
         [
          354.03,
          368.7
         ],
         [
          342.18,
          341.56
         ],
         [
          342.18,
          274.05
         ],
         [
          342.18,
          321.7
         ],
         [
          274.05,
          264.2
         ],
         [
          274.05,
          231.25
         ],
         [
          274.05,
          207.82
         ],
         [
          274.05,
          238.59
         ],
         [
          274.05,
          261.96
         ],
         [
          274.05,
          292.19
         ],
         [
          231.25,
          211.39
         ],
         [
          231.25,
          200.58
         ],
         [
          211.39,
          176.48
         ],
         [
          207.82,
          176.56
         ],
         [
          207.82,
          238.59
         ],
         [
          207.82,
          232.8
         ],
         [
          207.82,
          143.73
         ],
         [
          207.82,
          179.91
         ],
         [
          238.59,
          217.46
         ],
         [
          238.59,
          232.8
         ],
         [
          238.59,
          226.83
         ],
         [
          232.8,
          250.7
         ],
         [
          232.8,
          261.96
         ],
         [
          232.8,
          249.45
         ],
         [
          232.8,
          196.03
         ],
         [
          232.8,
          262.08
         ],
         [
          261.96,
          249.45
         ],
         [
          261.96,
          286.2
         ],
         [
          249.45,
          238.42
         ],
         [
          249.45,
          267.27
         ],
         [
          196.03,
          160.19
         ],
         [
          196.03,
          188.64
         ],
         [
          160.19,
          143.73
         ],
         [
          160.19,
          145.96
         ],
         [
          143.73,
          138.1
         ],
         [
          143.73,
          103.27
         ],
         [
          143.73,
          92.662
         ],
         [
          143.73,
          119.31
         ],
         [
          103.27,
          87.963
         ],
         [
          103.27,
          71.985
         ],
         [
          92.662,
          64.904
         ],
         [
          92.662,
          59.402
         ],
         [
          915.07,
          921.3
         ],
         [
          915.07,
          906.19
         ],
         [
          888.85,
          880.81
         ],
         [
          888.85,
          905.51
         ],
         [
          880.81,
          883.64
         ],
         [
          577.27,
          549.39
         ],
         [
          577.27,
          550.62
         ],
         [
          1093.6,
          1112.5
         ],
         [
          529.78,
          526.1
         ]
        ]
       },
       "y": {
        "type": "float",
        "values": [
         [
          324.05,
          320.62
         ],
         [
          324.05,
          327.16
         ],
         [
          324.05,
          302.78
         ],
         [
          324.05,
          345.37
         ],
         [
          327.16,
          302.07
         ],
         [
          327.16,
          351.44
         ],
         [
          302.78,
          282.93
         ],
         [
          302.78,
          302.07
         ],
         [
          302.78,
          298.64
         ],
         [
          259.38,
          237.6
         ],
         [
          259.38,
          282.93
         ],
         [
          259.38,
          267.16
         ],
         [
          259.38,
          254.51
         ],
         [
          282.93,
          241.2
         ],
         [
          282.93,
          320.32
         ],
         [
          282.93,
          267.16
         ],
         [
          282.93,
          261.5
         ],
         [
          241.2,
          214.69
         ],
         [
          241.2,
          278.84
         ],
         [
          241.2,
          205.65
         ],
         [
          278.84,
          302.07
         ],
         [
          278.84,
          279.02
         ],
         [
          320.32,
          346.3
         ],
         [
          320.32,
          377.99
         ],
         [
          320.32,
          297.29
         ],
         [
          320.32,
          346.61
         ],
         [
          377.99,
          425.18
         ],
         [
          377.99,
          397.85
         ],
         [
          425.18,
          447.94
         ],
         [
          425.18,
          457.44
         ],
         [
          267.16,
          302.07
         ],
         [
          267.16,
          272.94
         ],
         [
          267.16,
          234.24
         ],
         [
          302.07,
          330.12
         ],
         [
          302.07,
          301.1
         ],
         [
          302.07,
          259.46
         ],
         [
          302.07,
          345.22
         ],
         [
          302.07,
          316.13
         ],
         [
          272.94,
          291.76
         ],
         [
          272.94,
          243.09
         ],
         [
          301.1,
          291.76
         ],
         [
          301.1,
          318.76
         ],
         [
          291.76,
          304.4
         ],
         [
          291.76,
          235.45
         ],
         [
          291.76,
          281.68
         ],
         [
          291.76,
          345.19
         ],
         [
          291.76,
          274.56
         ],
         [
          259.46,
          235.45
         ],
         [
          259.46,
          228.86
         ],
         [
          235.45,
          254.61
         ],
         [
          235.45,
          297.29
         ],
         [
          235.45,
          161.11
         ],
         [
          235.45,
          180.61
         ],
         [
          235.45,
          213.89
         ],
         [
          254.61,
          232.37
         ],
         [
          254.61,
          281.68
         ],
         [
          254.61,
          249.04
         ],
         [
          281.68,
          260.28
         ],
         [
          281.68,
          243.13
         ],
         [
          281.68,
          326.25
         ],
         [
          281.68,
          299.46
         ],
         [
          243.13,
          206.5
         ],
         [
          243.13,
          235.8
         ],
         [
          206.5,
          172.32
         ],
         [
          206.5,
          200.77
         ],
         [
          172.32,
          165.26
         ],
         [
          172.32,
          145.37
         ],
         [
          165.26,
          209.06
         ],
         [
          165.26,
          156.41
         ],
         [
          165.26,
          138.58
         ],
         [
          165.26,
          130.94
         ],
         [
          209.06,
          192.31
         ],
         [
          209.06,
          276.63
         ],
         [
          209.06,
          180.75
         ],
         [
          209.06,
          183.73
         ],
         [
          156.41,
          143.77
         ],
         [
          156.41,
          223.32
         ],
         [
          156.41,
          95.966
         ],
         [
          156.41,
          124.06
         ],
         [
          223.32,
          204.99
         ],
         [
          223.32,
          297.29
         ],
         [
          223.32,
          199.32
         ],
         [
          95.966,
          57.49
         ],
         [
          95.966,
          80.639
         ],
         [
          95.966,
          138.58
         ],
         [
          95.966,
          54.713
         ],
         [
          95.966,
          72.711
         ],
         [
          80.639,
          108.55
         ],
         [
          80.639,
          49.948
         ],
         [
          108.55,
          161.11
         ],
         [
          108.55,
          83.684
         ],
         [
          297.29,
          368.03
         ],
         [
          297.29,
          321.44
         ],
         [
          161.11,
          156.12
         ],
         [
          161.11,
          138.58
         ],
         [
          161.11,
          135.11
         ],
         [
          138.58,
          115.47
         ],
         [
          138.58,
          180.61
         ],
         [
          138.58,
          84.403
         ],
         [
          138.58,
          119.26
         ],
         [
          345.19,
          380.46
         ],
         [
          345.19,
          370.45
         ],
         [
          326.25,
          297.94
         ],
         [
          326.25,
          335.04
         ],
         [
          326.25,
          380.46
         ],
         [
          326.25,
          349.2
         ],
         [
          326.25,
          315.77
         ],
         [
          358.24,
          335.04
         ],
         [
          358.24,
          380.46
         ],
         [
          358.24,
          358.39
         ],
         [
          335.04,
          339.43
         ],
         [
          335.04,
          310.08
         ],
         [
          380.46,
          368.03
         ],
         [
          380.46,
          418.54
         ],
         [
          380.46,
          420.3
         ],
         [
          380.46,
          408.32
         ],
         [
          368.03,
          430.36
         ],
         [
          368.03,
          382.69
         ],
         [
          418.54,
          420.3
         ],
         [
          418.54,
          445.05
         ],
         [
          420.3,
          394.39
         ],
         [
          420.3,
          449.15
         ],
         [
          420.3,
          449.59
         ],
         [
          420.3,
          449.77
         ],
         [
          449.15,
          449.59
         ],
         [
          449.15,
          473.09
         ],
         [
          449.59,
          429.53
         ],
         [
          449.59,
          477.25
         ],
         [
          449.59,
          466.62
         ],
         [
          349.2,
          384.51
         ],
         [
          349.2,
          328.13
         ],
         [
          384.51,
          432.28
         ],
         [
          384.51,
          358.64
         ],
         [
          432.28,
          456.93
         ],
         [
          432.28,
          477.25
         ],
         [
          432.28,
          408.83
         ],
         [
          456.93,
          480.6
         ],
         [
          456.93,
          429.76
         ],
         [
          456.93,
          484.56
         ],
         [
          456.93,
          463.06
         ],
         [
          429.76,
          477.25
         ],
         [
          429.76,
          372.73
         ],
         [
          429.76,
          436.61
         ],
         [
          484.56,
          477.25
         ],
         [
          484.56,
          504.43
         ],
         [
          477.25,
          495.64
         ],
         [
          477.25,
          527.27
         ],
         [
          477.25,
          550.41
         ],
         [
          477.25,
          569.97
         ],
         [
          477.25,
          494.97
         ],
         [
          477.25,
          372.73
         ],
         [
          477.25,
          497.16
         ],
         [
          527.27,
          573.09
         ],
         [
          527.27,
          533.91
         ],
         [
          550.41,
          593.85
         ],
         [
          550.41,
          599.14
         ],
         [
          550.41,
          562.31
         ],
         [
          593.85,
          608.25
         ],
         [
          593.85,
          620.43
         ],
         [
          608.25,
          569.97
         ],
         [
          608.25,
          644.14
         ],
         [
          569.97,
          584.14
         ],
         [
          569.97,
          615.38
         ],
         [
          569.97,
          611.12
         ],
         [
          569.97,
          598.71
         ],
         [
          569.97,
          595.19
         ],
         [
          615.38,
          655.97
         ],
         [
          615.38,
          611.12
         ],
         [
          615.38,
          598.71
         ],
         [
          615.38,
          615.87
         ],
         [
          611.12,
          652.05
         ],
         [
          611.12,
          573.09
         ],
         [
          611.12,
          599.14
         ],
         [
          611.12,
          598.71
         ],
         [
          611.12,
          649.04
         ],
         [
          573.09,
          584.69
         ],
         [
          599.14,
          637.22
         ],
         [
          598.71,
          632.25
         ],
         [
          598.71,
          596.63
         ],
         [
          598.71,
          576.04
         ],
         [
          598.71,
          567.08
         ],
         [
          598.71,
          640.01
         ],
         [
          596.63,
          576.04
         ],
         [
          596.63,
          547.07
         ],
         [
          596.63,
          634.35
         ],
         [
          576.04,
          612.35
         ],
         [
          576.04,
          547.07
         ],
         [
          576.04,
          513.57
         ],
         [
          576.04,
          595.05
         ],
         [
          547.07,
          543.97
         ],
         [
          547.07,
          494.97
         ],
         [
          547.07,
          533.36
         ],
         [
          547.07,
          562.46
         ],
         [
          567.08,
          513.57
         ],
         [
          567.08,
          589.42
         ],
         [
          513.57,
          430.36
         ],
         [
          513.57,
          515.22
         ],
         [
          430.36,
          426.15
         ],
         [
          430.36,
          494.97
         ],
         [
          430.36,
          394.46
         ],
         [
          430.36,
          436.82
         ],
         [
          494.97,
          513.18
         ],
         [
          494.97,
          533.36
         ],
         [
          494.97,
          499.87
         ],
         [
          533.36,
          558.54
         ],
         [
          394.46,
          372.73
         ],
         [
          394.46,
          361.09
         ],
         [
          394.46,
          408.22
         ],
         [
          394.46,
          370.26
         ],
         [
          372.73,
          347.48
         ],
         [
          372.73,
          276.63
         ],
         [
          372.73,
          316.56
         ],
         [
          372.73,
          346.27
         ],
         [
          372.73,
          366.53
         ],
         [
          276.63,
          272.45
         ],
         [
          276.63,
          207.22
         ],
         [
          276.63,
          275.7
         ],
         [
          276.63,
          316.56
         ],
         [
          276.63,
          249.74
         ],
         [
          207.22,
          180.75
         ],
         [
          207.22,
          156.6
         ],
         [
          207.22,
          185.93
         ],
         [
          180.75,
          148.34
         ],
         [
          180.75,
          149.29
         ],
         [
          156.6,
          121.96
         ],
         [
          156.6,
          131.76
         ],
         [
          275.7,
          244.82
         ],
         [
          275.7,
          316.56
         ],
         [
          275.7,
          253.2
         ],
         [
          316.56,
          346.27
         ],
         [
          316.56,
          291.73
         ],
         [
          316.56,
          299.05
         ],
         [
          298.22,
          265.6
         ],
         [
          298.22,
          346.27
         ],
         [
          298.22,
          291.73
         ],
         [
          298.22,
          276.84
         ],
         [
          346.27,
          373.78
         ],
         [
          346.27,
          337.49
         ],
         [
          346.27,
          321.42
         ],
         [
          346.27,
          376.94
         ],
         [
          346.27,
          333.99
         ],
         [
          337.49,
          348.88
         ],
         [
          337.49,
          312.88
         ],
         [
          348.88,
          321.42
         ],
         [
          348.88,
          378.65
         ],
         [
          321.42,
          342.73
         ],
         [
          321.42,
          361.09
         ],
         [
          321.42,
          335.31
         ],
         [
          321.42,
          317.62
         ],
         [
          321.42,
          277.9
         ],
         [
          321.42,
          283.86
         ],
         [
          321.42,
          291.32
         ],
         [
          361.09,
          383.6
         ],
         [
          376.94,
          421.26
         ],
         [
          376.94,
          335.31
         ],
         [
          376.94,
          406.34
         ],
         [
          421.26,
          448.85
         ],
         [
          421.26,
          445.87
         ],
         [
          421.26,
          447.73
         ],
         [
          448.85,
          445.87
         ],
         [
          448.85,
          478.91
         ],
         [
          445.87,
          477.43
         ],
         [
          445.87,
          493.08
         ],
         [
          445.87,
          435.99
         ],
         [
          445.87,
          397.23
         ],
         [
          445.87,
          469.95
         ],
         [
          493.08,
          525.55
         ],
         [
          493.08,
          520.34
         ],
         [
          525.55,
          534.68
         ],
         [
          525.55,
          555.77
         ],
         [
          435.99,
          397.23
         ],
         [
          435.99,
          455.51
         ],
         [
          397.23,
          399.08
         ],
         [
          397.23,
          377.92
         ],
         [
          397.23,
          324.07
         ],
         [
          397.23,
          420.16
         ],
         [
          377.92,
          383.45
         ],
         [
          377.92,
          349.7
         ],
         [
          377.92,
          395.27
         ],
         [
          349.7,
          340.6
         ],
         [
          349.7,
          324.07
         ],
         [
          349.7,
          360.11
         ],
         [
          324.07,
          318.01
         ],
         [
          324.07,
          318.07
         ],
         [
          324.07,
          311.57
         ],
         [
          324.07,
          255.8
         ],
         [
          324.07,
          293.09
         ],
         [
          324.07,
          339.87
         ],
         [
          318.07,
          311.57
         ],
         [
          318.07,
          298.75
         ],
         [
          311.57,
          333.52
         ],
         [
          311.57,
          335.31
         ],
         [
          311.57,
          255.8
         ],
         [
          311.57,
          333.48
         ],
         [
          333.52,
          335.31
         ],
         [
          333.52,
          360.4
         ],
         [
          335.31,
          317.62
         ],
         [
          335.31,
          361.32
         ],
         [
          317.62,
          292.23
         ],
         [
          277.9,
          255.8
         ],
         [
          277.9,
          248.71
         ],
         [
          283.86,
          249.77
         ],
         [
          283.86,
          255.8
         ],
         [
          283.86,
          265.37
         ],
         [
          255.8,
          233.57
         ],
         [
          255.8,
          266.31
         ],
         [
          255.8,
          199.45
         ],
         [
          255.8,
          208.95
         ],
         [
          255.8,
          189.86
         ],
         [
          255.8,
          233.77
         ],
         [
          266.31,
          293.09
         ],
         [
          266.31,
          260.4
         ],
         [
          293.09,
          288.95
         ],
         [
          199.45,
          211.94
         ],
         [
          199.45,
          208.95
         ],
         [
          199.45,
          163.09
         ],
         [
          199.45,
          156.45
         ],
         [
          199.45,
          184.95
         ],
         [
          208.95,
          224.77
         ],
         [
          208.95,
          163.09
         ],
         [
          208.95,
          184.49
         ],
         [
          163.09,
          128.09
         ],
         [
          163.09,
          189.86
         ],
         [
          163.09,
          141.82
         ],
         [
          163.09,
          126.19
         ],
         [
          163.09,
          153.75
         ],
         [
          189.86,
          141.82
         ],
         [
          189.86,
          171.02
         ],
         [
          141.82,
          105.67
         ],
         [
          141.82,
          106.36
         ],
         [
          126.19,
          119.14
         ],
         [
          126.19,
          93.428
         ],
         [
          119.14,
          156.45
         ],
         [
          119.14,
          87.605
         ],
         [
          156.45,
          130
         ],
         [
          156.45,
          124.22
         ],
         [
          156.45,
          164.99
         ],
         [
          156.45,
          155.15
         ],
         [
          124.22,
          94.411
         ],
         [
          124.22,
          116.3
         ],
         [
          164.99,
          181.75
         ],
         [
          164.99,
          155.95
         ],
         [
          180.61,
          148.4
         ],
         [
          180.61,
          166.38
         ],
         [
          84.403,
          54.713
         ],
         [
          84.403,
          50.205
         ],
         [
          54.713,
          18
         ],
         [
          408.22,
          404.83
         ],
         [
          408.22,
          427.86
         ],
         [
          345.22,
          374.44
         ],
         [
          291.73,
          262.07
         ]
        ]
       }
      }
     },
     "d4ae2fba328a450aafa1d270dae7c08d": {
      "model_module": "bqplot",
      "model_module_version": "^0.2.3",
      "model_name": "LinearScaleModel",
      "state": {
       "allow_padding": false,
       "max": 1,
       "min": 0,
       "stabilized": false
      }
     },
     "d52ef19807c643e3b01a9ec5e3213831": {
      "model_module": "@jupyter-widgets/base",
      "model_module_version": "1.0.0",
      "model_name": "LayoutModel",
      "state": {
       "border": "dotted Gray 1px",
       "margin": "5px",
       "min_width": "150px"
      }
     },
     "d6ab71d085d54cde87e1869eee24dc4f": {
      "model_module": "@jupyter-widgets/base",
      "model_module_version": "1.0.0",
      "model_name": "LayoutModel",
      "state": {
       "max_width": "810px"
      }
     },
     "d6f80c7196494bec9e1a500ae2f1cdc8": {
      "model_module": "bqplot",
      "model_module_version": "^0.2.3",
      "model_name": "LinearScaleModel",
      "state": {
       "allow_padding": false,
       "max": 1,
       "min": 0,
       "stabilized": false
      }
     },
     "d842cbc3892846adb9eddf6c6758c79f": {
      "model_module": "bqplot",
      "model_module_version": "^0.2.3",
      "model_name": "LinearScaleModel",
      "state": {
       "allow_padding": false,
       "max": 1,
       "min": 0,
       "stabilized": false
      }
     },
     "d88d702bc94140649d95c42a4d6d1086": {
      "model_module": "@jupyter-widgets/base",
      "model_module_version": "1.0.0",
      "model_name": "LayoutModel",
      "state": {
       "border": "dotted Gray 1px",
       "margin": "5px"
      }
     },
     "d898f958de5542ae884ed9eaa86cef77": {
      "model_module": "bqplot",
      "model_module_version": "^0.2.3",
      "model_name": "LinearScaleModel",
      "state": {
       "max": 445.37,
       "min": 252.77999999999997,
       "stabilized": false
      }
     },
     "d8a07ac95b2249b8980fe1fdeb648a35": {
      "model_module": "@jupyter-widgets/base",
      "model_module_version": "1.0.0",
      "model_name": "LayoutModel",
      "state": {
       "border": "dotted Gray 1px",
       "margin": "5px",
       "min_width": "150px"
      }
     },
     "d930dae34032405fbe5d2eecd9a16bb1": {
      "model_module": "@jupyter-widgets/base",
      "model_module_version": "1.0.0",
      "model_name": "LayoutModel",
      "state": {}
     },
     "da7314a399a9472ca43ca81e1be78ddf": {
      "model_module": "@jupyter-widgets/controls",
      "model_module_version": "1.0.0",
      "model_name": "VBoxModel",
      "state": {
       "children": [
        "IPY_MODEL_26db1ff9077143fbbcd54b2966de0195"
       ],
       "layout": "IPY_MODEL_c31e9944a33e4637a30c5d1b2687f8e6"
      }
     },
     "db076d99dd2840e69abc49cceab07ed3": {
      "model_module": "@jupyter-widgets/controls",
      "model_module_version": "1.0.0",
      "model_name": "LabelModel",
      "state": {
       "layout": "IPY_MODEL_f3e2a07217cf4b3faa6f06ce8af515a7",
       "style": "IPY_MODEL_6efdb5eb5c1d4f968ea6510cb278a755",
       "value": "--------------------"
      }
     },
     "dc096b3b0b374cbbb7ec49ffc8703e21": {
      "model_module": "@jupyter-widgets/base",
      "model_module_version": "1.0.0",
      "model_name": "LayoutModel",
      "state": {
       "min_width": "125px"
      }
     },
     "dca6466166b54f2c8e5c53b435651992": {
      "model_module": "@jupyter-widgets/controls",
      "model_module_version": "1.0.0",
      "model_name": "DescriptionStyleModel",
      "state": {
       "description_width": ""
      }
     },
     "dd825c954c93428aa9ab85daa8d1d813": {
      "model_module": "@jupyter-widgets/controls",
      "model_module_version": "1.0.0",
      "model_name": "DescriptionStyleModel",
      "state": {
       "description_width": ""
      }
     },
     "df658e2c37b243d993fe4c31c14b69fa": {
      "model_module": "bqplot",
      "model_module_version": "^0.2.3",
      "model_name": "LinearScaleModel",
      "state": {
       "max": 445.37,
       "min": 252.77999999999997,
       "stabilized": false
      }
     },
     "df81f2ae4b6d4292bd81df5b6d7ed943": {
      "model_module": "@jupyter-widgets/controls",
      "model_module_version": "1.0.0",
      "model_name": "HBoxModel",
      "state": {
       "children": [
        "IPY_MODEL_af519a13976943afb30f2cc1a157d74d",
        "IPY_MODEL_62ee279e9f784e2e90d0fd03038e3b7c"
       ],
       "layout": "IPY_MODEL_03f12eb4fbe44626b4b1569d1615245b"
      }
     },
     "df830f15fe9c45d99169d60629cc859d": {
      "model_module": "@jupyter-widgets/base",
      "model_module_version": "1.0.0",
      "model_name": "LayoutModel",
      "state": {}
     },
     "dfc0cc837e8145569942b1bb8859d6f9": {
      "model_module": "@jupyter-widgets/controls",
      "model_module_version": "1.0.0",
      "model_name": "DescriptionStyleModel",
      "state": {
       "description_width": ""
      }
     },
     "e0801387c1b2407ea62f8b632418c44d": {
      "model_module": "bqplot",
      "model_module_version": "^0.2.3",
      "model_name": "LinesModel",
      "state": {
       "color": {
        "type": null,
        "values": null
       },
       "colors": [
        "LightGreen"
       ],
       "display_legend": false,
       "fill_colors": [],
       "labels": [
        "C1"
       ],
       "opacities": [
        0.8
       ],
       "scales": {
        "x": "IPY_MODEL_2e34e6bff3c84130a1d4289eb2de8bfd",
        "y": "IPY_MODEL_70ed524deef745ca91eb6b33ac1fbfcd"
       },
       "selected": [],
       "stroke_width": 1.5,
       "x": {
        "type": "float",
        "values": [
         1158.9,
         1196
        ]
       },
       "y": {
        "type": "float",
        "values": [
         324.05,
         320.62
        ]
       }
      }
     },
     "e0d9c46c256a4095a834cade87aa1056": {
      "model_module": "@jupyter-widgets/base",
      "model_module_version": "1.0.0",
      "model_name": "LayoutModel",
      "state": {
       "width": "auto"
      }
     },
     "e1d751c78f374e6eb79c553f22274c23": {
      "model_module": "bqplot",
      "model_module_version": "^0.2.3",
      "model_name": "LinearScaleModel",
      "state": {
       "allow_padding": false,
       "max": 1,
       "min": 0,
       "stabilized": false
      }
     },
     "e252c72557c649a691e39fe0ac1330c5": {
      "model_module": "bqplot",
      "model_module_version": "^0.2.3",
      "model_name": "FigureModel",
      "state": {
       "_dom_classes": [],
       "fig_margin": {
        "bottom": 0,
        "left": 0,
        "right": 0,
        "top": 0
       },
       "layout": "IPY_MODEL_d88d702bc94140649d95c42a4d6d1086",
       "marks": [
        "IPY_MODEL_f65fac07ce074c349e0087a090b95723",
        "IPY_MODEL_e0801387c1b2407ea62f8b632418c44d",
        "IPY_MODEL_0c569683fa2a44bba31d3c8514b2660a",
        "IPY_MODEL_d00e6a868783446ab566d392b22db079",
        "IPY_MODEL_1e59c143ce694d16bd19dec13c810211",
        "IPY_MODEL_4605cc1be9f54dbfad63d9eeb2548ac2"
       ],
       "max_aspect_ratio": 6,
       "scale_x": "IPY_MODEL_d4ae2fba328a450aafa1d270dae7c08d",
       "scale_y": "IPY_MODEL_cf0d8d1b4af6422c951d203d095cafbc"
      }
     },
     "e2a37fd22a9e481fa270027cb7a0b22c": {
      "model_module": "@jupyter-widgets/controls",
      "model_module_version": "1.0.0",
      "model_name": "CheckboxModel",
      "state": {
       "description": "Show hidden nodes",
       "disabled": false,
       "indent": false,
       "layout": "IPY_MODEL_9f85d73a8b5d48d8bc725e2abb72d4ed",
       "style": "IPY_MODEL_a70db94f72444da6b3a4c6c3689886ca",
       "value": false
      }
     },
     "e412e58d4a9441089f027ed08ca56957": {
      "model_module": "bqplot",
      "model_module_version": "^0.2.3",
      "model_name": "LinearScaleModel",
      "state": {
       "allow_padding": false,
       "max": 1,
       "min": 0,
       "stabilized": false
      }
     },
     "e49f579435e048998eb180f5a1b2eef3": {
      "model_module": "@jupyter-widgets/controls",
      "model_module_version": "1.0.0",
      "model_name": "CheckboxModel",
      "state": {
       "description": "Show loads",
       "disabled": false,
       "indent": false,
       "layout": "IPY_MODEL_e0d9c46c256a4095a834cade87aa1056",
       "style": "IPY_MODEL_5179a8b7c90647af840fc0d941aa0bc9",
       "value": true
      }
     },
     "e5e8bcf94a264f68a97390ae53cb9d2b": {
      "model_module": "@jupyter-widgets/controls",
      "model_module_version": "1.0.0",
      "model_name": "VBoxModel",
      "state": {
       "children": [
        "IPY_MODEL_fc2e619b7fdc426caa86e77e7d28e23a",
        "IPY_MODEL_5d19f42501ea4eecb2dcfe7331c275e6"
       ],
       "layout": "IPY_MODEL_7728437403cf4a6db47f163ccc7c2c4e"
      }
     },
     "e82125a55d284988b716ca0b8662def1": {
      "model_module": "@jupyter-widgets/controls",
      "model_module_version": "1.0.0",
      "model_name": "HBoxModel",
      "state": {
       "children": [
        "IPY_MODEL_b8528672f8434acebb8ec77fa9a05d32",
        "IPY_MODEL_e252c72557c649a691e39fe0ac1330c5"
       ],
       "layout": "IPY_MODEL_7580052497a64e4f86adfdd2253fd76d"
      }
     },
     "e832090f56fe4836860840773312abd7": {
      "model_module": "@jupyter-widgets/controls",
      "model_module_version": "1.0.0",
      "model_name": "DescriptionStyleModel",
      "state": {
       "description_width": ""
      }
     },
     "e893045c4b7d46b49831488b61f37843": {
      "model_module": "@jupyter-widgets/controls",
      "model_module_version": "1.0.0",
      "model_name": "DescriptionStyleModel",
      "state": {
       "description_width": ""
      }
     },
     "ea5ac8e5f71a47a0bb757eb8b8730beb": {
      "model_module": "bqplot",
      "model_module_version": "^0.2.3",
      "model_name": "LinearScaleModel",
      "state": {
       "max": 193.73,
       "min": 9.402000000000001,
       "stabilized": false
      }
     },
     "eb454847e66c4b42b20a08d95b6b552f": {
      "model_module": "@jupyter-widgets/controls",
      "model_module_version": "1.0.0",
      "model_name": "LabelModel",
      "state": {
       "layout": "IPY_MODEL_5ddf74e420e443e4b692304a629415f0",
       "style": "IPY_MODEL_6e510a20b8864dce9fe9cdb335067174",
       "value": "Click on a bus to expand the graph, and click again to collapse."
      }
     },
     "ebf0d0cf5c7640f4a5fa9fc64147bf9f": {
      "model_module": "@jupyter-widgets/controls",
      "model_module_version": "1.0.0",
      "model_name": "CheckboxModel",
      "state": {
       "description": "Show loads",
       "disabled": false,
       "indent": false,
       "layout": "IPY_MODEL_9f85d73a8b5d48d8bc725e2abb72d4ed",
       "style": "IPY_MODEL_2851832f82b64865b7d895e2f92f264c",
       "value": true
      }
     },
     "ec000727d5cb483cbe065440dd7c83db": {
      "model_module": "@jupyter-widgets/controls",
      "model_module_version": "1.0.0",
      "model_name": "DescriptionStyleModel",
      "state": {
       "description_width": ""
      }
     },
     "ecdfaddc4ac44b0c90b25a449d0bf2e9": {
      "model_module": "bqplot",
      "model_module_version": "^0.2.3",
      "model_name": "LinesModel",
      "state": {
       "color": {
        "type": null,
        "values": null
       },
       "colors": [
        "LightGreen"
       ],
       "display_legend": false,
       "fill_colors": [],
       "labels": [
        "C1"
       ],
       "opacities": [
        0.8
       ],
       "scales": {
        "x": "IPY_MODEL_ea5ac8e5f71a47a0bb757eb8b8730beb",
        "y": "IPY_MODEL_1f83238fb0904ec79cc1bd5e7dec7a9a"
       },
       "selected": [],
       "stroke_width": 1.5,
       "x": {
        "type": "float",
        "values": [
         92.662,
         64.904
        ]
       },
       "y": {
        "type": "float",
        "values": [
         164.99,
         181.75
        ]
       }
      }
     },
     "ed3882f3df2042ac8b26041ddf8939a9": {
      "model_module": "bqplot",
      "model_module_version": "^0.2.3",
      "model_name": "LinearScaleModel",
      "state": {
       "max": 281.75,
       "min": 105.94999999999999,
       "stabilized": false
      }
     },
     "ed94413f9c5c4cb1b09bebe841221188": {
      "model_module": "@jupyter-widgets/controls",
      "model_module_version": "1.0.0",
      "model_name": "DescriptionStyleModel",
      "state": {
       "description_width": ""
      }
     },
     "ee3dfd2a775640cc9001924478b1c531": {
      "model_module": "@jupyter-widgets/base",
      "model_module_version": "1.0.0",
      "model_name": "LayoutModel",
      "state": {}
     },
     "ee686f21b41c4377b7f610177085e04f": {
      "model_module": "@jupyter-widgets/base",
      "model_module_version": "1.0.0",
      "model_name": "LayoutModel",
      "state": {}
     },
     "eed473894fdb4058a620e17429f4c023": {
      "model_module": "@jupyter-widgets/controls",
      "model_module_version": "1.0.0",
      "model_name": "LabelModel",
      "state": {
       "layout": "IPY_MODEL_f3e2a07217cf4b3faa6f06ce8af515a7",
       "style": "IPY_MODEL_18338fb9d6184d4b953cf79b75953f8b",
       "value": "--------------------"
      }
     },
     "ef45d09ae65e48dd99fbcfaf802a7465": {
      "model_module": "bqplot",
      "model_module_version": "^0.2.3",
      "model_name": "LinesModel",
      "state": {
       "color": {
        "type": null,
        "values": null
       },
       "colors": [
        "LightGreen"
       ],
       "display_legend": false,
       "fill_colors": [],
       "labels": [
        "C1"
       ],
       "opacities": [
        0.8
       ],
       "scales": {
        "x": "IPY_MODEL_7d9a584fd69d43ad832bb86c22597bf2",
        "y": "IPY_MODEL_f813645efb524d219ca5e43f2c76b294"
       },
       "selected": [],
       "stroke_width": 1.5,
       "x": {
        "type": "float",
        "values": [
         92.662,
         64.904
        ]
       },
       "y": {
        "type": "float",
        "values": [
         164.99,
         181.75
        ]
       }
      }
     },
     "f0876dccac1c42dca99d360f742d32a5": {
      "model_module": "@jupyter-widgets/base",
      "model_module_version": "1.0.0",
      "model_name": "LayoutModel",
      "state": {}
     },
     "f0d49015c03548d29b19b81f2d7d9753": {
      "model_module": "@jupyter-widgets/base",
      "model_module_version": "1.0.0",
      "model_name": "LayoutModel",
      "state": {}
     },
     "f18f9632faaf40f8a5832649373b9a9b": {
      "model_module": "bqplot",
      "model_module_version": "^0.2.3",
      "model_name": "ScatterModel",
      "state": {
       "_model_module": "bqplot",
       "_model_module_version": "^0.2.3",
       "_view_count": null,
       "_view_module": "bqplot",
       "_view_module_version": "^0.2.3",
       "apply_clip": true,
       "color": {
        "type": null,
        "values": null
       },
       "colors": [
        "LightGreen"
       ],
       "default_opacities": [
        0.6
       ],
       "default_size": 150,
       "display_legend": false,
       "enable_hover": true,
       "hovered_style": {},
       "interactions": {
        "hover": "tooltip"
       },
       "labels": [],
       "names": {
        "type": "<U7",
        "values": [
         "GenCo51"
        ]
       },
       "opacity": {
        "type": null,
        "values": null
       },
       "preserve_domain": {},
       "rotation": {
        "type": null,
        "values": null
       },
       "scales": {
        "x": "IPY_MODEL_7d9a584fd69d43ad832bb86c22597bf2",
        "y": "IPY_MODEL_f813645efb524d219ca5e43f2c76b294"
       },
       "scales_metadata": {
        "color": {
         "dimension": "color"
        },
        "opacity": {
         "dimension": "opacity"
        },
        "size": {
         "dimension": "size"
        },
        "x": {
         "dimension": "x",
         "orientation": "horizontal"
        },
        "y": {
         "dimension": "y",
         "orientation": "vertical"
        }
       },
       "selected": [],
       "selected_style": {
        "fill": "DarkGreen",
        "opacity": 0.8,
        "stroke": "Green"
       },
       "size": {
        "type": null,
        "values": null
       },
       "skew": {
        "type": null,
        "values": null
       },
       "tooltip": "IPY_MODEL_0487c1513bde4203adcaee9b1a10b6d8",
       "tooltip_location": "mouse",
       "tooltip_style": {
        "opacity": 0.9
       },
       "unhovered_style": {},
       "unselected_style": {},
       "visible": true,
       "x": {
        "type": "float",
        "values": [
         64.904
        ]
       },
       "y": {
        "type": "float",
        "values": [
         181.75
        ]
       }
      }
     },
     "f3bfd5e33c6448aea14ca12f9a887822": {
      "model_module": "@jupyter-widgets/controls",
      "model_module_version": "1.0.0",
      "model_name": "DescriptionStyleModel",
      "state": {
       "description_width": ""
      }
     },
     "f3e2a07217cf4b3faa6f06ce8af515a7": {
      "model_module": "@jupyter-widgets/base",
      "model_module_version": "1.0.0",
      "model_name": "LayoutModel",
      "state": {
       "width": "auto"
      }
     },
     "f3e61f1f3fa3409996c838fb23ba0eb0": {
      "model_module": "@jupyter-widgets/base",
      "model_module_version": "1.0.0",
      "model_name": "LayoutModel",
      "state": {}
     },
     "f41dc629eaa047a9a63df53128f9d812": {
      "model_module": "@jupyter-widgets/base",
      "model_module_version": "1.0.0",
      "model_name": "LayoutModel",
      "state": {
       "max_width": "810px"
      }
     },
     "f65fac07ce074c349e0087a090b95723": {
      "model_module": "bqplot",
      "model_module_version": "^0.2.3",
      "model_name": "LinesModel",
      "state": {
       "color": {
        "type": null,
        "values": null
       },
       "colors": [
        "DeepSkyBlue"
       ],
       "display_legend": false,
       "fill_colors": [],
       "labels": [
        "C1",
        "C2"
       ],
       "opacities": [
        0.8
       ],
       "scales": {
        "x": "IPY_MODEL_2e34e6bff3c84130a1d4289eb2de8bfd",
        "y": "IPY_MODEL_70ed524deef745ca91eb6b33ac1fbfcd"
       },
       "selected": [],
       "x": {
        "type": "float",
        "values": [
         [
          1158.9,
          1122.6
         ],
         [
          1158.9,
          1113.9
         ]
        ]
       },
       "y": {
        "type": "float",
        "values": [
         [
          324.05,
          327.16
         ],
         [
          324.05,
          302.78
         ]
        ]
       }
      }
     },
     "f66d5dfce3c7435fafc926a045319579": {
      "model_module": "@jupyter-widgets/base",
      "model_module_version": "1.0.0",
      "model_name": "LayoutModel",
      "state": {}
     },
     "f77f6786cb534f729ec17ea12d5f252c": {
      "model_module": "@jupyter-widgets/controls",
      "model_module_version": "1.0.0",
      "model_name": "VBoxModel",
      "state": {
       "children": [
        "IPY_MODEL_a2a8f74a905f4e4ba06ed4534d9cd525",
        "IPY_MODEL_6b390563d16749bcadea98a79a0da9ef"
       ],
       "layout": "IPY_MODEL_563e6117201b419286c862f127dcd150"
      }
     },
     "f813645efb524d219ca5e43f2c76b294": {
      "model_module": "bqplot",
      "model_module_version": "^0.2.3",
      "model_name": "LinearScaleModel",
      "state": {
       "max": 281.75,
       "min": 105.94999999999999,
       "stabilized": false
      }
     },
     "f836a427220142e7b3eb8b0f0eda1781": {
      "model_module": "@jupyter-widgets/base",
      "model_module_version": "1.0.0",
      "model_name": "LayoutModel",
      "state": {}
     },
     "f8ab3d55648a44e8a00b0beba4c1251b": {
      "model_module": "@jupyter-widgets/base",
      "model_module_version": "1.0.0",
      "model_name": "LayoutModel",
      "state": {}
     },
     "f90ff654a6ff47e69dd120810600e848": {
      "model_module": "@jupyter-widgets/controls",
      "model_module_version": "1.0.0",
      "model_name": "VBoxModel",
      "state": {
       "children": [
        "IPY_MODEL_e5e8bcf94a264f68a97390ae53cb9d2b",
        "IPY_MODEL_acc28725587840f6be748a38f0930322"
       ],
       "layout": "IPY_MODEL_22f5d0f3f11c4daf9d4e486ea11e7822"
      }
     },
     "f9dd4e5e0722440890b1b479572ab66b": {
      "model_module": "bqplot",
      "model_module_version": "^0.2.3",
      "model_name": "LinearScaleModel",
      "state": {
       "allow_padding": false,
       "max": 1,
       "min": 0,
       "stabilized": false
      }
     },
     "fa2d2c0a87c84cf0adbf12cc099626d6": {
      "model_module": "@jupyter-widgets/base",
      "model_module_version": "1.0.0",
      "model_name": "LayoutModel",
      "state": {}
     },
     "fab13eb6e75848cd9a89557fc11a5c0b": {
      "model_module": "@jupyter-widgets/base",
      "model_module_version": "1.0.0",
      "model_name": "LayoutModel",
      "state": {
       "width": "auto"
      }
     },
     "fb2d4580de48475783f4f6aa49b89ce1": {
      "model_module": "@jupyter-widgets/controls",
      "model_module_version": "1.0.0",
      "model_name": "DescriptionStyleModel",
      "state": {
       "description_width": ""
      }
     },
     "fc2e619b7fdc426caa86e77e7d28e23a": {
      "model_module": "@jupyter-widgets/controls",
      "model_module_version": "1.0.0",
      "model_name": "HBoxModel",
      "state": {
       "children": [
        "IPY_MODEL_ba9133de698b483fa30a4dc37304d41c",
        "IPY_MODEL_9d2e0a9cdac04760901855fbce33bb2a"
       ],
       "layout": "IPY_MODEL_73375566dc9c437c82d28c67532f3e20"
      }
     },
     "fc4d30054b2241b88a0b0ab39e1a26b6": {
      "model_module": "@jupyter-widgets/controls",
      "model_module_version": "1.0.0",
      "model_name": "VBoxModel",
      "state": {
       "children": [
        "IPY_MODEL_72ba3d9be8f04f07bbf1080ac1e8216d",
        "IPY_MODEL_6f40c635c61e49bdb781dfcd59cccad2"
       ],
       "layout": "IPY_MODEL_102d83f1cc9b49448e25c3918c403e94"
      }
     },
     "fe482839fdbc4c4ab859d8ca563a65fa": {
      "model_module": "@jupyter-widgets/base",
      "model_module_version": "1.0.0",
      "model_name": "LayoutModel",
      "state": {}
     },
     "fea8d927f5b74ad4b231799050617ae9": {
      "model_module": "@jupyter-widgets/base",
      "model_module_version": "1.0.0",
      "model_name": "LayoutModel",
      "state": {
       "width": "auto"
      }
     },
     "fed9ab93e7534e04883e0bf788b15e4c": {
      "model_module": "@jupyter-widgets/base",
      "model_module_version": "1.0.0",
      "model_name": "LayoutModel",
      "state": {
       "border": "dotted Gray 1px",
       "margin": "5px",
       "min_width": "150px"
      }
     },
     "ff08cb5ef0f244fda35640eae5a2c2ea": {
      "model_module": "@jupyter-widgets/base",
      "model_module_version": "1.0.0",
      "model_name": "LayoutModel",
      "state": {}
     }
    },
    "version_major": 2,
    "version_minor": 0
   }
  }
 },
 "nbformat": 4,
 "nbformat_minor": 2
}
